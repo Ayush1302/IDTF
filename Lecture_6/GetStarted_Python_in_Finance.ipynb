{
 "cells": [
  {
   "cell_type": "markdown",
   "metadata": {
    "slideshow": {
     "slide_type": "slide"
    }
   },
   "source": [
    "### Using Python (and R) for Finance \n",
    "\n",
    "**Sanjiv R Das**"
   ]
  },
  {
   "cell_type": "markdown",
   "metadata": {
    "slideshow": {
     "slide_type": "slide"
    }
   },
   "source": [
    "### Installing Python\n",
    "\n",
    "In this notebook we will get started with using Python for financial computation. You first need to download and install IPython which is an entire system for interactive use of Python. Luckily, this is easily done by visiting the following URL and downloading the version applicable to your machine (Python runs on all platforms). \n",
    "\n",
    "Visit Continuum Analytics and download Python: http://continuum.io/downloads and install it. Test that it works by using the Launcher (which will be on your desktop) to start up the IPython Notebook. Use the latest version of Python. \n",
    "\n",
    "\n",
    "\n",
    "Particularly useful are linear algebra capabilities in Python and R. In Python the package numPy makes these facile. Also useful are graphical libraries, and in Python, these comes in the matplotlib package. "
   ]
  },
  {
   "cell_type": "code",
   "execution_count": 3,
   "metadata": {
    "collapsed": false,
    "slideshow": {
     "slide_type": "fragment"
    }
   },
   "outputs": [
    {
     "name": "stdout",
     "output_type": "stream",
     "text": [
      "Populating the interactive namespace from numpy and matplotlib\n"
     ]
    },
    {
     "name": "stderr",
     "output_type": "stream",
     "text": [
      "/Users/srdas/anaconda/lib/python3.5/site-packages/IPython/core/magics/pylab.py:161: UserWarning: pylab import has clobbered these variables: ['datetime']\n",
      "`%matplotlib` prevents importing * from pylab and numpy\n",
      "  \"\\n`%matplotlib` prevents importing * from pylab and numpy\"\n"
     ]
    }
   ],
   "source": [
    "#Invoke numPy and matplotlib in one command\n",
    "#This is needed to bring all the math libraries into memory for immediate use.\n",
    "%pylab inline"
   ]
  },
  {
   "cell_type": "markdown",
   "metadata": {
    "slideshow": {
     "slide_type": "slide"
    }
   },
   "source": [
    "### Using R\n",
    "\n",
    "*Not essential*:  \n",
    "You may also install the R programming language, which is a very useful tool for Machine Learning. \n",
    "See: http://en.wikipedia.org/wiki/Machine_learning\n",
    "Get R from: http://www.r-project.org/ (download and install it). \n",
    "\n",
    "In order to allow Python to interface with R, you also need to install the \"rpy2\" package from: http://rpy.sourceforge.net/\n",
    "While you do not need to use R, and can get by mostly with Python, it is also a useful language as there are heaps of finance packages in R. As you will see, we can run both within the IPython Notebook. (Indeed, these lecture notes have been prepared in the Notebook.)\n",
    "\n",
    "If you want to use R in IDE mode, download RStudio: http://www.rstudio.com/"
   ]
  },
  {
   "cell_type": "code",
   "execution_count": 4,
   "metadata": {
    "collapsed": false,
    "slideshow": {
     "slide_type": "slide"
    }
   },
   "outputs": [
    {
     "name": "stdout",
     "output_type": "stream",
     "text": [
      "Date\n",
      "2015-04-01    542.562439\n",
      "2015-04-02    535.532417\n",
      "2015-04-06    536.767432\n",
      "2015-04-07    537.022404\n",
      "2015-04-08    541.612446\n",
      "Name: Adj Close, dtype: float64\n"
     ]
    }
   ],
   "source": [
    "#IMPORTING STOCK DATA USING THE PANDAS MODULE\n",
    "#Install the pandas_datareader module using \"pip install pandas-datareader\"\n",
    "#See: https://github.com/pydata/pandas-datareader\n",
    "\n",
    "from datetime import datetime\n",
    "import pandas_datareader.data as web\n",
    "goog = web.DataReader(\"GOOG\",  \"yahoo\", datetime(2015,4,1), datetime(2017,3,31))\n",
    "\n",
    "stkp = goog[\"Adj Close\"]\n",
    "print(stkp.head())"
   ]
  },
  {
   "cell_type": "code",
   "execution_count": 5,
   "metadata": {
    "collapsed": false,
    "slideshow": {
     "slide_type": "slide"
    }
   },
   "outputs": [
    {
     "data": {
      "text/html": [
       "<div>\n",
       "<table border=\"1\" class=\"dataframe\">\n",
       "  <thead>\n",
       "    <tr style=\"text-align: right;\">\n",
       "      <th></th>\n",
       "      <th>Open</th>\n",
       "      <th>High</th>\n",
       "      <th>Low</th>\n",
       "      <th>Close</th>\n",
       "      <th>Volume</th>\n",
       "      <th>Adj Close</th>\n",
       "    </tr>\n",
       "    <tr>\n",
       "      <th>Date</th>\n",
       "      <th></th>\n",
       "      <th></th>\n",
       "      <th></th>\n",
       "      <th></th>\n",
       "      <th></th>\n",
       "      <th></th>\n",
       "    </tr>\n",
       "  </thead>\n",
       "  <tbody>\n",
       "    <tr>\n",
       "      <th>2015-04-01</th>\n",
       "      <td>548.602502</td>\n",
       "      <td>551.142488</td>\n",
       "      <td>539.502472</td>\n",
       "      <td>542.562439</td>\n",
       "      <td>1963000</td>\n",
       "      <td>542.562439</td>\n",
       "    </tr>\n",
       "    <tr>\n",
       "      <th>2015-04-02</th>\n",
       "      <td>540.852427</td>\n",
       "      <td>540.852427</td>\n",
       "      <td>533.849395</td>\n",
       "      <td>535.532417</td>\n",
       "      <td>1716300</td>\n",
       "      <td>535.532417</td>\n",
       "    </tr>\n",
       "    <tr>\n",
       "      <th>2015-04-06</th>\n",
       "      <td>532.222436</td>\n",
       "      <td>538.412447</td>\n",
       "      <td>529.572407</td>\n",
       "      <td>536.767432</td>\n",
       "      <td>1324400</td>\n",
       "      <td>536.767432</td>\n",
       "    </tr>\n",
       "    <tr>\n",
       "      <th>2015-04-07</th>\n",
       "      <td>538.082440</td>\n",
       "      <td>542.692434</td>\n",
       "      <td>536.002456</td>\n",
       "      <td>537.022404</td>\n",
       "      <td>1302800</td>\n",
       "      <td>537.022404</td>\n",
       "    </tr>\n",
       "    <tr>\n",
       "      <th>2015-04-08</th>\n",
       "      <td>538.382457</td>\n",
       "      <td>543.852476</td>\n",
       "      <td>538.382457</td>\n",
       "      <td>541.612446</td>\n",
       "      <td>1178500</td>\n",
       "      <td>541.612446</td>\n",
       "    </tr>\n",
       "  </tbody>\n",
       "</table>\n",
       "</div>"
      ],
      "text/plain": [
       "                  Open        High         Low       Close   Volume  \\\n",
       "Date                                                                  \n",
       "2015-04-01  548.602502  551.142488  539.502472  542.562439  1963000   \n",
       "2015-04-02  540.852427  540.852427  533.849395  535.532417  1716300   \n",
       "2015-04-06  532.222436  538.412447  529.572407  536.767432  1324400   \n",
       "2015-04-07  538.082440  542.692434  536.002456  537.022404  1302800   \n",
       "2015-04-08  538.382457  543.852476  538.382457  541.612446  1178500   \n",
       "\n",
       "             Adj Close  \n",
       "Date                    \n",
       "2015-04-01  542.562439  \n",
       "2015-04-02  535.532417  \n",
       "2015-04-06  536.767432  \n",
       "2015-04-07  537.022404  \n",
       "2015-04-08  541.612446  "
      ]
     },
     "execution_count": 5,
     "metadata": {},
     "output_type": "execute_result"
    }
   ],
   "source": [
    "### Display the top of the data frame. \n",
    "\n",
    "goog.head()"
   ]
  },
  {
   "cell_type": "code",
   "execution_count": 6,
   "metadata": {
    "collapsed": false,
    "slideshow": {
     "slide_type": "slide"
    }
   },
   "outputs": [
    {
     "data": {
      "text/plain": [
       "DatetimeIndex(['2015-04-01', '2015-04-02', '2015-04-06', '2015-04-07',\n",
       "               '2015-04-08', '2015-04-09', '2015-04-10', '2015-04-13',\n",
       "               '2015-04-14', '2015-04-15',\n",
       "               ...\n",
       "               '2017-03-20', '2017-03-21', '2017-03-22', '2017-03-23',\n",
       "               '2017-03-24', '2017-03-27', '2017-03-28', '2017-03-29',\n",
       "               '2017-03-30', '2017-03-31'],\n",
       "              dtype='datetime64[ns]', name='Date', length=505, freq=None)"
      ]
     },
     "execution_count": 6,
     "metadata": {},
     "output_type": "execute_result"
    }
   ],
   "source": [
    "### Diaplay row names, i.e., dates. \n",
    "\n",
    "goog.index"
   ]
  },
  {
   "cell_type": "code",
   "execution_count": 7,
   "metadata": {
    "collapsed": false,
    "slideshow": {
     "slide_type": "slide"
    }
   },
   "outputs": [
    {
     "data": {
      "image/png": "[encoded data removed]",
      "text/plain": [
       "<matplotlib.figure.Figure at 0x115aeb7b8>"
      ]
     },
     "metadata": {},
     "output_type": "display_data"
    }
   ],
   "source": [
    "##PLOT THE STOCK PRICE OVER TIME\n",
    "rcParams['figure.figsize'] = 15,5\n",
    "\n",
    "t = goog.index\n",
    "plot(t,stkp)\n",
    "xlabel(\"Date\")\n",
    "ylabel(\"Stock Price\")\n",
    "grid()"
   ]
  },
  {
   "cell_type": "code",
   "execution_count": 8,
   "metadata": {
    "collapsed": false,
    "slideshow": {
     "slide_type": "slide"
    }
   },
   "outputs": [
    {
     "name": "stdout",
     "output_type": "stream",
     "text": [
      "0\n",
      "1\n",
      "2\n"
     ]
    }
   ],
   "source": [
    "### Range is an array, not a matrix\n",
    "\n",
    "for j in range(3):\n",
    "    print(j)"
   ]
  },
  {
   "cell_type": "code",
   "execution_count": 9,
   "metadata": {
    "collapsed": false,
    "slideshow": {
     "slide_type": "slide"
    }
   },
   "outputs": [
    {
     "name": "stdout",
     "output_type": "stream",
     "text": [
      "504\n"
     ]
    },
    {
     "data": {
      "text/plain": [
       "<matplotlib.text.Text at 0x11b1603c8>"
      ]
     },
     "execution_count": 9,
     "metadata": {},
     "output_type": "execute_result"
    },
    {
     "data": {
      "image/png": "[encoded data removed]",
      "text/plain": [
       "<matplotlib.figure.Figure at 0x115b99dd8>"
      ]
     },
     "metadata": {},
     "output_type": "display_data"
    }
   ],
   "source": [
    "### PLOT RETURNS (contunuously compounded)\n",
    "\n",
    "n = len(t)-1\n",
    "print(n)\n",
    "rets = zeros(n)\n",
    "for j in range(n):\n",
    "    rets[j] = log(stkp[j+1]/stkp[j])\n",
    "plot(rets)\n",
    "ylabel(\"Returns\")"
   ]
  },
  {
   "cell_type": "code",
   "execution_count": 10,
   "metadata": {
    "collapsed": false,
    "slideshow": {
     "slide_type": "slide"
    }
   },
   "outputs": [
    {
     "data": {
      "image/png": "[encoded data removed]",
      "text/plain": [
       "<matplotlib.figure.Figure at 0x115b99a90>"
      ]
     },
     "metadata": {},
     "output_type": "display_data"
    }
   ],
   "source": [
    "### Examine the distribution of returns visually using a histogram.\n",
    "\n",
    "hist(rets,50)\n",
    "grid()"
   ]
  },
  {
   "cell_type": "code",
   "execution_count": 11,
   "metadata": {
    "collapsed": false,
    "slideshow": {
     "slide_type": "slide"
    }
   },
   "outputs": [
    {
     "data": {
      "text/html": [
       "<div>\n",
       "<table border=\"1\" class=\"dataframe\">\n",
       "  <thead>\n",
       "    <tr style=\"text-align: right;\">\n",
       "      <th></th>\n",
       "      <th>Open</th>\n",
       "      <th>High</th>\n",
       "      <th>Low</th>\n",
       "      <th>Close</th>\n",
       "      <th>Volume</th>\n",
       "      <th>Adj Close</th>\n",
       "    </tr>\n",
       "  </thead>\n",
       "  <tbody>\n",
       "    <tr>\n",
       "      <th>count</th>\n",
       "      <td>505.000000</td>\n",
       "      <td>505.000000</td>\n",
       "      <td>505.000000</td>\n",
       "      <td>505.000000</td>\n",
       "      <td>5.050000e+02</td>\n",
       "      <td>505.000000</td>\n",
       "    </tr>\n",
       "    <tr>\n",
       "      <th>mean</th>\n",
       "      <td>707.536789</td>\n",
       "      <td>712.987836</td>\n",
       "      <td>701.546274</td>\n",
       "      <td>707.443666</td>\n",
       "      <td>1.887166e+06</td>\n",
       "      <td>707.443666</td>\n",
       "    </tr>\n",
       "    <tr>\n",
       "      <th>std</th>\n",
       "      <td>89.926724</td>\n",
       "      <td>89.849600</td>\n",
       "      <td>89.963386</td>\n",
       "      <td>89.946689</td>\n",
       "      <td>1.006034e+06</td>\n",
       "      <td>89.946689</td>\n",
       "    </tr>\n",
       "    <tr>\n",
       "      <th>min</th>\n",
       "      <td>519.500000</td>\n",
       "      <td>522.734009</td>\n",
       "      <td>515.179993</td>\n",
       "      <td>516.830017</td>\n",
       "      <td>5.272000e+05</td>\n",
       "      <td>516.830017</td>\n",
       "    </tr>\n",
       "    <tr>\n",
       "      <th>25%</th>\n",
       "      <td>654.150024</td>\n",
       "      <td>659.854980</td>\n",
       "      <td>644.010010</td>\n",
       "      <td>651.159973</td>\n",
       "      <td>1.301300e+06</td>\n",
       "      <td>651.159973</td>\n",
       "    </tr>\n",
       "    <tr>\n",
       "      <th>50%</th>\n",
       "      <td>729.169983</td>\n",
       "      <td>734.710022</td>\n",
       "      <td>721.900024</td>\n",
       "      <td>728.580017</td>\n",
       "      <td>1.632700e+06</td>\n",
       "      <td>728.580017</td>\n",
       "    </tr>\n",
       "    <tr>\n",
       "      <th>75%</th>\n",
       "      <td>773.780029</td>\n",
       "      <td>778.710022</td>\n",
       "      <td>768.530029</td>\n",
       "      <td>772.559998</td>\n",
       "      <td>2.129500e+06</td>\n",
       "      <td>772.559998</td>\n",
       "    </tr>\n",
       "    <tr>\n",
       "      <th>max</th>\n",
       "      <td>851.609985</td>\n",
       "      <td>853.500000</td>\n",
       "      <td>847.109985</td>\n",
       "      <td>852.119995</td>\n",
       "      <td>1.116490e+07</td>\n",
       "      <td>852.119995</td>\n",
       "    </tr>\n",
       "  </tbody>\n",
       "</table>\n",
       "</div>"
      ],
      "text/plain": [
       "             Open        High         Low       Close        Volume  \\\n",
       "count  505.000000  505.000000  505.000000  505.000000  5.050000e+02   \n",
       "mean   707.536789  712.987836  701.546274  707.443666  1.887166e+06   \n",
       "std     89.926724   89.849600   89.963386   89.946689  1.006034e+06   \n",
       "min    519.500000  522.734009  515.179993  516.830017  5.272000e+05   \n",
       "25%    654.150024  659.854980  644.010010  651.159973  1.301300e+06   \n",
       "50%    729.169983  734.710022  721.900024  728.580017  1.632700e+06   \n",
       "75%    773.780029  778.710022  768.530029  772.559998  2.129500e+06   \n",
       "max    851.609985  853.500000  847.109985  852.119995  1.116490e+07   \n",
       "\n",
       "        Adj Close  \n",
       "count  505.000000  \n",
       "mean   707.443666  \n",
       "std     89.946689  \n",
       "min    516.830017  \n",
       "25%    651.159973  \n",
       "50%    728.580017  \n",
       "75%    772.559998  \n",
       "max    852.119995  "
      ]
     },
     "execution_count": 11,
     "metadata": {},
     "output_type": "execute_result"
    }
   ],
   "source": [
    "### Summary Statistics\n",
    "\n",
    "goog.describe()"
   ]
  },
  {
   "cell_type": "code",
   "execution_count": 12,
   "metadata": {
    "collapsed": false,
    "slideshow": {
     "slide_type": "slide"
    }
   },
   "outputs": [
    {
     "name": "stdout",
     "output_type": "stream",
     "text": [
      "Skewness =  2.029468240420415\n",
      "Kurtosis =  20.61596222043168\n",
      "Kurtosis for standard normal =  -0.0009966812870843\n"
     ]
    }
   ],
   "source": [
    "### Calculate the Higher-Order Moments\n",
    "\n",
    "import scipy.stats as ss\n",
    "print(\"Skewness = \",ss.skew(rets))\n",
    "print(\"Kurtosis = \",ss.kurtosis(rets))\n",
    "\n",
    "#CHECK IF THIS IS EXCESS KURTOSIS or PLAIN KURTOSIS\n",
    "x = randn(1000000)\n",
    "print(\"Kurtosis for standard normal = \",ss.kurtosis(x))"
   ]
  },
  {
   "cell_type": "markdown",
   "metadata": {
    "slideshow": {
     "slide_type": "slide"
    }
   },
   "source": [
    "### Sharing variables between Python and R"
   ]
  },
  {
   "cell_type": "code",
   "execution_count": 13,
   "metadata": {
    "collapsed": false,
    "slideshow": {
     "slide_type": "fragment"
    }
   },
   "outputs": [],
   "source": [
    "#SENDING DATA VARIABLES TO R\n",
    "%load_ext rpy2.ipython\n",
    "#THIS ALLOWS US TO USE R INSIDE THE NOTEBOOK"
   ]
  },
  {
   "cell_type": "code",
   "execution_count": 14,
   "metadata": {
    "collapsed": false,
    "slideshow": {
     "slide_type": "fragment"
    }
   },
   "outputs": [],
   "source": [
    "#SENDS DATA FROM PYTHON TO R\n",
    "%Rpush stkp       "
   ]
  },
  {
   "cell_type": "code",
   "execution_count": 15,
   "metadata": {
    "collapsed": false,
    "slideshow": {
     "slide_type": "slide"
    }
   },
   "outputs": [
    {
     "data": {
      "image/png": "[encoded data removed]"
     },
     "metadata": {},
     "output_type": "display_data"
    }
   ],
   "source": [
    "### Using R inside the Python notebook\n",
    "\n",
    "#PREFIX NEEDED TO CALL R INSTEAD OF PYTHON\n",
    "%R plot(stkp,type=\"l\",col=\"red\",lwd=2)   "
   ]
  },
  {
   "cell_type": "code",
   "execution_count": 16,
   "metadata": {
    "collapsed": false,
    "slideshow": {
     "slide_type": "slide"
    }
   },
   "outputs": [
    {
     "data": {
      "text/plain": [
       "[<matplotlib.lines.Line2D at 0x1272c5da0>]"
      ]
     },
     "execution_count": 16,
     "metadata": {},
     "output_type": "execute_result"
    },
    {
     "data": {
      "image/png": "[encoded data removed]",
      "text/plain": [
       "<matplotlib.figure.Figure at 0x125f9d630>"
      ]
     },
     "metadata": {},
     "output_type": "display_data"
    }
   ],
   "source": [
    "#GETTING DATA BACK FROM R TO PYTHON\n",
    "\n",
    "%R ret = diff(log(stkp))\n",
    "#GET DATA BACK FROM R TO PYTHON\n",
    "ret = %Rget ret   \n",
    "plot(ret)"
   ]
  },
  {
   "cell_type": "code",
   "execution_count": 17,
   "metadata": {
    "collapsed": false,
    "slideshow": {
     "slide_type": "slide"
    }
   },
   "outputs": [
    {
     "data": {
      "text/plain": [
       "      Min.    1st Qu.     Median       Mean    3rd Qu.       Max. \n",
       "-0.0546400 -0.0050990  0.0004559  0.0008424  0.0071080  0.1489000 \n"
      ]
     },
     "metadata": {},
     "output_type": "display_data"
    },
    {
     "data": {
      "image/png": "[encoded data removed]"
     },
     "metadata": {},
     "output_type": "display_data"
    }
   ],
   "source": [
    "### Examine the data in the R namespace\n",
    "\n",
    "%R print(summary(ret))\n",
    "%R plot(ret,type=\"l\",col=\"red\")"
   ]
  },
  {
   "cell_type": "markdown",
   "metadata": {
    "slideshow": {
     "slide_type": "slide"
    }
   },
   "source": [
    "### Getting stock data from R into Python"
   ]
  },
  {
   "cell_type": "code",
   "execution_count": 18,
   "metadata": {
    "collapsed": false,
    "slideshow": {
     "slide_type": "fragment"
    }
   },
   "outputs": [
    {
     "name": "stderr",
     "output_type": "stream",
     "text": [
      "/Users/srdas/anaconda/lib/python3.5/site-packages/rpy2/rinterface/__init__.py:186: RRuntimeWarning: Loading required package: xts\n",
      "\n",
      "  warnings.warn(x, RRuntimeWarning)\n",
      "/Users/srdas/anaconda/lib/python3.5/site-packages/rpy2/rinterface/__init__.py:186: RRuntimeWarning: Loading required package: zoo\n",
      "\n",
      "  warnings.warn(x, RRuntimeWarning)\n",
      "/Users/srdas/anaconda/lib/python3.5/site-packages/rpy2/rinterface/__init__.py:186: RRuntimeWarning: \n",
      "Attaching package: ‘zoo’\n",
      "\n",
      "\n",
      "  warnings.warn(x, RRuntimeWarning)\n",
      "/Users/srdas/anaconda/lib/python3.5/site-packages/rpy2/rinterface/__init__.py:186: RRuntimeWarning: The following objects are masked from ‘package:base’:\n",
      "\n",
      "    as.Date, as.Date.numeric\n",
      "\n",
      "\n",
      "  warnings.warn(x, RRuntimeWarning)\n",
      "/Users/srdas/anaconda/lib/python3.5/site-packages/rpy2/rinterface/__init__.py:186: RRuntimeWarning: Loading required package: TTR\n",
      "\n",
      "  warnings.warn(x, RRuntimeWarning)\n",
      "/Users/srdas/anaconda/lib/python3.5/site-packages/rpy2/rinterface/__init__.py:186: RRuntimeWarning: Version 0.4-0 included new data defaults. See ?getSymbols.\n",
      "\n",
      "  warnings.warn(x, RRuntimeWarning)\n",
      "/Users/srdas/anaconda/lib/python3.5/site-packages/rpy2/rinterface/__init__.py:186: RRuntimeWarning:     As of 0.4-0, ‘getSymbols’ uses env=parent.frame() and\n",
      " auto.assign=TRUE by default.\n",
      "\n",
      " This  behavior  will be  phased out in 0.5-0  when the call  will\n",
      " default to use auto.assign=FALSE. getOption(\"getSymbols.env\") and \n",
      " getOptions(\"getSymbols.auto.assign\") are now checked for alternate defaults\n",
      "\n",
      " This message is shown once per session and may be disabled by setting \n",
      " options(\"getSymbols.warning4.0\"=FALSE). See ?getSymbols for more details.\n",
      "\n",
      "  warnings.warn(x, RRuntimeWarning)\n"
     ]
    },
    {
     "data": {
      "text/plain": [
       "[1] \"C\"    \"AAPL\" \"CSCO\" \"YHOO\" \"IBM\" \n"
      ]
     },
     "metadata": {},
     "output_type": "display_data"
    }
   ],
   "source": [
    "%%R\n",
    "library(quantmod)\n",
    "getSymbols(c(\"C\",\"AAPL\",\"CSCO\",\"YHOO\",\"IBM\"))"
   ]
  },
  {
   "cell_type": "code",
   "execution_count": 19,
   "metadata": {
    "collapsed": false,
    "slideshow": {
     "slide_type": "slide"
    }
   },
   "outputs": [],
   "source": [
    "%%R \n",
    "### The entire code block is R\n",
    "\n",
    "citi = as.matrix(C$C.Adjusted)\n",
    "aapl = as.matrix(AAPL$AAPL.Adjusted)\n",
    "csco = as.matrix(CSCO$CSCO.Adjusted)\n",
    "yhoo = as.matrix(YHOO$YHOO.Adjusted)\n",
    "ibm = as.matrix(IBM$IBM.Adjusted)"
   ]
  },
  {
   "cell_type": "code",
   "execution_count": 20,
   "metadata": {
    "collapsed": false,
    "slideshow": {
     "slide_type": "fragment"
    }
   },
   "outputs": [
    {
     "data": {
      "text/plain": [
       "           C.Adjusted AAPL.Adjusted CSCO.Adjusted YHOO.Adjusted IBM.Adjusted\n",
       "2007-01-03   490.2917      10.85709      23.32460         25.61     77.73997\n",
       "2007-01-04   488.6056      11.09807      23.93863         26.85     78.57116\n",
       "2007-01-05   486.0321      11.01904      23.94704         27.74     77.85985\n",
       "2007-01-08   488.5169      11.07345      24.08162         27.92     79.04270\n",
       "2007-01-09   484.2573      11.99333      23.94704         27.58     79.97778\n",
       "2007-01-10   480.3527      12.56728      24.12368         28.70     79.03470\n"
      ]
     },
     "metadata": {},
     "output_type": "display_data"
    }
   ],
   "source": [
    "%%R \n",
    "stkdata = data.frame(cbind(citi,aapl,csco,yhoo,ibm))\n",
    "rn = rownames(stkdata)\n",
    "head(stkdata)"
   ]
  },
  {
   "cell_type": "code",
   "execution_count": 21,
   "metadata": {
    "collapsed": false,
    "slideshow": {
     "slide_type": "slide"
    }
   },
   "outputs": [],
   "source": [
    "### Now bring this data frame from R back into Python\n",
    "\n",
    "stkdata = %Rget stkdata\n",
    "rn = %Rget rn"
   ]
  },
  {
   "cell_type": "code",
   "execution_count": 22,
   "metadata": {
    "collapsed": false,
    "slideshow": {
     "slide_type": "fragment"
    }
   },
   "outputs": [
    {
     "data": {
      "text/html": [
       "<div>\n",
       "<table border=\"1\" class=\"dataframe\">\n",
       "  <thead>\n",
       "    <tr style=\"text-align: right;\">\n",
       "      <th></th>\n",
       "      <th>C.Adjusted</th>\n",
       "      <th>AAPL.Adjusted</th>\n",
       "      <th>CSCO.Adjusted</th>\n",
       "      <th>YHOO.Adjusted</th>\n",
       "      <th>IBM.Adjusted</th>\n",
       "    </tr>\n",
       "  </thead>\n",
       "  <tbody>\n",
       "    <tr>\n",
       "      <th>2007-01-03</th>\n",
       "      <td>490.291686</td>\n",
       "      <td>10.857091</td>\n",
       "      <td>23.324601</td>\n",
       "      <td>25.610001</td>\n",
       "      <td>77.739967</td>\n",
       "    </tr>\n",
       "    <tr>\n",
       "      <th>2007-01-04</th>\n",
       "      <td>488.605593</td>\n",
       "      <td>11.098071</td>\n",
       "      <td>23.938627</td>\n",
       "      <td>26.850000</td>\n",
       "      <td>78.571155</td>\n",
       "    </tr>\n",
       "    <tr>\n",
       "      <th>2007-01-05</th>\n",
       "      <td>486.032149</td>\n",
       "      <td>11.019039</td>\n",
       "      <td>23.947039</td>\n",
       "      <td>27.740000</td>\n",
       "      <td>77.859851</td>\n",
       "    </tr>\n",
       "    <tr>\n",
       "      <th>2007-01-08</th>\n",
       "      <td>488.516874</td>\n",
       "      <td>11.073455</td>\n",
       "      <td>24.081620</td>\n",
       "      <td>27.920000</td>\n",
       "      <td>79.042697</td>\n",
       "    </tr>\n",
       "    <tr>\n",
       "      <th>2007-01-09</th>\n",
       "      <td>484.257338</td>\n",
       "      <td>11.993328</td>\n",
       "      <td>23.947039</td>\n",
       "      <td>27.580000</td>\n",
       "      <td>79.977781</td>\n",
       "    </tr>\n",
       "  </tbody>\n",
       "</table>\n",
       "</div>"
      ],
      "text/plain": [
       "            C.Adjusted  AAPL.Adjusted  CSCO.Adjusted  YHOO.Adjusted  \\\n",
       "2007-01-03  490.291686      10.857091      23.324601      25.610001   \n",
       "2007-01-04  488.605593      11.098071      23.938627      26.850000   \n",
       "2007-01-05  486.032149      11.019039      23.947039      27.740000   \n",
       "2007-01-08  488.516874      11.073455      24.081620      27.920000   \n",
       "2007-01-09  484.257338      11.993328      23.947039      27.580000   \n",
       "\n",
       "            IBM.Adjusted  \n",
       "2007-01-03     77.739967  \n",
       "2007-01-04     78.571155  \n",
       "2007-01-05     77.859851  \n",
       "2007-01-08     79.042697  \n",
       "2007-01-09     79.977781  "
      ]
     },
     "execution_count": 22,
     "metadata": {},
     "output_type": "execute_result"
    }
   ],
   "source": [
    "stkdata.head()"
   ]
  },
  {
   "cell_type": "code",
   "execution_count": 23,
   "metadata": {
    "collapsed": false,
    "slideshow": {
     "slide_type": "fragment"
    }
   },
   "outputs": [
    {
     "data": {
      "text/plain": [
       "array(['2007-01-03', '2007-01-04', '2007-01-05', ..., '2017-04-07',\n",
       "       '2017-04-10', '2017-04-11'], \n",
       "      dtype='<U10')"
      ]
     },
     "execution_count": 23,
     "metadata": {},
     "output_type": "execute_result"
    }
   ],
   "source": [
    "rn"
   ]
  },
  {
   "cell_type": "markdown",
   "metadata": {
    "slideshow": {
     "slide_type": "slide"
    }
   },
   "source": [
    "### Pandas is Awesome\n",
    "\n",
    "This is a useful book to have: \n",
    "http://www3.canisius.edu/~yany/python/Python4DataAnalysis.pdf"
   ]
  },
  {
   "cell_type": "code",
   "execution_count": 24,
   "metadata": {
    "collapsed": false,
    "slideshow": {
     "slide_type": "fragment"
    }
   },
   "outputs": [
    {
     "data": {
      "text/html": [
       "<div>\n",
       "<table border=\"1\" class=\"dataframe\">\n",
       "  <thead>\n",
       "    <tr style=\"text-align: right;\">\n",
       "      <th></th>\n",
       "      <th>C.Adjusted</th>\n",
       "      <th>AAPL.Adjusted</th>\n",
       "      <th>CSCO.Adjusted</th>\n",
       "      <th>YHOO.Adjusted</th>\n",
       "      <th>IBM.Adjusted</th>\n",
       "    </tr>\n",
       "  </thead>\n",
       "  <tbody>\n",
       "    <tr>\n",
       "      <th>2007-01-03</th>\n",
       "      <td>490.291686</td>\n",
       "      <td>10.857091</td>\n",
       "      <td>23.324601</td>\n",
       "      <td>25.610001</td>\n",
       "      <td>77.739967</td>\n",
       "    </tr>\n",
       "    <tr>\n",
       "      <th>2007-01-04</th>\n",
       "      <td>488.605593</td>\n",
       "      <td>11.098071</td>\n",
       "      <td>23.938627</td>\n",
       "      <td>26.850000</td>\n",
       "      <td>78.571155</td>\n",
       "    </tr>\n",
       "    <tr>\n",
       "      <th>2007-01-05</th>\n",
       "      <td>486.032149</td>\n",
       "      <td>11.019039</td>\n",
       "      <td>23.947039</td>\n",
       "      <td>27.740000</td>\n",
       "      <td>77.859851</td>\n",
       "    </tr>\n",
       "    <tr>\n",
       "      <th>2007-01-08</th>\n",
       "      <td>488.516874</td>\n",
       "      <td>11.073455</td>\n",
       "      <td>24.081620</td>\n",
       "      <td>27.920000</td>\n",
       "      <td>79.042697</td>\n",
       "    </tr>\n",
       "    <tr>\n",
       "      <th>2007-01-09</th>\n",
       "      <td>484.257338</td>\n",
       "      <td>11.993328</td>\n",
       "      <td>23.947039</td>\n",
       "      <td>27.580000</td>\n",
       "      <td>79.977781</td>\n",
       "    </tr>\n",
       "  </tbody>\n",
       "</table>\n",
       "</div>"
      ],
      "text/plain": [
       "            C.Adjusted  AAPL.Adjusted  CSCO.Adjusted  YHOO.Adjusted  \\\n",
       "2007-01-03  490.291686      10.857091      23.324601      25.610001   \n",
       "2007-01-04  488.605593      11.098071      23.938627      26.850000   \n",
       "2007-01-05  486.032149      11.019039      23.947039      27.740000   \n",
       "2007-01-08  488.516874      11.073455      24.081620      27.920000   \n",
       "2007-01-09  484.257338      11.993328      23.947039      27.580000   \n",
       "\n",
       "            IBM.Adjusted  \n",
       "2007-01-03     77.739967  \n",
       "2007-01-04     78.571155  \n",
       "2007-01-05     77.859851  \n",
       "2007-01-08     79.042697  \n",
       "2007-01-09     79.977781  "
      ]
     },
     "execution_count": 24,
     "metadata": {},
     "output_type": "execute_result"
    }
   ],
   "source": [
    "import pandas as pd\n",
    "stk = pd.DataFrame(stkdata)\n",
    "#stk = stk.T\n",
    "stk.head()"
   ]
  },
  {
   "cell_type": "code",
   "execution_count": 25,
   "metadata": {
    "collapsed": false,
    "slideshow": {
     "slide_type": "slide"
    }
   },
   "outputs": [
    {
     "data": {
      "text/html": [
       "<div>\n",
       "<table border=\"1\" class=\"dataframe\">\n",
       "  <thead>\n",
       "    <tr style=\"text-align: right;\">\n",
       "      <th></th>\n",
       "      <th>C</th>\n",
       "      <th>AAPL</th>\n",
       "      <th>CSCO</th>\n",
       "      <th>YHOO</th>\n",
       "      <th>IBM</th>\n",
       "    </tr>\n",
       "  </thead>\n",
       "  <tbody>\n",
       "    <tr>\n",
       "      <th>2007-01-03</th>\n",
       "      <td>490.291686</td>\n",
       "      <td>10.857091</td>\n",
       "      <td>23.324601</td>\n",
       "      <td>25.610001</td>\n",
       "      <td>77.739967</td>\n",
       "    </tr>\n",
       "    <tr>\n",
       "      <th>2007-01-04</th>\n",
       "      <td>488.605593</td>\n",
       "      <td>11.098071</td>\n",
       "      <td>23.938627</td>\n",
       "      <td>26.850000</td>\n",
       "      <td>78.571155</td>\n",
       "    </tr>\n",
       "    <tr>\n",
       "      <th>2007-01-05</th>\n",
       "      <td>486.032149</td>\n",
       "      <td>11.019039</td>\n",
       "      <td>23.947039</td>\n",
       "      <td>27.740000</td>\n",
       "      <td>77.859851</td>\n",
       "    </tr>\n",
       "    <tr>\n",
       "      <th>2007-01-08</th>\n",
       "      <td>488.516874</td>\n",
       "      <td>11.073455</td>\n",
       "      <td>24.081620</td>\n",
       "      <td>27.920000</td>\n",
       "      <td>79.042697</td>\n",
       "    </tr>\n",
       "    <tr>\n",
       "      <th>2007-01-09</th>\n",
       "      <td>484.257338</td>\n",
       "      <td>11.993328</td>\n",
       "      <td>23.947039</td>\n",
       "      <td>27.580000</td>\n",
       "      <td>79.977781</td>\n",
       "    </tr>\n",
       "  </tbody>\n",
       "</table>\n",
       "</div>"
      ],
      "text/plain": [
       "                     C       AAPL       CSCO       YHOO        IBM\n",
       "2007-01-03  490.291686  10.857091  23.324601  25.610001  77.739967\n",
       "2007-01-04  488.605593  11.098071  23.938627  26.850000  78.571155\n",
       "2007-01-05  486.032149  11.019039  23.947039  27.740000  77.859851\n",
       "2007-01-08  488.516874  11.073455  24.081620  27.920000  79.042697\n",
       "2007-01-09  484.257338  11.993328  23.947039  27.580000  79.977781"
      ]
     },
     "execution_count": 25,
     "metadata": {},
     "output_type": "execute_result"
    }
   ],
   "source": [
    "### RENAME COLUMNS OF A DATAFRAME\n",
    "\n",
    "stk.columns=[\"C\",\"AAPL\",\"CSCO\",\"YHOO\",\"IBM\"]\n",
    "stk.index = rn\n",
    "stk.head()"
   ]
  },
  {
   "cell_type": "code",
   "execution_count": 26,
   "metadata": {
    "collapsed": false,
    "slideshow": {
     "slide_type": "slide"
    }
   },
   "outputs": [
    {
     "data": {
      "text/plain": [
       "C       490.291686\n",
       "AAPL     10.857091\n",
       "CSCO     23.324601\n",
       "YHOO     25.610001\n",
       "IBM      77.739967\n",
       "Name: 2007-01-03, dtype: float64"
      ]
     },
     "execution_count": 26,
     "metadata": {},
     "output_type": "execute_result"
    }
   ],
   "source": [
    "### PULL ONE ROW \n",
    "\n",
    "stk.ix['2007-01-03']"
   ]
  },
  {
   "cell_type": "code",
   "execution_count": 27,
   "metadata": {
    "collapsed": false,
    "slideshow": {
     "slide_type": "fragment"
    }
   },
   "outputs": [
    {
     "data": {
      "text/plain": [
       "10.857091"
      ]
     },
     "execution_count": 27,
     "metadata": {},
     "output_type": "execute_result"
    }
   ],
   "source": [
    "stk.ix['2007-01-03'][\"AAPL\"]"
   ]
  },
  {
   "cell_type": "code",
   "execution_count": 28,
   "metadata": {
    "collapsed": false,
    "slideshow": {
     "slide_type": "slide"
    }
   },
   "outputs": [
    {
     "data": {
      "text/html": [
       "<div>\n",
       "<table border=\"1\" class=\"dataframe\">\n",
       "  <thead>\n",
       "    <tr style=\"text-align: right;\">\n",
       "      <th></th>\n",
       "      <th>C</th>\n",
       "      <th>AAPL</th>\n",
       "      <th>CSCO</th>\n",
       "      <th>YHOO</th>\n",
       "      <th>IBM</th>\n",
       "      <th>extra</th>\n",
       "    </tr>\n",
       "  </thead>\n",
       "  <tbody>\n",
       "    <tr>\n",
       "      <th>2007-01-03</th>\n",
       "      <td>490.291686</td>\n",
       "      <td>10.857091</td>\n",
       "      <td>23.324601</td>\n",
       "      <td>25.610001</td>\n",
       "      <td>77.739967</td>\n",
       "      <td>1.0</td>\n",
       "    </tr>\n",
       "    <tr>\n",
       "      <th>2007-01-04</th>\n",
       "      <td>488.605593</td>\n",
       "      <td>11.098071</td>\n",
       "      <td>23.938627</td>\n",
       "      <td>26.850000</td>\n",
       "      <td>78.571155</td>\n",
       "      <td>1.0</td>\n",
       "    </tr>\n",
       "    <tr>\n",
       "      <th>2007-01-05</th>\n",
       "      <td>486.032149</td>\n",
       "      <td>11.019039</td>\n",
       "      <td>23.947039</td>\n",
       "      <td>27.740000</td>\n",
       "      <td>77.859851</td>\n",
       "      <td>1.0</td>\n",
       "    </tr>\n",
       "    <tr>\n",
       "      <th>2007-01-08</th>\n",
       "      <td>488.516874</td>\n",
       "      <td>11.073455</td>\n",
       "      <td>24.081620</td>\n",
       "      <td>27.920000</td>\n",
       "      <td>79.042697</td>\n",
       "      <td>1.0</td>\n",
       "    </tr>\n",
       "    <tr>\n",
       "      <th>2007-01-09</th>\n",
       "      <td>484.257338</td>\n",
       "      <td>11.993328</td>\n",
       "      <td>23.947039</td>\n",
       "      <td>27.580000</td>\n",
       "      <td>79.977781</td>\n",
       "      <td>1.0</td>\n",
       "    </tr>\n",
       "  </tbody>\n",
       "</table>\n",
       "</div>"
      ],
      "text/plain": [
       "                     C       AAPL       CSCO       YHOO        IBM  extra\n",
       "2007-01-03  490.291686  10.857091  23.324601  25.610001  77.739967    1.0\n",
       "2007-01-04  488.605593  11.098071  23.938627  26.850000  78.571155    1.0\n",
       "2007-01-05  486.032149  11.019039  23.947039  27.740000  77.859851    1.0\n",
       "2007-01-08  488.516874  11.073455  24.081620  27.920000  79.042697    1.0\n",
       "2007-01-09  484.257338  11.993328  23.947039  27.580000  79.977781    1.0"
      ]
     },
     "execution_count": 28,
     "metadata": {},
     "output_type": "execute_result"
    }
   ],
   "source": [
    "### ADD A COLUMN TO THE DATAFRAME\n",
    "\n",
    "stk[\"extra\"] = 1.0\n",
    "stk.head()"
   ]
  },
  {
   "cell_type": "code",
   "execution_count": 29,
   "metadata": {
    "collapsed": false,
    "slideshow": {
     "slide_type": "slide"
    }
   },
   "outputs": [
    {
     "data": {
      "text/plain": [
       "array([  10.131557,   10.428248,   10.666638, ...,  144.020004,\n",
       "        144.119995,  144.770004])"
      ]
     },
     "execution_count": 29,
     "metadata": {},
     "output_type": "execute_result"
    }
   ],
   "source": [
    "### Extract a column and sort it \n",
    "\n",
    "sort(stk[\"AAPL\"])"
   ]
  },
  {
   "cell_type": "code",
   "execution_count": 30,
   "metadata": {
    "collapsed": false,
    "slideshow": {
     "slide_type": "fragment"
    }
   },
   "outputs": [
    {
     "data": {
      "text/html": [
       "<div>\n",
       "<table border=\"1\" class=\"dataframe\">\n",
       "  <thead>\n",
       "    <tr style=\"text-align: right;\">\n",
       "      <th></th>\n",
       "      <th>C</th>\n",
       "      <th>AAPL</th>\n",
       "      <th>CSCO</th>\n",
       "      <th>YHOO</th>\n",
       "      <th>IBM</th>\n",
       "      <th>extra</th>\n",
       "    </tr>\n",
       "  </thead>\n",
       "  <tbody>\n",
       "    <tr>\n",
       "      <th>2007-01-03</th>\n",
       "      <td>490.291686</td>\n",
       "      <td>10.857091</td>\n",
       "      <td>23.324601</td>\n",
       "      <td>25.610001</td>\n",
       "      <td>77.739967</td>\n",
       "      <td>1.0</td>\n",
       "    </tr>\n",
       "    <tr>\n",
       "      <th>2007-01-04</th>\n",
       "      <td>488.605593</td>\n",
       "      <td>11.098071</td>\n",
       "      <td>23.938627</td>\n",
       "      <td>26.850000</td>\n",
       "      <td>78.571155</td>\n",
       "      <td>1.0</td>\n",
       "    </tr>\n",
       "    <tr>\n",
       "      <th>2007-01-05</th>\n",
       "      <td>486.032149</td>\n",
       "      <td>11.019039</td>\n",
       "      <td>23.947039</td>\n",
       "      <td>27.740000</td>\n",
       "      <td>77.859851</td>\n",
       "      <td>1.0</td>\n",
       "    </tr>\n",
       "    <tr>\n",
       "      <th>2007-01-08</th>\n",
       "      <td>488.516874</td>\n",
       "      <td>11.073455</td>\n",
       "      <td>24.081620</td>\n",
       "      <td>27.920000</td>\n",
       "      <td>79.042697</td>\n",
       "      <td>1.0</td>\n",
       "    </tr>\n",
       "    <tr>\n",
       "      <th>2007-01-09</th>\n",
       "      <td>484.257338</td>\n",
       "      <td>11.993328</td>\n",
       "      <td>23.947039</td>\n",
       "      <td>27.580000</td>\n",
       "      <td>79.977781</td>\n",
       "      <td>1.0</td>\n",
       "    </tr>\n",
       "  </tbody>\n",
       "</table>\n",
       "</div>"
      ],
      "text/plain": [
       "                     C       AAPL       CSCO       YHOO        IBM  extra\n",
       "2007-01-03  490.291686  10.857091  23.324601  25.610001  77.739967    1.0\n",
       "2007-01-04  488.605593  11.098071  23.938627  26.850000  78.571155    1.0\n",
       "2007-01-05  486.032149  11.019039  23.947039  27.740000  77.859851    1.0\n",
       "2007-01-08  488.516874  11.073455  24.081620  27.920000  79.042697    1.0\n",
       "2007-01-09  484.257338  11.993328  23.947039  27.580000  79.977781    1.0"
      ]
     },
     "execution_count": 30,
     "metadata": {},
     "output_type": "execute_result"
    }
   ],
   "source": [
    "stk.head()"
   ]
  },
  {
   "cell_type": "code",
   "execution_count": 31,
   "metadata": {
    "collapsed": false,
    "slideshow": {
     "slide_type": "slide"
    }
   },
   "outputs": [
    {
     "data": {
      "text/html": [
       "<div>\n",
       "<table border=\"1\" class=\"dataframe\">\n",
       "  <thead>\n",
       "    <tr style=\"text-align: right;\">\n",
       "      <th></th>\n",
       "      <th>C</th>\n",
       "      <th>AAPL</th>\n",
       "      <th>CSCO</th>\n",
       "      <th>YHOO</th>\n",
       "      <th>IBM</th>\n",
       "    </tr>\n",
       "  </thead>\n",
       "  <tbody>\n",
       "    <tr>\n",
       "      <th>2007-01-03</th>\n",
       "      <td>490.291686</td>\n",
       "      <td>10.857091</td>\n",
       "      <td>23.324601</td>\n",
       "      <td>25.610001</td>\n",
       "      <td>77.739967</td>\n",
       "    </tr>\n",
       "    <tr>\n",
       "      <th>2007-01-04</th>\n",
       "      <td>488.605593</td>\n",
       "      <td>11.098071</td>\n",
       "      <td>23.938627</td>\n",
       "      <td>26.850000</td>\n",
       "      <td>78.571155</td>\n",
       "    </tr>\n",
       "    <tr>\n",
       "      <th>2007-01-05</th>\n",
       "      <td>486.032149</td>\n",
       "      <td>11.019039</td>\n",
       "      <td>23.947039</td>\n",
       "      <td>27.740000</td>\n",
       "      <td>77.859851</td>\n",
       "    </tr>\n",
       "    <tr>\n",
       "      <th>2007-01-08</th>\n",
       "      <td>488.516874</td>\n",
       "      <td>11.073455</td>\n",
       "      <td>24.081620</td>\n",
       "      <td>27.920000</td>\n",
       "      <td>79.042697</td>\n",
       "    </tr>\n",
       "    <tr>\n",
       "      <th>2007-01-09</th>\n",
       "      <td>484.257338</td>\n",
       "      <td>11.993328</td>\n",
       "      <td>23.947039</td>\n",
       "      <td>27.580000</td>\n",
       "      <td>79.977781</td>\n",
       "    </tr>\n",
       "  </tbody>\n",
       "</table>\n",
       "</div>"
      ],
      "text/plain": [
       "                     C       AAPL       CSCO       YHOO        IBM\n",
       "2007-01-03  490.291686  10.857091  23.324601  25.610001  77.739967\n",
       "2007-01-04  488.605593  11.098071  23.938627  26.850000  78.571155\n",
       "2007-01-05  486.032149  11.019039  23.947039  27.740000  77.859851\n",
       "2007-01-08  488.516874  11.073455  24.081620  27.920000  79.042697\n",
       "2007-01-09  484.257338  11.993328  23.947039  27.580000  79.977781"
      ]
     },
     "execution_count": 31,
     "metadata": {},
     "output_type": "execute_result"
    }
   ],
   "source": [
    "### HOW TO REMOVE A COLUMN FROM THE DATAFRAME\n",
    "\n",
    "stk = stk.drop(\"extra\",axis=1)  #IF AXIS=0 (default), THEN ROW IS DROPPED\n",
    "stk.head()"
   ]
  },
  {
   "cell_type": "code",
   "execution_count": 32,
   "metadata": {
    "collapsed": false,
    "slideshow": {
     "slide_type": "slide"
    }
   },
   "outputs": [
    {
     "data": {
      "text/html": [
       "<div>\n",
       "<table border=\"1\" class=\"dataframe\">\n",
       "  <thead>\n",
       "    <tr style=\"text-align: right;\">\n",
       "      <th></th>\n",
       "      <th>AAPL</th>\n",
       "      <th>IBM</th>\n",
       "    </tr>\n",
       "  </thead>\n",
       "  <tbody>\n",
       "    <tr>\n",
       "      <th>2007-01-03</th>\n",
       "      <td>10.857091</td>\n",
       "      <td>77.739967</td>\n",
       "    </tr>\n",
       "    <tr>\n",
       "      <th>2007-01-04</th>\n",
       "      <td>11.098071</td>\n",
       "      <td>78.571155</td>\n",
       "    </tr>\n",
       "    <tr>\n",
       "      <th>2007-01-05</th>\n",
       "      <td>11.019039</td>\n",
       "      <td>77.859851</td>\n",
       "    </tr>\n",
       "    <tr>\n",
       "      <th>2007-01-08</th>\n",
       "      <td>11.073455</td>\n",
       "      <td>79.042697</td>\n",
       "    </tr>\n",
       "    <tr>\n",
       "      <th>2007-01-09</th>\n",
       "      <td>11.993328</td>\n",
       "      <td>79.977781</td>\n",
       "    </tr>\n",
       "  </tbody>\n",
       "</table>\n",
       "</div>"
      ],
      "text/plain": [
       "                 AAPL        IBM\n",
       "2007-01-03  10.857091  77.739967\n",
       "2007-01-04  11.098071  78.571155\n",
       "2007-01-05  11.019039  77.859851\n",
       "2007-01-08  11.073455  79.042697\n",
       "2007-01-09  11.993328  79.977781"
      ]
     },
     "execution_count": 32,
     "metadata": {},
     "output_type": "execute_result"
    }
   ],
   "source": [
    "### SUBSET THE DATAFRAME\n",
    "\n",
    "stk[[\"AAPL\",\"IBM\"]].head()"
   ]
  },
  {
   "cell_type": "code",
   "execution_count": 33,
   "metadata": {
    "collapsed": false,
    "slideshow": {
     "slide_type": "slide"
    }
   },
   "outputs": [
    {
     "data": {
      "text/html": [
       "<div>\n",
       "<table border=\"1\" class=\"dataframe\">\n",
       "  <thead>\n",
       "    <tr style=\"text-align: right;\">\n",
       "      <th></th>\n",
       "      <th>C</th>\n",
       "      <th>AAPL</th>\n",
       "      <th>CSCO</th>\n",
       "      <th>YHOO</th>\n",
       "      <th>IBM</th>\n",
       "    </tr>\n",
       "  </thead>\n",
       "  <tbody>\n",
       "    <tr>\n",
       "      <th>2007-01-03</th>\n",
       "      <td>490.291686</td>\n",
       "      <td>10.857091</td>\n",
       "      <td>23.324601</td>\n",
       "      <td>25.610001</td>\n",
       "      <td>77.739967</td>\n",
       "    </tr>\n",
       "    <tr>\n",
       "      <th>2007-02-01</th>\n",
       "      <td>490.481449</td>\n",
       "      <td>10.978876</td>\n",
       "      <td>22.365711</td>\n",
       "      <td>28.350000</td>\n",
       "      <td>79.122617</td>\n",
       "    </tr>\n",
       "    <tr>\n",
       "      <th>2007-02-02</th>\n",
       "      <td>489.854110</td>\n",
       "      <td>10.980172</td>\n",
       "      <td>22.828333</td>\n",
       "      <td>28.770000</td>\n",
       "      <td>79.258483</td>\n",
       "    </tr>\n",
       "    <tr>\n",
       "      <th>2007-02-05</th>\n",
       "      <td>490.660697</td>\n",
       "      <td>10.875229</td>\n",
       "      <td>23.139553</td>\n",
       "      <td>28.559999</td>\n",
       "      <td>80.225536</td>\n",
       "    </tr>\n",
       "    <tr>\n",
       "      <th>2007-02-06</th>\n",
       "      <td>492.453065</td>\n",
       "      <td>10.902436</td>\n",
       "      <td>22.946093</td>\n",
       "      <td>29.350000</td>\n",
       "      <td>79.801952</td>\n",
       "    </tr>\n",
       "    <tr>\n",
       "      <th>2007-02-09</th>\n",
       "      <td>478.562214</td>\n",
       "      <td>10.788424</td>\n",
       "      <td>23.307778</td>\n",
       "      <td>29.740000</td>\n",
       "      <td>79.000330</td>\n",
       "    </tr>\n",
       "    <tr>\n",
       "      <th>2007-02-12</th>\n",
       "      <td>478.831058</td>\n",
       "      <td>10.997015</td>\n",
       "      <td>23.164787</td>\n",
       "      <td>29.170000</td>\n",
       "      <td>79.024377</td>\n",
       "    </tr>\n",
       "    <tr>\n",
       "      <th>2007-02-13</th>\n",
       "      <td>481.340362</td>\n",
       "      <td>10.973694</td>\n",
       "      <td>22.861979</td>\n",
       "      <td>29.559999</td>\n",
       "      <td>78.791905</td>\n",
       "    </tr>\n",
       "    <tr>\n",
       "      <th>2007-02-16</th>\n",
       "      <td>484.835501</td>\n",
       "      <td>10.990537</td>\n",
       "      <td>23.147964</td>\n",
       "      <td>31.910000</td>\n",
       "      <td>79.353041</td>\n",
       "    </tr>\n",
       "    <tr>\n",
       "      <th>2007-02-27</th>\n",
       "      <td>453.469064</td>\n",
       "      <td>10.873933</td>\n",
       "      <td>21.625513</td>\n",
       "      <td>30.950001</td>\n",
       "      <td>75.320859</td>\n",
       "    </tr>\n",
       "    <tr>\n",
       "      <th>2007-02-28</th>\n",
       "      <td>451.407852</td>\n",
       "      <td>10.962034</td>\n",
       "      <td>21.818975</td>\n",
       "      <td>30.860001</td>\n",
       "      <td>74.503202</td>\n",
       "    </tr>\n",
       "    <tr>\n",
       "      <th>2008-11-20</th>\n",
       "      <td>46.115095</td>\n",
       "      <td>10.428248</td>\n",
       "      <td>12.171186</td>\n",
       "      <td>8.950000</td>\n",
       "      <td>59.160213</td>\n",
       "    </tr>\n",
       "    <tr>\n",
       "      <th>2008-11-21</th>\n",
       "      <td>36.911660</td>\n",
       "      <td>10.699028</td>\n",
       "      <td>12.759979</td>\n",
       "      <td>9.390000</td>\n",
       "      <td>61.749606</td>\n",
       "    </tr>\n",
       "    <tr>\n",
       "      <th>2009-01-15</th>\n",
       "      <td>37.499112</td>\n",
       "      <td>10.802675</td>\n",
       "      <td>13.298304</td>\n",
       "      <td>11.610000</td>\n",
       "      <td>69.369354</td>\n",
       "    </tr>\n",
       "    <tr>\n",
       "      <th>2009-01-16</th>\n",
       "      <td>34.268118</td>\n",
       "      <td>10.666638</td>\n",
       "      <td>13.306714</td>\n",
       "      <td>11.590000</td>\n",
       "      <td>70.029068</td>\n",
       "    </tr>\n",
       "    <tr>\n",
       "      <th>2009-01-20</th>\n",
       "      <td>27.414495</td>\n",
       "      <td>10.131557</td>\n",
       "      <td>12.625398</td>\n",
       "      <td>11.010000</td>\n",
       "      <td>67.604609</td>\n",
       "    </tr>\n",
       "    <tr>\n",
       "      <th>2009-01-21</th>\n",
       "      <td>35.932571</td>\n",
       "      <td>10.731418</td>\n",
       "      <td>13.205779</td>\n",
       "      <td>11.590000</td>\n",
       "      <td>75.389277</td>\n",
       "    </tr>\n",
       "    <tr>\n",
       "      <th>2009-03-09</th>\n",
       "      <td>10.304912</td>\n",
       "      <td>10.767694</td>\n",
       "      <td>11.456223</td>\n",
       "      <td>12.660000</td>\n",
       "      <td>69.216088</td>\n",
       "    </tr>\n",
       "  </tbody>\n",
       "</table>\n",
       "</div>"
      ],
      "text/plain": [
       "                     C       AAPL       CSCO       YHOO        IBM\n",
       "2007-01-03  490.291686  10.857091  23.324601  25.610001  77.739967\n",
       "2007-02-01  490.481449  10.978876  22.365711  28.350000  79.122617\n",
       "2007-02-02  489.854110  10.980172  22.828333  28.770000  79.258483\n",
       "2007-02-05  490.660697  10.875229  23.139553  28.559999  80.225536\n",
       "2007-02-06  492.453065  10.902436  22.946093  29.350000  79.801952\n",
       "2007-02-09  478.562214  10.788424  23.307778  29.740000  79.000330\n",
       "2007-02-12  478.831058  10.997015  23.164787  29.170000  79.024377\n",
       "2007-02-13  481.340362  10.973694  22.861979  29.559999  78.791905\n",
       "2007-02-16  484.835501  10.990537  23.147964  31.910000  79.353041\n",
       "2007-02-27  453.469064  10.873933  21.625513  30.950001  75.320859\n",
       "2007-02-28  451.407852  10.962034  21.818975  30.860001  74.503202\n",
       "2008-11-20   46.115095  10.428248  12.171186   8.950000  59.160213\n",
       "2008-11-21   36.911660  10.699028  12.759979   9.390000  61.749606\n",
       "2009-01-15   37.499112  10.802675  13.298304  11.610000  69.369354\n",
       "2009-01-16   34.268118  10.666638  13.306714  11.590000  70.029068\n",
       "2009-01-20   27.414495  10.131557  12.625398  11.010000  67.604609\n",
       "2009-01-21   35.932571  10.731418  13.205779  11.590000  75.389277\n",
       "2009-03-09   10.304912  10.767694  11.456223  12.660000  69.216088"
      ]
     },
     "execution_count": 33,
     "metadata": {},
     "output_type": "execute_result"
    }
   ],
   "source": [
    "### FILTER THE DATAFRAME\n",
    "\n",
    "stk[stk[\"AAPL\"]<11]"
   ]
  },
  {
   "cell_type": "code",
   "execution_count": 34,
   "metadata": {
    "collapsed": false,
    "slideshow": {
     "slide_type": "slide"
    }
   },
   "outputs": [
    {
     "data": {
      "text/plain": [
       "2007-01-03    77.739967\n",
       "2007-02-01    79.122617\n",
       "2007-02-02    79.258483\n",
       "2007-02-05    80.225536\n",
       "2007-02-06    79.801952\n",
       "2007-02-09    79.000330\n",
       "2007-02-12    79.024377\n",
       "2007-02-13    78.791905\n",
       "2007-02-16    79.353041\n",
       "2007-02-27    75.320859\n",
       "2007-02-28    74.503202\n",
       "2008-11-20    59.160213\n",
       "2008-11-21    61.749606\n",
       "2009-01-15    69.369354\n",
       "2009-01-16    70.029068\n",
       "2009-01-20    67.604609\n",
       "2009-01-21    75.389277\n",
       "2009-03-09    69.216088\n",
       "Name: IBM, dtype: float64"
      ]
     },
     "execution_count": 34,
     "metadata": {},
     "output_type": "execute_result"
    }
   ],
   "source": [
    "### FILTER ON ONE COLUMN AND DISPLAY ANOTHER\n",
    "\n",
    "stk[stk[\"AAPL\"]<11][\"IBM\"]"
   ]
  },
  {
   "cell_type": "code",
   "execution_count": 35,
   "metadata": {
    "collapsed": false,
    "slideshow": {
     "slide_type": "slide"
    }
   },
   "outputs": [
    {
     "data": {
      "text/html": [
       "<div>\n",
       "<table border=\"1\" class=\"dataframe\">\n",
       "  <thead>\n",
       "    <tr style=\"text-align: right;\">\n",
       "      <th></th>\n",
       "      <th>C</th>\n",
       "      <th>AAPL</th>\n",
       "      <th>CSCO</th>\n",
       "      <th>YHOO</th>\n",
       "      <th>IBM</th>\n",
       "    </tr>\n",
       "  </thead>\n",
       "  <tbody>\n",
       "    <tr>\n",
       "      <th>2007-01-03</th>\n",
       "      <td>False</td>\n",
       "      <td>True</td>\n",
       "      <td>True</td>\n",
       "      <td>True</td>\n",
       "      <td>False</td>\n",
       "    </tr>\n",
       "    <tr>\n",
       "      <th>2007-01-04</th>\n",
       "      <td>False</td>\n",
       "      <td>True</td>\n",
       "      <td>True</td>\n",
       "      <td>True</td>\n",
       "      <td>False</td>\n",
       "    </tr>\n",
       "    <tr>\n",
       "      <th>2007-01-05</th>\n",
       "      <td>False</td>\n",
       "      <td>True</td>\n",
       "      <td>True</td>\n",
       "      <td>True</td>\n",
       "      <td>False</td>\n",
       "    </tr>\n",
       "    <tr>\n",
       "      <th>2007-01-08</th>\n",
       "      <td>False</td>\n",
       "      <td>True</td>\n",
       "      <td>True</td>\n",
       "      <td>True</td>\n",
       "      <td>False</td>\n",
       "    </tr>\n",
       "    <tr>\n",
       "      <th>2007-01-09</th>\n",
       "      <td>False</td>\n",
       "      <td>True</td>\n",
       "      <td>True</td>\n",
       "      <td>True</td>\n",
       "      <td>False</td>\n",
       "    </tr>\n",
       "  </tbody>\n",
       "</table>\n",
       "</div>"
      ],
      "text/plain": [
       "                C  AAPL  CSCO  YHOO    IBM\n",
       "2007-01-03  False  True  True  True  False\n",
       "2007-01-04  False  True  True  True  False\n",
       "2007-01-05  False  True  True  True  False\n",
       "2007-01-08  False  True  True  True  False\n",
       "2007-01-09  False  True  True  True  False"
      ]
     },
     "execution_count": 35,
     "metadata": {},
     "output_type": "execute_result"
    }
   ],
   "source": [
    "### APPLY A CONDITION TO ALL CELLS\n",
    "\n",
    "(stk < 50).head()"
   ]
  },
  {
   "cell_type": "code",
   "execution_count": 36,
   "metadata": {
    "collapsed": false,
    "slideshow": {
     "slide_type": "slide"
    }
   },
   "outputs": [
    {
     "data": {
      "text/plain": [
       "C       243923.562306\n",
       "AAPL    154928.446792\n",
       "CSCO     54142.569339\n",
       "YHOO     67190.669958\n",
       "IBM     347485.570201\n",
       "dtype: float64"
      ]
     },
     "execution_count": 36,
     "metadata": {},
     "output_type": "execute_result"
    }
   ],
   "source": [
    "### COLUMN SUMS\n",
    "\n",
    "sum(stk)"
   ]
  },
  {
   "cell_type": "markdown",
   "metadata": {
    "slideshow": {
     "slide_type": "slide"
    }
   },
   "source": [
    "### Lambda Functions"
   ]
  },
  {
   "cell_type": "code",
   "execution_count": 37,
   "metadata": {
    "collapsed": false,
    "slideshow": {
     "slide_type": "fragment"
    }
   },
   "outputs": [
    {
     "data": {
      "text/plain": [
       "C       489.652060\n",
       "AAPL    134.638447\n",
       "CSCO     22.686348\n",
       "YHOO     43.419999\n",
       "IBM     132.924541\n",
       "dtype: float64"
      ]
     },
     "execution_count": 37,
     "metadata": {},
     "output_type": "execute_result"
    }
   ],
   "source": [
    "### USING FUNCTIONS ON DATA FRAMES\n",
    "f = lambda x: x.max() - x.min()\n",
    "stk.apply(f)"
   ]
  },
  {
   "cell_type": "markdown",
   "metadata": {
    "slideshow": {
     "slide_type": "slide"
    }
   },
   "source": [
    "### Apply Methods in Pandas"
   ]
  },
  {
   "cell_type": "code",
   "execution_count": 38,
   "metadata": {
    "collapsed": false,
    "slideshow": {
     "slide_type": "fragment"
    }
   },
   "outputs": [
    {
     "data": {
      "text/html": [
       "<div>\n",
       "<table border=\"1\" class=\"dataframe\">\n",
       "  <thead>\n",
       "    <tr style=\"text-align: right;\">\n",
       "      <th></th>\n",
       "      <th>C</th>\n",
       "      <th>AAPL</th>\n",
       "      <th>CSCO</th>\n",
       "      <th>YHOO</th>\n",
       "      <th>IBM</th>\n",
       "    </tr>\n",
       "  </thead>\n",
       "  <tbody>\n",
       "    <tr>\n",
       "      <th>mean</th>\n",
       "      <td>94.288196</td>\n",
       "      <td>59.887301</td>\n",
       "      <td>20.928709</td>\n",
       "      <td>25.972428</td>\n",
       "      <td>134.319896</td>\n",
       "    </tr>\n",
       "    <tr>\n",
       "      <th>stdev</th>\n",
       "      <td>121.539473</td>\n",
       "      <td>37.080531</td>\n",
       "      <td>4.929342</td>\n",
       "      <td>10.887920</td>\n",
       "      <td>35.223335</td>\n",
       "    </tr>\n",
       "    <tr>\n",
       "      <th>min</th>\n",
       "      <td>10.010486</td>\n",
       "      <td>10.131557</td>\n",
       "      <td>11.456223</td>\n",
       "      <td>8.950000</td>\n",
       "      <td>59.160213</td>\n",
       "    </tr>\n",
       "    <tr>\n",
       "      <th>max</th>\n",
       "      <td>499.662546</td>\n",
       "      <td>144.770004</td>\n",
       "      <td>34.142571</td>\n",
       "      <td>52.369999</td>\n",
       "      <td>192.084754</td>\n",
       "    </tr>\n",
       "  </tbody>\n",
       "</table>\n",
       "</div>"
      ],
      "text/plain": [
       "                C        AAPL       CSCO       YHOO         IBM\n",
       "mean    94.288196   59.887301  20.928709  25.972428  134.319896\n",
       "stdev  121.539473   37.080531   4.929342  10.887920   35.223335\n",
       "min     10.010486   10.131557  11.456223   8.950000   59.160213\n",
       "max    499.662546  144.770004  34.142571  52.369999  192.084754"
      ]
     },
     "execution_count": 38,
     "metadata": {},
     "output_type": "execute_result"
    }
   ],
   "source": [
    "def g(x):\n",
    "    return pd.Series([x.mean(),x.std(),x.min(),x.max()], index=['mean','stdev','min','max'])\n",
    "stk.apply(g)"
   ]
  },
  {
   "cell_type": "code",
   "execution_count": 39,
   "metadata": {
    "collapsed": false,
    "slideshow": {
     "slide_type": "slide"
    }
   },
   "outputs": [
    {
     "name": "stdout",
     "output_type": "stream",
     "text": [
      "                     C       AAPL       CSCO       YHOO        IBM\n",
      "2007-01-03  490.291686  10.857091  23.324601  25.610001  77.739967\n",
      "2007-01-04  488.605593  11.098071  23.938627  26.850000  78.571155\n",
      "2007-01-05  486.032149  11.019039  23.947039  27.740000  77.859851\n",
      "2007-01-08  488.516874  11.073455  24.081620  27.920000  79.042697\n",
      "2007-01-09  484.257338  11.993328  23.947039  27.580000  79.977781\n"
     ]
    },
    {
     "data": {
      "text/html": [
       "<div>\n",
       "<table border=\"1\" class=\"dataframe\">\n",
       "  <thead>\n",
       "    <tr style=\"text-align: right;\">\n",
       "      <th></th>\n",
       "      <th>C</th>\n",
       "      <th>AAPL</th>\n",
       "      <th>CSCO</th>\n",
       "      <th>YHOO</th>\n",
       "      <th>IBM</th>\n",
       "    </tr>\n",
       "  </thead>\n",
       "  <tbody>\n",
       "    <tr>\n",
       "      <th>2017-04-11</th>\n",
       "      <td>59.029999</td>\n",
       "      <td>141.630005</td>\n",
       "      <td>32.919998</td>\n",
       "      <td>46.790001</td>\n",
       "      <td>170.580002</td>\n",
       "    </tr>\n",
       "    <tr>\n",
       "      <th>2017-04-10</th>\n",
       "      <td>59.279999</td>\n",
       "      <td>143.169998</td>\n",
       "      <td>33.009998</td>\n",
       "      <td>47.209999</td>\n",
       "      <td>171.199997</td>\n",
       "    </tr>\n",
       "    <tr>\n",
       "      <th>2017-04-07</th>\n",
       "      <td>59.430000</td>\n",
       "      <td>143.339996</td>\n",
       "      <td>32.959999</td>\n",
       "      <td>46.439999</td>\n",
       "      <td>172.139999</td>\n",
       "    </tr>\n",
       "    <tr>\n",
       "      <th>2017-04-06</th>\n",
       "      <td>59.889999</td>\n",
       "      <td>143.660004</td>\n",
       "      <td>33.080002</td>\n",
       "      <td>46.279999</td>\n",
       "      <td>172.449997</td>\n",
       "    </tr>\n",
       "    <tr>\n",
       "      <th>2017-04-05</th>\n",
       "      <td>59.590000</td>\n",
       "      <td>144.020004</td>\n",
       "      <td>33.000000</td>\n",
       "      <td>46.380001</td>\n",
       "      <td>172.880005</td>\n",
       "    </tr>\n",
       "  </tbody>\n",
       "</table>\n",
       "</div>"
      ],
      "text/plain": [
       "                    C        AAPL       CSCO       YHOO         IBM\n",
       "2017-04-11  59.029999  141.630005  32.919998  46.790001  170.580002\n",
       "2017-04-10  59.279999  143.169998  33.009998  47.209999  171.199997\n",
       "2017-04-07  59.430000  143.339996  32.959999  46.439999  172.139999\n",
       "2017-04-06  59.889999  143.660004  33.080002  46.279999  172.449997\n",
       "2017-04-05  59.590000  144.020004  33.000000  46.380001  172.880005"
      ]
     },
     "execution_count": 39,
     "metadata": {},
     "output_type": "execute_result"
    }
   ],
   "source": [
    "### SORT ON ROW INDEXES\n",
    "\n",
    "print(stk.head())\n",
    "stk.sort_index(axis=0,ascending=False).head()"
   ]
  },
  {
   "cell_type": "code",
   "execution_count": 40,
   "metadata": {
    "collapsed": false,
    "slideshow": {
     "slide_type": "slide"
    }
   },
   "outputs": [
    {
     "name": "stdout",
     "output_type": "stream",
     "text": [
      "                     C       AAPL       CSCO       YHOO        IBM\n",
      "2007-01-03  490.291686  10.857091  23.324601  25.610001  77.739967\n",
      "2007-01-04  488.605593  11.098071  23.938627  26.850000  78.571155\n",
      "2007-01-05  486.032149  11.019039  23.947039  27.740000  77.859851\n",
      "2007-01-08  488.516874  11.073455  24.081620  27.920000  79.042697\n",
      "2007-01-09  484.257338  11.993328  23.947039  27.580000  79.977781\n"
     ]
    },
    {
     "data": {
      "text/html": [
       "<div>\n",
       "<table border=\"1\" class=\"dataframe\">\n",
       "  <thead>\n",
       "    <tr style=\"text-align: right;\">\n",
       "      <th></th>\n",
       "      <th>YHOO</th>\n",
       "      <th>IBM</th>\n",
       "      <th>CSCO</th>\n",
       "      <th>C</th>\n",
       "      <th>AAPL</th>\n",
       "    </tr>\n",
       "  </thead>\n",
       "  <tbody>\n",
       "    <tr>\n",
       "      <th>2007-01-03</th>\n",
       "      <td>25.610001</td>\n",
       "      <td>77.739967</td>\n",
       "      <td>23.324601</td>\n",
       "      <td>490.291686</td>\n",
       "      <td>10.857091</td>\n",
       "    </tr>\n",
       "    <tr>\n",
       "      <th>2007-01-04</th>\n",
       "      <td>26.850000</td>\n",
       "      <td>78.571155</td>\n",
       "      <td>23.938627</td>\n",
       "      <td>488.605593</td>\n",
       "      <td>11.098071</td>\n",
       "    </tr>\n",
       "    <tr>\n",
       "      <th>2007-01-05</th>\n",
       "      <td>27.740000</td>\n",
       "      <td>77.859851</td>\n",
       "      <td>23.947039</td>\n",
       "      <td>486.032149</td>\n",
       "      <td>11.019039</td>\n",
       "    </tr>\n",
       "    <tr>\n",
       "      <th>2007-01-08</th>\n",
       "      <td>27.920000</td>\n",
       "      <td>79.042697</td>\n",
       "      <td>24.081620</td>\n",
       "      <td>488.516874</td>\n",
       "      <td>11.073455</td>\n",
       "    </tr>\n",
       "    <tr>\n",
       "      <th>2007-01-09</th>\n",
       "      <td>27.580000</td>\n",
       "      <td>79.977781</td>\n",
       "      <td>23.947039</td>\n",
       "      <td>484.257338</td>\n",
       "      <td>11.993328</td>\n",
       "    </tr>\n",
       "  </tbody>\n",
       "</table>\n",
       "</div>"
      ],
      "text/plain": [
       "                 YHOO        IBM       CSCO           C       AAPL\n",
       "2007-01-03  25.610001  77.739967  23.324601  490.291686  10.857091\n",
       "2007-01-04  26.850000  78.571155  23.938627  488.605593  11.098071\n",
       "2007-01-05  27.740000  77.859851  23.947039  486.032149  11.019039\n",
       "2007-01-08  27.920000  79.042697  24.081620  488.516874  11.073455\n",
       "2007-01-09  27.580000  79.977781  23.947039  484.257338  11.993328"
      ]
     },
     "execution_count": 40,
     "metadata": {},
     "output_type": "execute_result"
    }
   ],
   "source": [
    "### SORT ON COLUMN HEADERS\n",
    "\n",
    "print(stk.head())\n",
    "stk.sort_index(axis=1,ascending=False).head()"
   ]
  },
  {
   "cell_type": "code",
   "execution_count": 41,
   "metadata": {
    "collapsed": false,
    "slideshow": {
     "slide_type": "slide"
    }
   },
   "outputs": [
    {
     "data": {
      "text/plain": [
       "C       243923.562306\n",
       "AAPL    154928.446792\n",
       "CSCO     54142.569339\n",
       "YHOO     67190.669958\n",
       "IBM     347485.570201\n",
       "dtype: float64"
      ]
     },
     "execution_count": 41,
     "metadata": {},
     "output_type": "execute_result"
    }
   ],
   "source": [
    "### SUM COLUMNS\n",
    "\n",
    "stk.sum()"
   ]
  },
  {
   "cell_type": "code",
   "execution_count": 42,
   "metadata": {
    "collapsed": false,
    "slideshow": {
     "slide_type": "fragment"
    }
   },
   "outputs": [
    {
     "data": {
      "text/plain": [
       "C        94.288196\n",
       "AAPL     59.887301\n",
       "CSCO     20.928709\n",
       "YHOO     25.972428\n",
       "IBM     134.319896\n",
       "dtype: float64"
      ]
     },
     "execution_count": 42,
     "metadata": {},
     "output_type": "execute_result"
    }
   ],
   "source": [
    "### AVERAGE OF COLUMNS\n",
    "\n",
    "stk.mean()"
   ]
  },
  {
   "cell_type": "code",
   "execution_count": 43,
   "metadata": {
    "collapsed": false,
    "slideshow": {
     "slide_type": "slide"
    }
   },
   "outputs": [
    {
     "data": {
      "text/html": [
       "<div>\n",
       "<table border=\"1\" class=\"dataframe\">\n",
       "  <thead>\n",
       "    <tr style=\"text-align: right;\">\n",
       "      <th></th>\n",
       "      <th>C</th>\n",
       "      <th>AAPL</th>\n",
       "      <th>CSCO</th>\n",
       "      <th>YHOO</th>\n",
       "      <th>IBM</th>\n",
       "    </tr>\n",
       "  </thead>\n",
       "  <tbody>\n",
       "    <tr>\n",
       "      <th>2007-01-03</th>\n",
       "      <td>NaN</td>\n",
       "      <td>NaN</td>\n",
       "      <td>NaN</td>\n",
       "      <td>NaN</td>\n",
       "      <td>NaN</td>\n",
       "    </tr>\n",
       "    <tr>\n",
       "      <th>2007-01-04</th>\n",
       "      <td>-1.686093</td>\n",
       "      <td>0.240980</td>\n",
       "      <td>0.614026</td>\n",
       "      <td>1.239999</td>\n",
       "      <td>0.831188</td>\n",
       "    </tr>\n",
       "    <tr>\n",
       "      <th>2007-01-05</th>\n",
       "      <td>-2.573444</td>\n",
       "      <td>-0.079032</td>\n",
       "      <td>0.008412</td>\n",
       "      <td>0.890000</td>\n",
       "      <td>-0.711304</td>\n",
       "    </tr>\n",
       "    <tr>\n",
       "      <th>2007-01-08</th>\n",
       "      <td>2.484725</td>\n",
       "      <td>0.054416</td>\n",
       "      <td>0.134581</td>\n",
       "      <td>0.180000</td>\n",
       "      <td>1.182846</td>\n",
       "    </tr>\n",
       "    <tr>\n",
       "      <th>2007-01-09</th>\n",
       "      <td>-4.259536</td>\n",
       "      <td>0.919873</td>\n",
       "      <td>-0.134581</td>\n",
       "      <td>-0.340000</td>\n",
       "      <td>0.935084</td>\n",
       "    </tr>\n",
       "  </tbody>\n",
       "</table>\n",
       "</div>"
      ],
      "text/plain": [
       "                   C      AAPL      CSCO      YHOO       IBM\n",
       "2007-01-03       NaN       NaN       NaN       NaN       NaN\n",
       "2007-01-04 -1.686093  0.240980  0.614026  1.239999  0.831188\n",
       "2007-01-05 -2.573444 -0.079032  0.008412  0.890000 -0.711304\n",
       "2007-01-08  2.484725  0.054416  0.134581  0.180000  1.182846\n",
       "2007-01-09 -4.259536  0.919873 -0.134581 -0.340000  0.935084"
      ]
     },
     "execution_count": 43,
     "metadata": {},
     "output_type": "execute_result"
    }
   ],
   "source": [
    "### FIRST DIFFERENCE THE DATA\n",
    "\n",
    "stk.diff().head()"
   ]
  },
  {
   "cell_type": "code",
   "execution_count": 44,
   "metadata": {
    "collapsed": false,
    "slideshow": {
     "slide_type": "slide"
    }
   },
   "outputs": [
    {
     "data": {
      "text/html": [
       "<div>\n",
       "<table border=\"1\" class=\"dataframe\">\n",
       "  <thead>\n",
       "    <tr style=\"text-align: right;\">\n",
       "      <th></th>\n",
       "      <th>C</th>\n",
       "      <th>AAPL</th>\n",
       "      <th>CSCO</th>\n",
       "      <th>YHOO</th>\n",
       "      <th>IBM</th>\n",
       "    </tr>\n",
       "  </thead>\n",
       "  <tbody>\n",
       "    <tr>\n",
       "      <th>2007-01-03</th>\n",
       "      <td>NaN</td>\n",
       "      <td>NaN</td>\n",
       "      <td>NaN</td>\n",
       "      <td>NaN</td>\n",
       "      <td>NaN</td>\n",
       "    </tr>\n",
       "    <tr>\n",
       "      <th>2007-01-04</th>\n",
       "      <td>-0.003439</td>\n",
       "      <td>0.022196</td>\n",
       "      <td>0.026325</td>\n",
       "      <td>0.048419</td>\n",
       "      <td>0.010692</td>\n",
       "    </tr>\n",
       "    <tr>\n",
       "      <th>2007-01-05</th>\n",
       "      <td>-0.005267</td>\n",
       "      <td>-0.007121</td>\n",
       "      <td>0.000351</td>\n",
       "      <td>0.033147</td>\n",
       "      <td>-0.009053</td>\n",
       "    </tr>\n",
       "    <tr>\n",
       "      <th>2007-01-08</th>\n",
       "      <td>0.005112</td>\n",
       "      <td>0.004938</td>\n",
       "      <td>0.005620</td>\n",
       "      <td>0.006489</td>\n",
       "      <td>0.015192</td>\n",
       "    </tr>\n",
       "    <tr>\n",
       "      <th>2007-01-09</th>\n",
       "      <td>-0.008719</td>\n",
       "      <td>0.083070</td>\n",
       "      <td>-0.005589</td>\n",
       "      <td>-0.012178</td>\n",
       "      <td>0.011830</td>\n",
       "    </tr>\n",
       "  </tbody>\n",
       "</table>\n",
       "</div>"
      ],
      "text/plain": [
       "                   C      AAPL      CSCO      YHOO       IBM\n",
       "2007-01-03       NaN       NaN       NaN       NaN       NaN\n",
       "2007-01-04 -0.003439  0.022196  0.026325  0.048419  0.010692\n",
       "2007-01-05 -0.005267 -0.007121  0.000351  0.033147 -0.009053\n",
       "2007-01-08  0.005112  0.004938  0.005620  0.006489  0.015192\n",
       "2007-01-09 -0.008719  0.083070 -0.005589 -0.012178  0.011830"
      ]
     },
     "execution_count": 44,
     "metadata": {},
     "output_type": "execute_result"
    }
   ],
   "source": [
    "### COMPUTE PERCENTAGE DAILY RETURN\n",
    "\n",
    "stk.pct_change().head()"
   ]
  },
  {
   "cell_type": "markdown",
   "metadata": {
    "slideshow": {
     "slide_type": "slide"
    }
   },
   "source": [
    "### Annualize Return Mean and Standard Deviation "
   ]
  },
  {
   "cell_type": "code",
   "execution_count": 45,
   "metadata": {
    "collapsed": false,
    "slideshow": {
     "slide_type": "fragment"
    }
   },
   "outputs": [
    {
     "data": {
      "text/plain": [
       "C      -0.020820\n",
       "AAPL    0.303566\n",
       "CSCO    0.078331\n",
       "YHOO    0.134582\n",
       "IBM     0.101417\n",
       "dtype: float64"
      ]
     },
     "execution_count": 45,
     "metadata": {},
     "output_type": "execute_result"
    }
   ],
   "source": [
    "### Annualize Mean\n",
    "stk.pct_change().mean()*252.0"
   ]
  },
  {
   "cell_type": "code",
   "execution_count": 46,
   "metadata": {
    "collapsed": false,
    "slideshow": {
     "slide_type": "fragment"
    }
   },
   "outputs": [
    {
     "data": {
      "text/plain": [
       "C       0.612722\n",
       "AAPL    0.325599\n",
       "CSCO    0.298761\n",
       "YHOO    0.395032\n",
       "IBM     0.222804\n",
       "dtype: float64"
      ]
     },
     "execution_count": 46,
     "metadata": {},
     "output_type": "execute_result"
    }
   ],
   "source": [
    "### Annualize SD\n",
    "stk.pct_change().std()*sqrt(252.0)"
   ]
  },
  {
   "cell_type": "code",
   "execution_count": 47,
   "metadata": {
    "collapsed": false,
    "slideshow": {
     "slide_type": "slide"
    }
   },
   "outputs": [
    {
     "data": {
      "text/html": [
       "<div>\n",
       "<table border=\"1\" class=\"dataframe\">\n",
       "  <thead>\n",
       "    <tr style=\"text-align: right;\">\n",
       "      <th></th>\n",
       "      <th>C</th>\n",
       "      <th>AAPL</th>\n",
       "      <th>CSCO</th>\n",
       "      <th>YHOO</th>\n",
       "      <th>IBM</th>\n",
       "    </tr>\n",
       "  </thead>\n",
       "  <tbody>\n",
       "    <tr>\n",
       "      <th>C</th>\n",
       "      <td>1.000000</td>\n",
       "      <td>0.379307</td>\n",
       "      <td>0.466045</td>\n",
       "      <td>0.332190</td>\n",
       "      <td>0.440316</td>\n",
       "    </tr>\n",
       "    <tr>\n",
       "      <th>AAPL</th>\n",
       "      <td>0.379307</td>\n",
       "      <td>1.000000</td>\n",
       "      <td>0.485689</td>\n",
       "      <td>0.345683</td>\n",
       "      <td>0.475700</td>\n",
       "    </tr>\n",
       "    <tr>\n",
       "      <th>CSCO</th>\n",
       "      <td>0.466045</td>\n",
       "      <td>0.485689</td>\n",
       "      <td>1.000000</td>\n",
       "      <td>0.406527</td>\n",
       "      <td>0.573215</td>\n",
       "    </tr>\n",
       "    <tr>\n",
       "      <th>YHOO</th>\n",
       "      <td>0.332190</td>\n",
       "      <td>0.345683</td>\n",
       "      <td>0.406527</td>\n",
       "      <td>1.000000</td>\n",
       "      <td>0.376407</td>\n",
       "    </tr>\n",
       "    <tr>\n",
       "      <th>IBM</th>\n",
       "      <td>0.440316</td>\n",
       "      <td>0.475700</td>\n",
       "      <td>0.573215</td>\n",
       "      <td>0.376407</td>\n",
       "      <td>1.000000</td>\n",
       "    </tr>\n",
       "  </tbody>\n",
       "</table>\n",
       "</div>"
      ],
      "text/plain": [
       "             C      AAPL      CSCO      YHOO       IBM\n",
       "C     1.000000  0.379307  0.466045  0.332190  0.440316\n",
       "AAPL  0.379307  1.000000  0.485689  0.345683  0.475700\n",
       "CSCO  0.466045  0.485689  1.000000  0.406527  0.573215\n",
       "YHOO  0.332190  0.345683  0.406527  1.000000  0.376407\n",
       "IBM   0.440316  0.475700  0.573215  0.376407  1.000000"
      ]
     },
     "execution_count": 47,
     "metadata": {},
     "output_type": "execute_result"
    }
   ],
   "source": [
    "### CORRELATION MATRIX\n",
    "\n",
    "rets = stk.pct_change()\n",
    "rets.corr()"
   ]
  },
  {
   "cell_type": "code",
   "execution_count": 48,
   "metadata": {
    "collapsed": false,
    "slideshow": {
     "slide_type": "fragment"
    }
   },
   "outputs": [
    {
     "data": {
      "text/plain": [
       "C       0.379307\n",
       "AAPL    1.000000\n",
       "CSCO    0.485689\n",
       "YHOO    0.345683\n",
       "IBM     0.475700\n",
       "dtype: float64"
      ]
     },
     "execution_count": 48,
     "metadata": {},
     "output_type": "execute_result"
    }
   ],
   "source": [
    "rets.corrwith(rets.AAPL)"
   ]
  },
  {
   "cell_type": "code",
   "execution_count": 49,
   "metadata": {
    "collapsed": false,
    "slideshow": {
     "slide_type": "slide"
    }
   },
   "outputs": [
    {
     "data": {
      "text/html": [
       "<div>\n",
       "<table border=\"1\" class=\"dataframe\">\n",
       "  <thead>\n",
       "    <tr style=\"text-align: right;\">\n",
       "      <th></th>\n",
       "      <th>C</th>\n",
       "      <th>AAPL</th>\n",
       "      <th>CSCO</th>\n",
       "      <th>YHOO</th>\n",
       "      <th>IBM</th>\n",
       "    </tr>\n",
       "  </thead>\n",
       "  <tbody>\n",
       "    <tr>\n",
       "      <th>C</th>\n",
       "      <td>0.001490</td>\n",
       "      <td>0.000300</td>\n",
       "      <td>0.000339</td>\n",
       "      <td>0.000319</td>\n",
       "      <td>0.000239</td>\n",
       "    </tr>\n",
       "    <tr>\n",
       "      <th>AAPL</th>\n",
       "      <td>0.000300</td>\n",
       "      <td>0.000421</td>\n",
       "      <td>0.000187</td>\n",
       "      <td>0.000176</td>\n",
       "      <td>0.000137</td>\n",
       "    </tr>\n",
       "    <tr>\n",
       "      <th>CSCO</th>\n",
       "      <td>0.000339</td>\n",
       "      <td>0.000187</td>\n",
       "      <td>0.000354</td>\n",
       "      <td>0.000190</td>\n",
       "      <td>0.000151</td>\n",
       "    </tr>\n",
       "    <tr>\n",
       "      <th>YHOO</th>\n",
       "      <td>0.000319</td>\n",
       "      <td>0.000176</td>\n",
       "      <td>0.000190</td>\n",
       "      <td>0.000619</td>\n",
       "      <td>0.000131</td>\n",
       "    </tr>\n",
       "    <tr>\n",
       "      <th>IBM</th>\n",
       "      <td>0.000239</td>\n",
       "      <td>0.000137</td>\n",
       "      <td>0.000151</td>\n",
       "      <td>0.000131</td>\n",
       "      <td>0.000197</td>\n",
       "    </tr>\n",
       "  </tbody>\n",
       "</table>\n",
       "</div>"
      ],
      "text/plain": [
       "             C      AAPL      CSCO      YHOO       IBM\n",
       "C     0.001490  0.000300  0.000339  0.000319  0.000239\n",
       "AAPL  0.000300  0.000421  0.000187  0.000176  0.000137\n",
       "CSCO  0.000339  0.000187  0.000354  0.000190  0.000151\n",
       "YHOO  0.000319  0.000176  0.000190  0.000619  0.000131\n",
       "IBM   0.000239  0.000137  0.000151  0.000131  0.000197"
      ]
     },
     "execution_count": 49,
     "metadata": {},
     "output_type": "execute_result"
    }
   ],
   "source": [
    "### COVARIANCE MATRIX\n",
    "\n",
    "rets.cov()"
   ]
  },
  {
   "cell_type": "code",
   "execution_count": 50,
   "metadata": {
    "collapsed": false,
    "slideshow": {
     "slide_type": "fragment"
    }
   },
   "outputs": [
    {
     "data": {
      "text/plain": [
       "array([ 0.61272233,  0.32559883,  0.29876119,  0.39503197,  0.22280442])"
      ]
     },
     "execution_count": 50,
     "metadata": {},
     "output_type": "execute_result"
    }
   ],
   "source": [
    "sqrt(diag(rets.cov())*252.0)"
   ]
  },
  {
   "cell_type": "markdown",
   "metadata": {
    "slideshow": {
     "slide_type": "slide"
    }
   },
   "source": [
    "### Stacking up Data in Panels"
   ]
  },
  {
   "cell_type": "code",
   "execution_count": 51,
   "metadata": {
    "collapsed": false,
    "slideshow": {
     "slide_type": "fragment"
    }
   },
   "outputs": [
    {
     "data": {
      "text/plain": [
       "<class 'pandas.core.panel.Panel'>\n",
       "Dimensions: 5 (items) x 505 (major_axis) x 6 (minor_axis)\n",
       "Items axis: AAPL to YHOO\n",
       "Major_axis axis: 2015-04-01 00:00:00 to 2017-03-31 00:00:00\n",
       "Minor_axis axis: Open to Adj Close"
      ]
     },
     "execution_count": 51,
     "metadata": {},
     "output_type": "execute_result"
    }
   ],
   "source": [
    "from datetime import datetime\n",
    "import pandas_datareader.data as web\n",
    "panel = pd.Panel(dict((stock, web.DataReader(stock,\"yahoo\",datetime(2015,4,1),\n",
    "                                             datetime(2017,3,31))) \n",
    "                      for stock in ['C','AAPL','CSCO','YHOO','IBM']))\n",
    "panel"
   ]
  },
  {
   "cell_type": "code",
   "execution_count": 52,
   "metadata": {
    "collapsed": false,
    "slideshow": {
     "slide_type": "slide"
    }
   },
   "outputs": [
    {
     "data": {
      "text/plain": [
       "<class 'pandas.core.panel.Panel'>\n",
       "Dimensions: 6 (items) x 505 (major_axis) x 5 (minor_axis)\n",
       "Items axis: Open to Adj Close\n",
       "Major_axis axis: 2015-04-01 00:00:00 to 2017-03-31 00:00:00\n",
       "Minor_axis axis: AAPL to YHOO"
      ]
     },
     "execution_count": 52,
     "metadata": {},
     "output_type": "execute_result"
    }
   ],
   "source": [
    "### RE-ARRANGE DIMENSIONS\n",
    "\n",
    "panel = panel.swapaxes('items','minor')\n",
    "panel"
   ]
  },
  {
   "cell_type": "code",
   "execution_count": 53,
   "metadata": {
    "collapsed": false,
    "slideshow": {
     "slide_type": "fragment"
    }
   },
   "outputs": [
    {
     "data": {
      "text/html": [
       "<div>\n",
       "<table border=\"1\" class=\"dataframe\">\n",
       "  <thead>\n",
       "    <tr style=\"text-align: right;\">\n",
       "      <th></th>\n",
       "      <th>AAPL</th>\n",
       "      <th>C</th>\n",
       "      <th>CSCO</th>\n",
       "      <th>IBM</th>\n",
       "      <th>YHOO</th>\n",
       "    </tr>\n",
       "    <tr>\n",
       "      <th>Date</th>\n",
       "      <th></th>\n",
       "      <th></th>\n",
       "      <th></th>\n",
       "      <th></th>\n",
       "      <th></th>\n",
       "    </tr>\n",
       "  </thead>\n",
       "  <tbody>\n",
       "    <tr>\n",
       "      <th>2015-04-01</th>\n",
       "      <td>119.463174</td>\n",
       "      <td>50.862668</td>\n",
       "      <td>25.481584</td>\n",
       "      <td>148.356652</td>\n",
       "      <td>44.130001</td>\n",
       "    </tr>\n",
       "    <tr>\n",
       "      <th>2015-04-02</th>\n",
       "      <td>120.491951</td>\n",
       "      <td>51.099149</td>\n",
       "      <td>25.369371</td>\n",
       "      <td>149.540303</td>\n",
       "      <td>44.150002</td>\n",
       "    </tr>\n",
       "    <tr>\n",
       "      <th>2015-04-06</th>\n",
       "      <td>122.443743</td>\n",
       "      <td>50.862668</td>\n",
       "      <td>25.453531</td>\n",
       "      <td>151.022188</td>\n",
       "      <td>43.669998</td>\n",
       "    </tr>\n",
       "    <tr>\n",
       "      <th>2015-04-07</th>\n",
       "      <td>121.155371</td>\n",
       "      <td>50.764137</td>\n",
       "      <td>25.612498</td>\n",
       "      <td>151.050162</td>\n",
       "      <td>43.610001</td>\n",
       "    </tr>\n",
       "    <tr>\n",
       "      <th>2015-04-08</th>\n",
       "      <td>120.761163</td>\n",
       "      <td>51.128707</td>\n",
       "      <td>25.762115</td>\n",
       "      <td>150.845119</td>\n",
       "      <td>45.169998</td>\n",
       "    </tr>\n",
       "  </tbody>\n",
       "</table>\n",
       "</div>"
      ],
      "text/plain": [
       "                  AAPL          C       CSCO         IBM       YHOO\n",
       "Date                                                               \n",
       "2015-04-01  119.463174  50.862668  25.481584  148.356652  44.130001\n",
       "2015-04-02  120.491951  51.099149  25.369371  149.540303  44.150002\n",
       "2015-04-06  122.443743  50.862668  25.453531  151.022188  43.669998\n",
       "2015-04-07  121.155371  50.764137  25.612498  151.050162  43.610001\n",
       "2015-04-08  120.761163  51.128707  25.762115  150.845119  45.169998"
      ]
     },
     "execution_count": 53,
     "metadata": {},
     "output_type": "execute_result"
    }
   ],
   "source": [
    "panel['Adj Close'].head()"
   ]
  },
  {
   "cell_type": "code",
   "execution_count": 54,
   "metadata": {
    "collapsed": false,
    "slideshow": {
     "slide_type": "slide"
    }
   },
   "outputs": [
    {
     "data": {
      "text/html": [
       "<div>\n",
       "<table border=\"1\" class=\"dataframe\">\n",
       "  <thead>\n",
       "    <tr style=\"text-align: right;\">\n",
       "      <th></th>\n",
       "      <th>Open</th>\n",
       "      <th>High</th>\n",
       "      <th>Low</th>\n",
       "      <th>Close</th>\n",
       "      <th>Volume</th>\n",
       "      <th>Adj Close</th>\n",
       "    </tr>\n",
       "  </thead>\n",
       "  <tbody>\n",
       "    <tr>\n",
       "      <th>AAPL</th>\n",
       "      <td>124.470001</td>\n",
       "      <td>127.510002</td>\n",
       "      <td>124.330002</td>\n",
       "      <td>127.349998</td>\n",
       "      <td>37194000.0</td>\n",
       "      <td>122.443743</td>\n",
       "    </tr>\n",
       "    <tr>\n",
       "      <th>C</th>\n",
       "      <td>51.160000</td>\n",
       "      <td>51.959999</td>\n",
       "      <td>50.980000</td>\n",
       "      <td>51.619999</td>\n",
       "      <td>13250800.0</td>\n",
       "      <td>50.862668</td>\n",
       "    </tr>\n",
       "    <tr>\n",
       "      <th>CSCO</th>\n",
       "      <td>26.959999</td>\n",
       "      <td>27.320000</td>\n",
       "      <td>26.840000</td>\n",
       "      <td>27.219999</td>\n",
       "      <td>20004000.0</td>\n",
       "      <td>25.453531</td>\n",
       "    </tr>\n",
       "    <tr>\n",
       "      <th>IBM</th>\n",
       "      <td>159.690002</td>\n",
       "      <td>162.800003</td>\n",
       "      <td>158.699997</td>\n",
       "      <td>162.039993</td>\n",
       "      <td>3465700.0</td>\n",
       "      <td>151.022188</td>\n",
       "    </tr>\n",
       "    <tr>\n",
       "      <th>YHOO</th>\n",
       "      <td>43.820000</td>\n",
       "      <td>44.029999</td>\n",
       "      <td>43.610001</td>\n",
       "      <td>43.669998</td>\n",
       "      <td>10717000.0</td>\n",
       "      <td>43.669998</td>\n",
       "    </tr>\n",
       "  </tbody>\n",
       "</table>\n",
       "</div>"
      ],
      "text/plain": [
       "            Open        High         Low       Close      Volume   Adj Close\n",
       "AAPL  124.470001  127.510002  124.330002  127.349998  37194000.0  122.443743\n",
       "C      51.160000   51.959999   50.980000   51.619999  13250800.0   50.862668\n",
       "CSCO   26.959999   27.320000   26.840000   27.219999  20004000.0   25.453531\n",
       "IBM   159.690002  162.800003  158.699997  162.039993   3465700.0  151.022188\n",
       "YHOO   43.820000   44.029999   43.610001   43.669998  10717000.0   43.669998"
      ]
     },
     "execution_count": 54,
     "metadata": {},
     "output_type": "execute_result"
    }
   ],
   "source": [
    "### EXTRACT A SINGLE ELEMENT OF THE MIDDLE DIMENSION\n",
    "\n",
    "panel.ix[:,'2015-04-06',:]"
   ]
  },
  {
   "cell_type": "markdown",
   "metadata": {
    "slideshow": {
     "slide_type": "slide"
    }
   },
   "source": [
    "### Reading Data from Files"
   ]
  },
  {
   "cell_type": "code",
   "execution_count": 55,
   "metadata": {
    "collapsed": false,
    "slideshow": {
     "slide_type": "fragment"
    }
   },
   "outputs": [],
   "source": [
    "import pandas as pd\n",
    "data = pd.read_table(\"markowitzdata.txt\")"
   ]
  },
  {
   "cell_type": "code",
   "execution_count": 56,
   "metadata": {
    "collapsed": false,
    "slideshow": {
     "slide_type": "fragment"
    }
   },
   "outputs": [
    {
     "data": {
      "text/html": [
       "<div>\n",
       "<table border=\"1\" class=\"dataframe\">\n",
       "  <thead>\n",
       "    <tr style=\"text-align: right;\">\n",
       "      <th></th>\n",
       "      <th>DATE</th>\n",
       "      <th>SUNW</th>\n",
       "      <th>MSFT</th>\n",
       "      <th>IBM</th>\n",
       "      <th>CSCO</th>\n",
       "      <th>AMZN</th>\n",
       "      <th>mktrf</th>\n",
       "      <th>smb</th>\n",
       "      <th>hml</th>\n",
       "      <th>rf</th>\n",
       "    </tr>\n",
       "  </thead>\n",
       "  <tbody>\n",
       "    <tr>\n",
       "      <th>0</th>\n",
       "      <td>20010102</td>\n",
       "      <td>-0.087444</td>\n",
       "      <td>0.000000</td>\n",
       "      <td>-0.002206</td>\n",
       "      <td>-0.129085</td>\n",
       "      <td>-0.108434</td>\n",
       "      <td>-0.0345</td>\n",
       "      <td>-0.0037</td>\n",
       "      <td>0.0209</td>\n",
       "      <td>0.00026</td>\n",
       "    </tr>\n",
       "    <tr>\n",
       "      <th>1</th>\n",
       "      <td>20010103</td>\n",
       "      <td>0.297297</td>\n",
       "      <td>0.105187</td>\n",
       "      <td>0.115696</td>\n",
       "      <td>0.240150</td>\n",
       "      <td>0.265766</td>\n",
       "      <td>0.0527</td>\n",
       "      <td>0.0097</td>\n",
       "      <td>-0.0493</td>\n",
       "      <td>0.00026</td>\n",
       "    </tr>\n",
       "    <tr>\n",
       "      <th>2</th>\n",
       "      <td>20010104</td>\n",
       "      <td>-0.060606</td>\n",
       "      <td>0.010430</td>\n",
       "      <td>-0.015192</td>\n",
       "      <td>0.013616</td>\n",
       "      <td>-0.117438</td>\n",
       "      <td>-0.0121</td>\n",
       "      <td>0.0083</td>\n",
       "      <td>-0.0015</td>\n",
       "      <td>0.00026</td>\n",
       "    </tr>\n",
       "    <tr>\n",
       "      <th>3</th>\n",
       "      <td>20010105</td>\n",
       "      <td>-0.096774</td>\n",
       "      <td>0.014194</td>\n",
       "      <td>0.008719</td>\n",
       "      <td>-0.125373</td>\n",
       "      <td>-0.060484</td>\n",
       "      <td>-0.0291</td>\n",
       "      <td>0.0027</td>\n",
       "      <td>0.0242</td>\n",
       "      <td>0.00026</td>\n",
       "    </tr>\n",
       "    <tr>\n",
       "      <th>4</th>\n",
       "      <td>20010108</td>\n",
       "      <td>0.006696</td>\n",
       "      <td>-0.003817</td>\n",
       "      <td>-0.004654</td>\n",
       "      <td>-0.002133</td>\n",
       "      <td>0.025751</td>\n",
       "      <td>-0.0037</td>\n",
       "      <td>-0.0053</td>\n",
       "      <td>0.0129</td>\n",
       "      <td>0.00026</td>\n",
       "    </tr>\n",
       "  </tbody>\n",
       "</table>\n",
       "</div>"
      ],
      "text/plain": [
       "       DATE      SUNW      MSFT       IBM      CSCO      AMZN   mktrf     smb  \\\n",
       "0  20010102 -0.087444  0.000000 -0.002206 -0.129085 -0.108434 -0.0345 -0.0037   \n",
       "1  20010103  0.297297  0.105187  0.115696  0.240150  0.265766  0.0527  0.0097   \n",
       "2  20010104 -0.060606  0.010430 -0.015192  0.013616 -0.117438 -0.0121  0.0083   \n",
       "3  20010105 -0.096774  0.014194  0.008719 -0.125373 -0.060484 -0.0291  0.0027   \n",
       "4  20010108  0.006696 -0.003817 -0.004654 -0.002133  0.025751 -0.0037 -0.0053   \n",
       "\n",
       "      hml       rf  \n",
       "0  0.0209  0.00026  \n",
       "1 -0.0493  0.00026  \n",
       "2 -0.0015  0.00026  \n",
       "3  0.0242  0.00026  \n",
       "4  0.0129  0.00026  "
      ]
     },
     "execution_count": 56,
     "metadata": {},
     "output_type": "execute_result"
    }
   ],
   "source": [
    "data.head()"
   ]
  },
  {
   "cell_type": "code",
   "execution_count": 57,
   "metadata": {
    "collapsed": false,
    "slideshow": {
     "slide_type": "slide"
    }
   },
   "outputs": [],
   "source": [
    "### ANOTHER EXAMPLE\n",
    "\n",
    "gdata = pd.read_csv(\"goog.csv\")"
   ]
  },
  {
   "cell_type": "code",
   "execution_count": 58,
   "metadata": {
    "collapsed": false,
    "slideshow": {
     "slide_type": "fragment"
    }
   },
   "outputs": [
    {
     "data": {
      "text/html": [
       "<div>\n",
       "<table border=\"1\" class=\"dataframe\">\n",
       "  <thead>\n",
       "    <tr style=\"text-align: right;\">\n",
       "      <th></th>\n",
       "      <th>Date</th>\n",
       "      <th>Open</th>\n",
       "      <th>High</th>\n",
       "      <th>Low</th>\n",
       "      <th>Close</th>\n",
       "      <th>Volume</th>\n",
       "      <th>Adj Close</th>\n",
       "    </tr>\n",
       "  </thead>\n",
       "  <tbody>\n",
       "    <tr>\n",
       "      <th>0</th>\n",
       "      <td>2011-04-06</td>\n",
       "      <td>572.18</td>\n",
       "      <td>575.16</td>\n",
       "      <td>568.00</td>\n",
       "      <td>574.18</td>\n",
       "      <td>2668300</td>\n",
       "      <td>574.18</td>\n",
       "    </tr>\n",
       "    <tr>\n",
       "      <th>1</th>\n",
       "      <td>2011-04-05</td>\n",
       "      <td>581.08</td>\n",
       "      <td>581.49</td>\n",
       "      <td>565.68</td>\n",
       "      <td>569.09</td>\n",
       "      <td>6047500</td>\n",
       "      <td>569.09</td>\n",
       "    </tr>\n",
       "    <tr>\n",
       "      <th>2</th>\n",
       "      <td>2011-04-04</td>\n",
       "      <td>593.00</td>\n",
       "      <td>594.74</td>\n",
       "      <td>583.10</td>\n",
       "      <td>587.68</td>\n",
       "      <td>2054500</td>\n",
       "      <td>587.68</td>\n",
       "    </tr>\n",
       "    <tr>\n",
       "      <th>3</th>\n",
       "      <td>2011-04-01</td>\n",
       "      <td>588.76</td>\n",
       "      <td>595.19</td>\n",
       "      <td>588.76</td>\n",
       "      <td>591.80</td>\n",
       "      <td>2613200</td>\n",
       "      <td>591.80</td>\n",
       "    </tr>\n",
       "    <tr>\n",
       "      <th>4</th>\n",
       "      <td>2011-03-31</td>\n",
       "      <td>583.00</td>\n",
       "      <td>588.16</td>\n",
       "      <td>581.74</td>\n",
       "      <td>586.76</td>\n",
       "      <td>2029400</td>\n",
       "      <td>586.76</td>\n",
       "    </tr>\n",
       "  </tbody>\n",
       "</table>\n",
       "</div>"
      ],
      "text/plain": [
       "         Date    Open    High     Low   Close   Volume  Adj Close\n",
       "0  2011-04-06  572.18  575.16  568.00  574.18  2668300     574.18\n",
       "1  2011-04-05  581.08  581.49  565.68  569.09  6047500     569.09\n",
       "2  2011-04-04  593.00  594.74  583.10  587.68  2054500     587.68\n",
       "3  2011-04-01  588.76  595.19  588.76  591.80  2613200     591.80\n",
       "4  2011-03-31  583.00  588.16  581.74  586.76  2029400     586.76"
      ]
     },
     "execution_count": 58,
     "metadata": {},
     "output_type": "execute_result"
    }
   ],
   "source": [
    "gdata.head()"
   ]
  },
  {
   "cell_type": "code",
   "execution_count": 59,
   "metadata": {
    "collapsed": false,
    "slideshow": {
     "slide_type": "slide"
    }
   },
   "outputs": [
    {
     "data": {
      "image/png": "[encoded data removed]",
      "text/plain": [
       "<matplotlib.figure.Figure at 0x1277ebc50>"
      ]
     },
     "metadata": {},
     "output_type": "display_data"
    }
   ],
   "source": [
    "### HOW IS STOCK RETURN RELATED TO THAT OF THE MARKET?\n",
    "\n",
    "scatter(data[\"mktrf\"],data[\"IBM\"])\n",
    "xlabel(\"Market return\")\n",
    "ylabel(\"IBM return\")\n",
    "grid(True)"
   ]
  },
  {
   "cell_type": "code",
   "execution_count": 60,
   "metadata": {
    "collapsed": false,
    "slideshow": {
     "slide_type": "slide"
    }
   },
   "outputs": [
    {
     "name": "stdout",
     "output_type": "stream",
     "text": [
      "Intercept =  0.00011890050765\n",
      "slope (beta) =  1.10915240511\n"
     ]
    }
   ],
   "source": [
    "### RUN A REGRESSION AND EXTRACT THE COEFFICIENTS\n",
    "\n",
    "from scipy import stats\n",
    "y = data[\"IBM\"]\n",
    "x = data[\"mktrf\"]\n",
    "b, a, r_value, p_value, std_err = stats.linregress(x,y)\n",
    "print(\"Intercept = \",a)\n",
    "print(\"slope (beta) = \",b)"
   ]
  },
  {
   "cell_type": "markdown",
   "metadata": {
    "slideshow": {
     "slide_type": "slide"
    }
   },
   "source": [
    "### Bringing it all together"
   ]
  },
  {
   "cell_type": "code",
   "execution_count": 61,
   "metadata": {
    "collapsed": false,
    "slideshow": {
     "slide_type": "fragment"
    }
   },
   "outputs": [
    {
     "data": {
      "text/html": [
       "<div>\n",
       "<table border=\"1\" class=\"dataframe\">\n",
       "  <thead>\n",
       "    <tr style=\"text-align: right;\">\n",
       "      <th></th>\n",
       "      <th>Open</th>\n",
       "      <th>High</th>\n",
       "      <th>Low</th>\n",
       "      <th>Close</th>\n",
       "      <th>Volume</th>\n",
       "    </tr>\n",
       "    <tr>\n",
       "      <th>Date</th>\n",
       "      <th></th>\n",
       "      <th></th>\n",
       "      <th></th>\n",
       "      <th></th>\n",
       "      <th></th>\n",
       "    </tr>\n",
       "  </thead>\n",
       "  <tbody>\n",
       "    <tr>\n",
       "      <th>2015-01-02</th>\n",
       "      <td>111.39</td>\n",
       "      <td>111.44</td>\n",
       "      <td>107.35</td>\n",
       "      <td>109.33</td>\n",
       "      <td>53204626</td>\n",
       "    </tr>\n",
       "    <tr>\n",
       "      <th>2015-01-05</th>\n",
       "      <td>108.29</td>\n",
       "      <td>108.65</td>\n",
       "      <td>105.41</td>\n",
       "      <td>106.25</td>\n",
       "      <td>64285491</td>\n",
       "    </tr>\n",
       "    <tr>\n",
       "      <th>2015-01-06</th>\n",
       "      <td>106.54</td>\n",
       "      <td>107.43</td>\n",
       "      <td>104.63</td>\n",
       "      <td>106.26</td>\n",
       "      <td>65797116</td>\n",
       "    </tr>\n",
       "    <tr>\n",
       "      <th>2015-01-07</th>\n",
       "      <td>107.20</td>\n",
       "      <td>108.20</td>\n",
       "      <td>106.70</td>\n",
       "      <td>107.75</td>\n",
       "      <td>40105934</td>\n",
       "    </tr>\n",
       "    <tr>\n",
       "      <th>2015-01-08</th>\n",
       "      <td>109.23</td>\n",
       "      <td>112.15</td>\n",
       "      <td>108.70</td>\n",
       "      <td>111.89</td>\n",
       "      <td>59364547</td>\n",
       "    </tr>\n",
       "  </tbody>\n",
       "</table>\n",
       "</div>"
      ],
      "text/plain": [
       "              Open    High     Low   Close    Volume\n",
       "Date                                                \n",
       "2015-01-02  111.39  111.44  107.35  109.33  53204626\n",
       "2015-01-05  108.29  108.65  105.41  106.25  64285491\n",
       "2015-01-06  106.54  107.43  104.63  106.26  65797116\n",
       "2015-01-07  107.20  108.20  106.70  107.75  40105934\n",
       "2015-01-08  109.23  112.15  108.70  111.89  59364547"
      ]
     },
     "execution_count": 61,
     "metadata": {},
     "output_type": "execute_result"
    }
   ],
   "source": [
    "import pandas as pd\n",
    "import pandas_datareader.data as web\n",
    "aapl = web.DataReader('AAPL',data_source='google',\n",
    "                      start='1/1/2015',end='4/1/2017')\n",
    "aapl.head()"
   ]
  },
  {
   "cell_type": "code",
   "execution_count": 62,
   "metadata": {
    "collapsed": false,
    "slideshow": {
     "slide_type": "fragment"
    }
   },
   "outputs": [
    {
     "data": {
      "text/html": [
       "<div>\n",
       "<table border=\"1\" class=\"dataframe\">\n",
       "  <thead>\n",
       "    <tr style=\"text-align: right;\">\n",
       "      <th></th>\n",
       "      <th>Open</th>\n",
       "      <th>High</th>\n",
       "      <th>Low</th>\n",
       "      <th>Close</th>\n",
       "      <th>Volume</th>\n",
       "    </tr>\n",
       "    <tr>\n",
       "      <th>Date</th>\n",
       "      <th></th>\n",
       "      <th></th>\n",
       "      <th></th>\n",
       "      <th></th>\n",
       "      <th></th>\n",
       "    </tr>\n",
       "  </thead>\n",
       "  <tbody>\n",
       "    <tr>\n",
       "      <th>2017-03-27</th>\n",
       "      <td>139.39</td>\n",
       "      <td>141.22</td>\n",
       "      <td>138.62</td>\n",
       "      <td>140.88</td>\n",
       "      <td>23575094</td>\n",
       "    </tr>\n",
       "    <tr>\n",
       "      <th>2017-03-28</th>\n",
       "      <td>140.91</td>\n",
       "      <td>144.04</td>\n",
       "      <td>140.62</td>\n",
       "      <td>143.80</td>\n",
       "      <td>33374805</td>\n",
       "    </tr>\n",
       "    <tr>\n",
       "      <th>2017-03-29</th>\n",
       "      <td>143.68</td>\n",
       "      <td>144.49</td>\n",
       "      <td>143.19</td>\n",
       "      <td>144.12</td>\n",
       "      <td>29189955</td>\n",
       "    </tr>\n",
       "    <tr>\n",
       "      <th>2017-03-30</th>\n",
       "      <td>144.19</td>\n",
       "      <td>144.50</td>\n",
       "      <td>143.50</td>\n",
       "      <td>143.93</td>\n",
       "      <td>21207252</td>\n",
       "    </tr>\n",
       "    <tr>\n",
       "      <th>2017-03-31</th>\n",
       "      <td>143.72</td>\n",
       "      <td>144.27</td>\n",
       "      <td>143.01</td>\n",
       "      <td>143.66</td>\n",
       "      <td>19661651</td>\n",
       "    </tr>\n",
       "  </tbody>\n",
       "</table>\n",
       "</div>"
      ],
      "text/plain": [
       "              Open    High     Low   Close    Volume\n",
       "Date                                                \n",
       "2017-03-27  139.39  141.22  138.62  140.88  23575094\n",
       "2017-03-28  140.91  144.04  140.62  143.80  33374805\n",
       "2017-03-29  143.68  144.49  143.19  144.12  29189955\n",
       "2017-03-30  144.19  144.50  143.50  143.93  21207252\n",
       "2017-03-31  143.72  144.27  143.01  143.66  19661651"
      ]
     },
     "execution_count": 62,
     "metadata": {},
     "output_type": "execute_result"
    }
   ],
   "source": [
    "aapl.tail()"
   ]
  },
  {
   "cell_type": "markdown",
   "metadata": {
    "slideshow": {
     "slide_type": "slide"
    }
   },
   "source": [
    "### Returns and Volatility"
   ]
  },
  {
   "cell_type": "code",
   "execution_count": 63,
   "metadata": {
    "collapsed": false,
    "slideshow": {
     "slide_type": "fragment"
    }
   },
   "outputs": [
    {
     "data": {
      "text/html": [
       "<div>\n",
       "<table border=\"1\" class=\"dataframe\">\n",
       "  <thead>\n",
       "    <tr style=\"text-align: right;\">\n",
       "      <th></th>\n",
       "      <th>Open</th>\n",
       "      <th>High</th>\n",
       "      <th>Low</th>\n",
       "      <th>Close</th>\n",
       "      <th>Volume</th>\n",
       "      <th>cont_ret</th>\n",
       "    </tr>\n",
       "    <tr>\n",
       "      <th>Date</th>\n",
       "      <th></th>\n",
       "      <th></th>\n",
       "      <th></th>\n",
       "      <th></th>\n",
       "      <th></th>\n",
       "      <th></th>\n",
       "    </tr>\n",
       "  </thead>\n",
       "  <tbody>\n",
       "    <tr>\n",
       "      <th>2015-01-02</th>\n",
       "      <td>111.39</td>\n",
       "      <td>111.44</td>\n",
       "      <td>107.35</td>\n",
       "      <td>109.33</td>\n",
       "      <td>53204626</td>\n",
       "      <td>NaN</td>\n",
       "    </tr>\n",
       "    <tr>\n",
       "      <th>2015-01-05</th>\n",
       "      <td>108.29</td>\n",
       "      <td>108.65</td>\n",
       "      <td>105.41</td>\n",
       "      <td>106.25</td>\n",
       "      <td>64285491</td>\n",
       "      <td>-0.028576</td>\n",
       "    </tr>\n",
       "    <tr>\n",
       "      <th>2015-01-06</th>\n",
       "      <td>106.54</td>\n",
       "      <td>107.43</td>\n",
       "      <td>104.63</td>\n",
       "      <td>106.26</td>\n",
       "      <td>65797116</td>\n",
       "      <td>0.000094</td>\n",
       "    </tr>\n",
       "    <tr>\n",
       "      <th>2015-01-07</th>\n",
       "      <td>107.20</td>\n",
       "      <td>108.20</td>\n",
       "      <td>106.70</td>\n",
       "      <td>107.75</td>\n",
       "      <td>40105934</td>\n",
       "      <td>0.013925</td>\n",
       "    </tr>\n",
       "    <tr>\n",
       "      <th>2015-01-08</th>\n",
       "      <td>109.23</td>\n",
       "      <td>112.15</td>\n",
       "      <td>108.70</td>\n",
       "      <td>111.89</td>\n",
       "      <td>59364547</td>\n",
       "      <td>0.037703</td>\n",
       "    </tr>\n",
       "  </tbody>\n",
       "</table>\n",
       "</div>"
      ],
      "text/plain": [
       "              Open    High     Low   Close    Volume  cont_ret\n",
       "Date                                                          \n",
       "2015-01-02  111.39  111.44  107.35  109.33  53204626       NaN\n",
       "2015-01-05  108.29  108.65  105.41  106.25  64285491 -0.028576\n",
       "2015-01-06  106.54  107.43  104.63  106.26  65797116  0.000094\n",
       "2015-01-07  107.20  108.20  106.70  107.75  40105934  0.013925\n",
       "2015-01-08  109.23  112.15  108.70  111.89  59364547  0.037703"
      ]
     },
     "execution_count": 63,
     "metadata": {},
     "output_type": "execute_result"
    }
   ],
   "source": [
    "aapl['cont_ret'] = log(aapl['Close']/aapl['Close'].shift(1))\n",
    "aapl.head()"
   ]
  },
  {
   "cell_type": "code",
   "execution_count": 64,
   "metadata": {
    "collapsed": false,
    "slideshow": {
     "slide_type": "fragment"
    }
   },
   "outputs": [
    {
     "data": {
      "text/html": [
       "<div>\n",
       "<table border=\"1\" class=\"dataframe\">\n",
       "  <thead>\n",
       "    <tr style=\"text-align: right;\">\n",
       "      <th></th>\n",
       "      <th>Open</th>\n",
       "      <th>High</th>\n",
       "      <th>Low</th>\n",
       "      <th>Close</th>\n",
       "      <th>Volume</th>\n",
       "      <th>cont_ret</th>\n",
       "      <th>Vols</th>\n",
       "    </tr>\n",
       "    <tr>\n",
       "      <th>Date</th>\n",
       "      <th></th>\n",
       "      <th></th>\n",
       "      <th></th>\n",
       "      <th></th>\n",
       "      <th></th>\n",
       "      <th></th>\n",
       "      <th></th>\n",
       "    </tr>\n",
       "  </thead>\n",
       "  <tbody>\n",
       "    <tr>\n",
       "      <th>2017-03-27</th>\n",
       "      <td>139.39</td>\n",
       "      <td>141.22</td>\n",
       "      <td>138.62</td>\n",
       "      <td>140.88</td>\n",
       "      <td>23575094</td>\n",
       "      <td>0.001705</td>\n",
       "      <td>0.131607</td>\n",
       "    </tr>\n",
       "    <tr>\n",
       "      <th>2017-03-28</th>\n",
       "      <td>140.91</td>\n",
       "      <td>144.04</td>\n",
       "      <td>140.62</td>\n",
       "      <td>143.80</td>\n",
       "      <td>33374805</td>\n",
       "      <td>0.020515</td>\n",
       "      <td>0.160824</td>\n",
       "    </tr>\n",
       "    <tr>\n",
       "      <th>2017-03-29</th>\n",
       "      <td>143.68</td>\n",
       "      <td>144.49</td>\n",
       "      <td>143.19</td>\n",
       "      <td>144.12</td>\n",
       "      <td>29189955</td>\n",
       "      <td>0.002223</td>\n",
       "      <td>0.153433</td>\n",
       "    </tr>\n",
       "    <tr>\n",
       "      <th>2017-03-30</th>\n",
       "      <td>144.19</td>\n",
       "      <td>144.50</td>\n",
       "      <td>143.50</td>\n",
       "      <td>143.93</td>\n",
       "      <td>21207252</td>\n",
       "      <td>-0.001319</td>\n",
       "      <td>0.147444</td>\n",
       "    </tr>\n",
       "    <tr>\n",
       "      <th>2017-03-31</th>\n",
       "      <td>143.72</td>\n",
       "      <td>144.27</td>\n",
       "      <td>143.01</td>\n",
       "      <td>143.66</td>\n",
       "      <td>19661651</td>\n",
       "      <td>-0.001878</td>\n",
       "      <td>0.147150</td>\n",
       "    </tr>\n",
       "  </tbody>\n",
       "</table>\n",
       "</div>"
      ],
      "text/plain": [
       "              Open    High     Low   Close    Volume  cont_ret      Vols\n",
       "Date                                                                    \n",
       "2017-03-27  139.39  141.22  138.62  140.88  23575094  0.001705  0.131607\n",
       "2017-03-28  140.91  144.04  140.62  143.80  33374805  0.020515  0.160824\n",
       "2017-03-29  143.68  144.49  143.19  144.12  29189955  0.002223  0.153433\n",
       "2017-03-30  144.19  144.50  143.50  143.93  21207252 -0.001319  0.147444\n",
       "2017-03-31  143.72  144.27  143.01  143.66  19661651 -0.001878  0.147150"
      ]
     },
     "execution_count": 64,
     "metadata": {},
     "output_type": "execute_result"
    }
   ],
   "source": [
    "aapl['Vols'] = pd.Series.rolling(aapl['cont_ret'],window=5).std()*sqrt(252.0)\n",
    "\n",
    "aapl.tail()"
   ]
  },
  {
   "cell_type": "code",
   "execution_count": 65,
   "metadata": {
    "collapsed": false,
    "slideshow": {
     "slide_type": "slide"
    }
   },
   "outputs": [
    {
     "data": {
      "text/html": [
       "<div>\n",
       "<table border=\"1\" class=\"dataframe\">\n",
       "  <thead>\n",
       "    <tr style=\"text-align: right;\">\n",
       "      <th></th>\n",
       "      <th>Open</th>\n",
       "      <th>High</th>\n",
       "      <th>Low</th>\n",
       "      <th>Close</th>\n",
       "      <th>Volume</th>\n",
       "      <th>cont_ret</th>\n",
       "      <th>Vols</th>\n",
       "    </tr>\n",
       "    <tr>\n",
       "      <th>Date</th>\n",
       "      <th></th>\n",
       "      <th></th>\n",
       "      <th></th>\n",
       "      <th></th>\n",
       "      <th></th>\n",
       "      <th></th>\n",
       "      <th></th>\n",
       "    </tr>\n",
       "  </thead>\n",
       "  <tbody>\n",
       "    <tr>\n",
       "      <th>2015-01-02</th>\n",
       "      <td>111.39</td>\n",
       "      <td>111.44</td>\n",
       "      <td>107.35</td>\n",
       "      <td>109.33</td>\n",
       "      <td>53204626</td>\n",
       "      <td>NaN</td>\n",
       "      <td>NaN</td>\n",
       "    </tr>\n",
       "    <tr>\n",
       "      <th>2015-01-05</th>\n",
       "      <td>108.29</td>\n",
       "      <td>108.65</td>\n",
       "      <td>105.41</td>\n",
       "      <td>106.25</td>\n",
       "      <td>64285491</td>\n",
       "      <td>-0.028576</td>\n",
       "      <td>NaN</td>\n",
       "    </tr>\n",
       "    <tr>\n",
       "      <th>2015-01-06</th>\n",
       "      <td>106.54</td>\n",
       "      <td>107.43</td>\n",
       "      <td>104.63</td>\n",
       "      <td>106.26</td>\n",
       "      <td>65797116</td>\n",
       "      <td>0.000094</td>\n",
       "      <td>NaN</td>\n",
       "    </tr>\n",
       "    <tr>\n",
       "      <th>2015-01-07</th>\n",
       "      <td>107.20</td>\n",
       "      <td>108.20</td>\n",
       "      <td>106.70</td>\n",
       "      <td>107.75</td>\n",
       "      <td>40105934</td>\n",
       "      <td>0.013925</td>\n",
       "      <td>NaN</td>\n",
       "    </tr>\n",
       "    <tr>\n",
       "      <th>2015-01-08</th>\n",
       "      <td>109.23</td>\n",
       "      <td>112.15</td>\n",
       "      <td>108.70</td>\n",
       "      <td>111.89</td>\n",
       "      <td>59364547</td>\n",
       "      <td>0.037703</td>\n",
       "      <td>NaN</td>\n",
       "    </tr>\n",
       "    <tr>\n",
       "      <th>2015-01-09</th>\n",
       "      <td>112.67</td>\n",
       "      <td>113.25</td>\n",
       "      <td>110.21</td>\n",
       "      <td>112.01</td>\n",
       "      <td>53699527</td>\n",
       "      <td>0.001072</td>\n",
       "      <td>0.381965</td>\n",
       "    </tr>\n",
       "    <tr>\n",
       "      <th>2015-01-12</th>\n",
       "      <td>112.60</td>\n",
       "      <td>112.63</td>\n",
       "      <td>108.80</td>\n",
       "      <td>109.25</td>\n",
       "      <td>49650790</td>\n",
       "      <td>-0.024949</td>\n",
       "      <td>0.362338</td>\n",
       "    </tr>\n",
       "    <tr>\n",
       "      <th>2015-01-13</th>\n",
       "      <td>111.43</td>\n",
       "      <td>112.80</td>\n",
       "      <td>108.91</td>\n",
       "      <td>110.22</td>\n",
       "      <td>67091928</td>\n",
       "      <td>0.008840</td>\n",
       "      <td>0.359320</td>\n",
       "    </tr>\n",
       "    <tr>\n",
       "      <th>2015-01-14</th>\n",
       "      <td>109.04</td>\n",
       "      <td>110.49</td>\n",
       "      <td>108.50</td>\n",
       "      <td>109.80</td>\n",
       "      <td>48956588</td>\n",
       "      <td>-0.003818</td>\n",
       "      <td>0.360841</td>\n",
       "    </tr>\n",
       "    <tr>\n",
       "      <th>2015-01-15</th>\n",
       "      <td>110.00</td>\n",
       "      <td>110.06</td>\n",
       "      <td>106.66</td>\n",
       "      <td>106.82</td>\n",
       "      <td>60013996</td>\n",
       "      <td>-0.027515</td>\n",
       "      <td>0.256383</td>\n",
       "    </tr>\n",
       "  </tbody>\n",
       "</table>\n",
       "</div>"
      ],
      "text/plain": [
       "              Open    High     Low   Close    Volume  cont_ret      Vols\n",
       "Date                                                                    \n",
       "2015-01-02  111.39  111.44  107.35  109.33  53204626       NaN       NaN\n",
       "2015-01-05  108.29  108.65  105.41  106.25  64285491 -0.028576       NaN\n",
       "2015-01-06  106.54  107.43  104.63  106.26  65797116  0.000094       NaN\n",
       "2015-01-07  107.20  108.20  106.70  107.75  40105934  0.013925       NaN\n",
       "2015-01-08  109.23  112.15  108.70  111.89  59364547  0.037703       NaN\n",
       "2015-01-09  112.67  113.25  110.21  112.01  53699527  0.001072  0.381965\n",
       "2015-01-12  112.60  112.63  108.80  109.25  49650790 -0.024949  0.362338\n",
       "2015-01-13  111.43  112.80  108.91  110.22  67091928  0.008840  0.359320\n",
       "2015-01-14  109.04  110.49  108.50  109.80  48956588 -0.003818  0.360841\n",
       "2015-01-15  110.00  110.06  106.66  106.82  60013996 -0.027515  0.256383"
      ]
     },
     "execution_count": 65,
     "metadata": {},
     "output_type": "execute_result"
    }
   ],
   "source": [
    "### Note that you will lose a decent number of observations\n",
    "\n",
    "aapl.head(10)"
   ]
  },
  {
   "cell_type": "code",
   "execution_count": 66,
   "metadata": {
    "collapsed": false,
    "slideshow": {
     "slide_type": "slide"
    }
   },
   "outputs": [
    {
     "name": "stderr",
     "output_type": "stream",
     "text": [
      "/Users/srdas/anaconda/lib/python3.5/site-packages/numpy/lib/function_base.py:3834: RuntimeWarning: Invalid value encountered in percentile\n",
      "  RuntimeWarning)\n"
     ]
    },
    {
     "data": {
      "text/html": [
       "<div>\n",
       "<table border=\"1\" class=\"dataframe\">\n",
       "  <thead>\n",
       "    <tr style=\"text-align: right;\">\n",
       "      <th></th>\n",
       "      <th>Open</th>\n",
       "      <th>High</th>\n",
       "      <th>Low</th>\n",
       "      <th>Close</th>\n",
       "      <th>Volume</th>\n",
       "      <th>cont_ret</th>\n",
       "      <th>Vols</th>\n",
       "    </tr>\n",
       "  </thead>\n",
       "  <tbody>\n",
       "    <tr>\n",
       "      <th>count</th>\n",
       "      <td>566.000000</td>\n",
       "      <td>566.000000</td>\n",
       "      <td>566.000000</td>\n",
       "      <td>566.000000</td>\n",
       "      <td>5.660000e+02</td>\n",
       "      <td>565.000000</td>\n",
       "      <td>561.000000</td>\n",
       "    </tr>\n",
       "    <tr>\n",
       "      <th>mean</th>\n",
       "      <td>114.417650</td>\n",
       "      <td>115.397032</td>\n",
       "      <td>113.421042</td>\n",
       "      <td>114.446007</td>\n",
       "      <td>4.301440e+07</td>\n",
       "      <td>0.000483</td>\n",
       "      <td>0.209851</td>\n",
       "    </tr>\n",
       "    <tr>\n",
       "      <th>std</th>\n",
       "      <td>12.291043</td>\n",
       "      <td>12.239712</td>\n",
       "      <td>12.324195</td>\n",
       "      <td>12.293870</td>\n",
       "      <td>2.032240e+07</td>\n",
       "      <td>0.015288</td>\n",
       "      <td>0.125528</td>\n",
       "    </tr>\n",
       "    <tr>\n",
       "      <th>min</th>\n",
       "      <td>90.000000</td>\n",
       "      <td>91.670000</td>\n",
       "      <td>89.470000</td>\n",
       "      <td>90.340000</td>\n",
       "      <td>1.147592e+07</td>\n",
       "      <td>-0.067965</td>\n",
       "      <td>0.022045</td>\n",
       "    </tr>\n",
       "    <tr>\n",
       "      <th>25%</th>\n",
       "      <td>106.625000</td>\n",
       "      <td>107.597500</td>\n",
       "      <td>105.432500</td>\n",
       "      <td>106.107500</td>\n",
       "      <td>2.881442e+07</td>\n",
       "      <td>NaN</td>\n",
       "      <td>NaN</td>\n",
       "    </tr>\n",
       "    <tr>\n",
       "      <th>50%</th>\n",
       "      <td>113.695000</td>\n",
       "      <td>114.670000</td>\n",
       "      <td>112.575000</td>\n",
       "      <td>113.635000</td>\n",
       "      <td>3.761890e+07</td>\n",
       "      <td>NaN</td>\n",
       "      <td>NaN</td>\n",
       "    </tr>\n",
       "    <tr>\n",
       "      <th>75%</th>\n",
       "      <td>124.807500</td>\n",
       "      <td>125.755000</td>\n",
       "      <td>123.672500</td>\n",
       "      <td>124.695000</td>\n",
       "      <td>5.101719e+07</td>\n",
       "      <td>NaN</td>\n",
       "      <td>NaN</td>\n",
       "    </tr>\n",
       "    <tr>\n",
       "      <th>max</th>\n",
       "      <td>144.190000</td>\n",
       "      <td>144.500000</td>\n",
       "      <td>143.500000</td>\n",
       "      <td>144.120000</td>\n",
       "      <td>1.614542e+08</td>\n",
       "      <td>0.062940</td>\n",
       "      <td>0.736485</td>\n",
       "    </tr>\n",
       "  </tbody>\n",
       "</table>\n",
       "</div>"
      ],
      "text/plain": [
       "             Open        High         Low       Close        Volume  \\\n",
       "count  566.000000  566.000000  566.000000  566.000000  5.660000e+02   \n",
       "mean   114.417650  115.397032  113.421042  114.446007  4.301440e+07   \n",
       "std     12.291043   12.239712   12.324195   12.293870  2.032240e+07   \n",
       "min     90.000000   91.670000   89.470000   90.340000  1.147592e+07   \n",
       "25%    106.625000  107.597500  105.432500  106.107500  2.881442e+07   \n",
       "50%    113.695000  114.670000  112.575000  113.635000  3.761890e+07   \n",
       "75%    124.807500  125.755000  123.672500  124.695000  5.101719e+07   \n",
       "max    144.190000  144.500000  143.500000  144.120000  1.614542e+08   \n",
       "\n",
       "         cont_ret        Vols  \n",
       "count  565.000000  561.000000  \n",
       "mean     0.000483    0.209851  \n",
       "std      0.015288    0.125528  \n",
       "min     -0.067965    0.022045  \n",
       "25%           NaN         NaN  \n",
       "50%           NaN         NaN  \n",
       "75%           NaN         NaN  \n",
       "max      0.062940    0.736485  "
      ]
     },
     "execution_count": 66,
     "metadata": {},
     "output_type": "execute_result"
    }
   ],
   "source": [
    "### SUMMARY STATS WORKS DESPITE MISSING VALUES\n",
    "\n",
    "aapl.describe()"
   ]
  },
  {
   "cell_type": "code",
   "execution_count": 67,
   "metadata": {
    "collapsed": false,
    "slideshow": {
     "slide_type": "slide"
    }
   },
   "outputs": [
    {
     "data": {
      "text/plain": [
       "array([<matplotlib.axes._subplots.AxesSubplot object at 0x12839ee80>,\n",
       "       <matplotlib.axes._subplots.AxesSubplot object at 0x11b62fb00>], dtype=object)"
      ]
     },
     "execution_count": 67,
     "metadata": {},
     "output_type": "execute_result"
    },
    {
     "data": {
      "image/png": "[encoded data removed]",
      "text/plain": [
       "<matplotlib.figure.Figure at 0x12839e9b0>"
      ]
     },
     "metadata": {},
     "output_type": "display_data"
    }
   ],
   "source": [
    "### PLOT PRICES AND VOLATILITIES\n",
    "\n",
    "aapl[['Close','Vols']].plot(subplots=True,\n",
    "                            color=('blue','red'),figsize=(8,6))"
   ]
  },
  {
   "cell_type": "markdown",
   "metadata": {
    "slideshow": {
     "slide_type": "slide"
    }
   },
   "source": [
    "### Diversification of a Portfolio\n",
    "\n",
    "It is useful to examine the power of using vector algebra with an application. Here we use vector and summation math to understand how diversification in stock portfolios works. Diversification occurs when we increase the number of non-perfectly correlated stocks in a portfolio, thereby reducing portfolio variance. In order to compute the variance of the portfolio we need to use the portfolio weights ${\\bf w}$ and the covariance matrix of stock returns ${\\bf R}$, denoted ${\\bf \\Sigma}$. We first write down the formula for a portfolio's return variance: \n",
    "\n",
    "\\begin{equation}\n",
    "Var({\\bf w'R}) = {\\bf w'\\Sigma w} = \\sum_{i=1}^n {\\bf w_i^2 \\sigma_i^2}\n",
    "+ \\sum_{i=1}^n \\sum_{j=1,i \\neq j}^n {\\bf w_i w_j \\sigma_{ij}}\n",
    "\\end{equation}\n",
    "\n",
    "Readers are strongly encouraged to implement this by hand for $n=2$ to convince themselves that the vector form of the expression for variance ${\\bf w'\\Sigma w}$ is the same thing as the long form on the right-hand side of the equation above. "
   ]
  },
  {
   "cell_type": "markdown",
   "metadata": {
    "slideshow": {
     "slide_type": "slide"
    }
   },
   "source": [
    "### Independent Returns\n",
    "\n",
    "If returns are independent, then the formula collapses to: \n",
    "\n",
    "\\begin{equation}\n",
    "Var(\\bf{w'R}) = \\bf{w'\\Sigma w} = \\sum_{i=1}^n {\\bf w_i^2 \\sigma_i^2}\n",
    "\\end{equation}"
   ]
  },
  {
   "cell_type": "markdown",
   "metadata": {
    "slideshow": {
     "slide_type": "slide"
    }
   },
   "source": [
    "### Correlated returns\n",
    "\n",
    "If returns are dependent, and equal amounts are invested in\n",
    "each asset ($w_i=1/n,\\;\\;\\forall i$):\n",
    "\n",
    "\\begin{eqnarray*}\n",
    "Var(\\bf{w'R}) &=&  \\frac{1}{n}\\sum_{i=1}^n \\frac{\\sigma_i^2}{n}\n",
    "+ \\frac{n-1}{n}\\sum_{i=1}^n \\sum_{j=1,i \\neq j}^n  \\frac{\\sigma_{ij}}{n(n-1)}\\\\\n",
    "&=& \\frac{1}{n} \\bar{\\sigma_i}^2 + \\frac{n-1}{n} \\bar{\\sigma_{ij}}\\\\\n",
    "&=& \\frac{1}{n} \\bar{\\sigma_i}^2 + \\left(1 - \\frac{1}{n} \\right) \\bar{\\sigma_{ij}}\n",
    "\\end{eqnarray*}"
   ]
  },
  {
   "cell_type": "markdown",
   "metadata": {
    "slideshow": {
     "slide_type": "slide"
    }
   },
   "source": [
    "### In the limit\n",
    "\n",
    "The first term is the average variance, denoted $\\bar{\\sigma_1}^2$ divided by $n$, and the second is the average covariance, denoted $\\bar{\\sigma_{ij}}$ multiplied by factor $(n-1)/n$. As $n \\rightarrow \\infty$,\n",
    "\n",
    "\\begin{equation}\n",
    "Var({\\bf w'R}) = \\bar{\\sigma_{ij}}\n",
    "\\end{equation}\n",
    "\n",
    "This produces the remarkable result that in a well diversified portfolio, the variances of each stock's return does not matter at all for portfolio risk! Further the risk of the portfolio, i.e., its variance, is nothing but the average of off-diagonal terms in the covariance matrix. "
   ]
  },
  {
   "cell_type": "markdown",
   "metadata": {
    "slideshow": {
     "slide_type": "slide"
    }
   },
   "source": [
    "### Insight from Diversification Math"
   ]
  },
  {
   "cell_type": "code",
   "execution_count": 68,
   "metadata": {
    "collapsed": false,
    "slideshow": {
     "slide_type": "fragment"
    }
   },
   "outputs": [],
   "source": [
    "sd=0.20; cv=0.01; m=100\n",
    "n = range(1,m+1) \n",
    "sd_p = zeros(m)\n",
    "for j in n:\n",
    "    cv_mat = matrix(ones((j,j))*cv)\n",
    "    fill_diagonal(cv_mat,sd**2)\n",
    "    w = matrix(ones(j)*(1.0/j)).T\n",
    "    sd_p[j-1] = sqrt((w.T).dot(cv_mat).dot(w))"
   ]
  },
  {
   "cell_type": "code",
   "execution_count": 69,
   "metadata": {
    "collapsed": false,
    "slideshow": {
     "slide_type": "fragment"
    }
   },
   "outputs": [
    {
     "data": {
      "image/png": "[encoded data removed]",
      "text/plain": [
       "<matplotlib.figure.Figure at 0x11b40b470>"
      ]
     },
     "metadata": {},
     "output_type": "display_data"
    }
   ],
   "source": [
    "plot(n,sd_p)\n",
    "xlabel('#stocks')\n",
    "ylabel('stddev of portfolio')\n",
    "grid()"
   ]
  },
  {
   "cell_type": "markdown",
   "metadata": {
    "slideshow": {
     "slide_type": "slide"
    }
   },
   "source": [
    "### Arithmetic vs Geometric mean returns"
   ]
  },
  {
   "cell_type": "markdown",
   "metadata": {
    "slideshow": {
     "slide_type": "fragment"
    }
   },
   "source": [
    "The geometric mean is a good indicator of past performance, especially when we are interested in holding period returns. But if we are interested in expected future returns, the arithmetic mean is the relevant statistic.\n",
    "\n",
    "Suppose a stock will rise by 30% or fall by 20% with equal probability. If it did one each in consecutive years then the geometric mean return is:"
   ]
  },
  {
   "cell_type": "code",
   "execution_count": 70,
   "metadata": {
    "collapsed": false,
    "slideshow": {
     "slide_type": "fragment"
    }
   },
   "outputs": [
    {
     "name": "stdout",
     "output_type": "stream",
     "text": [
      "Geometric mean return =  0.01980390271855703\n"
     ]
    }
   ],
   "source": [
    "g_ret = ((1+0.30)*(1-0.20))**0.5-1\n",
    "print(\"Geometric mean return = \", g_ret)"
   ]
  },
  {
   "cell_type": "code",
   "execution_count": 71,
   "metadata": {
    "collapsed": false,
    "slideshow": {
     "slide_type": "fragment"
    }
   },
   "outputs": [
    {
     "name": "stdout",
     "output_type": "stream",
     "text": [
      "Arithmetic mean return per year =  0.04999999999999999\n"
     ]
    }
   ],
   "source": [
    "a_ret = 0.5*(0.30+(-0.20))\n",
    "print(\"Arithmetic mean return per year = \",a_ret)"
   ]
  },
  {
   "cell_type": "markdown",
   "metadata": {
    "slideshow": {
     "slide_type": "slide"
    }
   },
   "source": [
    "### Which one should you use?\n",
    "\n",
    "Which one is more realistic in predicting future expected returns over the next two years? Note that there are 4 cases to consider for outcomes, all with equal probability $1/4$. "
   ]
  },
  {
   "cell_type": "code",
   "execution_count": 72,
   "metadata": {
    "collapsed": false,
    "slideshow": {
     "slide_type": "fragment"
    }
   },
   "outputs": [
    {
     "name": "stdout",
     "output_type": "stream",
     "text": [
      "Expected two year return =  0.1025\n",
      "Expected two year return (annualized) =  0.05\n"
     ]
    }
   ],
   "source": [
    "ret = zeros(4)\n",
    "ret[0] = (1+0.3)*(1+0.3)\n",
    "ret[1] = (1+0.3)*(1-0.2)\n",
    "ret[2] = (1-0.2)*(1+0.3)\n",
    "ret[3] = (1-0.2)*(1-0.2)\n",
    "two_year_return = 0.25*sum(ret)\n",
    "print(\"Expected two year return = \", two_year_return-1)\n",
    "print(\"Expected two year return (annualized) = \", two_year_return**0.5-1)"
   ]
  }
 ],
 "metadata": {
  "anaconda-cloud": {},
  "celltoolbar": "Slideshow",
  "kernelspec": {
   "display_name": "Python 3",
   "language": "python",
   "name": "python3"
  },
  "language_info": {
   "codemirror_mode": {
    "name": "ipython",
    "version": 3
   },
   "file_extension": ".py",
   "mimetype": "text/x-python",
   "name": "python",
   "nbconvert_exporter": "python",
   "pygments_lexer": "ipython3",
   "version": "3.6.0"
  }
 },
 "nbformat": 4,
 "nbformat_minor": 0
}
