{
 "cells": [
  {
   "cell_type": "markdown",
   "metadata": {
    "slideshow": {
     "slide_type": "slide"
    }
   },
   "source": [
    "### Using Python (and R) for Finance \n",
    "\n",
    "**Sanjiv R Das**"
   ]
  },
  {
   "cell_type": "markdown",
   "metadata": {},
   "source": [
    "It turns out that Python has become the de facto language for most of FinTech, and I believe it is necessary--indeed critical--for students to get some exposure to it. As an analogy, Python is as essential to FinTech as Excel is to Accounting. There are several cases in FinTech where analysis will require more than Excel. Such as:\n",
    "\n",
    "- Programming the blockchain. \n",
    "- Extracting data for portfolio management. \n",
    "- Portfolio optimization.\n",
    "- Robo-advising.\n",
    "- Text mining for asset management. \n",
    "- Automated credit analysis using Machine Learning. \n",
    "- Crowd-sourcing trading algorithms. \n",
    "- Applying AI to financial problems. \n",
    "\n",
    "And much more. \n",
    "\n",
    "- https://stxnext.com/blog/2017/09/19/why-python-should-be-technology-choice-your-fintech/\n",
    "- https://www.cleveroad.com/blog/see-why-python-is-the-best-programming-language-for-fintech-software"
   ]
  },
  {
   "cell_type": "markdown",
   "metadata": {
    "slideshow": {
     "slide_type": "slide"
    }
   },
   "source": [
    "### Installing Python\n",
    "\n",
    "In this notebook we will get started with using Python for financial computation. You first need to download and install IPython which is an entire system for interactive use of Python. Luckily, this is easily done by visiting the following URL and downloading the version applicable to your machine (Python runs on all platforms). \n",
    "\n",
    "Visit Continuum Analytics and download Python: http://continuum.io/downloads and install it. Test that it works by using the Launcher (which will be on your desktop) to start up the IPython Notebook. Use the latest version of Python. \n",
    "\n",
    "\n",
    "\n",
    "Particularly useful are linear algebra capabilities in Python and R. In Python the package numPy makes these facile. Also useful are graphical libraries, and in Python, these comes in the matplotlib package. "
   ]
  },
  {
   "cell_type": "code",
   "execution_count": 1,
   "metadata": {
    "slideshow": {
     "slide_type": "fragment"
    }
   },
   "outputs": [
    {
     "name": "stdout",
     "output_type": "stream",
     "text": [
      "Populating the interactive namespace from numpy and matplotlib\n"
     ]
    }
   ],
   "source": [
    "#Invoke numPy and matplotlib in one command\n",
    "#This is needed to bring all the math libraries into memory for immediate use.\n",
    "%pylab inline\n",
    "import pandas as pd"
   ]
  },
  {
   "cell_type": "markdown",
   "metadata": {
    "slideshow": {
     "slide_type": "slide"
    }
   },
   "source": [
    "### Using R\n",
    "\n",
    "*Not essential*:  \n",
    "You may also install the R programming language, which is a very useful tool for Machine Learning. \n",
    "See: http://en.wikipedia.org/wiki/Machine_learning\n",
    "Get R from: http://www.r-project.org/ (download and install it). \n",
    "\n",
    "In order to allow Python to interface with R, you also need to install the \"rpy2\" package from: http://rpy.sourceforge.net/\n",
    "While you do not need to use R, and can get by mostly with Python, it is also a useful language as there are heaps of finance packages in R. As you will see, we can run both within the IPython Notebook. (Indeed, these lecture notes have been prepared in the Notebook.)\n",
    "\n",
    "If you want to use R in IDE mode, download RStudio: http://www.rstudio.com/"
   ]
  },
  {
   "cell_type": "code",
   "execution_count": 3,
   "metadata": {
    "slideshow": {
     "slide_type": "slide"
    }
   },
   "outputs": [
    {
     "name": "stdout",
     "output_type": "stream",
     "text": [
      "Date\n",
      "2015-04-01    539.590576\n",
      "2015-04-02    532.599060\n",
      "2015-04-06    533.827332\n",
      "2015-04-07    534.080933\n",
      "2015-04-08    538.645813\n",
      "Name: Adj Close, dtype: float64\n"
     ]
    }
   ],
   "source": [
    "#IMPORTING STOCK DATA USING THE PANDAS MODULE\n",
    "#Install the pandas_datareader module using \"pip install pandas-datareader\"\n",
    "#See: https://github.com/pydata/pandas-datareader\n",
    "\n",
    "from datetime import datetime\n",
    "import pandas_datareader.data as web\n",
    "goog = web.DataReader(\"GOOG\",  \"yahoo\", datetime(2015,4,1), datetime(2017,3,31))\n",
    "#web.get_data_yahoo('GOOG')\n",
    "\n",
    "stkp = goog[\"Adj Close\"]\n",
    "print(stkp.head())"
   ]
  },
  {
   "cell_type": "code",
   "execution_count": 4,
   "metadata": {
    "slideshow": {
     "slide_type": "slide"
    }
   },
   "outputs": [
    {
     "data": {
      "text/html": [
       "<div>\n",
       "<style scoped>\n",
       "    .dataframe tbody tr th:only-of-type {\n",
       "        vertical-align: middle;\n",
       "    }\n",
       "\n",
       "    .dataframe tbody tr th {\n",
       "        vertical-align: top;\n",
       "    }\n",
       "\n",
       "    .dataframe thead th {\n",
       "        text-align: right;\n",
       "    }\n",
       "</style>\n",
       "<table border=\"1\" class=\"dataframe\">\n",
       "  <thead>\n",
       "    <tr style=\"text-align: right;\">\n",
       "      <th></th>\n",
       "      <th>Open</th>\n",
       "      <th>High</th>\n",
       "      <th>Low</th>\n",
       "      <th>Close</th>\n",
       "      <th>Adj Close</th>\n",
       "      <th>Volume</th>\n",
       "    </tr>\n",
       "    <tr>\n",
       "      <th>Date</th>\n",
       "      <th></th>\n",
       "      <th></th>\n",
       "      <th></th>\n",
       "      <th></th>\n",
       "      <th></th>\n",
       "      <th></th>\n",
       "    </tr>\n",
       "  </thead>\n",
       "  <tbody>\n",
       "    <tr>\n",
       "      <th>2015-04-01</th>\n",
       "      <td>545.597534</td>\n",
       "      <td>548.123657</td>\n",
       "      <td>536.547363</td>\n",
       "      <td>539.590576</td>\n",
       "      <td>539.590576</td>\n",
       "      <td>1952900</td>\n",
       "    </tr>\n",
       "    <tr>\n",
       "      <th>2015-04-02</th>\n",
       "      <td>537.889954</td>\n",
       "      <td>537.889954</td>\n",
       "      <td>530.925293</td>\n",
       "      <td>532.599060</td>\n",
       "      <td>532.599060</td>\n",
       "      <td>1716400</td>\n",
       "    </tr>\n",
       "    <tr>\n",
       "      <th>2015-04-06</th>\n",
       "      <td>529.307190</td>\n",
       "      <td>535.463318</td>\n",
       "      <td>526.671692</td>\n",
       "      <td>533.827332</td>\n",
       "      <td>533.827332</td>\n",
       "      <td>1324400</td>\n",
       "    </tr>\n",
       "    <tr>\n",
       "      <th>2015-04-07</th>\n",
       "      <td>535.135132</td>\n",
       "      <td>539.719910</td>\n",
       "      <td>533.066528</td>\n",
       "      <td>534.080933</td>\n",
       "      <td>534.080933</td>\n",
       "      <td>1302900</td>\n",
       "    </tr>\n",
       "    <tr>\n",
       "      <th>2015-04-08</th>\n",
       "      <td>535.433472</td>\n",
       "      <td>540.873535</td>\n",
       "      <td>535.433472</td>\n",
       "      <td>538.645813</td>\n",
       "      <td>538.645813</td>\n",
       "      <td>1178500</td>\n",
       "    </tr>\n",
       "  </tbody>\n",
       "</table>\n",
       "</div>"
      ],
      "text/plain": [
       "                  Open        High         Low       Close   Adj Close  \\\n",
       "Date                                                                     \n",
       "2015-04-01  545.597534  548.123657  536.547363  539.590576  539.590576   \n",
       "2015-04-02  537.889954  537.889954  530.925293  532.599060  532.599060   \n",
       "2015-04-06  529.307190  535.463318  526.671692  533.827332  533.827332   \n",
       "2015-04-07  535.135132  539.719910  533.066528  534.080933  534.080933   \n",
       "2015-04-08  535.433472  540.873535  535.433472  538.645813  538.645813   \n",
       "\n",
       "             Volume  \n",
       "Date                 \n",
       "2015-04-01  1952900  \n",
       "2015-04-02  1716400  \n",
       "2015-04-06  1324400  \n",
       "2015-04-07  1302900  \n",
       "2015-04-08  1178500  "
      ]
     },
     "execution_count": 4,
     "metadata": {},
     "output_type": "execute_result"
    }
   ],
   "source": [
    "### Display the top of the data frame. \n",
    "\n",
    "goog.head()"
   ]
  },
  {
   "cell_type": "code",
   "execution_count": 5,
   "metadata": {
    "slideshow": {
     "slide_type": "slide"
    }
   },
   "outputs": [
    {
     "data": {
      "text/plain": [
       "DatetimeIndex(['2015-04-01', '2015-04-02', '2015-04-06', '2015-04-07',\n",
       "               '2015-04-08', '2015-04-09', '2015-04-10', '2015-04-13',\n",
       "               '2015-04-14', '2015-04-15',\n",
       "               ...\n",
       "               '2017-03-20', '2017-03-21', '2017-03-22', '2017-03-23',\n",
       "               '2017-03-24', '2017-03-27', '2017-03-28', '2017-03-29',\n",
       "               '2017-03-30', '2017-03-31'],\n",
       "              dtype='datetime64[ns]', name='Date', length=505, freq=None)"
      ]
     },
     "execution_count": 5,
     "metadata": {},
     "output_type": "execute_result"
    }
   ],
   "source": [
    "### Diaplay row names, i.e., dates. \n",
    "\n",
    "goog.index"
   ]
  },
  {
   "cell_type": "code",
   "execution_count": 6,
   "metadata": {
    "slideshow": {
     "slide_type": "slide"
    }
   },
   "outputs": [
    {
     "data": {
      "image/png": "[encoded data removed]",
      "text/plain": [
       "<matplotlib.figure.Figure at 0x7f8d8627f588>"
      ]
     },
     "metadata": {},
     "output_type": "display_data"
    }
   ],
   "source": [
    "##PLOT THE STOCK PRICE OVER TIME\n",
    "rcParams['figure.figsize'] = 15,5\n",
    "\n",
    "t = goog.index\n",
    "plot(t,stkp)\n",
    "xlabel(\"Date\")\n",
    "ylabel(\"Stock Price\")\n",
    "grid()"
   ]
  },
  {
   "cell_type": "code",
   "execution_count": 7,
   "metadata": {
    "slideshow": {
     "slide_type": "slide"
    }
   },
   "outputs": [
    {
     "name": "stdout",
     "output_type": "stream",
     "text": [
      "0\n",
      "1\n",
      "2\n"
     ]
    }
   ],
   "source": [
    "### Range is an array, not a matrix\n",
    "\n",
    "for j in range(3):\n",
    "    print(j)"
   ]
  },
  {
   "cell_type": "code",
   "execution_count": 8,
   "metadata": {
    "slideshow": {
     "slide_type": "slide"
    }
   },
   "outputs": [
    {
     "name": "stdout",
     "output_type": "stream",
     "text": [
      "504\n"
     ]
    },
    {
     "data": {
      "text/plain": [
       "<matplotlib.text.Text at 0x7f8d7d48a390>"
      ]
     },
     "execution_count": 8,
     "metadata": {},
     "output_type": "execute_result"
    },
    {
     "data": {
      "image/png": "[encoded data removed]",
      "text/plain": [
       "<matplotlib.figure.Figure at 0x7f8d86b217f0>"
      ]
     },
     "metadata": {},
     "output_type": "display_data"
    }
   ],
   "source": [
    "### PLOT RETURNS (contunuously compounded)\n",
    "\n",
    "n = len(t)-1\n",
    "print(n)\n",
    "rets = zeros(n)\n",
    "for j in range(n):\n",
    "    rets[j] = log(stkp[j+1]/stkp[j])\n",
    "plot(rets)\n",
    "ylabel(\"Returns\")"
   ]
  },
  {
   "cell_type": "code",
   "execution_count": 9,
   "metadata": {
    "slideshow": {
     "slide_type": "slide"
    }
   },
   "outputs": [
    {
     "data": {
      "image/png": "[encoded data removed]",
      "text/plain": [
       "<matplotlib.figure.Figure at 0x7f8d861560f0>"
      ]
     },
     "metadata": {},
     "output_type": "display_data"
    }
   ],
   "source": [
    "### Examine the distribution of returns visually using a histogram.\n",
    "\n",
    "hist(rets,50)\n",
    "grid()"
   ]
  },
  {
   "cell_type": "code",
   "execution_count": 10,
   "metadata": {
    "slideshow": {
     "slide_type": "slide"
    }
   },
   "outputs": [
    {
     "data": {
      "text/html": [
       "<div>\n",
       "<style scoped>\n",
       "    .dataframe tbody tr th:only-of-type {\n",
       "        vertical-align: middle;\n",
       "    }\n",
       "\n",
       "    .dataframe tbody tr th {\n",
       "        vertical-align: top;\n",
       "    }\n",
       "\n",
       "    .dataframe thead th {\n",
       "        text-align: right;\n",
       "    }\n",
       "</style>\n",
       "<table border=\"1\" class=\"dataframe\">\n",
       "  <thead>\n",
       "    <tr style=\"text-align: right;\">\n",
       "      <th></th>\n",
       "      <th>Open</th>\n",
       "      <th>High</th>\n",
       "      <th>Low</th>\n",
       "      <th>Close</th>\n",
       "      <th>Adj Close</th>\n",
       "      <th>Volume</th>\n",
       "    </tr>\n",
       "  </thead>\n",
       "  <tbody>\n",
       "    <tr>\n",
       "      <th>count</th>\n",
       "      <td>505.000000</td>\n",
       "      <td>505.000000</td>\n",
       "      <td>505.000000</td>\n",
       "      <td>505.000000</td>\n",
       "      <td>505.000000</td>\n",
       "      <td>5.050000e+02</td>\n",
       "    </tr>\n",
       "    <tr>\n",
       "      <th>mean</th>\n",
       "      <td>707.437575</td>\n",
       "      <td>712.887824</td>\n",
       "      <td>701.447833</td>\n",
       "      <td>707.344376</td>\n",
       "      <td>707.344376</td>\n",
       "      <td>1.889149e+06</td>\n",
       "    </tr>\n",
       "    <tr>\n",
       "      <th>std</th>\n",
       "      <td>90.115218</td>\n",
       "      <td>90.041037</td>\n",
       "      <td>90.148388</td>\n",
       "      <td>90.134753</td>\n",
       "      <td>90.134753</td>\n",
       "      <td>1.005591e+06</td>\n",
       "    </tr>\n",
       "    <tr>\n",
       "      <th>min</th>\n",
       "      <td>519.500000</td>\n",
       "      <td>522.734009</td>\n",
       "      <td>515.179993</td>\n",
       "      <td>516.830017</td>\n",
       "      <td>516.830017</td>\n",
       "      <td>5.272000e+05</td>\n",
       "    </tr>\n",
       "    <tr>\n",
       "      <th>25%</th>\n",
       "      <td>654.150024</td>\n",
       "      <td>659.854980</td>\n",
       "      <td>644.010010</td>\n",
       "      <td>651.159973</td>\n",
       "      <td>651.159973</td>\n",
       "      <td>1.302900e+06</td>\n",
       "    </tr>\n",
       "    <tr>\n",
       "      <th>50%</th>\n",
       "      <td>729.169983</td>\n",
       "      <td>734.710022</td>\n",
       "      <td>721.900024</td>\n",
       "      <td>728.580017</td>\n",
       "      <td>728.580017</td>\n",
       "      <td>1.632700e+06</td>\n",
       "    </tr>\n",
       "    <tr>\n",
       "      <th>75%</th>\n",
       "      <td>773.780029</td>\n",
       "      <td>778.710022</td>\n",
       "      <td>768.530029</td>\n",
       "      <td>772.559998</td>\n",
       "      <td>772.559998</td>\n",
       "      <td>2.134100e+06</td>\n",
       "    </tr>\n",
       "    <tr>\n",
       "      <th>max</th>\n",
       "      <td>851.609985</td>\n",
       "      <td>853.500000</td>\n",
       "      <td>847.109985</td>\n",
       "      <td>852.119995</td>\n",
       "      <td>852.119995</td>\n",
       "      <td>1.116490e+07</td>\n",
       "    </tr>\n",
       "  </tbody>\n",
       "</table>\n",
       "</div>"
      ],
      "text/plain": [
       "             Open        High         Low       Close   Adj Close  \\\n",
       "count  505.000000  505.000000  505.000000  505.000000  505.000000   \n",
       "mean   707.437575  712.887824  701.447833  707.344376  707.344376   \n",
       "std     90.115218   90.041037   90.148388   90.134753   90.134753   \n",
       "min    519.500000  522.734009  515.179993  516.830017  516.830017   \n",
       "25%    654.150024  659.854980  644.010010  651.159973  651.159973   \n",
       "50%    729.169983  734.710022  721.900024  728.580017  728.580017   \n",
       "75%    773.780029  778.710022  768.530029  772.559998  772.559998   \n",
       "max    851.609985  853.500000  847.109985  852.119995  852.119995   \n",
       "\n",
       "             Volume  \n",
       "count  5.050000e+02  \n",
       "mean   1.889149e+06  \n",
       "std    1.005591e+06  \n",
       "min    5.272000e+05  \n",
       "25%    1.302900e+06  \n",
       "50%    1.632700e+06  \n",
       "75%    2.134100e+06  \n",
       "max    1.116490e+07  "
      ]
     },
     "execution_count": 10,
     "metadata": {},
     "output_type": "execute_result"
    }
   ],
   "source": [
    "### Summary Statistics\n",
    "\n",
    "goog.describe()"
   ]
  },
  {
   "cell_type": "code",
   "execution_count": 11,
   "metadata": {
    "slideshow": {
     "slide_type": "slide"
    }
   },
   "outputs": [
    {
     "name": "stdout",
     "output_type": "stream",
     "text": [
      "Skewness =  2.034116828881684\n",
      "Kurtosis =  20.6770262811951\n",
      "Kurtosis for standard normal =  -0.005321846922111906\n"
     ]
    }
   ],
   "source": [
    "### Calculate the Higher-Order Moments\n",
    "\n",
    "import scipy.stats as ss\n",
    "print(\"Skewness = \",ss.skew(rets))\n",
    "print(\"Kurtosis = \",ss.kurtosis(rets))\n",
    "\n",
    "#CHECK IF THIS IS EXCESS KURTOSIS or PLAIN KURTOSIS\n",
    "x = randn(1000000)\n",
    "print(\"Kurtosis for standard normal = \",ss.kurtosis(x))"
   ]
  },
  {
   "cell_type": "markdown",
   "metadata": {
    "slideshow": {
     "slide_type": "slide"
    }
   },
   "source": [
    "### Sharing variables between Python and R"
   ]
  },
  {
   "cell_type": "code",
   "execution_count": 12,
   "metadata": {
    "collapsed": true,
    "slideshow": {
     "slide_type": "fragment"
    }
   },
   "outputs": [],
   "source": [
    "#SENDING DATA VARIABLES TO R\n",
    "%load_ext rpy2.ipython\n",
    "#THIS ALLOWS US TO USE R INSIDE THE NOTEBOOK"
   ]
  },
  {
   "cell_type": "code",
   "execution_count": 13,
   "metadata": {
    "collapsed": true,
    "slideshow": {
     "slide_type": "fragment"
    }
   },
   "outputs": [],
   "source": [
    "#SENDS DATA FROM PYTHON TO R\n",
    "%Rpush stkp       "
   ]
  },
  {
   "cell_type": "code",
   "execution_count": 14,
   "metadata": {
    "slideshow": {
     "slide_type": "slide"
    }
   },
   "outputs": [
    {
     "data": {
      "image/png": "[encoded data removed]"
     },
     "metadata": {},
     "output_type": "display_data"
    }
   ],
   "source": [
    "### Using R inside the Python notebook\n",
    "\n",
    "#PREFIX NEEDED TO CALL R INSTEAD OF PYTHON\n",
    "%R plot(stkp,type=\"l\",col=\"red\",lwd=2)   "
   ]
  },
  {
   "cell_type": "code",
   "execution_count": 15,
   "metadata": {
    "slideshow": {
     "slide_type": "slide"
    }
   },
   "outputs": [
    {
     "data": {
      "text/plain": [
       "[<matplotlib.lines.Line2D at 0x7f8d6d4da160>]"
      ]
     },
     "execution_count": 15,
     "metadata": {},
     "output_type": "execute_result"
    },
    {
     "data": {
      "image/png": "[encoded data removed]",
      "text/plain": [
       "<matplotlib.figure.Figure at 0x7f8d70130f98>"
      ]
     },
     "metadata": {},
     "output_type": "display_data"
    }
   ],
   "source": [
    "#GETTING DATA BACK FROM R TO PYTHON\n",
    "\n",
    "%R ret = diff(log(stkp))\n",
    "#GET DATA BACK FROM R TO PYTHON\n",
    "ret = %Rget ret   \n",
    "plot(ret)"
   ]
  },
  {
   "cell_type": "code",
   "execution_count": 16,
   "metadata": {
    "slideshow": {
     "slide_type": "slide"
    }
   },
   "outputs": [
    {
     "data": {
      "text/plain": [
       "      Min.    1st Qu.     Median       Mean    3rd Qu.       Max. \n",
       "-0.0546448 -0.0050991  0.0004559  0.0008533  0.0071083  0.1488719 \n"
      ]
     },
     "metadata": {},
     "output_type": "display_data"
    },
    {
     "data": {
      "image/png": "[encoded data removed]"
     },
     "metadata": {},
     "output_type": "display_data"
    }
   ],
   "source": [
    "### Examine the data in the R namespace\n",
    "\n",
    "%R print(summary(ret))\n",
    "%R plot(ret,type=\"l\",col=\"red\")"
   ]
  },
  {
   "cell_type": "markdown",
   "metadata": {
    "slideshow": {
     "slide_type": "slide"
    }
   },
   "source": [
    "### Getting stock data from R into Python"
   ]
  },
  {
   "cell_type": "code",
   "execution_count": 20,
   "metadata": {
    "slideshow": {
     "slide_type": "fragment"
    }
   },
   "outputs": [
    {
     "data": {
      "text/plain": [
       "[1] \"C\"    \"AAPL\" \"CSCO\" \"MSFT\" \"IBM\" \n"
      ]
     },
     "metadata": {},
     "output_type": "display_data"
    }
   ],
   "source": [
    "%%R\n",
    "library(quantmod)\n",
    "getSymbols(c(\"C\",\"AAPL\",\"CSCO\",\"MSFT\",\"IBM\"))"
   ]
  },
  {
   "cell_type": "code",
   "execution_count": 24,
   "metadata": {
    "slideshow": {
     "slide_type": "slide"
    }
   },
   "outputs": [],
   "source": [
    "%%R \n",
    "### The entire code block is R\n",
    "\n",
    "citi = as.matrix(C$C.Adjusted)\n",
    "aapl = as.matrix(AAPL$AAPL.Adjusted)\n",
    "csco = as.matrix(CSCO$CSCO.Adjusted)\n",
    "msft = as.matrix(MSFT$MSFT.Adjusted)\n",
    "ibm = as.matrix(IBM$IBM.Adjusted)"
   ]
  },
  {
   "cell_type": "code",
   "execution_count": 25,
   "metadata": {
    "slideshow": {
     "slide_type": "fragment"
    }
   },
   "outputs": [
    {
     "data": {
      "text/plain": [
       "           C.Adjusted AAPL.Adjusted CSCO.Adjusted MSFT.Adjusted IBM.Adjusted\n",
       "2007-01-03   484.6483      10.73159      22.74110      22.96563     75.42905\n",
       "2007-01-04   482.9817      10.96978      23.33976      22.92717     76.23550\n",
       "2007-01-05   480.4378      10.89166      23.34796      22.79642     75.54537\n",
       "2007-01-08   482.8940      10.94545      23.47917      23.01947     76.69302\n",
       "2007-01-09   478.6835      11.85469      23.34796      23.04254     77.60034\n",
       "2007-01-10   474.8238      12.42201      23.52018      22.81180     76.68530\n"
      ]
     },
     "metadata": {},
     "output_type": "display_data"
    }
   ],
   "source": [
    "%%R \n",
    "stkdata = data.frame(cbind(citi,aapl,csco,msft,ibm))\n",
    "rn = rownames(stkdata)\n",
    "head(stkdata)"
   ]
  },
  {
   "cell_type": "code",
   "execution_count": 26,
   "metadata": {
    "slideshow": {
     "slide_type": "slide"
    }
   },
   "outputs": [],
   "source": [
    "### Now bring this data frame from R back into Python\n",
    "\n",
    "stkdata = %Rget stkdata\n",
    "rn = %Rget rn"
   ]
  },
  {
   "cell_type": "code",
   "execution_count": 27,
   "metadata": {
    "slideshow": {
     "slide_type": "fragment"
    }
   },
   "outputs": [
    {
     "data": {
      "text/html": [
       "<div>\n",
       "<style scoped>\n",
       "    .dataframe tbody tr th:only-of-type {\n",
       "        vertical-align: middle;\n",
       "    }\n",
       "\n",
       "    .dataframe tbody tr th {\n",
       "        vertical-align: top;\n",
       "    }\n",
       "\n",
       "    .dataframe thead th {\n",
       "        text-align: right;\n",
       "    }\n",
       "</style>\n",
       "<table border=\"1\" class=\"dataframe\">\n",
       "  <thead>\n",
       "    <tr style=\"text-align: right;\">\n",
       "      <th></th>\n",
       "      <th>C.Adjusted</th>\n",
       "      <th>AAPL.Adjusted</th>\n",
       "      <th>CSCO.Adjusted</th>\n",
       "      <th>MSFT.Adjusted</th>\n",
       "      <th>IBM.Adjusted</th>\n",
       "    </tr>\n",
       "  </thead>\n",
       "  <tbody>\n",
       "    <tr>\n",
       "      <th>2007-01-03</th>\n",
       "      <td>484.648285</td>\n",
       "      <td>10.731588</td>\n",
       "      <td>22.741095</td>\n",
       "      <td>22.965631</td>\n",
       "      <td>75.429054</td>\n",
       "    </tr>\n",
       "    <tr>\n",
       "      <th>2007-01-04</th>\n",
       "      <td>482.981689</td>\n",
       "      <td>10.969785</td>\n",
       "      <td>23.339764</td>\n",
       "      <td>22.927172</td>\n",
       "      <td>76.235504</td>\n",
       "    </tr>\n",
       "    <tr>\n",
       "      <th>2007-01-05</th>\n",
       "      <td>480.437775</td>\n",
       "      <td>10.891665</td>\n",
       "      <td>23.347965</td>\n",
       "      <td>22.796421</td>\n",
       "      <td>75.545372</td>\n",
       "    </tr>\n",
       "    <tr>\n",
       "      <th>2007-01-08</th>\n",
       "      <td>482.894012</td>\n",
       "      <td>10.945451</td>\n",
       "      <td>23.479174</td>\n",
       "      <td>23.019470</td>\n",
       "      <td>76.693024</td>\n",
       "    </tr>\n",
       "    <tr>\n",
       "      <th>2007-01-09</th>\n",
       "      <td>478.683502</td>\n",
       "      <td>11.854692</td>\n",
       "      <td>23.347965</td>\n",
       "      <td>23.042538</td>\n",
       "      <td>77.600342</td>\n",
       "    </tr>\n",
       "  </tbody>\n",
       "</table>\n",
       "</div>"
      ],
      "text/plain": [
       "            C.Adjusted  AAPL.Adjusted  CSCO.Adjusted  MSFT.Adjusted  \\\n",
       "2007-01-03  484.648285      10.731588      22.741095      22.965631   \n",
       "2007-01-04  482.981689      10.969785      23.339764      22.927172   \n",
       "2007-01-05  480.437775      10.891665      23.347965      22.796421   \n",
       "2007-01-08  482.894012      10.945451      23.479174      23.019470   \n",
       "2007-01-09  478.683502      11.854692      23.347965      23.042538   \n",
       "\n",
       "            IBM.Adjusted  \n",
       "2007-01-03     75.429054  \n",
       "2007-01-04     76.235504  \n",
       "2007-01-05     75.545372  \n",
       "2007-01-08     76.693024  \n",
       "2007-01-09     77.600342  "
      ]
     },
     "execution_count": 27,
     "metadata": {},
     "output_type": "execute_result"
    }
   ],
   "source": [
    "stkdata.head()"
   ]
  },
  {
   "cell_type": "code",
   "execution_count": 28,
   "metadata": {
    "slideshow": {
     "slide_type": "fragment"
    }
   },
   "outputs": [
    {
     "data": {
      "text/plain": [
       "array(['2007-01-03', '2007-01-04', '2007-01-05', ..., '2018-01-19',\n",
       "       '2018-01-22', '2018-01-23'], dtype='<U10')"
      ]
     },
     "execution_count": 28,
     "metadata": {},
     "output_type": "execute_result"
    }
   ],
   "source": [
    "rn"
   ]
  },
  {
   "cell_type": "markdown",
   "metadata": {
    "slideshow": {
     "slide_type": "slide"
    }
   },
   "source": [
    "### Pandas is Awesome\n",
    "\n",
    "This is a useful book to have: \n",
    "http://www3.canisius.edu/~yany/python/Python4DataAnalysis.pdf"
   ]
  },
  {
   "cell_type": "code",
   "execution_count": 29,
   "metadata": {
    "slideshow": {
     "slide_type": "fragment"
    }
   },
   "outputs": [
    {
     "data": {
      "text/html": [
       "<div>\n",
       "<style scoped>\n",
       "    .dataframe tbody tr th:only-of-type {\n",
       "        vertical-align: middle;\n",
       "    }\n",
       "\n",
       "    .dataframe tbody tr th {\n",
       "        vertical-align: top;\n",
       "    }\n",
       "\n",
       "    .dataframe thead th {\n",
       "        text-align: right;\n",
       "    }\n",
       "</style>\n",
       "<table border=\"1\" class=\"dataframe\">\n",
       "  <thead>\n",
       "    <tr style=\"text-align: right;\">\n",
       "      <th></th>\n",
       "      <th>C.Adjusted</th>\n",
       "      <th>AAPL.Adjusted</th>\n",
       "      <th>CSCO.Adjusted</th>\n",
       "      <th>MSFT.Adjusted</th>\n",
       "      <th>IBM.Adjusted</th>\n",
       "    </tr>\n",
       "  </thead>\n",
       "  <tbody>\n",
       "    <tr>\n",
       "      <th>2007-01-03</th>\n",
       "      <td>484.648285</td>\n",
       "      <td>10.731588</td>\n",
       "      <td>22.741095</td>\n",
       "      <td>22.965631</td>\n",
       "      <td>75.429054</td>\n",
       "    </tr>\n",
       "    <tr>\n",
       "      <th>2007-01-04</th>\n",
       "      <td>482.981689</td>\n",
       "      <td>10.969785</td>\n",
       "      <td>23.339764</td>\n",
       "      <td>22.927172</td>\n",
       "      <td>76.235504</td>\n",
       "    </tr>\n",
       "    <tr>\n",
       "      <th>2007-01-05</th>\n",
       "      <td>480.437775</td>\n",
       "      <td>10.891665</td>\n",
       "      <td>23.347965</td>\n",
       "      <td>22.796421</td>\n",
       "      <td>75.545372</td>\n",
       "    </tr>\n",
       "    <tr>\n",
       "      <th>2007-01-08</th>\n",
       "      <td>482.894012</td>\n",
       "      <td>10.945451</td>\n",
       "      <td>23.479174</td>\n",
       "      <td>23.019470</td>\n",
       "      <td>76.693024</td>\n",
       "    </tr>\n",
       "    <tr>\n",
       "      <th>2007-01-09</th>\n",
       "      <td>478.683502</td>\n",
       "      <td>11.854692</td>\n",
       "      <td>23.347965</td>\n",
       "      <td>23.042538</td>\n",
       "      <td>77.600342</td>\n",
       "    </tr>\n",
       "  </tbody>\n",
       "</table>\n",
       "</div>"
      ],
      "text/plain": [
       "            C.Adjusted  AAPL.Adjusted  CSCO.Adjusted  MSFT.Adjusted  \\\n",
       "2007-01-03  484.648285      10.731588      22.741095      22.965631   \n",
       "2007-01-04  482.981689      10.969785      23.339764      22.927172   \n",
       "2007-01-05  480.437775      10.891665      23.347965      22.796421   \n",
       "2007-01-08  482.894012      10.945451      23.479174      23.019470   \n",
       "2007-01-09  478.683502      11.854692      23.347965      23.042538   \n",
       "\n",
       "            IBM.Adjusted  \n",
       "2007-01-03     75.429054  \n",
       "2007-01-04     76.235504  \n",
       "2007-01-05     75.545372  \n",
       "2007-01-08     76.693024  \n",
       "2007-01-09     77.600342  "
      ]
     },
     "execution_count": 29,
     "metadata": {},
     "output_type": "execute_result"
    }
   ],
   "source": [
    "import pandas as pd\n",
    "stk = pd.DataFrame(stkdata)\n",
    "#stk = stk.T\n",
    "stk.head()"
   ]
  },
  {
   "cell_type": "code",
   "execution_count": 30,
   "metadata": {
    "slideshow": {
     "slide_type": "slide"
    }
   },
   "outputs": [
    {
     "data": {
      "text/html": [
       "<div>\n",
       "<style scoped>\n",
       "    .dataframe tbody tr th:only-of-type {\n",
       "        vertical-align: middle;\n",
       "    }\n",
       "\n",
       "    .dataframe tbody tr th {\n",
       "        vertical-align: top;\n",
       "    }\n",
       "\n",
       "    .dataframe thead th {\n",
       "        text-align: right;\n",
       "    }\n",
       "</style>\n",
       "<table border=\"1\" class=\"dataframe\">\n",
       "  <thead>\n",
       "    <tr style=\"text-align: right;\">\n",
       "      <th></th>\n",
       "      <th>C</th>\n",
       "      <th>AAPL</th>\n",
       "      <th>CSCO</th>\n",
       "      <th>MSFT</th>\n",
       "      <th>IBM</th>\n",
       "    </tr>\n",
       "  </thead>\n",
       "  <tbody>\n",
       "    <tr>\n",
       "      <th>2007-01-03</th>\n",
       "      <td>484.648285</td>\n",
       "      <td>10.731588</td>\n",
       "      <td>22.741095</td>\n",
       "      <td>22.965631</td>\n",
       "      <td>75.429054</td>\n",
       "    </tr>\n",
       "    <tr>\n",
       "      <th>2007-01-04</th>\n",
       "      <td>482.981689</td>\n",
       "      <td>10.969785</td>\n",
       "      <td>23.339764</td>\n",
       "      <td>22.927172</td>\n",
       "      <td>76.235504</td>\n",
       "    </tr>\n",
       "    <tr>\n",
       "      <th>2007-01-05</th>\n",
       "      <td>480.437775</td>\n",
       "      <td>10.891665</td>\n",
       "      <td>23.347965</td>\n",
       "      <td>22.796421</td>\n",
       "      <td>75.545372</td>\n",
       "    </tr>\n",
       "    <tr>\n",
       "      <th>2007-01-08</th>\n",
       "      <td>482.894012</td>\n",
       "      <td>10.945451</td>\n",
       "      <td>23.479174</td>\n",
       "      <td>23.019470</td>\n",
       "      <td>76.693024</td>\n",
       "    </tr>\n",
       "    <tr>\n",
       "      <th>2007-01-09</th>\n",
       "      <td>478.683502</td>\n",
       "      <td>11.854692</td>\n",
       "      <td>23.347965</td>\n",
       "      <td>23.042538</td>\n",
       "      <td>77.600342</td>\n",
       "    </tr>\n",
       "  </tbody>\n",
       "</table>\n",
       "</div>"
      ],
      "text/plain": [
       "                     C       AAPL       CSCO       MSFT        IBM\n",
       "2007-01-03  484.648285  10.731588  22.741095  22.965631  75.429054\n",
       "2007-01-04  482.981689  10.969785  23.339764  22.927172  76.235504\n",
       "2007-01-05  480.437775  10.891665  23.347965  22.796421  75.545372\n",
       "2007-01-08  482.894012  10.945451  23.479174  23.019470  76.693024\n",
       "2007-01-09  478.683502  11.854692  23.347965  23.042538  77.600342"
      ]
     },
     "execution_count": 30,
     "metadata": {},
     "output_type": "execute_result"
    }
   ],
   "source": [
    "### RENAME COLUMNS OF A DATAFRAME\n",
    "\n",
    "stk.columns=[\"C\",\"AAPL\",\"CSCO\",\"MSFT\",\"IBM\"]\n",
    "stk.index = rn\n",
    "stk.head()"
   ]
  },
  {
   "cell_type": "code",
   "execution_count": 31,
   "metadata": {
    "slideshow": {
     "slide_type": "slide"
    }
   },
   "outputs": [
    {
     "name": "stderr",
     "output_type": "stream",
     "text": [
      "/home/srdas/anaconda3/lib/python3.6/site-packages/ipykernel_launcher.py:3: DeprecationWarning: \n",
      ".ix is deprecated. Please use\n",
      ".loc for label based indexing or\n",
      ".iloc for positional indexing\n",
      "\n",
      "See the documentation here:\n",
      "http://pandas.pydata.org/pandas-docs/stable/indexing.html#ix-indexer-is-deprecated\n",
      "  This is separate from the ipykernel package so we can avoid doing imports until\n"
     ]
    },
    {
     "data": {
      "text/plain": [
       "C       484.648285\n",
       "AAPL     10.731588\n",
       "CSCO     22.741095\n",
       "MSFT     22.965631\n",
       "IBM      75.429054\n",
       "Name: 2007-01-03, dtype: float64"
      ]
     },
     "execution_count": 31,
     "metadata": {},
     "output_type": "execute_result"
    }
   ],
   "source": [
    "### PULL ONE ROW \n",
    "\n",
    "stk.ix['2007-01-03']"
   ]
  },
  {
   "cell_type": "code",
   "execution_count": 32,
   "metadata": {
    "slideshow": {
     "slide_type": "fragment"
    }
   },
   "outputs": [
    {
     "data": {
      "text/plain": [
       "10.731588"
      ]
     },
     "execution_count": 32,
     "metadata": {},
     "output_type": "execute_result"
    }
   ],
   "source": [
    "stk.ix['2007-01-03'][\"AAPL\"]"
   ]
  },
  {
   "cell_type": "code",
   "execution_count": 33,
   "metadata": {
    "slideshow": {
     "slide_type": "slide"
    }
   },
   "outputs": [
    {
     "data": {
      "text/html": [
       "<div>\n",
       "<style scoped>\n",
       "    .dataframe tbody tr th:only-of-type {\n",
       "        vertical-align: middle;\n",
       "    }\n",
       "\n",
       "    .dataframe tbody tr th {\n",
       "        vertical-align: top;\n",
       "    }\n",
       "\n",
       "    .dataframe thead th {\n",
       "        text-align: right;\n",
       "    }\n",
       "</style>\n",
       "<table border=\"1\" class=\"dataframe\">\n",
       "  <thead>\n",
       "    <tr style=\"text-align: right;\">\n",
       "      <th></th>\n",
       "      <th>C</th>\n",
       "      <th>AAPL</th>\n",
       "      <th>CSCO</th>\n",
       "      <th>MSFT</th>\n",
       "      <th>IBM</th>\n",
       "      <th>extra</th>\n",
       "    </tr>\n",
       "  </thead>\n",
       "  <tbody>\n",
       "    <tr>\n",
       "      <th>2007-01-03</th>\n",
       "      <td>484.648285</td>\n",
       "      <td>10.731588</td>\n",
       "      <td>22.741095</td>\n",
       "      <td>22.965631</td>\n",
       "      <td>75.429054</td>\n",
       "      <td>1.0</td>\n",
       "    </tr>\n",
       "    <tr>\n",
       "      <th>2007-01-04</th>\n",
       "      <td>482.981689</td>\n",
       "      <td>10.969785</td>\n",
       "      <td>23.339764</td>\n",
       "      <td>22.927172</td>\n",
       "      <td>76.235504</td>\n",
       "      <td>1.0</td>\n",
       "    </tr>\n",
       "    <tr>\n",
       "      <th>2007-01-05</th>\n",
       "      <td>480.437775</td>\n",
       "      <td>10.891665</td>\n",
       "      <td>23.347965</td>\n",
       "      <td>22.796421</td>\n",
       "      <td>75.545372</td>\n",
       "      <td>1.0</td>\n",
       "    </tr>\n",
       "    <tr>\n",
       "      <th>2007-01-08</th>\n",
       "      <td>482.894012</td>\n",
       "      <td>10.945451</td>\n",
       "      <td>23.479174</td>\n",
       "      <td>23.019470</td>\n",
       "      <td>76.693024</td>\n",
       "      <td>1.0</td>\n",
       "    </tr>\n",
       "    <tr>\n",
       "      <th>2007-01-09</th>\n",
       "      <td>478.683502</td>\n",
       "      <td>11.854692</td>\n",
       "      <td>23.347965</td>\n",
       "      <td>23.042538</td>\n",
       "      <td>77.600342</td>\n",
       "      <td>1.0</td>\n",
       "    </tr>\n",
       "  </tbody>\n",
       "</table>\n",
       "</div>"
      ],
      "text/plain": [
       "                     C       AAPL       CSCO       MSFT        IBM  extra\n",
       "2007-01-03  484.648285  10.731588  22.741095  22.965631  75.429054    1.0\n",
       "2007-01-04  482.981689  10.969785  23.339764  22.927172  76.235504    1.0\n",
       "2007-01-05  480.437775  10.891665  23.347965  22.796421  75.545372    1.0\n",
       "2007-01-08  482.894012  10.945451  23.479174  23.019470  76.693024    1.0\n",
       "2007-01-09  478.683502  11.854692  23.347965  23.042538  77.600342    1.0"
      ]
     },
     "execution_count": 33,
     "metadata": {},
     "output_type": "execute_result"
    }
   ],
   "source": [
    "### ADD A COLUMN TO THE DATAFRAME\n",
    "\n",
    "stk[\"extra\"] = 1.0\n",
    "stk.head()"
   ]
  },
  {
   "cell_type": "code",
   "execution_count": 34,
   "metadata": {
    "slideshow": {
     "slide_type": "slide"
    }
   },
   "outputs": [
    {
     "data": {
      "text/plain": [
       "array([ 10.014443,  10.307706,  10.543339, ..., 178.460007, 179.100006,\n",
       "       179.259995])"
      ]
     },
     "execution_count": 34,
     "metadata": {},
     "output_type": "execute_result"
    }
   ],
   "source": [
    "### Extract a column and sort it \n",
    "\n",
    "sort(stk[\"AAPL\"])"
   ]
  },
  {
   "cell_type": "code",
   "execution_count": 35,
   "metadata": {
    "slideshow": {
     "slide_type": "fragment"
    }
   },
   "outputs": [
    {
     "data": {
      "text/html": [
       "<div>\n",
       "<style scoped>\n",
       "    .dataframe tbody tr th:only-of-type {\n",
       "        vertical-align: middle;\n",
       "    }\n",
       "\n",
       "    .dataframe tbody tr th {\n",
       "        vertical-align: top;\n",
       "    }\n",
       "\n",
       "    .dataframe thead th {\n",
       "        text-align: right;\n",
       "    }\n",
       "</style>\n",
       "<table border=\"1\" class=\"dataframe\">\n",
       "  <thead>\n",
       "    <tr style=\"text-align: right;\">\n",
       "      <th></th>\n",
       "      <th>C</th>\n",
       "      <th>AAPL</th>\n",
       "      <th>CSCO</th>\n",
       "      <th>MSFT</th>\n",
       "      <th>IBM</th>\n",
       "      <th>extra</th>\n",
       "    </tr>\n",
       "  </thead>\n",
       "  <tbody>\n",
       "    <tr>\n",
       "      <th>2007-01-03</th>\n",
       "      <td>484.648285</td>\n",
       "      <td>10.731588</td>\n",
       "      <td>22.741095</td>\n",
       "      <td>22.965631</td>\n",
       "      <td>75.429054</td>\n",
       "      <td>1.0</td>\n",
       "    </tr>\n",
       "    <tr>\n",
       "      <th>2007-01-04</th>\n",
       "      <td>482.981689</td>\n",
       "      <td>10.969785</td>\n",
       "      <td>23.339764</td>\n",
       "      <td>22.927172</td>\n",
       "      <td>76.235504</td>\n",
       "      <td>1.0</td>\n",
       "    </tr>\n",
       "    <tr>\n",
       "      <th>2007-01-05</th>\n",
       "      <td>480.437775</td>\n",
       "      <td>10.891665</td>\n",
       "      <td>23.347965</td>\n",
       "      <td>22.796421</td>\n",
       "      <td>75.545372</td>\n",
       "      <td>1.0</td>\n",
       "    </tr>\n",
       "    <tr>\n",
       "      <th>2007-01-08</th>\n",
       "      <td>482.894012</td>\n",
       "      <td>10.945451</td>\n",
       "      <td>23.479174</td>\n",
       "      <td>23.019470</td>\n",
       "      <td>76.693024</td>\n",
       "      <td>1.0</td>\n",
       "    </tr>\n",
       "    <tr>\n",
       "      <th>2007-01-09</th>\n",
       "      <td>478.683502</td>\n",
       "      <td>11.854692</td>\n",
       "      <td>23.347965</td>\n",
       "      <td>23.042538</td>\n",
       "      <td>77.600342</td>\n",
       "      <td>1.0</td>\n",
       "    </tr>\n",
       "  </tbody>\n",
       "</table>\n",
       "</div>"
      ],
      "text/plain": [
       "                     C       AAPL       CSCO       MSFT        IBM  extra\n",
       "2007-01-03  484.648285  10.731588  22.741095  22.965631  75.429054    1.0\n",
       "2007-01-04  482.981689  10.969785  23.339764  22.927172  76.235504    1.0\n",
       "2007-01-05  480.437775  10.891665  23.347965  22.796421  75.545372    1.0\n",
       "2007-01-08  482.894012  10.945451  23.479174  23.019470  76.693024    1.0\n",
       "2007-01-09  478.683502  11.854692  23.347965  23.042538  77.600342    1.0"
      ]
     },
     "execution_count": 35,
     "metadata": {},
     "output_type": "execute_result"
    }
   ],
   "source": [
    "stk.head()"
   ]
  },
  {
   "cell_type": "code",
   "execution_count": 36,
   "metadata": {
    "slideshow": {
     "slide_type": "slide"
    }
   },
   "outputs": [
    {
     "data": {
      "text/html": [
       "<div>\n",
       "<style scoped>\n",
       "    .dataframe tbody tr th:only-of-type {\n",
       "        vertical-align: middle;\n",
       "    }\n",
       "\n",
       "    .dataframe tbody tr th {\n",
       "        vertical-align: top;\n",
       "    }\n",
       "\n",
       "    .dataframe thead th {\n",
       "        text-align: right;\n",
       "    }\n",
       "</style>\n",
       "<table border=\"1\" class=\"dataframe\">\n",
       "  <thead>\n",
       "    <tr style=\"text-align: right;\">\n",
       "      <th></th>\n",
       "      <th>C</th>\n",
       "      <th>AAPL</th>\n",
       "      <th>CSCO</th>\n",
       "      <th>MSFT</th>\n",
       "      <th>IBM</th>\n",
       "    </tr>\n",
       "  </thead>\n",
       "  <tbody>\n",
       "    <tr>\n",
       "      <th>2007-01-03</th>\n",
       "      <td>484.648285</td>\n",
       "      <td>10.731588</td>\n",
       "      <td>22.741095</td>\n",
       "      <td>22.965631</td>\n",
       "      <td>75.429054</td>\n",
       "    </tr>\n",
       "    <tr>\n",
       "      <th>2007-01-04</th>\n",
       "      <td>482.981689</td>\n",
       "      <td>10.969785</td>\n",
       "      <td>23.339764</td>\n",
       "      <td>22.927172</td>\n",
       "      <td>76.235504</td>\n",
       "    </tr>\n",
       "    <tr>\n",
       "      <th>2007-01-05</th>\n",
       "      <td>480.437775</td>\n",
       "      <td>10.891665</td>\n",
       "      <td>23.347965</td>\n",
       "      <td>22.796421</td>\n",
       "      <td>75.545372</td>\n",
       "    </tr>\n",
       "    <tr>\n",
       "      <th>2007-01-08</th>\n",
       "      <td>482.894012</td>\n",
       "      <td>10.945451</td>\n",
       "      <td>23.479174</td>\n",
       "      <td>23.019470</td>\n",
       "      <td>76.693024</td>\n",
       "    </tr>\n",
       "    <tr>\n",
       "      <th>2007-01-09</th>\n",
       "      <td>478.683502</td>\n",
       "      <td>11.854692</td>\n",
       "      <td>23.347965</td>\n",
       "      <td>23.042538</td>\n",
       "      <td>77.600342</td>\n",
       "    </tr>\n",
       "  </tbody>\n",
       "</table>\n",
       "</div>"
      ],
      "text/plain": [
       "                     C       AAPL       CSCO       MSFT        IBM\n",
       "2007-01-03  484.648285  10.731588  22.741095  22.965631  75.429054\n",
       "2007-01-04  482.981689  10.969785  23.339764  22.927172  76.235504\n",
       "2007-01-05  480.437775  10.891665  23.347965  22.796421  75.545372\n",
       "2007-01-08  482.894012  10.945451  23.479174  23.019470  76.693024\n",
       "2007-01-09  478.683502  11.854692  23.347965  23.042538  77.600342"
      ]
     },
     "execution_count": 36,
     "metadata": {},
     "output_type": "execute_result"
    }
   ],
   "source": [
    "### HOW TO REMOVE A COLUMN FROM THE DATAFRAME\n",
    "\n",
    "stk = stk.drop(\"extra\",axis=1)  #IF AXIS=0 (default), THEN ROW IS DROPPED\n",
    "stk.head()"
   ]
  },
  {
   "cell_type": "code",
   "execution_count": 37,
   "metadata": {
    "slideshow": {
     "slide_type": "slide"
    }
   },
   "outputs": [
    {
     "data": {
      "text/html": [
       "<div>\n",
       "<style scoped>\n",
       "    .dataframe tbody tr th:only-of-type {\n",
       "        vertical-align: middle;\n",
       "    }\n",
       "\n",
       "    .dataframe tbody tr th {\n",
       "        vertical-align: top;\n",
       "    }\n",
       "\n",
       "    .dataframe thead th {\n",
       "        text-align: right;\n",
       "    }\n",
       "</style>\n",
       "<table border=\"1\" class=\"dataframe\">\n",
       "  <thead>\n",
       "    <tr style=\"text-align: right;\">\n",
       "      <th></th>\n",
       "      <th>AAPL</th>\n",
       "      <th>IBM</th>\n",
       "    </tr>\n",
       "  </thead>\n",
       "  <tbody>\n",
       "    <tr>\n",
       "      <th>2007-01-03</th>\n",
       "      <td>10.731588</td>\n",
       "      <td>75.429054</td>\n",
       "    </tr>\n",
       "    <tr>\n",
       "      <th>2007-01-04</th>\n",
       "      <td>10.969785</td>\n",
       "      <td>76.235504</td>\n",
       "    </tr>\n",
       "    <tr>\n",
       "      <th>2007-01-05</th>\n",
       "      <td>10.891665</td>\n",
       "      <td>75.545372</td>\n",
       "    </tr>\n",
       "    <tr>\n",
       "      <th>2007-01-08</th>\n",
       "      <td>10.945451</td>\n",
       "      <td>76.693024</td>\n",
       "    </tr>\n",
       "    <tr>\n",
       "      <th>2007-01-09</th>\n",
       "      <td>11.854692</td>\n",
       "      <td>77.600342</td>\n",
       "    </tr>\n",
       "  </tbody>\n",
       "</table>\n",
       "</div>"
      ],
      "text/plain": [
       "                 AAPL        IBM\n",
       "2007-01-03  10.731588  75.429054\n",
       "2007-01-04  10.969785  76.235504\n",
       "2007-01-05  10.891665  75.545372\n",
       "2007-01-08  10.945451  76.693024\n",
       "2007-01-09  11.854692  77.600342"
      ]
     },
     "execution_count": 37,
     "metadata": {},
     "output_type": "execute_result"
    }
   ],
   "source": [
    "### SUBSET THE DATAFRAME\n",
    "\n",
    "stk[[\"AAPL\",\"IBM\"]].head()"
   ]
  },
  {
   "cell_type": "code",
   "execution_count": 38,
   "metadata": {
    "slideshow": {
     "slide_type": "slide"
    }
   },
   "outputs": [
    {
     "data": {
      "text/html": [
       "<div>\n",
       "<style scoped>\n",
       "    .dataframe tbody tr th:only-of-type {\n",
       "        vertical-align: middle;\n",
       "    }\n",
       "\n",
       "    .dataframe tbody tr th {\n",
       "        vertical-align: top;\n",
       "    }\n",
       "\n",
       "    .dataframe thead th {\n",
       "        text-align: right;\n",
       "    }\n",
       "</style>\n",
       "<table border=\"1\" class=\"dataframe\">\n",
       "  <thead>\n",
       "    <tr style=\"text-align: right;\">\n",
       "      <th></th>\n",
       "      <th>C</th>\n",
       "      <th>AAPL</th>\n",
       "      <th>CSCO</th>\n",
       "      <th>MSFT</th>\n",
       "      <th>IBM</th>\n",
       "    </tr>\n",
       "  </thead>\n",
       "  <tbody>\n",
       "    <tr>\n",
       "      <th>2007-01-03</th>\n",
       "      <td>484.648285</td>\n",
       "      <td>10.731588</td>\n",
       "      <td>22.741095</td>\n",
       "      <td>22.965631</td>\n",
       "      <td>75.429054</td>\n",
       "    </tr>\n",
       "    <tr>\n",
       "      <th>2007-01-04</th>\n",
       "      <td>482.981689</td>\n",
       "      <td>10.969785</td>\n",
       "      <td>23.339764</td>\n",
       "      <td>22.927172</td>\n",
       "      <td>76.235504</td>\n",
       "    </tr>\n",
       "    <tr>\n",
       "      <th>2007-01-05</th>\n",
       "      <td>480.437775</td>\n",
       "      <td>10.891665</td>\n",
       "      <td>23.347965</td>\n",
       "      <td>22.796421</td>\n",
       "      <td>75.545372</td>\n",
       "    </tr>\n",
       "    <tr>\n",
       "      <th>2007-01-08</th>\n",
       "      <td>482.894012</td>\n",
       "      <td>10.945451</td>\n",
       "      <td>23.479174</td>\n",
       "      <td>23.019470</td>\n",
       "      <td>76.693024</td>\n",
       "    </tr>\n",
       "    <tr>\n",
       "      <th>2007-01-23</th>\n",
       "      <td>477.981781</td>\n",
       "      <td>10.974908</td>\n",
       "      <td>21.355150</td>\n",
       "      <td>23.642450</td>\n",
       "      <td>75.281708</td>\n",
       "    </tr>\n",
       "    <tr>\n",
       "      <th>2007-01-26</th>\n",
       "      <td>479.560730</td>\n",
       "      <td>10.933926</td>\n",
       "      <td>21.609375</td>\n",
       "      <td>23.534775</td>\n",
       "      <td>75.568619</td>\n",
       "    </tr>\n",
       "    <tr>\n",
       "      <th>2007-01-30</th>\n",
       "      <td>476.051910</td>\n",
       "      <td>10.955698</td>\n",
       "      <td>21.527363</td>\n",
       "      <td>23.442476</td>\n",
       "      <td>77.057503</td>\n",
       "    </tr>\n",
       "    <tr>\n",
       "      <th>2007-01-31</th>\n",
       "      <td>483.595795</td>\n",
       "      <td>10.978748</td>\n",
       "      <td>21.830803</td>\n",
       "      <td>23.734739</td>\n",
       "      <td>76.886925</td>\n",
       "    </tr>\n",
       "    <tr>\n",
       "      <th>2007-02-01</th>\n",
       "      <td>484.835846</td>\n",
       "      <td>10.851967</td>\n",
       "      <td>21.806194</td>\n",
       "      <td>23.504005</td>\n",
       "      <td>76.770576</td>\n",
       "    </tr>\n",
       "    <tr>\n",
       "      <th>2007-02-02</th>\n",
       "      <td>484.215820</td>\n",
       "      <td>10.853251</td>\n",
       "      <td>22.257248</td>\n",
       "      <td>23.219433</td>\n",
       "      <td>76.902420</td>\n",
       "    </tr>\n",
       "    <tr>\n",
       "      <th>2007-02-05</th>\n",
       "      <td>485.013062</td>\n",
       "      <td>10.749517</td>\n",
       "      <td>22.560678</td>\n",
       "      <td>22.773350</td>\n",
       "      <td>77.840721</td>\n",
       "    </tr>\n",
       "    <tr>\n",
       "      <th>2007-02-06</th>\n",
       "      <td>486.784882</td>\n",
       "      <td>10.776408</td>\n",
       "      <td>22.372053</td>\n",
       "      <td>22.696442</td>\n",
       "      <td>77.429726</td>\n",
       "    </tr>\n",
       "    <tr>\n",
       "      <th>2007-02-09</th>\n",
       "      <td>473.053864</td>\n",
       "      <td>10.663718</td>\n",
       "      <td>22.724693</td>\n",
       "      <td>22.288820</td>\n",
       "      <td>76.651939</td>\n",
       "    </tr>\n",
       "    <tr>\n",
       "      <th>2007-02-12</th>\n",
       "      <td>473.319641</td>\n",
       "      <td>10.869898</td>\n",
       "      <td>22.585283</td>\n",
       "      <td>22.258053</td>\n",
       "      <td>76.675270</td>\n",
       "    </tr>\n",
       "    <tr>\n",
       "      <th>2007-02-13</th>\n",
       "      <td>475.800049</td>\n",
       "      <td>10.846849</td>\n",
       "      <td>22.290052</td>\n",
       "      <td>22.389250</td>\n",
       "      <td>76.449684</td>\n",
       "    </tr>\n",
       "    <tr>\n",
       "      <th>2007-02-14</th>\n",
       "      <td>479.963654</td>\n",
       "      <td>10.923683</td>\n",
       "      <td>22.519676</td>\n",
       "      <td>22.690243</td>\n",
       "      <td>77.157501</td>\n",
       "    </tr>\n",
       "    <tr>\n",
       "      <th>2007-02-15</th>\n",
       "      <td>480.229431</td>\n",
       "      <td>10.912156</td>\n",
       "      <td>22.601677</td>\n",
       "      <td>22.736547</td>\n",
       "      <td>76.939735</td>\n",
       "    </tr>\n",
       "    <tr>\n",
       "      <th>2007-02-16</th>\n",
       "      <td>479.254974</td>\n",
       "      <td>10.863493</td>\n",
       "      <td>22.568878</td>\n",
       "      <td>22.180872</td>\n",
       "      <td>76.994148</td>\n",
       "    </tr>\n",
       "    <tr>\n",
       "      <th>2007-02-27</th>\n",
       "      <td>448.249512</td>\n",
       "      <td>10.748238</td>\n",
       "      <td>21.084520</td>\n",
       "      <td>21.509432</td>\n",
       "      <td>73.081848</td>\n",
       "    </tr>\n",
       "    <tr>\n",
       "      <th>2007-02-28</th>\n",
       "      <td>446.212128</td>\n",
       "      <td>10.835322</td>\n",
       "      <td>21.273140</td>\n",
       "      <td>21.740957</td>\n",
       "      <td>72.288460</td>\n",
       "    </tr>\n",
       "    <tr>\n",
       "      <th>2007-03-02</th>\n",
       "      <td>442.668610</td>\n",
       "      <td>10.937767</td>\n",
       "      <td>20.748281</td>\n",
       "      <td>21.424528</td>\n",
       "      <td>70.701790</td>\n",
       "    </tr>\n",
       "    <tr>\n",
       "      <th>2008-11-20</th>\n",
       "      <td>45.584301</td>\n",
       "      <td>10.307706</td>\n",
       "      <td>11.866705</td>\n",
       "      <td>13.917852</td>\n",
       "      <td>57.401588</td>\n",
       "    </tr>\n",
       "    <tr>\n",
       "      <th>2008-11-21</th>\n",
       "      <td>36.486809</td>\n",
       "      <td>10.575354</td>\n",
       "      <td>12.440766</td>\n",
       "      <td>15.624838</td>\n",
       "      <td>59.914005</td>\n",
       "    </tr>\n",
       "    <tr>\n",
       "      <th>2008-12-22</th>\n",
       "      <td>65.327835</td>\n",
       "      <td>10.980031</td>\n",
       "      <td>13.424876</td>\n",
       "      <td>15.227862</td>\n",
       "      <td>65.602966</td>\n",
       "    </tr>\n",
       "    <tr>\n",
       "      <th>2008-12-24</th>\n",
       "      <td>65.618187</td>\n",
       "      <td>10.890385</td>\n",
       "      <td>13.408475</td>\n",
       "      <td>15.219921</td>\n",
       "      <td>64.426758</td>\n",
       "    </tr>\n",
       "    <tr>\n",
       "      <th>2008-12-26</th>\n",
       "      <td>65.134270</td>\n",
       "      <td>10.988995</td>\n",
       "      <td>13.342864</td>\n",
       "      <td>15.188162</td>\n",
       "      <td>65.074890</td>\n",
       "    </tr>\n",
       "    <tr>\n",
       "      <th>2008-12-31</th>\n",
       "      <td>64.940681</td>\n",
       "      <td>10.930088</td>\n",
       "      <td>13.367470</td>\n",
       "      <td>15.434288</td>\n",
       "      <td>67.339249</td>\n",
       "    </tr>\n",
       "    <tr>\n",
       "      <th>2009-01-14</th>\n",
       "      <td>43.842224</td>\n",
       "      <td>10.927524</td>\n",
       "      <td>12.908217</td>\n",
       "      <td>15.156405</td>\n",
       "      <td>66.563133</td>\n",
       "    </tr>\n",
       "    <tr>\n",
       "      <th>2009-01-15</th>\n",
       "      <td>37.067493</td>\n",
       "      <td>10.677803</td>\n",
       "      <td>12.965626</td>\n",
       "      <td>15.275502</td>\n",
       "      <td>67.307243</td>\n",
       "    </tr>\n",
       "    <tr>\n",
       "      <th>2009-01-16</th>\n",
       "      <td>33.873684</td>\n",
       "      <td>10.543339</td>\n",
       "      <td>12.973825</td>\n",
       "      <td>15.648652</td>\n",
       "      <td>67.947342</td>\n",
       "    </tr>\n",
       "    <tr>\n",
       "      <th>2009-01-20</th>\n",
       "      <td>27.098946</td>\n",
       "      <td>10.014443</td>\n",
       "      <td>12.309553</td>\n",
       "      <td>14.672101</td>\n",
       "      <td>65.594948</td>\n",
       "    </tr>\n",
       "    <tr>\n",
       "      <th>2009-01-21</th>\n",
       "      <td>35.518970</td>\n",
       "      <td>10.607369</td>\n",
       "      <td>12.875416</td>\n",
       "      <td>15.386651</td>\n",
       "      <td>73.148232</td>\n",
       "    </tr>\n",
       "    <tr>\n",
       "      <th>2009-03-06</th>\n",
       "      <td>9.992279</td>\n",
       "      <td>10.923683</td>\n",
       "      <td>11.628881</td>\n",
       "      <td>12.214655</td>\n",
       "      <td>69.033005</td>\n",
       "    </tr>\n",
       "    <tr>\n",
       "      <th>2009-03-09</th>\n",
       "      <td>10.186304</td>\n",
       "      <td>10.643225</td>\n",
       "      <td>11.169631</td>\n",
       "      <td>12.110738</td>\n",
       "      <td>67.158546</td>\n",
       "    </tr>\n",
       "  </tbody>\n",
       "</table>\n",
       "</div>"
      ],
      "text/plain": [
       "                     C       AAPL       CSCO       MSFT        IBM\n",
       "2007-01-03  484.648285  10.731588  22.741095  22.965631  75.429054\n",
       "2007-01-04  482.981689  10.969785  23.339764  22.927172  76.235504\n",
       "2007-01-05  480.437775  10.891665  23.347965  22.796421  75.545372\n",
       "2007-01-08  482.894012  10.945451  23.479174  23.019470  76.693024\n",
       "2007-01-23  477.981781  10.974908  21.355150  23.642450  75.281708\n",
       "2007-01-26  479.560730  10.933926  21.609375  23.534775  75.568619\n",
       "2007-01-30  476.051910  10.955698  21.527363  23.442476  77.057503\n",
       "2007-01-31  483.595795  10.978748  21.830803  23.734739  76.886925\n",
       "2007-02-01  484.835846  10.851967  21.806194  23.504005  76.770576\n",
       "2007-02-02  484.215820  10.853251  22.257248  23.219433  76.902420\n",
       "2007-02-05  485.013062  10.749517  22.560678  22.773350  77.840721\n",
       "2007-02-06  486.784882  10.776408  22.372053  22.696442  77.429726\n",
       "2007-02-09  473.053864  10.663718  22.724693  22.288820  76.651939\n",
       "2007-02-12  473.319641  10.869898  22.585283  22.258053  76.675270\n",
       "2007-02-13  475.800049  10.846849  22.290052  22.389250  76.449684\n",
       "2007-02-14  479.963654  10.923683  22.519676  22.690243  77.157501\n",
       "2007-02-15  480.229431  10.912156  22.601677  22.736547  76.939735\n",
       "2007-02-16  479.254974  10.863493  22.568878  22.180872  76.994148\n",
       "2007-02-27  448.249512  10.748238  21.084520  21.509432  73.081848\n",
       "2007-02-28  446.212128  10.835322  21.273140  21.740957  72.288460\n",
       "2007-03-02  442.668610  10.937767  20.748281  21.424528  70.701790\n",
       "2008-11-20   45.584301  10.307706  11.866705  13.917852  57.401588\n",
       "2008-11-21   36.486809  10.575354  12.440766  15.624838  59.914005\n",
       "2008-12-22   65.327835  10.980031  13.424876  15.227862  65.602966\n",
       "2008-12-24   65.618187  10.890385  13.408475  15.219921  64.426758\n",
       "2008-12-26   65.134270  10.988995  13.342864  15.188162  65.074890\n",
       "2008-12-31   64.940681  10.930088  13.367470  15.434288  67.339249\n",
       "2009-01-14   43.842224  10.927524  12.908217  15.156405  66.563133\n",
       "2009-01-15   37.067493  10.677803  12.965626  15.275502  67.307243\n",
       "2009-01-16   33.873684  10.543339  12.973825  15.648652  67.947342\n",
       "2009-01-20   27.098946  10.014443  12.309553  14.672101  65.594948\n",
       "2009-01-21   35.518970  10.607369  12.875416  15.386651  73.148232\n",
       "2009-03-06    9.992279  10.923683  11.628881  12.214655  69.033005\n",
       "2009-03-09   10.186304  10.643225  11.169631  12.110738  67.158546"
      ]
     },
     "execution_count": 38,
     "metadata": {},
     "output_type": "execute_result"
    }
   ],
   "source": [
    "### FILTER THE DATAFRAME\n",
    "\n",
    "stk[stk[\"AAPL\"]<11]"
   ]
  },
  {
   "cell_type": "code",
   "execution_count": 39,
   "metadata": {
    "slideshow": {
     "slide_type": "slide"
    }
   },
   "outputs": [
    {
     "data": {
      "text/plain": [
       "2007-01-03    75.429054\n",
       "2007-01-04    76.235504\n",
       "2007-01-05    75.545372\n",
       "2007-01-08    76.693024\n",
       "2007-01-23    75.281708\n",
       "2007-01-26    75.568619\n",
       "2007-01-30    77.057503\n",
       "2007-01-31    76.886925\n",
       "2007-02-01    76.770576\n",
       "2007-02-02    76.902420\n",
       "2007-02-05    77.840721\n",
       "2007-02-06    77.429726\n",
       "2007-02-09    76.651939\n",
       "2007-02-12    76.675270\n",
       "2007-02-13    76.449684\n",
       "2007-02-14    77.157501\n",
       "2007-02-15    76.939735\n",
       "2007-02-16    76.994148\n",
       "2007-02-27    73.081848\n",
       "2007-02-28    72.288460\n",
       "2007-03-02    70.701790\n",
       "2008-11-20    57.401588\n",
       "2008-11-21    59.914005\n",
       "2008-12-22    65.602966\n",
       "2008-12-24    64.426758\n",
       "2008-12-26    65.074890\n",
       "2008-12-31    67.339249\n",
       "2009-01-14    66.563133\n",
       "2009-01-15    67.307243\n",
       "2009-01-16    67.947342\n",
       "2009-01-20    65.594948\n",
       "2009-01-21    73.148232\n",
       "2009-03-06    69.033005\n",
       "2009-03-09    67.158546\n",
       "Name: IBM, dtype: float64"
      ]
     },
     "execution_count": 39,
     "metadata": {},
     "output_type": "execute_result"
    }
   ],
   "source": [
    "### FILTER ON ONE COLUMN AND DISPLAY ANOTHER\n",
    "\n",
    "stk[stk[\"AAPL\"]<11][\"IBM\"]"
   ]
  },
  {
   "cell_type": "code",
   "execution_count": 40,
   "metadata": {
    "slideshow": {
     "slide_type": "slide"
    }
   },
   "outputs": [
    {
     "data": {
      "text/html": [
       "<div>\n",
       "<style scoped>\n",
       "    .dataframe tbody tr th:only-of-type {\n",
       "        vertical-align: middle;\n",
       "    }\n",
       "\n",
       "    .dataframe tbody tr th {\n",
       "        vertical-align: top;\n",
       "    }\n",
       "\n",
       "    .dataframe thead th {\n",
       "        text-align: right;\n",
       "    }\n",
       "</style>\n",
       "<table border=\"1\" class=\"dataframe\">\n",
       "  <thead>\n",
       "    <tr style=\"text-align: right;\">\n",
       "      <th></th>\n",
       "      <th>C</th>\n",
       "      <th>AAPL</th>\n",
       "      <th>CSCO</th>\n",
       "      <th>MSFT</th>\n",
       "      <th>IBM</th>\n",
       "    </tr>\n",
       "  </thead>\n",
       "  <tbody>\n",
       "    <tr>\n",
       "      <th>2007-01-03</th>\n",
       "      <td>False</td>\n",
       "      <td>True</td>\n",
       "      <td>True</td>\n",
       "      <td>True</td>\n",
       "      <td>False</td>\n",
       "    </tr>\n",
       "    <tr>\n",
       "      <th>2007-01-04</th>\n",
       "      <td>False</td>\n",
       "      <td>True</td>\n",
       "      <td>True</td>\n",
       "      <td>True</td>\n",
       "      <td>False</td>\n",
       "    </tr>\n",
       "    <tr>\n",
       "      <th>2007-01-05</th>\n",
       "      <td>False</td>\n",
       "      <td>True</td>\n",
       "      <td>True</td>\n",
       "      <td>True</td>\n",
       "      <td>False</td>\n",
       "    </tr>\n",
       "    <tr>\n",
       "      <th>2007-01-08</th>\n",
       "      <td>False</td>\n",
       "      <td>True</td>\n",
       "      <td>True</td>\n",
       "      <td>True</td>\n",
       "      <td>False</td>\n",
       "    </tr>\n",
       "    <tr>\n",
       "      <th>2007-01-09</th>\n",
       "      <td>False</td>\n",
       "      <td>True</td>\n",
       "      <td>True</td>\n",
       "      <td>True</td>\n",
       "      <td>False</td>\n",
       "    </tr>\n",
       "  </tbody>\n",
       "</table>\n",
       "</div>"
      ],
      "text/plain": [
       "                C  AAPL  CSCO  MSFT    IBM\n",
       "2007-01-03  False  True  True  True  False\n",
       "2007-01-04  False  True  True  True  False\n",
       "2007-01-05  False  True  True  True  False\n",
       "2007-01-08  False  True  True  True  False\n",
       "2007-01-09  False  True  True  True  False"
      ]
     },
     "execution_count": 40,
     "metadata": {},
     "output_type": "execute_result"
    }
   ],
   "source": [
    "### APPLY A CONDITION TO ALL CELLS\n",
    "\n",
    "(stk < 50).head()"
   ]
  },
  {
   "cell_type": "code",
   "execution_count": 41,
   "metadata": {
    "slideshow": {
     "slide_type": "slide"
    }
   },
   "outputs": [
    {
     "data": {
      "text/plain": [
       "C       254603.211688\n",
       "AAPL    184248.664319\n",
       "CSCO     59374.026665\n",
       "MSFT     94236.183181\n",
       "IBM     366719.901010\n",
       "dtype: float64"
      ]
     },
     "execution_count": 41,
     "metadata": {},
     "output_type": "execute_result"
    }
   ],
   "source": [
    "### COLUMN SUMS\n",
    "\n",
    "sum(stk)"
   ]
  },
  {
   "cell_type": "markdown",
   "metadata": {
    "slideshow": {
     "slide_type": "slide"
    }
   },
   "source": [
    "### Lambda Functions"
   ]
  },
  {
   "cell_type": "code",
   "execution_count": 42,
   "metadata": {
    "slideshow": {
     "slide_type": "fragment"
    }
   },
   "outputs": [
    {
     "data": {
      "text/plain": [
       "C       484.016053\n",
       "AAPL    169.245552\n",
       "CSCO     30.930367\n",
       "MSFT     79.789264\n",
       "IBM     128.973153\n",
       "dtype: float64"
      ]
     },
     "execution_count": 42,
     "metadata": {},
     "output_type": "execute_result"
    }
   ],
   "source": [
    "### USING FUNCTIONS ON DATA FRAMES\n",
    "f = lambda x: x.max() - x.min()\n",
    "stk.apply(f)"
   ]
  },
  {
   "cell_type": "markdown",
   "metadata": {
    "slideshow": {
     "slide_type": "slide"
    }
   },
   "source": [
    "### Apply Methods in Pandas"
   ]
  },
  {
   "cell_type": "code",
   "execution_count": 43,
   "metadata": {
    "slideshow": {
     "slide_type": "fragment"
    }
   },
   "outputs": [
    {
     "data": {
      "text/html": [
       "<div>\n",
       "<style scoped>\n",
       "    .dataframe tbody tr th:only-of-type {\n",
       "        vertical-align: middle;\n",
       "    }\n",
       "\n",
       "    .dataframe tbody tr th {\n",
       "        vertical-align: top;\n",
       "    }\n",
       "\n",
       "    .dataframe thead th {\n",
       "        text-align: right;\n",
       "    }\n",
       "</style>\n",
       "<table border=\"1\" class=\"dataframe\">\n",
       "  <thead>\n",
       "    <tr style=\"text-align: right;\">\n",
       "      <th></th>\n",
       "      <th>C</th>\n",
       "      <th>AAPL</th>\n",
       "      <th>CSCO</th>\n",
       "      <th>MSFT</th>\n",
       "      <th>IBM</th>\n",
       "    </tr>\n",
       "  </thead>\n",
       "  <tbody>\n",
       "    <tr>\n",
       "      <th>mean</th>\n",
       "      <td>91.452303</td>\n",
       "      <td>66.181273</td>\n",
       "      <td>21.326877</td>\n",
       "      <td>33.849204</td>\n",
       "      <td>131.724102</td>\n",
       "    </tr>\n",
       "    <tr>\n",
       "      <th>stdev</th>\n",
       "      <td>115.994143</td>\n",
       "      <td>43.569095</td>\n",
       "      <td>5.766690</td>\n",
       "      <td>16.766570</td>\n",
       "      <td>33.377136</td>\n",
       "    </tr>\n",
       "    <tr>\n",
       "      <th>min</th>\n",
       "      <td>9.895263</td>\n",
       "      <td>10.014443</td>\n",
       "      <td>11.169631</td>\n",
       "      <td>12.110738</td>\n",
       "      <td>57.401588</td>\n",
       "    </tr>\n",
       "    <tr>\n",
       "      <th>max</th>\n",
       "      <td>493.911316</td>\n",
       "      <td>179.259995</td>\n",
       "      <td>42.099998</td>\n",
       "      <td>91.900002</td>\n",
       "      <td>186.374741</td>\n",
       "    </tr>\n",
       "  </tbody>\n",
       "</table>\n",
       "</div>"
      ],
      "text/plain": [
       "                C        AAPL       CSCO       MSFT         IBM\n",
       "mean    91.452303   66.181273  21.326877  33.849204  131.724102\n",
       "stdev  115.994143   43.569095   5.766690  16.766570   33.377136\n",
       "min      9.895263   10.014443  11.169631  12.110738   57.401588\n",
       "max    493.911316  179.259995  42.099998  91.900002  186.374741"
      ]
     },
     "execution_count": 43,
     "metadata": {},
     "output_type": "execute_result"
    }
   ],
   "source": [
    "def g(x):\n",
    "    return pd.Series([x.mean(),x.std(),x.min(),x.max()], index=['mean','stdev','min','max'])\n",
    "stk.apply(g)"
   ]
  },
  {
   "cell_type": "code",
   "execution_count": 44,
   "metadata": {
    "slideshow": {
     "slide_type": "slide"
    }
   },
   "outputs": [
    {
     "name": "stdout",
     "output_type": "stream",
     "text": [
      "                     C       AAPL       CSCO       MSFT        IBM\n",
      "2007-01-03  484.648285  10.731588  22.741095  22.965631  75.429054\n",
      "2007-01-04  482.981689  10.969785  23.339764  22.927172  76.235504\n",
      "2007-01-05  480.437775  10.891665  23.347965  22.796421  75.545372\n",
      "2007-01-08  482.894012  10.945451  23.479174  23.019470  76.693024\n",
      "2007-01-09  478.683502  11.854692  23.347965  23.042538  77.600342\n"
     ]
    },
    {
     "data": {
      "text/html": [
       "<div>\n",
       "<style scoped>\n",
       "    .dataframe tbody tr th:only-of-type {\n",
       "        vertical-align: middle;\n",
       "    }\n",
       "\n",
       "    .dataframe tbody tr th {\n",
       "        vertical-align: top;\n",
       "    }\n",
       "\n",
       "    .dataframe thead th {\n",
       "        text-align: right;\n",
       "    }\n",
       "</style>\n",
       "<table border=\"1\" class=\"dataframe\">\n",
       "  <thead>\n",
       "    <tr style=\"text-align: right;\">\n",
       "      <th></th>\n",
       "      <th>C</th>\n",
       "      <th>AAPL</th>\n",
       "      <th>CSCO</th>\n",
       "      <th>MSFT</th>\n",
       "      <th>IBM</th>\n",
       "    </tr>\n",
       "  </thead>\n",
       "  <tbody>\n",
       "    <tr>\n",
       "      <th>2018-01-23</th>\n",
       "      <td>78.550003</td>\n",
       "      <td>177.039993</td>\n",
       "      <td>42.099998</td>\n",
       "      <td>91.900002</td>\n",
       "      <td>166.250000</td>\n",
       "    </tr>\n",
       "    <tr>\n",
       "      <th>2018-01-22</th>\n",
       "      <td>78.589996</td>\n",
       "      <td>177.000000</td>\n",
       "      <td>41.660000</td>\n",
       "      <td>91.610001</td>\n",
       "      <td>162.600006</td>\n",
       "    </tr>\n",
       "    <tr>\n",
       "      <th>2018-01-19</th>\n",
       "      <td>78.300003</td>\n",
       "      <td>178.460007</td>\n",
       "      <td>41.290001</td>\n",
       "      <td>90.000000</td>\n",
       "      <td>162.369995</td>\n",
       "    </tr>\n",
       "    <tr>\n",
       "      <th>2018-01-18</th>\n",
       "      <td>77.389999</td>\n",
       "      <td>179.259995</td>\n",
       "      <td>41.299999</td>\n",
       "      <td>90.099998</td>\n",
       "      <td>169.119995</td>\n",
       "    </tr>\n",
       "    <tr>\n",
       "      <th>2018-01-17</th>\n",
       "      <td>77.470001</td>\n",
       "      <td>179.100006</td>\n",
       "      <td>41.200001</td>\n",
       "      <td>90.139999</td>\n",
       "      <td>168.649994</td>\n",
       "    </tr>\n",
       "  </tbody>\n",
       "</table>\n",
       "</div>"
      ],
      "text/plain": [
       "                    C        AAPL       CSCO       MSFT         IBM\n",
       "2018-01-23  78.550003  177.039993  42.099998  91.900002  166.250000\n",
       "2018-01-22  78.589996  177.000000  41.660000  91.610001  162.600006\n",
       "2018-01-19  78.300003  178.460007  41.290001  90.000000  162.369995\n",
       "2018-01-18  77.389999  179.259995  41.299999  90.099998  169.119995\n",
       "2018-01-17  77.470001  179.100006  41.200001  90.139999  168.649994"
      ]
     },
     "execution_count": 44,
     "metadata": {},
     "output_type": "execute_result"
    }
   ],
   "source": [
    "### SORT ON ROW INDEXES\n",
    "\n",
    "print(stk.head())\n",
    "stk.sort_index(axis=0,ascending=False).head()"
   ]
  },
  {
   "cell_type": "code",
   "execution_count": 45,
   "metadata": {
    "slideshow": {
     "slide_type": "slide"
    }
   },
   "outputs": [
    {
     "name": "stdout",
     "output_type": "stream",
     "text": [
      "                     C       AAPL       CSCO       MSFT        IBM\n",
      "2007-01-03  484.648285  10.731588  22.741095  22.965631  75.429054\n",
      "2007-01-04  482.981689  10.969785  23.339764  22.927172  76.235504\n",
      "2007-01-05  480.437775  10.891665  23.347965  22.796421  75.545372\n",
      "2007-01-08  482.894012  10.945451  23.479174  23.019470  76.693024\n",
      "2007-01-09  478.683502  11.854692  23.347965  23.042538  77.600342\n"
     ]
    },
    {
     "data": {
      "text/html": [
       "<div>\n",
       "<style scoped>\n",
       "    .dataframe tbody tr th:only-of-type {\n",
       "        vertical-align: middle;\n",
       "    }\n",
       "\n",
       "    .dataframe tbody tr th {\n",
       "        vertical-align: top;\n",
       "    }\n",
       "\n",
       "    .dataframe thead th {\n",
       "        text-align: right;\n",
       "    }\n",
       "</style>\n",
       "<table border=\"1\" class=\"dataframe\">\n",
       "  <thead>\n",
       "    <tr style=\"text-align: right;\">\n",
       "      <th></th>\n",
       "      <th>MSFT</th>\n",
       "      <th>IBM</th>\n",
       "      <th>CSCO</th>\n",
       "      <th>C</th>\n",
       "      <th>AAPL</th>\n",
       "    </tr>\n",
       "  </thead>\n",
       "  <tbody>\n",
       "    <tr>\n",
       "      <th>2007-01-03</th>\n",
       "      <td>22.965631</td>\n",
       "      <td>75.429054</td>\n",
       "      <td>22.741095</td>\n",
       "      <td>484.648285</td>\n",
       "      <td>10.731588</td>\n",
       "    </tr>\n",
       "    <tr>\n",
       "      <th>2007-01-04</th>\n",
       "      <td>22.927172</td>\n",
       "      <td>76.235504</td>\n",
       "      <td>23.339764</td>\n",
       "      <td>482.981689</td>\n",
       "      <td>10.969785</td>\n",
       "    </tr>\n",
       "    <tr>\n",
       "      <th>2007-01-05</th>\n",
       "      <td>22.796421</td>\n",
       "      <td>75.545372</td>\n",
       "      <td>23.347965</td>\n",
       "      <td>480.437775</td>\n",
       "      <td>10.891665</td>\n",
       "    </tr>\n",
       "    <tr>\n",
       "      <th>2007-01-08</th>\n",
       "      <td>23.019470</td>\n",
       "      <td>76.693024</td>\n",
       "      <td>23.479174</td>\n",
       "      <td>482.894012</td>\n",
       "      <td>10.945451</td>\n",
       "    </tr>\n",
       "    <tr>\n",
       "      <th>2007-01-09</th>\n",
       "      <td>23.042538</td>\n",
       "      <td>77.600342</td>\n",
       "      <td>23.347965</td>\n",
       "      <td>478.683502</td>\n",
       "      <td>11.854692</td>\n",
       "    </tr>\n",
       "  </tbody>\n",
       "</table>\n",
       "</div>"
      ],
      "text/plain": [
       "                 MSFT        IBM       CSCO           C       AAPL\n",
       "2007-01-03  22.965631  75.429054  22.741095  484.648285  10.731588\n",
       "2007-01-04  22.927172  76.235504  23.339764  482.981689  10.969785\n",
       "2007-01-05  22.796421  75.545372  23.347965  480.437775  10.891665\n",
       "2007-01-08  23.019470  76.693024  23.479174  482.894012  10.945451\n",
       "2007-01-09  23.042538  77.600342  23.347965  478.683502  11.854692"
      ]
     },
     "execution_count": 45,
     "metadata": {},
     "output_type": "execute_result"
    }
   ],
   "source": [
    "### SORT ON COLUMN HEADERS\n",
    "\n",
    "print(stk.head())\n",
    "stk.sort_index(axis=1,ascending=False).head()"
   ]
  },
  {
   "cell_type": "code",
   "execution_count": 46,
   "metadata": {
    "slideshow": {
     "slide_type": "slide"
    }
   },
   "outputs": [
    {
     "data": {
      "text/plain": [
       "C       254603.211688\n",
       "AAPL    184248.664319\n",
       "CSCO     59374.026665\n",
       "MSFT     94236.183181\n",
       "IBM     366719.901010\n",
       "dtype: float64"
      ]
     },
     "execution_count": 46,
     "metadata": {},
     "output_type": "execute_result"
    }
   ],
   "source": [
    "### SUM COLUMNS\n",
    "\n",
    "stk.sum()"
   ]
  },
  {
   "cell_type": "code",
   "execution_count": 47,
   "metadata": {
    "slideshow": {
     "slide_type": "fragment"
    }
   },
   "outputs": [
    {
     "data": {
      "text/plain": [
       "C        91.452303\n",
       "AAPL     66.181273\n",
       "CSCO     21.326877\n",
       "MSFT     33.849204\n",
       "IBM     131.724102\n",
       "dtype: float64"
      ]
     },
     "execution_count": 47,
     "metadata": {},
     "output_type": "execute_result"
    }
   ],
   "source": [
    "### AVERAGE OF COLUMNS\n",
    "\n",
    "stk.mean()"
   ]
  },
  {
   "cell_type": "code",
   "execution_count": 48,
   "metadata": {
    "slideshow": {
     "slide_type": "slide"
    }
   },
   "outputs": [
    {
     "data": {
      "text/html": [
       "<div>\n",
       "<style scoped>\n",
       "    .dataframe tbody tr th:only-of-type {\n",
       "        vertical-align: middle;\n",
       "    }\n",
       "\n",
       "    .dataframe tbody tr th {\n",
       "        vertical-align: top;\n",
       "    }\n",
       "\n",
       "    .dataframe thead th {\n",
       "        text-align: right;\n",
       "    }\n",
       "</style>\n",
       "<table border=\"1\" class=\"dataframe\">\n",
       "  <thead>\n",
       "    <tr style=\"text-align: right;\">\n",
       "      <th></th>\n",
       "      <th>C</th>\n",
       "      <th>AAPL</th>\n",
       "      <th>CSCO</th>\n",
       "      <th>MSFT</th>\n",
       "      <th>IBM</th>\n",
       "    </tr>\n",
       "  </thead>\n",
       "  <tbody>\n",
       "    <tr>\n",
       "      <th>2007-01-03</th>\n",
       "      <td>NaN</td>\n",
       "      <td>NaN</td>\n",
       "      <td>NaN</td>\n",
       "      <td>NaN</td>\n",
       "      <td>NaN</td>\n",
       "    </tr>\n",
       "    <tr>\n",
       "      <th>2007-01-04</th>\n",
       "      <td>-1.666596</td>\n",
       "      <td>0.238197</td>\n",
       "      <td>0.598669</td>\n",
       "      <td>-0.038459</td>\n",
       "      <td>0.806450</td>\n",
       "    </tr>\n",
       "    <tr>\n",
       "      <th>2007-01-05</th>\n",
       "      <td>-2.543914</td>\n",
       "      <td>-0.078120</td>\n",
       "      <td>0.008201</td>\n",
       "      <td>-0.130751</td>\n",
       "      <td>-0.690132</td>\n",
       "    </tr>\n",
       "    <tr>\n",
       "      <th>2007-01-08</th>\n",
       "      <td>2.456237</td>\n",
       "      <td>0.053786</td>\n",
       "      <td>0.131209</td>\n",
       "      <td>0.223049</td>\n",
       "      <td>1.147652</td>\n",
       "    </tr>\n",
       "    <tr>\n",
       "      <th>2007-01-09</th>\n",
       "      <td>-4.210510</td>\n",
       "      <td>0.909241</td>\n",
       "      <td>-0.131209</td>\n",
       "      <td>0.023068</td>\n",
       "      <td>0.907318</td>\n",
       "    </tr>\n",
       "  </tbody>\n",
       "</table>\n",
       "</div>"
      ],
      "text/plain": [
       "                   C      AAPL      CSCO      MSFT       IBM\n",
       "2007-01-03       NaN       NaN       NaN       NaN       NaN\n",
       "2007-01-04 -1.666596  0.238197  0.598669 -0.038459  0.806450\n",
       "2007-01-05 -2.543914 -0.078120  0.008201 -0.130751 -0.690132\n",
       "2007-01-08  2.456237  0.053786  0.131209  0.223049  1.147652\n",
       "2007-01-09 -4.210510  0.909241 -0.131209  0.023068  0.907318"
      ]
     },
     "execution_count": 48,
     "metadata": {},
     "output_type": "execute_result"
    }
   ],
   "source": [
    "### FIRST DIFFERENCE THE DATA\n",
    "\n",
    "stk.diff().head()"
   ]
  },
  {
   "cell_type": "code",
   "execution_count": 49,
   "metadata": {
    "slideshow": {
     "slide_type": "slide"
    }
   },
   "outputs": [
    {
     "data": {
      "text/html": [
       "<div>\n",
       "<style scoped>\n",
       "    .dataframe tbody tr th:only-of-type {\n",
       "        vertical-align: middle;\n",
       "    }\n",
       "\n",
       "    .dataframe tbody tr th {\n",
       "        vertical-align: top;\n",
       "    }\n",
       "\n",
       "    .dataframe thead th {\n",
       "        text-align: right;\n",
       "    }\n",
       "</style>\n",
       "<table border=\"1\" class=\"dataframe\">\n",
       "  <thead>\n",
       "    <tr style=\"text-align: right;\">\n",
       "      <th></th>\n",
       "      <th>C</th>\n",
       "      <th>AAPL</th>\n",
       "      <th>CSCO</th>\n",
       "      <th>MSFT</th>\n",
       "      <th>IBM</th>\n",
       "    </tr>\n",
       "  </thead>\n",
       "  <tbody>\n",
       "    <tr>\n",
       "      <th>2007-01-03</th>\n",
       "      <td>NaN</td>\n",
       "      <td>NaN</td>\n",
       "      <td>NaN</td>\n",
       "      <td>NaN</td>\n",
       "      <td>NaN</td>\n",
       "    </tr>\n",
       "    <tr>\n",
       "      <th>2007-01-04</th>\n",
       "      <td>-0.003439</td>\n",
       "      <td>0.022196</td>\n",
       "      <td>0.026325</td>\n",
       "      <td>-0.001675</td>\n",
       "      <td>0.010692</td>\n",
       "    </tr>\n",
       "    <tr>\n",
       "      <th>2007-01-05</th>\n",
       "      <td>-0.005267</td>\n",
       "      <td>-0.007121</td>\n",
       "      <td>0.000351</td>\n",
       "      <td>-0.005703</td>\n",
       "      <td>-0.009053</td>\n",
       "    </tr>\n",
       "    <tr>\n",
       "      <th>2007-01-08</th>\n",
       "      <td>0.005112</td>\n",
       "      <td>0.004938</td>\n",
       "      <td>0.005620</td>\n",
       "      <td>0.009784</td>\n",
       "      <td>0.015192</td>\n",
       "    </tr>\n",
       "    <tr>\n",
       "      <th>2007-01-09</th>\n",
       "      <td>-0.008719</td>\n",
       "      <td>0.083070</td>\n",
       "      <td>-0.005588</td>\n",
       "      <td>0.001002</td>\n",
       "      <td>0.011831</td>\n",
       "    </tr>\n",
       "  </tbody>\n",
       "</table>\n",
       "</div>"
      ],
      "text/plain": [
       "                   C      AAPL      CSCO      MSFT       IBM\n",
       "2007-01-03       NaN       NaN       NaN       NaN       NaN\n",
       "2007-01-04 -0.003439  0.022196  0.026325 -0.001675  0.010692\n",
       "2007-01-05 -0.005267 -0.007121  0.000351 -0.005703 -0.009053\n",
       "2007-01-08  0.005112  0.004938  0.005620  0.009784  0.015192\n",
       "2007-01-09 -0.008719  0.083070 -0.005588  0.001002  0.011831"
      ]
     },
     "execution_count": 49,
     "metadata": {},
     "output_type": "execute_result"
    }
   ],
   "source": [
    "### COMPUTE PERCENTAGE DAILY RETURN\n",
    "\n",
    "stk.pct_change().head()"
   ]
  },
  {
   "cell_type": "markdown",
   "metadata": {
    "slideshow": {
     "slide_type": "slide"
    }
   },
   "source": [
    "### Annualize Return Mean and Standard Deviation "
   ]
  },
  {
   "cell_type": "code",
   "execution_count": 50,
   "metadata": {
    "slideshow": {
     "slide_type": "fragment"
    }
   },
   "outputs": [
    {
     "data": {
      "text/plain": [
       "C       0.008574\n",
       "AAPL    0.304500\n",
       "CSCO    0.098403\n",
       "MSFT    0.162785\n",
       "IBM     0.095743\n",
       "dtype: float64"
      ]
     },
     "execution_count": 50,
     "metadata": {},
     "output_type": "execute_result"
    }
   ],
   "source": [
    "### Annualize Mean\n",
    "stk.pct_change().mean()*252.0"
   ]
  },
  {
   "cell_type": "code",
   "execution_count": 51,
   "metadata": {
    "slideshow": {
     "slide_type": "fragment"
    }
   },
   "outputs": [
    {
     "data": {
      "text/plain": [
       "C       0.592332\n",
       "AAPL    0.317508\n",
       "CSCO    0.291561\n",
       "MSFT    0.273376\n",
       "IBM     0.219898\n",
       "dtype: float64"
      ]
     },
     "execution_count": 51,
     "metadata": {},
     "output_type": "execute_result"
    }
   ],
   "source": [
    "### Annualize SD\n",
    "stk.pct_change().std()*sqrt(252.0)"
   ]
  },
  {
   "cell_type": "code",
   "execution_count": 52,
   "metadata": {
    "slideshow": {
     "slide_type": "slide"
    }
   },
   "outputs": [
    {
     "data": {
      "text/html": [
       "<div>\n",
       "<style scoped>\n",
       "    .dataframe tbody tr th:only-of-type {\n",
       "        vertical-align: middle;\n",
       "    }\n",
       "\n",
       "    .dataframe tbody tr th {\n",
       "        vertical-align: top;\n",
       "    }\n",
       "\n",
       "    .dataframe thead th {\n",
       "        text-align: right;\n",
       "    }\n",
       "</style>\n",
       "<table border=\"1\" class=\"dataframe\">\n",
       "  <thead>\n",
       "    <tr style=\"text-align: right;\">\n",
       "      <th></th>\n",
       "      <th>C</th>\n",
       "      <th>AAPL</th>\n",
       "      <th>CSCO</th>\n",
       "      <th>MSFT</th>\n",
       "      <th>IBM</th>\n",
       "    </tr>\n",
       "  </thead>\n",
       "  <tbody>\n",
       "    <tr>\n",
       "      <th>C</th>\n",
       "      <td>1.000000</td>\n",
       "      <td>0.376057</td>\n",
       "      <td>0.461910</td>\n",
       "      <td>0.404598</td>\n",
       "      <td>0.432746</td>\n",
       "    </tr>\n",
       "    <tr>\n",
       "      <th>AAPL</th>\n",
       "      <td>0.376057</td>\n",
       "      <td>1.000000</td>\n",
       "      <td>0.479957</td>\n",
       "      <td>0.464894</td>\n",
       "      <td>0.458219</td>\n",
       "    </tr>\n",
       "    <tr>\n",
       "      <th>CSCO</th>\n",
       "      <td>0.461910</td>\n",
       "      <td>0.479957</td>\n",
       "      <td>1.000000</td>\n",
       "      <td>0.583646</td>\n",
       "      <td>0.558308</td>\n",
       "    </tr>\n",
       "    <tr>\n",
       "      <th>MSFT</th>\n",
       "      <td>0.404598</td>\n",
       "      <td>0.464894</td>\n",
       "      <td>0.583646</td>\n",
       "      <td>1.000000</td>\n",
       "      <td>0.528534</td>\n",
       "    </tr>\n",
       "    <tr>\n",
       "      <th>IBM</th>\n",
       "      <td>0.432746</td>\n",
       "      <td>0.458219</td>\n",
       "      <td>0.558308</td>\n",
       "      <td>0.528534</td>\n",
       "      <td>1.000000</td>\n",
       "    </tr>\n",
       "  </tbody>\n",
       "</table>\n",
       "</div>"
      ],
      "text/plain": [
       "             C      AAPL      CSCO      MSFT       IBM\n",
       "C     1.000000  0.376057  0.461910  0.404598  0.432746\n",
       "AAPL  0.376057  1.000000  0.479957  0.464894  0.458219\n",
       "CSCO  0.461910  0.479957  1.000000  0.583646  0.558308\n",
       "MSFT  0.404598  0.464894  0.583646  1.000000  0.528534\n",
       "IBM   0.432746  0.458219  0.558308  0.528534  1.000000"
      ]
     },
     "execution_count": 52,
     "metadata": {},
     "output_type": "execute_result"
    }
   ],
   "source": [
    "### CORRELATION MATRIX\n",
    "\n",
    "rets = stk.pct_change()\n",
    "rets.corr()"
   ]
  },
  {
   "cell_type": "code",
   "execution_count": 53,
   "metadata": {
    "slideshow": {
     "slide_type": "fragment"
    }
   },
   "outputs": [
    {
     "data": {
      "text/plain": [
       "C       0.376057\n",
       "AAPL    1.000000\n",
       "CSCO    0.479957\n",
       "MSFT    0.464894\n",
       "IBM     0.458219\n",
       "dtype: float64"
      ]
     },
     "execution_count": 53,
     "metadata": {},
     "output_type": "execute_result"
    }
   ],
   "source": [
    "rets.corrwith(rets.AAPL)"
   ]
  },
  {
   "cell_type": "code",
   "execution_count": 54,
   "metadata": {
    "slideshow": {
     "slide_type": "slide"
    }
   },
   "outputs": [
    {
     "data": {
      "text/html": [
       "<div>\n",
       "<style scoped>\n",
       "    .dataframe tbody tr th:only-of-type {\n",
       "        vertical-align: middle;\n",
       "    }\n",
       "\n",
       "    .dataframe tbody tr th {\n",
       "        vertical-align: top;\n",
       "    }\n",
       "\n",
       "    .dataframe thead th {\n",
       "        text-align: right;\n",
       "    }\n",
       "</style>\n",
       "<table border=\"1\" class=\"dataframe\">\n",
       "  <thead>\n",
       "    <tr style=\"text-align: right;\">\n",
       "      <th></th>\n",
       "      <th>C</th>\n",
       "      <th>AAPL</th>\n",
       "      <th>CSCO</th>\n",
       "      <th>MSFT</th>\n",
       "      <th>IBM</th>\n",
       "    </tr>\n",
       "  </thead>\n",
       "  <tbody>\n",
       "    <tr>\n",
       "      <th>C</th>\n",
       "      <td>0.001392</td>\n",
       "      <td>0.000281</td>\n",
       "      <td>0.000317</td>\n",
       "      <td>0.000260</td>\n",
       "      <td>0.000224</td>\n",
       "    </tr>\n",
       "    <tr>\n",
       "      <th>AAPL</th>\n",
       "      <td>0.000281</td>\n",
       "      <td>0.000400</td>\n",
       "      <td>0.000176</td>\n",
       "      <td>0.000160</td>\n",
       "      <td>0.000127</td>\n",
       "    </tr>\n",
       "    <tr>\n",
       "      <th>CSCO</th>\n",
       "      <td>0.000317</td>\n",
       "      <td>0.000176</td>\n",
       "      <td>0.000337</td>\n",
       "      <td>0.000185</td>\n",
       "      <td>0.000142</td>\n",
       "    </tr>\n",
       "    <tr>\n",
       "      <th>MSFT</th>\n",
       "      <td>0.000260</td>\n",
       "      <td>0.000160</td>\n",
       "      <td>0.000185</td>\n",
       "      <td>0.000297</td>\n",
       "      <td>0.000126</td>\n",
       "    </tr>\n",
       "    <tr>\n",
       "      <th>IBM</th>\n",
       "      <td>0.000224</td>\n",
       "      <td>0.000127</td>\n",
       "      <td>0.000142</td>\n",
       "      <td>0.000126</td>\n",
       "      <td>0.000192</td>\n",
       "    </tr>\n",
       "  </tbody>\n",
       "</table>\n",
       "</div>"
      ],
      "text/plain": [
       "             C      AAPL      CSCO      MSFT       IBM\n",
       "C     0.001392  0.000281  0.000317  0.000260  0.000224\n",
       "AAPL  0.000281  0.000400  0.000176  0.000160  0.000127\n",
       "CSCO  0.000317  0.000176  0.000337  0.000185  0.000142\n",
       "MSFT  0.000260  0.000160  0.000185  0.000297  0.000126\n",
       "IBM   0.000224  0.000127  0.000142  0.000126  0.000192"
      ]
     },
     "execution_count": 54,
     "metadata": {},
     "output_type": "execute_result"
    }
   ],
   "source": [
    "### COVARIANCE MATRIX\n",
    "\n",
    "rets.cov()"
   ]
  },
  {
   "cell_type": "code",
   "execution_count": 55,
   "metadata": {
    "slideshow": {
     "slide_type": "fragment"
    }
   },
   "outputs": [
    {
     "data": {
      "text/plain": [
       "array([0.59233174, 0.31750826, 0.29156094, 0.2733764 , 0.21989784])"
      ]
     },
     "execution_count": 55,
     "metadata": {},
     "output_type": "execute_result"
    }
   ],
   "source": [
    "sqrt(diag(rets.cov())*252.0)"
   ]
  },
  {
   "cell_type": "markdown",
   "metadata": {
    "slideshow": {
     "slide_type": "slide"
    }
   },
   "source": [
    "### Stacking up Data in Panels"
   ]
  },
  {
   "cell_type": "code",
   "execution_count": 56,
   "metadata": {
    "slideshow": {
     "slide_type": "fragment"
    }
   },
   "outputs": [
    {
     "data": {
      "text/plain": [
       "<class 'pandas.core.panel.Panel'>\n",
       "Dimensions: 5 (items) x 505 (major_axis) x 6 (minor_axis)\n",
       "Items axis: AAPL to MSFT\n",
       "Major_axis axis: 2015-04-01 00:00:00 to 2017-03-31 00:00:00\n",
       "Minor_axis axis: Open to Volume"
      ]
     },
     "execution_count": 56,
     "metadata": {},
     "output_type": "execute_result"
    }
   ],
   "source": [
    "from datetime import datetime\n",
    "import pandas_datareader.data as web\n",
    "panel = pd.Panel(dict((stock, web.DataReader(stock,\"yahoo\",datetime(2015,4,1),\n",
    "                                             datetime(2017,3,31))) \n",
    "                      for stock in ['C','AAPL','CSCO','MSFT','IBM']))\n",
    "panel"
   ]
  },
  {
   "cell_type": "code",
   "execution_count": 57,
   "metadata": {
    "slideshow": {
     "slide_type": "slide"
    }
   },
   "outputs": [
    {
     "name": "stderr",
     "output_type": "stream",
     "text": [
      "/home/srdas/anaconda3/lib/python3.6/site-packages/ipykernel_launcher.py:3: DeprecationWarning: \n",
      "Panel is deprecated and will be removed in a future version.\n",
      "The recommended way to represent these types of 3-dimensional data are with a MultiIndex on a DataFrame, via the Panel.to_frame() method\n",
      "Alternatively, you can use the xarray package http://xarray.pydata.org/en/stable/.\n",
      "Pandas provides a `.to_xarray()` method to help automate this conversion.\n",
      "\n",
      "  This is separate from the ipykernel package so we can avoid doing imports until\n"
     ]
    },
    {
     "data": {
      "text/plain": [
       "<class 'pandas.core.panel.Panel'>\n",
       "Dimensions: 6 (items) x 505 (major_axis) x 5 (minor_axis)\n",
       "Items axis: Open to Volume\n",
       "Major_axis axis: 2015-04-01 00:00:00 to 2017-03-31 00:00:00\n",
       "Minor_axis axis: AAPL to MSFT"
      ]
     },
     "execution_count": 57,
     "metadata": {},
     "output_type": "execute_result"
    }
   ],
   "source": [
    "### RE-ARRANGE DIMENSIONS\n",
    "\n",
    "panel = panel.swapaxes('items','minor')\n",
    "panel"
   ]
  },
  {
   "cell_type": "code",
   "execution_count": 58,
   "metadata": {
    "slideshow": {
     "slide_type": "fragment"
    }
   },
   "outputs": [
    {
     "data": {
      "text/html": [
       "<div>\n",
       "<style scoped>\n",
       "    .dataframe tbody tr th:only-of-type {\n",
       "        vertical-align: middle;\n",
       "    }\n",
       "\n",
       "    .dataframe tbody tr th {\n",
       "        vertical-align: top;\n",
       "    }\n",
       "\n",
       "    .dataframe thead th {\n",
       "        text-align: right;\n",
       "    }\n",
       "</style>\n",
       "<table border=\"1\" class=\"dataframe\">\n",
       "  <thead>\n",
       "    <tr style=\"text-align: right;\">\n",
       "      <th></th>\n",
       "      <th>AAPL</th>\n",
       "      <th>C</th>\n",
       "      <th>CSCO</th>\n",
       "      <th>IBM</th>\n",
       "      <th>MSFT</th>\n",
       "    </tr>\n",
       "    <tr>\n",
       "      <th>Date</th>\n",
       "      <th></th>\n",
       "      <th></th>\n",
       "      <th></th>\n",
       "      <th></th>\n",
       "      <th></th>\n",
       "    </tr>\n",
       "  </thead>\n",
       "  <tbody>\n",
       "    <tr>\n",
       "      <th>2015-04-01</th>\n",
       "      <td>118.082253</td>\n",
       "      <td>50.277233</td>\n",
       "      <td>24.844120</td>\n",
       "      <td>143.946548</td>\n",
       "      <td>38.008038</td>\n",
       "    </tr>\n",
       "    <tr>\n",
       "      <th>2015-04-02</th>\n",
       "      <td>119.099136</td>\n",
       "      <td>50.510998</td>\n",
       "      <td>24.734716</td>\n",
       "      <td>145.094986</td>\n",
       "      <td>37.606670</td>\n",
       "    </tr>\n",
       "    <tr>\n",
       "      <th>2015-04-06</th>\n",
       "      <td>121.028358</td>\n",
       "      <td>50.277233</td>\n",
       "      <td>24.816769</td>\n",
       "      <td>146.532867</td>\n",
       "      <td>38.782757</td>\n",
       "    </tr>\n",
       "    <tr>\n",
       "      <th>2015-04-07</th>\n",
       "      <td>119.754898</td>\n",
       "      <td>50.179832</td>\n",
       "      <td>24.971762</td>\n",
       "      <td>146.559967</td>\n",
       "      <td>38.764088</td>\n",
       "    </tr>\n",
       "    <tr>\n",
       "      <th>2015-04-08</th>\n",
       "      <td>119.365242</td>\n",
       "      <td>50.540207</td>\n",
       "      <td>25.117636</td>\n",
       "      <td>146.361053</td>\n",
       "      <td>38.661415</td>\n",
       "    </tr>\n",
       "  </tbody>\n",
       "</table>\n",
       "</div>"
      ],
      "text/plain": [
       "                  AAPL          C       CSCO         IBM       MSFT\n",
       "Date                                                               \n",
       "2015-04-01  118.082253  50.277233  24.844120  143.946548  38.008038\n",
       "2015-04-02  119.099136  50.510998  24.734716  145.094986  37.606670\n",
       "2015-04-06  121.028358  50.277233  24.816769  146.532867  38.782757\n",
       "2015-04-07  119.754898  50.179832  24.971762  146.559967  38.764088\n",
       "2015-04-08  119.365242  50.540207  25.117636  146.361053  38.661415"
      ]
     },
     "execution_count": 58,
     "metadata": {},
     "output_type": "execute_result"
    }
   ],
   "source": [
    "panel['Adj Close'].head()"
   ]
  },
  {
   "cell_type": "code",
   "execution_count": 59,
   "metadata": {
    "slideshow": {
     "slide_type": "slide"
    }
   },
   "outputs": [
    {
     "name": "stderr",
     "output_type": "stream",
     "text": [
      "/home/srdas/anaconda3/lib/python3.6/site-packages/ipykernel_launcher.py:3: DeprecationWarning: \n",
      ".ix is deprecated. Please use\n",
      ".loc for label based indexing or\n",
      ".iloc for positional indexing\n",
      "\n",
      "See the documentation here:\n",
      "http://pandas.pydata.org/pandas-docs/stable/indexing.html#ix-indexer-is-deprecated\n",
      "  This is separate from the ipykernel package so we can avoid doing imports until\n"
     ]
    },
    {
     "data": {
      "text/html": [
       "<div>\n",
       "<style scoped>\n",
       "    .dataframe tbody tr th:only-of-type {\n",
       "        vertical-align: middle;\n",
       "    }\n",
       "\n",
       "    .dataframe tbody tr th {\n",
       "        vertical-align: top;\n",
       "    }\n",
       "\n",
       "    .dataframe thead th {\n",
       "        text-align: right;\n",
       "    }\n",
       "</style>\n",
       "<table border=\"1\" class=\"dataframe\">\n",
       "  <thead>\n",
       "    <tr style=\"text-align: right;\">\n",
       "      <th></th>\n",
       "      <th>Open</th>\n",
       "      <th>High</th>\n",
       "      <th>Low</th>\n",
       "      <th>Close</th>\n",
       "      <th>Adj Close</th>\n",
       "      <th>Volume</th>\n",
       "    </tr>\n",
       "  </thead>\n",
       "  <tbody>\n",
       "    <tr>\n",
       "      <th>AAPL</th>\n",
       "      <td>124.470001</td>\n",
       "      <td>127.510002</td>\n",
       "      <td>124.330002</td>\n",
       "      <td>127.349998</td>\n",
       "      <td>121.028358</td>\n",
       "      <td>37194000.0</td>\n",
       "    </tr>\n",
       "    <tr>\n",
       "      <th>C</th>\n",
       "      <td>51.160000</td>\n",
       "      <td>51.959999</td>\n",
       "      <td>50.980000</td>\n",
       "      <td>51.619999</td>\n",
       "      <td>50.277233</td>\n",
       "      <td>13250800.0</td>\n",
       "    </tr>\n",
       "    <tr>\n",
       "      <th>CSCO</th>\n",
       "      <td>26.959999</td>\n",
       "      <td>27.320000</td>\n",
       "      <td>26.840000</td>\n",
       "      <td>27.219999</td>\n",
       "      <td>24.816769</td>\n",
       "      <td>20004000.0</td>\n",
       "    </tr>\n",
       "    <tr>\n",
       "      <th>IBM</th>\n",
       "      <td>159.690002</td>\n",
       "      <td>162.800003</td>\n",
       "      <td>158.699997</td>\n",
       "      <td>162.039993</td>\n",
       "      <td>146.532867</td>\n",
       "      <td>3465700.0</td>\n",
       "    </tr>\n",
       "    <tr>\n",
       "      <th>MSFT</th>\n",
       "      <td>40.340000</td>\n",
       "      <td>41.779999</td>\n",
       "      <td>40.180000</td>\n",
       "      <td>41.549999</td>\n",
       "      <td>38.782757</td>\n",
       "      <td>39223700.0</td>\n",
       "    </tr>\n",
       "  </tbody>\n",
       "</table>\n",
       "</div>"
      ],
      "text/plain": [
       "            Open        High         Low       Close   Adj Close      Volume\n",
       "AAPL  124.470001  127.510002  124.330002  127.349998  121.028358  37194000.0\n",
       "C      51.160000   51.959999   50.980000   51.619999   50.277233  13250800.0\n",
       "CSCO   26.959999   27.320000   26.840000   27.219999   24.816769  20004000.0\n",
       "IBM   159.690002  162.800003  158.699997  162.039993  146.532867   3465700.0\n",
       "MSFT   40.340000   41.779999   40.180000   41.549999   38.782757  39223700.0"
      ]
     },
     "execution_count": 59,
     "metadata": {},
     "output_type": "execute_result"
    }
   ],
   "source": [
    "### EXTRACT A SINGLE ELEMENT OF THE MIDDLE DIMENSION\n",
    "\n",
    "panel.ix[:,'2015-04-06',:]"
   ]
  },
  {
   "cell_type": "markdown",
   "metadata": {
    "slideshow": {
     "slide_type": "slide"
    }
   },
   "source": [
    "### Reading Data from Files"
   ]
  },
  {
   "cell_type": "code",
   "execution_count": 61,
   "metadata": {
    "slideshow": {
     "slide_type": "fragment"
    }
   },
   "outputs": [],
   "source": [
    "import pandas as pd\n",
    "data = pd.read_table(\"markowitzdata.txt\")"
   ]
  },
  {
   "cell_type": "code",
   "execution_count": 62,
   "metadata": {
    "slideshow": {
     "slide_type": "fragment"
    }
   },
   "outputs": [
    {
     "data": {
      "text/html": [
       "<div>\n",
       "<style scoped>\n",
       "    .dataframe tbody tr th:only-of-type {\n",
       "        vertical-align: middle;\n",
       "    }\n",
       "\n",
       "    .dataframe tbody tr th {\n",
       "        vertical-align: top;\n",
       "    }\n",
       "\n",
       "    .dataframe thead th {\n",
       "        text-align: right;\n",
       "    }\n",
       "</style>\n",
       "<table border=\"1\" class=\"dataframe\">\n",
       "  <thead>\n",
       "    <tr style=\"text-align: right;\">\n",
       "      <th></th>\n",
       "      <th>%DATE</th>\n",
       "      <th>SUNW</th>\n",
       "      <th>MSFT</th>\n",
       "      <th>IBM</th>\n",
       "      <th>CSCO</th>\n",
       "      <th>AMZN</th>\n",
       "      <th>mktrf</th>\n",
       "      <th>smb</th>\n",
       "      <th>hml</th>\n",
       "      <th>rf</th>\n",
       "    </tr>\n",
       "  </thead>\n",
       "  <tbody>\n",
       "    <tr>\n",
       "      <th>0</th>\n",
       "      <td>20010102</td>\n",
       "      <td>-0.087444</td>\n",
       "      <td>0.000000</td>\n",
       "      <td>-0.002206</td>\n",
       "      <td>-0.129085</td>\n",
       "      <td>-0.108434</td>\n",
       "      <td>-0.0345</td>\n",
       "      <td>-0.0037</td>\n",
       "      <td>0.0209</td>\n",
       "      <td>0.00026</td>\n",
       "    </tr>\n",
       "    <tr>\n",
       "      <th>1</th>\n",
       "      <td>20010103</td>\n",
       "      <td>0.297297</td>\n",
       "      <td>0.105187</td>\n",
       "      <td>0.115696</td>\n",
       "      <td>0.240150</td>\n",
       "      <td>0.265766</td>\n",
       "      <td>0.0527</td>\n",
       "      <td>0.0097</td>\n",
       "      <td>-0.0493</td>\n",
       "      <td>0.00026</td>\n",
       "    </tr>\n",
       "    <tr>\n",
       "      <th>2</th>\n",
       "      <td>20010104</td>\n",
       "      <td>-0.060606</td>\n",
       "      <td>0.010430</td>\n",
       "      <td>-0.015192</td>\n",
       "      <td>0.013616</td>\n",
       "      <td>-0.117438</td>\n",
       "      <td>-0.0121</td>\n",
       "      <td>0.0083</td>\n",
       "      <td>-0.0015</td>\n",
       "      <td>0.00026</td>\n",
       "    </tr>\n",
       "    <tr>\n",
       "      <th>3</th>\n",
       "      <td>20010105</td>\n",
       "      <td>-0.096774</td>\n",
       "      <td>0.014194</td>\n",
       "      <td>0.008719</td>\n",
       "      <td>-0.125373</td>\n",
       "      <td>-0.060484</td>\n",
       "      <td>-0.0291</td>\n",
       "      <td>0.0027</td>\n",
       "      <td>0.0242</td>\n",
       "      <td>0.00026</td>\n",
       "    </tr>\n",
       "    <tr>\n",
       "      <th>4</th>\n",
       "      <td>20010108</td>\n",
       "      <td>0.006696</td>\n",
       "      <td>-0.003817</td>\n",
       "      <td>-0.004654</td>\n",
       "      <td>-0.002133</td>\n",
       "      <td>0.025751</td>\n",
       "      <td>-0.0037</td>\n",
       "      <td>-0.0053</td>\n",
       "      <td>0.0129</td>\n",
       "      <td>0.00026</td>\n",
       "    </tr>\n",
       "  </tbody>\n",
       "</table>\n",
       "</div>"
      ],
      "text/plain": [
       "      %DATE      SUNW      MSFT       IBM      CSCO      AMZN   mktrf     smb  \\\n",
       "0  20010102 -0.087444  0.000000 -0.002206 -0.129085 -0.108434 -0.0345 -0.0037   \n",
       "1  20010103  0.297297  0.105187  0.115696  0.240150  0.265766  0.0527  0.0097   \n",
       "2  20010104 -0.060606  0.010430 -0.015192  0.013616 -0.117438 -0.0121  0.0083   \n",
       "3  20010105 -0.096774  0.014194  0.008719 -0.125373 -0.060484 -0.0291  0.0027   \n",
       "4  20010108  0.006696 -0.003817 -0.004654 -0.002133  0.025751 -0.0037 -0.0053   \n",
       "\n",
       "      hml       rf  \n",
       "0  0.0209  0.00026  \n",
       "1 -0.0493  0.00026  \n",
       "2 -0.0015  0.00026  \n",
       "3  0.0242  0.00026  \n",
       "4  0.0129  0.00026  "
      ]
     },
     "execution_count": 62,
     "metadata": {},
     "output_type": "execute_result"
    }
   ],
   "source": [
    "data.head()"
   ]
  },
  {
   "cell_type": "code",
   "execution_count": 64,
   "metadata": {
    "slideshow": {
     "slide_type": "slide"
    }
   },
   "outputs": [],
   "source": [
    "### ANOTHER EXAMPLE\n",
    "\n",
    "gdata = pd.read_csv(\"goog.csv\")"
   ]
  },
  {
   "cell_type": "code",
   "execution_count": 65,
   "metadata": {
    "slideshow": {
     "slide_type": "fragment"
    }
   },
   "outputs": [
    {
     "data": {
      "text/html": [
       "<div>\n",
       "<style scoped>\n",
       "    .dataframe tbody tr th:only-of-type {\n",
       "        vertical-align: middle;\n",
       "    }\n",
       "\n",
       "    .dataframe tbody tr th {\n",
       "        vertical-align: top;\n",
       "    }\n",
       "\n",
       "    .dataframe thead th {\n",
       "        text-align: right;\n",
       "    }\n",
       "</style>\n",
       "<table border=\"1\" class=\"dataframe\">\n",
       "  <thead>\n",
       "    <tr style=\"text-align: right;\">\n",
       "      <th></th>\n",
       "      <th>Date</th>\n",
       "      <th>Open</th>\n",
       "      <th>High</th>\n",
       "      <th>Low</th>\n",
       "      <th>Close</th>\n",
       "      <th>Volume</th>\n",
       "      <th>Adj Close</th>\n",
       "    </tr>\n",
       "  </thead>\n",
       "  <tbody>\n",
       "    <tr>\n",
       "      <th>0</th>\n",
       "      <td>2011-04-06</td>\n",
       "      <td>572.18</td>\n",
       "      <td>575.16</td>\n",
       "      <td>568.00</td>\n",
       "      <td>574.18</td>\n",
       "      <td>2668300</td>\n",
       "      <td>574.18</td>\n",
       "    </tr>\n",
       "    <tr>\n",
       "      <th>1</th>\n",
       "      <td>2011-04-05</td>\n",
       "      <td>581.08</td>\n",
       "      <td>581.49</td>\n",
       "      <td>565.68</td>\n",
       "      <td>569.09</td>\n",
       "      <td>6047500</td>\n",
       "      <td>569.09</td>\n",
       "    </tr>\n",
       "    <tr>\n",
       "      <th>2</th>\n",
       "      <td>2011-04-04</td>\n",
       "      <td>593.00</td>\n",
       "      <td>594.74</td>\n",
       "      <td>583.10</td>\n",
       "      <td>587.68</td>\n",
       "      <td>2054500</td>\n",
       "      <td>587.68</td>\n",
       "    </tr>\n",
       "    <tr>\n",
       "      <th>3</th>\n",
       "      <td>2011-04-01</td>\n",
       "      <td>588.76</td>\n",
       "      <td>595.19</td>\n",
       "      <td>588.76</td>\n",
       "      <td>591.80</td>\n",
       "      <td>2613200</td>\n",
       "      <td>591.80</td>\n",
       "    </tr>\n",
       "    <tr>\n",
       "      <th>4</th>\n",
       "      <td>2011-03-31</td>\n",
       "      <td>583.00</td>\n",
       "      <td>588.16</td>\n",
       "      <td>581.74</td>\n",
       "      <td>586.76</td>\n",
       "      <td>2029400</td>\n",
       "      <td>586.76</td>\n",
       "    </tr>\n",
       "  </tbody>\n",
       "</table>\n",
       "</div>"
      ],
      "text/plain": [
       "         Date    Open    High     Low   Close   Volume  Adj Close\n",
       "0  2011-04-06  572.18  575.16  568.00  574.18  2668300     574.18\n",
       "1  2011-04-05  581.08  581.49  565.68  569.09  6047500     569.09\n",
       "2  2011-04-04  593.00  594.74  583.10  587.68  2054500     587.68\n",
       "3  2011-04-01  588.76  595.19  588.76  591.80  2613200     591.80\n",
       "4  2011-03-31  583.00  588.16  581.74  586.76  2029400     586.76"
      ]
     },
     "execution_count": 65,
     "metadata": {},
     "output_type": "execute_result"
    }
   ],
   "source": [
    "gdata.head()"
   ]
  },
  {
   "cell_type": "code",
   "execution_count": 66,
   "metadata": {
    "slideshow": {
     "slide_type": "slide"
    }
   },
   "outputs": [
    {
     "data": {
      "image/png": "[encoded data removed]",
      "text/plain": [
       "<matplotlib.figure.Figure at 0x7f8d6c0c72e8>"
      ]
     },
     "metadata": {},
     "output_type": "display_data"
    }
   ],
   "source": [
    "### HOW IS STOCK RETURN RELATED TO THAT OF THE MARKET?\n",
    "\n",
    "scatter(data[\"mktrf\"],data[\"IBM\"])\n",
    "xlabel(\"Market return\")\n",
    "ylabel(\"IBM return\")\n",
    "grid(True)"
   ]
  },
  {
   "cell_type": "code",
   "execution_count": 67,
   "metadata": {
    "slideshow": {
     "slide_type": "slide"
    }
   },
   "outputs": [
    {
     "name": "stdout",
     "output_type": "stream",
     "text": [
      "Intercept =  0.00011890050764975846\n",
      "slope (beta) =  1.1091524051108552\n"
     ]
    }
   ],
   "source": [
    "### RUN A REGRESSION AND EXTRACT THE COEFFICIENTS\n",
    "\n",
    "from scipy import stats\n",
    "y = data[\"IBM\"]\n",
    "x = data[\"mktrf\"]\n",
    "b, a, r_value, p_value, std_err = stats.linregress(x,y)\n",
    "print(\"Intercept = \",a)\n",
    "print(\"slope (beta) = \",b)"
   ]
  },
  {
   "cell_type": "markdown",
   "metadata": {
    "slideshow": {
     "slide_type": "slide"
    }
   },
   "source": [
    "### Bringing it all together"
   ]
  },
  {
   "cell_type": "code",
   "execution_count": 70,
   "metadata": {
    "slideshow": {
     "slide_type": "fragment"
    }
   },
   "outputs": [
    {
     "data": {
      "text/html": [
       "<div>\n",
       "<style scoped>\n",
       "    .dataframe tbody tr th:only-of-type {\n",
       "        vertical-align: middle;\n",
       "    }\n",
       "\n",
       "    .dataframe tbody tr th {\n",
       "        vertical-align: top;\n",
       "    }\n",
       "\n",
       "    .dataframe thead th {\n",
       "        text-align: right;\n",
       "    }\n",
       "</style>\n",
       "<table border=\"1\" class=\"dataframe\">\n",
       "  <thead>\n",
       "    <tr style=\"text-align: right;\">\n",
       "      <th></th>\n",
       "      <th>Open</th>\n",
       "      <th>High</th>\n",
       "      <th>Low</th>\n",
       "      <th>Close</th>\n",
       "      <th>Adj Close</th>\n",
       "      <th>Volume</th>\n",
       "    </tr>\n",
       "    <tr>\n",
       "      <th>Date</th>\n",
       "      <th></th>\n",
       "      <th></th>\n",
       "      <th></th>\n",
       "      <th></th>\n",
       "      <th></th>\n",
       "      <th></th>\n",
       "    </tr>\n",
       "  </thead>\n",
       "  <tbody>\n",
       "    <tr>\n",
       "      <th>2015-01-02</th>\n",
       "      <td>111.389999</td>\n",
       "      <td>111.440002</td>\n",
       "      <td>107.349998</td>\n",
       "      <td>109.330002</td>\n",
       "      <td>103.494423</td>\n",
       "      <td>53204600</td>\n",
       "    </tr>\n",
       "    <tr>\n",
       "      <th>2015-01-05</th>\n",
       "      <td>108.290001</td>\n",
       "      <td>108.650002</td>\n",
       "      <td>105.410004</td>\n",
       "      <td>106.250000</td>\n",
       "      <td>100.578819</td>\n",
       "      <td>64285500</td>\n",
       "    </tr>\n",
       "    <tr>\n",
       "      <th>2015-01-06</th>\n",
       "      <td>106.540001</td>\n",
       "      <td>107.430000</td>\n",
       "      <td>104.629997</td>\n",
       "      <td>106.260002</td>\n",
       "      <td>100.588287</td>\n",
       "      <td>65797100</td>\n",
       "    </tr>\n",
       "    <tr>\n",
       "      <th>2015-01-07</th>\n",
       "      <td>107.199997</td>\n",
       "      <td>108.199997</td>\n",
       "      <td>106.699997</td>\n",
       "      <td>107.750000</td>\n",
       "      <td>101.998764</td>\n",
       "      <td>40105900</td>\n",
       "    </tr>\n",
       "    <tr>\n",
       "      <th>2015-01-08</th>\n",
       "      <td>109.230003</td>\n",
       "      <td>112.150002</td>\n",
       "      <td>108.699997</td>\n",
       "      <td>111.889999</td>\n",
       "      <td>105.917770</td>\n",
       "      <td>59364500</td>\n",
       "    </tr>\n",
       "  </tbody>\n",
       "</table>\n",
       "</div>"
      ],
      "text/plain": [
       "                  Open        High         Low       Close   Adj Close  \\\n",
       "Date                                                                     \n",
       "2015-01-02  111.389999  111.440002  107.349998  109.330002  103.494423   \n",
       "2015-01-05  108.290001  108.650002  105.410004  106.250000  100.578819   \n",
       "2015-01-06  106.540001  107.430000  104.629997  106.260002  100.588287   \n",
       "2015-01-07  107.199997  108.199997  106.699997  107.750000  101.998764   \n",
       "2015-01-08  109.230003  112.150002  108.699997  111.889999  105.917770   \n",
       "\n",
       "              Volume  \n",
       "Date                  \n",
       "2015-01-02  53204600  \n",
       "2015-01-05  64285500  \n",
       "2015-01-06  65797100  \n",
       "2015-01-07  40105900  \n",
       "2015-01-08  59364500  "
      ]
     },
     "execution_count": 70,
     "metadata": {},
     "output_type": "execute_result"
    }
   ],
   "source": [
    "import pandas as pd\n",
    "import pandas_datareader.data as web\n",
    "aapl = web.DataReader('AAPL',data_source='yahoo',\n",
    "                      start='1/1/2015',end='4/1/2017')\n",
    "aapl.head()"
   ]
  },
  {
   "cell_type": "code",
   "execution_count": 71,
   "metadata": {
    "slideshow": {
     "slide_type": "fragment"
    }
   },
   "outputs": [
    {
     "data": {
      "text/html": [
       "<div>\n",
       "<style scoped>\n",
       "    .dataframe tbody tr th:only-of-type {\n",
       "        vertical-align: middle;\n",
       "    }\n",
       "\n",
       "    .dataframe tbody tr th {\n",
       "        vertical-align: top;\n",
       "    }\n",
       "\n",
       "    .dataframe thead th {\n",
       "        text-align: right;\n",
       "    }\n",
       "</style>\n",
       "<table border=\"1\" class=\"dataframe\">\n",
       "  <thead>\n",
       "    <tr style=\"text-align: right;\">\n",
       "      <th></th>\n",
       "      <th>Open</th>\n",
       "      <th>High</th>\n",
       "      <th>Low</th>\n",
       "      <th>Close</th>\n",
       "      <th>Adj Close</th>\n",
       "      <th>Volume</th>\n",
       "    </tr>\n",
       "    <tr>\n",
       "      <th>Date</th>\n",
       "      <th></th>\n",
       "      <th></th>\n",
       "      <th></th>\n",
       "      <th></th>\n",
       "      <th></th>\n",
       "      <th></th>\n",
       "    </tr>\n",
       "  </thead>\n",
       "  <tbody>\n",
       "    <tr>\n",
       "      <th>2017-03-27</th>\n",
       "      <td>139.389999</td>\n",
       "      <td>141.220001</td>\n",
       "      <td>138.619995</td>\n",
       "      <td>140.880005</td>\n",
       "      <td>139.251511</td>\n",
       "      <td>23575100</td>\n",
       "    </tr>\n",
       "    <tr>\n",
       "      <th>2017-03-28</th>\n",
       "      <td>140.910004</td>\n",
       "      <td>144.039993</td>\n",
       "      <td>140.619995</td>\n",
       "      <td>143.800003</td>\n",
       "      <td>142.137741</td>\n",
       "      <td>33374800</td>\n",
       "    </tr>\n",
       "    <tr>\n",
       "      <th>2017-03-29</th>\n",
       "      <td>143.679993</td>\n",
       "      <td>144.490005</td>\n",
       "      <td>143.190002</td>\n",
       "      <td>144.119995</td>\n",
       "      <td>142.454041</td>\n",
       "      <td>29190000</td>\n",
       "    </tr>\n",
       "    <tr>\n",
       "      <th>2017-03-30</th>\n",
       "      <td>144.190002</td>\n",
       "      <td>144.500000</td>\n",
       "      <td>143.500000</td>\n",
       "      <td>143.929993</td>\n",
       "      <td>142.266235</td>\n",
       "      <td>21207300</td>\n",
       "    </tr>\n",
       "    <tr>\n",
       "      <th>2017-03-31</th>\n",
       "      <td>143.720001</td>\n",
       "      <td>144.270004</td>\n",
       "      <td>143.009995</td>\n",
       "      <td>143.660004</td>\n",
       "      <td>141.999374</td>\n",
       "      <td>19661700</td>\n",
       "    </tr>\n",
       "  </tbody>\n",
       "</table>\n",
       "</div>"
      ],
      "text/plain": [
       "                  Open        High         Low       Close   Adj Close  \\\n",
       "Date                                                                     \n",
       "2017-03-27  139.389999  141.220001  138.619995  140.880005  139.251511   \n",
       "2017-03-28  140.910004  144.039993  140.619995  143.800003  142.137741   \n",
       "2017-03-29  143.679993  144.490005  143.190002  144.119995  142.454041   \n",
       "2017-03-30  144.190002  144.500000  143.500000  143.929993  142.266235   \n",
       "2017-03-31  143.720001  144.270004  143.009995  143.660004  141.999374   \n",
       "\n",
       "              Volume  \n",
       "Date                  \n",
       "2017-03-27  23575100  \n",
       "2017-03-28  33374800  \n",
       "2017-03-29  29190000  \n",
       "2017-03-30  21207300  \n",
       "2017-03-31  19661700  "
      ]
     },
     "execution_count": 71,
     "metadata": {},
     "output_type": "execute_result"
    }
   ],
   "source": [
    "aapl.tail()"
   ]
  },
  {
   "cell_type": "markdown",
   "metadata": {
    "slideshow": {
     "slide_type": "slide"
    }
   },
   "source": [
    "### Returns and Volatility"
   ]
  },
  {
   "cell_type": "code",
   "execution_count": 72,
   "metadata": {
    "slideshow": {
     "slide_type": "fragment"
    }
   },
   "outputs": [
    {
     "data": {
      "text/html": [
       "<div>\n",
       "<style scoped>\n",
       "    .dataframe tbody tr th:only-of-type {\n",
       "        vertical-align: middle;\n",
       "    }\n",
       "\n",
       "    .dataframe tbody tr th {\n",
       "        vertical-align: top;\n",
       "    }\n",
       "\n",
       "    .dataframe thead th {\n",
       "        text-align: right;\n",
       "    }\n",
       "</style>\n",
       "<table border=\"1\" class=\"dataframe\">\n",
       "  <thead>\n",
       "    <tr style=\"text-align: right;\">\n",
       "      <th></th>\n",
       "      <th>Open</th>\n",
       "      <th>High</th>\n",
       "      <th>Low</th>\n",
       "      <th>Close</th>\n",
       "      <th>Adj Close</th>\n",
       "      <th>Volume</th>\n",
       "      <th>cont_ret</th>\n",
       "    </tr>\n",
       "    <tr>\n",
       "      <th>Date</th>\n",
       "      <th></th>\n",
       "      <th></th>\n",
       "      <th></th>\n",
       "      <th></th>\n",
       "      <th></th>\n",
       "      <th></th>\n",
       "      <th></th>\n",
       "    </tr>\n",
       "  </thead>\n",
       "  <tbody>\n",
       "    <tr>\n",
       "      <th>2015-01-02</th>\n",
       "      <td>111.389999</td>\n",
       "      <td>111.440002</td>\n",
       "      <td>107.349998</td>\n",
       "      <td>109.330002</td>\n",
       "      <td>103.494423</td>\n",
       "      <td>53204600</td>\n",
       "      <td>NaN</td>\n",
       "    </tr>\n",
       "    <tr>\n",
       "      <th>2015-01-05</th>\n",
       "      <td>108.290001</td>\n",
       "      <td>108.650002</td>\n",
       "      <td>105.410004</td>\n",
       "      <td>106.250000</td>\n",
       "      <td>100.578819</td>\n",
       "      <td>64285500</td>\n",
       "      <td>-0.028576</td>\n",
       "    </tr>\n",
       "    <tr>\n",
       "      <th>2015-01-06</th>\n",
       "      <td>106.540001</td>\n",
       "      <td>107.430000</td>\n",
       "      <td>104.629997</td>\n",
       "      <td>106.260002</td>\n",
       "      <td>100.588287</td>\n",
       "      <td>65797100</td>\n",
       "      <td>0.000094</td>\n",
       "    </tr>\n",
       "    <tr>\n",
       "      <th>2015-01-07</th>\n",
       "      <td>107.199997</td>\n",
       "      <td>108.199997</td>\n",
       "      <td>106.699997</td>\n",
       "      <td>107.750000</td>\n",
       "      <td>101.998764</td>\n",
       "      <td>40105900</td>\n",
       "      <td>0.013925</td>\n",
       "    </tr>\n",
       "    <tr>\n",
       "      <th>2015-01-08</th>\n",
       "      <td>109.230003</td>\n",
       "      <td>112.150002</td>\n",
       "      <td>108.699997</td>\n",
       "      <td>111.889999</td>\n",
       "      <td>105.917770</td>\n",
       "      <td>59364500</td>\n",
       "      <td>0.037703</td>\n",
       "    </tr>\n",
       "  </tbody>\n",
       "</table>\n",
       "</div>"
      ],
      "text/plain": [
       "                  Open        High         Low       Close   Adj Close  \\\n",
       "Date                                                                     \n",
       "2015-01-02  111.389999  111.440002  107.349998  109.330002  103.494423   \n",
       "2015-01-05  108.290001  108.650002  105.410004  106.250000  100.578819   \n",
       "2015-01-06  106.540001  107.430000  104.629997  106.260002  100.588287   \n",
       "2015-01-07  107.199997  108.199997  106.699997  107.750000  101.998764   \n",
       "2015-01-08  109.230003  112.150002  108.699997  111.889999  105.917770   \n",
       "\n",
       "              Volume  cont_ret  \n",
       "Date                            \n",
       "2015-01-02  53204600       NaN  \n",
       "2015-01-05  64285500 -0.028576  \n",
       "2015-01-06  65797100  0.000094  \n",
       "2015-01-07  40105900  0.013925  \n",
       "2015-01-08  59364500  0.037703  "
      ]
     },
     "execution_count": 72,
     "metadata": {},
     "output_type": "execute_result"
    }
   ],
   "source": [
    "aapl['cont_ret'] = log(aapl['Close']/aapl['Close'].shift(1))\n",
    "aapl.head()"
   ]
  },
  {
   "cell_type": "code",
   "execution_count": 73,
   "metadata": {
    "slideshow": {
     "slide_type": "fragment"
    }
   },
   "outputs": [
    {
     "data": {
      "text/html": [
       "<div>\n",
       "<style scoped>\n",
       "    .dataframe tbody tr th:only-of-type {\n",
       "        vertical-align: middle;\n",
       "    }\n",
       "\n",
       "    .dataframe tbody tr th {\n",
       "        vertical-align: top;\n",
       "    }\n",
       "\n",
       "    .dataframe thead th {\n",
       "        text-align: right;\n",
       "    }\n",
       "</style>\n",
       "<table border=\"1\" class=\"dataframe\">\n",
       "  <thead>\n",
       "    <tr style=\"text-align: right;\">\n",
       "      <th></th>\n",
       "      <th>Open</th>\n",
       "      <th>High</th>\n",
       "      <th>Low</th>\n",
       "      <th>Close</th>\n",
       "      <th>Adj Close</th>\n",
       "      <th>Volume</th>\n",
       "      <th>cont_ret</th>\n",
       "      <th>Vols</th>\n",
       "    </tr>\n",
       "    <tr>\n",
       "      <th>Date</th>\n",
       "      <th></th>\n",
       "      <th></th>\n",
       "      <th></th>\n",
       "      <th></th>\n",
       "      <th></th>\n",
       "      <th></th>\n",
       "      <th></th>\n",
       "      <th></th>\n",
       "    </tr>\n",
       "  </thead>\n",
       "  <tbody>\n",
       "    <tr>\n",
       "      <th>2017-03-27</th>\n",
       "      <td>139.389999</td>\n",
       "      <td>141.220001</td>\n",
       "      <td>138.619995</td>\n",
       "      <td>140.880005</td>\n",
       "      <td>139.251511</td>\n",
       "      <td>23575100</td>\n",
       "      <td>0.001705</td>\n",
       "      <td>0.131608</td>\n",
       "    </tr>\n",
       "    <tr>\n",
       "      <th>2017-03-28</th>\n",
       "      <td>140.910004</td>\n",
       "      <td>144.039993</td>\n",
       "      <td>140.619995</td>\n",
       "      <td>143.800003</td>\n",
       "      <td>142.137741</td>\n",
       "      <td>33374800</td>\n",
       "      <td>0.020515</td>\n",
       "      <td>0.160824</td>\n",
       "    </tr>\n",
       "    <tr>\n",
       "      <th>2017-03-29</th>\n",
       "      <td>143.679993</td>\n",
       "      <td>144.490005</td>\n",
       "      <td>143.190002</td>\n",
       "      <td>144.119995</td>\n",
       "      <td>142.454041</td>\n",
       "      <td>29190000</td>\n",
       "      <td>0.002223</td>\n",
       "      <td>0.153433</td>\n",
       "    </tr>\n",
       "    <tr>\n",
       "      <th>2017-03-30</th>\n",
       "      <td>144.190002</td>\n",
       "      <td>144.500000</td>\n",
       "      <td>143.500000</td>\n",
       "      <td>143.929993</td>\n",
       "      <td>142.266235</td>\n",
       "      <td>21207300</td>\n",
       "      <td>-0.001319</td>\n",
       "      <td>0.147444</td>\n",
       "    </tr>\n",
       "    <tr>\n",
       "      <th>2017-03-31</th>\n",
       "      <td>143.720001</td>\n",
       "      <td>144.270004</td>\n",
       "      <td>143.009995</td>\n",
       "      <td>143.660004</td>\n",
       "      <td>141.999374</td>\n",
       "      <td>19661700</td>\n",
       "      <td>-0.001878</td>\n",
       "      <td>0.147150</td>\n",
       "    </tr>\n",
       "  </tbody>\n",
       "</table>\n",
       "</div>"
      ],
      "text/plain": [
       "                  Open        High         Low       Close   Adj Close  \\\n",
       "Date                                                                     \n",
       "2017-03-27  139.389999  141.220001  138.619995  140.880005  139.251511   \n",
       "2017-03-28  140.910004  144.039993  140.619995  143.800003  142.137741   \n",
       "2017-03-29  143.679993  144.490005  143.190002  144.119995  142.454041   \n",
       "2017-03-30  144.190002  144.500000  143.500000  143.929993  142.266235   \n",
       "2017-03-31  143.720001  144.270004  143.009995  143.660004  141.999374   \n",
       "\n",
       "              Volume  cont_ret      Vols  \n",
       "Date                                      \n",
       "2017-03-27  23575100  0.001705  0.131608  \n",
       "2017-03-28  33374800  0.020515  0.160824  \n",
       "2017-03-29  29190000  0.002223  0.153433  \n",
       "2017-03-30  21207300 -0.001319  0.147444  \n",
       "2017-03-31  19661700 -0.001878  0.147150  "
      ]
     },
     "execution_count": 73,
     "metadata": {},
     "output_type": "execute_result"
    }
   ],
   "source": [
    "aapl['Vols'] = pd.Series.rolling(aapl['cont_ret'],window=5).std()*sqrt(252.0)\n",
    "\n",
    "aapl.tail()"
   ]
  },
  {
   "cell_type": "code",
   "execution_count": 74,
   "metadata": {
    "slideshow": {
     "slide_type": "slide"
    }
   },
   "outputs": [
    {
     "data": {
      "text/html": [
       "<div>\n",
       "<style scoped>\n",
       "    .dataframe tbody tr th:only-of-type {\n",
       "        vertical-align: middle;\n",
       "    }\n",
       "\n",
       "    .dataframe tbody tr th {\n",
       "        vertical-align: top;\n",
       "    }\n",
       "\n",
       "    .dataframe thead th {\n",
       "        text-align: right;\n",
       "    }\n",
       "</style>\n",
       "<table border=\"1\" class=\"dataframe\">\n",
       "  <thead>\n",
       "    <tr style=\"text-align: right;\">\n",
       "      <th></th>\n",
       "      <th>Open</th>\n",
       "      <th>High</th>\n",
       "      <th>Low</th>\n",
       "      <th>Close</th>\n",
       "      <th>Adj Close</th>\n",
       "      <th>Volume</th>\n",
       "      <th>cont_ret</th>\n",
       "      <th>Vols</th>\n",
       "    </tr>\n",
       "    <tr>\n",
       "      <th>Date</th>\n",
       "      <th></th>\n",
       "      <th></th>\n",
       "      <th></th>\n",
       "      <th></th>\n",
       "      <th></th>\n",
       "      <th></th>\n",
       "      <th></th>\n",
       "      <th></th>\n",
       "    </tr>\n",
       "  </thead>\n",
       "  <tbody>\n",
       "    <tr>\n",
       "      <th>2015-01-02</th>\n",
       "      <td>111.389999</td>\n",
       "      <td>111.440002</td>\n",
       "      <td>107.349998</td>\n",
       "      <td>109.330002</td>\n",
       "      <td>103.494423</td>\n",
       "      <td>53204600</td>\n",
       "      <td>NaN</td>\n",
       "      <td>NaN</td>\n",
       "    </tr>\n",
       "    <tr>\n",
       "      <th>2015-01-05</th>\n",
       "      <td>108.290001</td>\n",
       "      <td>108.650002</td>\n",
       "      <td>105.410004</td>\n",
       "      <td>106.250000</td>\n",
       "      <td>100.578819</td>\n",
       "      <td>64285500</td>\n",
       "      <td>-0.028576</td>\n",
       "      <td>NaN</td>\n",
       "    </tr>\n",
       "    <tr>\n",
       "      <th>2015-01-06</th>\n",
       "      <td>106.540001</td>\n",
       "      <td>107.430000</td>\n",
       "      <td>104.629997</td>\n",
       "      <td>106.260002</td>\n",
       "      <td>100.588287</td>\n",
       "      <td>65797100</td>\n",
       "      <td>0.000094</td>\n",
       "      <td>NaN</td>\n",
       "    </tr>\n",
       "    <tr>\n",
       "      <th>2015-01-07</th>\n",
       "      <td>107.199997</td>\n",
       "      <td>108.199997</td>\n",
       "      <td>106.699997</td>\n",
       "      <td>107.750000</td>\n",
       "      <td>101.998764</td>\n",
       "      <td>40105900</td>\n",
       "      <td>0.013925</td>\n",
       "      <td>NaN</td>\n",
       "    </tr>\n",
       "    <tr>\n",
       "      <th>2015-01-08</th>\n",
       "      <td>109.230003</td>\n",
       "      <td>112.150002</td>\n",
       "      <td>108.699997</td>\n",
       "      <td>111.889999</td>\n",
       "      <td>105.917770</td>\n",
       "      <td>59364500</td>\n",
       "      <td>0.037703</td>\n",
       "      <td>NaN</td>\n",
       "    </tr>\n",
       "    <tr>\n",
       "      <th>2015-01-09</th>\n",
       "      <td>112.669998</td>\n",
       "      <td>113.250000</td>\n",
       "      <td>110.209999</td>\n",
       "      <td>112.010002</td>\n",
       "      <td>106.031380</td>\n",
       "      <td>53699500</td>\n",
       "      <td>0.001072</td>\n",
       "      <td>0.381965</td>\n",
       "    </tr>\n",
       "    <tr>\n",
       "      <th>2015-01-12</th>\n",
       "      <td>112.599998</td>\n",
       "      <td>112.629997</td>\n",
       "      <td>108.800003</td>\n",
       "      <td>109.250000</td>\n",
       "      <td>103.418694</td>\n",
       "      <td>49650800</td>\n",
       "      <td>-0.024949</td>\n",
       "      <td>0.362338</td>\n",
       "    </tr>\n",
       "    <tr>\n",
       "      <th>2015-01-13</th>\n",
       "      <td>111.430000</td>\n",
       "      <td>112.800003</td>\n",
       "      <td>108.910004</td>\n",
       "      <td>110.220001</td>\n",
       "      <td>104.336922</td>\n",
       "      <td>67091900</td>\n",
       "      <td>0.008840</td>\n",
       "      <td>0.359320</td>\n",
       "    </tr>\n",
       "    <tr>\n",
       "      <th>2015-01-14</th>\n",
       "      <td>109.040001</td>\n",
       "      <td>110.489998</td>\n",
       "      <td>108.500000</td>\n",
       "      <td>109.800003</td>\n",
       "      <td>103.939339</td>\n",
       "      <td>48337000</td>\n",
       "      <td>-0.003818</td>\n",
       "      <td>0.360841</td>\n",
       "    </tr>\n",
       "    <tr>\n",
       "      <th>2015-01-15</th>\n",
       "      <td>110.000000</td>\n",
       "      <td>110.059998</td>\n",
       "      <td>106.660004</td>\n",
       "      <td>106.820000</td>\n",
       "      <td>101.118393</td>\n",
       "      <td>60014000</td>\n",
       "      <td>-0.027515</td>\n",
       "      <td>0.256383</td>\n",
       "    </tr>\n",
       "  </tbody>\n",
       "</table>\n",
       "</div>"
      ],
      "text/plain": [
       "                  Open        High         Low       Close   Adj Close  \\\n",
       "Date                                                                     \n",
       "2015-01-02  111.389999  111.440002  107.349998  109.330002  103.494423   \n",
       "2015-01-05  108.290001  108.650002  105.410004  106.250000  100.578819   \n",
       "2015-01-06  106.540001  107.430000  104.629997  106.260002  100.588287   \n",
       "2015-01-07  107.199997  108.199997  106.699997  107.750000  101.998764   \n",
       "2015-01-08  109.230003  112.150002  108.699997  111.889999  105.917770   \n",
       "2015-01-09  112.669998  113.250000  110.209999  112.010002  106.031380   \n",
       "2015-01-12  112.599998  112.629997  108.800003  109.250000  103.418694   \n",
       "2015-01-13  111.430000  112.800003  108.910004  110.220001  104.336922   \n",
       "2015-01-14  109.040001  110.489998  108.500000  109.800003  103.939339   \n",
       "2015-01-15  110.000000  110.059998  106.660004  106.820000  101.118393   \n",
       "\n",
       "              Volume  cont_ret      Vols  \n",
       "Date                                      \n",
       "2015-01-02  53204600       NaN       NaN  \n",
       "2015-01-05  64285500 -0.028576       NaN  \n",
       "2015-01-06  65797100  0.000094       NaN  \n",
       "2015-01-07  40105900  0.013925       NaN  \n",
       "2015-01-08  59364500  0.037703       NaN  \n",
       "2015-01-09  53699500  0.001072  0.381965  \n",
       "2015-01-12  49650800 -0.024949  0.362338  \n",
       "2015-01-13  67091900  0.008840  0.359320  \n",
       "2015-01-14  48337000 -0.003818  0.360841  \n",
       "2015-01-15  60014000 -0.027515  0.256383  "
      ]
     },
     "execution_count": 74,
     "metadata": {},
     "output_type": "execute_result"
    }
   ],
   "source": [
    "### Note that you will lose a decent number of observations\n",
    "\n",
    "aapl.head(10)"
   ]
  },
  {
   "cell_type": "code",
   "execution_count": 75,
   "metadata": {
    "slideshow": {
     "slide_type": "slide"
    }
   },
   "outputs": [
    {
     "data": {
      "text/html": [
       "<div>\n",
       "<style scoped>\n",
       "    .dataframe tbody tr th:only-of-type {\n",
       "        vertical-align: middle;\n",
       "    }\n",
       "\n",
       "    .dataframe tbody tr th {\n",
       "        vertical-align: top;\n",
       "    }\n",
       "\n",
       "    .dataframe thead th {\n",
       "        text-align: right;\n",
       "    }\n",
       "</style>\n",
       "<table border=\"1\" class=\"dataframe\">\n",
       "  <thead>\n",
       "    <tr style=\"text-align: right;\">\n",
       "      <th></th>\n",
       "      <th>Open</th>\n",
       "      <th>High</th>\n",
       "      <th>Low</th>\n",
       "      <th>Close</th>\n",
       "      <th>Adj Close</th>\n",
       "      <th>Volume</th>\n",
       "      <th>cont_ret</th>\n",
       "      <th>Vols</th>\n",
       "    </tr>\n",
       "  </thead>\n",
       "  <tbody>\n",
       "    <tr>\n",
       "      <th>count</th>\n",
       "      <td>566.000000</td>\n",
       "      <td>566.000000</td>\n",
       "      <td>566.000000</td>\n",
       "      <td>566.000000</td>\n",
       "      <td>566.000000</td>\n",
       "      <td>5.660000e+02</td>\n",
       "      <td>565.000000</td>\n",
       "      <td>561.000000</td>\n",
       "    </tr>\n",
       "    <tr>\n",
       "      <th>mean</th>\n",
       "      <td>114.420336</td>\n",
       "      <td>115.398428</td>\n",
       "      <td>113.421148</td>\n",
       "      <td>114.446060</td>\n",
       "      <td>110.667193</td>\n",
       "      <td>4.318625e+07</td>\n",
       "      <td>0.000483</td>\n",
       "      <td>0.209848</td>\n",
       "    </tr>\n",
       "    <tr>\n",
       "      <th>std</th>\n",
       "      <td>12.292393</td>\n",
       "      <td>12.241119</td>\n",
       "      <td>12.324216</td>\n",
       "      <td>12.293932</td>\n",
       "      <td>11.887308</td>\n",
       "      <td>2.042829e+07</td>\n",
       "      <td>0.015288</td>\n",
       "      <td>0.125531</td>\n",
       "    </tr>\n",
       "    <tr>\n",
       "      <th>min</th>\n",
       "      <td>90.000000</td>\n",
       "      <td>91.669998</td>\n",
       "      <td>89.470001</td>\n",
       "      <td>90.339996</td>\n",
       "      <td>87.979477</td>\n",
       "      <td>1.147590e+07</td>\n",
       "      <td>-0.067965</td>\n",
       "      <td>0.022045</td>\n",
       "    </tr>\n",
       "    <tr>\n",
       "      <th>25%</th>\n",
       "      <td>106.625002</td>\n",
       "      <td>107.597502</td>\n",
       "      <td>105.432503</td>\n",
       "      <td>106.107498</td>\n",
       "      <td>103.078348</td>\n",
       "      <td>2.897558e+07</td>\n",
       "      <td>-0.006260</td>\n",
       "      <td>0.115807</td>\n",
       "    </tr>\n",
       "    <tr>\n",
       "      <th>50%</th>\n",
       "      <td>113.694999</td>\n",
       "      <td>114.669998</td>\n",
       "      <td>112.574997</td>\n",
       "      <td>113.635002</td>\n",
       "      <td>110.209125</td>\n",
       "      <td>3.766400e+07</td>\n",
       "      <td>0.000535</td>\n",
       "      <td>0.177400</td>\n",
       "    </tr>\n",
       "    <tr>\n",
       "      <th>75%</th>\n",
       "      <td>124.807499</td>\n",
       "      <td>125.755001</td>\n",
       "      <td>123.672497</td>\n",
       "      <td>124.695000</td>\n",
       "      <td>119.058744</td>\n",
       "      <td>5.121435e+07</td>\n",
       "      <td>0.008377</td>\n",
       "      <td>0.266747</td>\n",
       "    </tr>\n",
       "    <tr>\n",
       "      <th>max</th>\n",
       "      <td>144.190002</td>\n",
       "      <td>144.500000</td>\n",
       "      <td>143.500000</td>\n",
       "      <td>144.119995</td>\n",
       "      <td>142.454041</td>\n",
       "      <td>1.622063e+08</td>\n",
       "      <td>0.062940</td>\n",
       "      <td>0.736485</td>\n",
       "    </tr>\n",
       "  </tbody>\n",
       "</table>\n",
       "</div>"
      ],
      "text/plain": [
       "             Open        High         Low       Close   Adj Close  \\\n",
       "count  566.000000  566.000000  566.000000  566.000000  566.000000   \n",
       "mean   114.420336  115.398428  113.421148  114.446060  110.667193   \n",
       "std     12.292393   12.241119   12.324216   12.293932   11.887308   \n",
       "min     90.000000   91.669998   89.470001   90.339996   87.979477   \n",
       "25%    106.625002  107.597502  105.432503  106.107498  103.078348   \n",
       "50%    113.694999  114.669998  112.574997  113.635002  110.209125   \n",
       "75%    124.807499  125.755001  123.672497  124.695000  119.058744   \n",
       "max    144.190002  144.500000  143.500000  144.119995  142.454041   \n",
       "\n",
       "             Volume    cont_ret        Vols  \n",
       "count  5.660000e+02  565.000000  561.000000  \n",
       "mean   4.318625e+07    0.000483    0.209848  \n",
       "std    2.042829e+07    0.015288    0.125531  \n",
       "min    1.147590e+07   -0.067965    0.022045  \n",
       "25%    2.897558e+07   -0.006260    0.115807  \n",
       "50%    3.766400e+07    0.000535    0.177400  \n",
       "75%    5.121435e+07    0.008377    0.266747  \n",
       "max    1.622063e+08    0.062940    0.736485  "
      ]
     },
     "execution_count": 75,
     "metadata": {},
     "output_type": "execute_result"
    }
   ],
   "source": [
    "### SUMMARY STATS WORKS DESPITE MISSING VALUES\n",
    "\n",
    "aapl.describe()"
   ]
  },
  {
   "cell_type": "code",
   "execution_count": 76,
   "metadata": {
    "slideshow": {
     "slide_type": "slide"
    }
   },
   "outputs": [
    {
     "data": {
      "text/plain": [
       "array([<matplotlib.axes._subplots.AxesSubplot object at 0x7f8d7d3c6198>,\n",
       "       <matplotlib.axes._subplots.AxesSubplot object at 0x7f8d7d393b38>],\n",
       "      dtype=object)"
      ]
     },
     "execution_count": 76,
     "metadata": {},
     "output_type": "execute_result"
    },
    {
     "data": {
      "image/png": "[encoded data removed]",
      "text/plain": [
       "<matplotlib.figure.Figure at 0x7f8d7d43efd0>"
      ]
     },
     "metadata": {},
     "output_type": "display_data"
    }
   ],
   "source": [
    "### PLOT PRICES AND VOLATILITIES\n",
    "\n",
    "aapl[['Close','Vols']].plot(subplots=True,\n",
    "                            color=('blue','red'),figsize=(8,6))"
   ]
  },
  {
   "cell_type": "markdown",
   "metadata": {
    "slideshow": {
     "slide_type": "slide"
    }
   },
   "source": [
    "### Diversification of a Portfolio\n",
    "\n",
    "It is useful to examine the power of using vector algebra with an application. Here we use vector and summation math to understand how diversification in stock portfolios works. Diversification occurs when we increase the number of non-perfectly correlated stocks in a portfolio, thereby reducing portfolio variance. In order to compute the variance of the portfolio we need to use the portfolio weights ${\\bf w}$ and the covariance matrix of stock returns ${\\bf R}$, denoted ${\\bf \\Sigma}$. We first write down the formula for a portfolio's return variance: \n",
    "\n",
    "\\begin{equation}\n",
    "Var({\\bf w'R}) = {\\bf w'\\Sigma w} = \\sum_{i=1}^n {\\bf w_i^2 \\sigma_i^2}\n",
    "+ \\sum_{i=1}^n \\sum_{j=1,i \\neq j}^n {\\bf w_i w_j \\sigma_{ij}}\n",
    "\\end{equation}\n",
    "\n",
    "Readers are strongly encouraged to implement this by hand for $n=2$ to convince themselves that the vector form of the expression for variance ${\\bf w'\\Sigma w}$ is the same thing as the long form on the right-hand side of the equation above. "
   ]
  },
  {
   "cell_type": "markdown",
   "metadata": {
    "slideshow": {
     "slide_type": "slide"
    }
   },
   "source": [
    "### Independent Returns\n",
    "\n",
    "If returns are independent, then the formula collapses to: \n",
    "\n",
    "\\begin{equation}\n",
    "Var(\\bf{w'R}) = \\bf{w'\\Sigma w} = \\sum_{i=1}^n {\\bf w_i^2 \\sigma_i^2}\n",
    "\\end{equation}"
   ]
  },
  {
   "cell_type": "markdown",
   "metadata": {
    "slideshow": {
     "slide_type": "slide"
    }
   },
   "source": [
    "### Correlated returns\n",
    "\n",
    "If returns are dependent, and equal amounts are invested in\n",
    "each asset ($w_i=1/n,\\;\\;\\forall i$):\n",
    "\n",
    "\\begin{eqnarray*}\n",
    "Var(\\bf{w'R}) &=&  \\frac{1}{n}\\sum_{i=1}^n \\frac{\\sigma_i^2}{n}\n",
    "+ \\frac{n-1}{n}\\sum_{i=1}^n \\sum_{j=1,i \\neq j}^n  \\frac{\\sigma_{ij}}{n(n-1)}\\\\\n",
    "&=& \\frac{1}{n} \\bar{\\sigma_i}^2 + \\frac{n-1}{n} \\bar{\\sigma_{ij}}\\\\\n",
    "&=& \\frac{1}{n} \\bar{\\sigma_i}^2 + \\left(1 - \\frac{1}{n} \\right) \\bar{\\sigma_{ij}}\n",
    "\\end{eqnarray*}"
   ]
  },
  {
   "cell_type": "markdown",
   "metadata": {
    "slideshow": {
     "slide_type": "slide"
    }
   },
   "source": [
    "### In the limit\n",
    "\n",
    "The first term is the average variance, denoted $\\bar{\\sigma_1}^2$ divided by $n$, and the second is the average covariance, denoted $\\bar{\\sigma_{ij}}$ multiplied by factor $(n-1)/n$. As $n \\rightarrow \\infty$,\n",
    "\n",
    "\\begin{equation}\n",
    "Var({\\bf w'R}) = \\bar{\\sigma_{ij}}\n",
    "\\end{equation}\n",
    "\n",
    "This produces the remarkable result that in a well diversified portfolio, the variances of each stock's return does not matter at all for portfolio risk! Further the risk of the portfolio, i.e., its variance, is nothing but the average of off-diagonal terms in the covariance matrix. "
   ]
  },
  {
   "cell_type": "markdown",
   "metadata": {
    "slideshow": {
     "slide_type": "slide"
    }
   },
   "source": [
    "### Insight from Diversification Math"
   ]
  },
  {
   "cell_type": "code",
   "execution_count": 77,
   "metadata": {
    "collapsed": true,
    "slideshow": {
     "slide_type": "fragment"
    }
   },
   "outputs": [],
   "source": [
    "sd=0.20; cv=0.01; m=100\n",
    "n = range(1,m+1) \n",
    "sd_p = zeros(m)\n",
    "for j in n:\n",
    "    cv_mat = matrix(ones((j,j))*cv)\n",
    "    fill_diagonal(cv_mat,sd**2)\n",
    "    w = matrix(ones(j)*(1.0/j)).T\n",
    "    sd_p[j-1] = sqrt((w.T).dot(cv_mat).dot(w))"
   ]
  },
  {
   "cell_type": "code",
   "execution_count": 78,
   "metadata": {
    "slideshow": {
     "slide_type": "fragment"
    }
   },
   "outputs": [
    {
     "data": {
      "image/png": "[encoded data removed]",
      "text/plain": [
       "<matplotlib.figure.Figure at 0x7f8d751d9eb8>"
      ]
     },
     "metadata": {},
     "output_type": "display_data"
    }
   ],
   "source": [
    "plot(n,sd_p)\n",
    "xlabel('#stocks')\n",
    "ylabel('stddev of portfolio')\n",
    "grid()"
   ]
  },
  {
   "cell_type": "markdown",
   "metadata": {
    "slideshow": {
     "slide_type": "slide"
    }
   },
   "source": [
    "### Arithmetic vs Geometric mean returns"
   ]
  },
  {
   "cell_type": "markdown",
   "metadata": {
    "slideshow": {
     "slide_type": "fragment"
    }
   },
   "source": [
    "The geometric mean is a good indicator of past performance, especially when we are interested in holding period returns. But if we are interested in expected future returns, the arithmetic mean is the relevant statistic.\n",
    "\n",
    "Suppose a stock will rise by 30% or fall by 20% with equal probability. If it did one each in consecutive years then the geometric mean return is:"
   ]
  },
  {
   "cell_type": "code",
   "execution_count": 79,
   "metadata": {
    "slideshow": {
     "slide_type": "fragment"
    }
   },
   "outputs": [
    {
     "name": "stdout",
     "output_type": "stream",
     "text": [
      "Geometric mean return =  0.01980390271855703\n"
     ]
    }
   ],
   "source": [
    "g_ret = ((1+0.30)*(1-0.20))**0.5-1\n",
    "print(\"Geometric mean return = \", g_ret)"
   ]
  },
  {
   "cell_type": "code",
   "execution_count": 80,
   "metadata": {
    "slideshow": {
     "slide_type": "fragment"
    }
   },
   "outputs": [
    {
     "name": "stdout",
     "output_type": "stream",
     "text": [
      "Arithmetic mean return per year =  0.04999999999999999\n"
     ]
    }
   ],
   "source": [
    "a_ret = 0.5*(0.30+(-0.20))\n",
    "print(\"Arithmetic mean return per year = \",a_ret)"
   ]
  },
  {
   "cell_type": "markdown",
   "metadata": {
    "slideshow": {
     "slide_type": "slide"
    }
   },
   "source": [
    "### Which one should you use?\n",
    "\n",
    "Which one is more realistic in predicting future expected returns over the next two years? Note that there are 4 cases to consider for outcomes, all with equal probability $1/4$. "
   ]
  },
  {
   "cell_type": "code",
   "execution_count": 81,
   "metadata": {
    "slideshow": {
     "slide_type": "fragment"
    }
   },
   "outputs": [
    {
     "name": "stdout",
     "output_type": "stream",
     "text": [
      "Expected two year return =  0.10250000000000004\n",
      "Expected two year return (annualized) =  0.050000000000000044\n"
     ]
    }
   ],
   "source": [
    "ret = zeros(4)\n",
    "ret[0] = (1+0.3)*(1+0.3)\n",
    "ret[1] = (1+0.3)*(1-0.2)\n",
    "ret[2] = (1-0.2)*(1+0.3)\n",
    "ret[3] = (1-0.2)*(1-0.2)\n",
    "two_year_return = 0.25*sum(ret)\n",
    "print(\"Expected two year return = \", two_year_return-1)\n",
    "print(\"Expected two year return (annualized) = \", two_year_return**0.5-1)"
   ]
  },
  {
   "cell_type": "code",
   "execution_count": null,
   "metadata": {
    "collapsed": true
   },
   "outputs": [],
   "source": []
  }
 ],
 "metadata": {
  "anaconda-cloud": {},
  "celltoolbar": "Slideshow",
  "kernelspec": {
   "display_name": "Python 3",
   "language": "python",
   "name": "python3"
  },
  "language_info": {
   "codemirror_mode": {
    "name": "ipython",
    "version": 3
   },
   "file_extension": ".py",
   "mimetype": "text/x-python",
   "name": "python",
   "nbconvert_exporter": "python",
   "pygments_lexer": "ipython3",
   "version": "3.6.1"
  }
 },
 "nbformat": 4,
 "nbformat_minor": 1
}
