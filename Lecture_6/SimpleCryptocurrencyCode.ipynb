{
 "cells": [
  {
   "cell_type": "markdown",
   "metadata": {},
   "source": [
    "# A Simple Cryptocurrency Program\n",
    "\n",
    "In this workbook we mock up a bitcoin like cryptocurrency. \n",
    "\n",
    "Some knowledge of Python *classes* is needed, which will refresh the reader about object-oriented programming. "
   ]
  },
  {
   "cell_type": "code",
   "execution_count": 1,
   "metadata": {},
   "outputs": [
    {
     "name": "stdout",
     "output_type": "stream",
     "text": [
      "Populating the interactive namespace from numpy and matplotlib\n"
     ]
    }
   ],
   "source": [
    "%pylab inline"
   ]
  },
  {
   "cell_type": "markdown",
   "metadata": {},
   "source": [
    "## Wallet\n",
    "\n",
    "A **Wallet** is simply a data object comprising a public and private key. \n",
    "- The public key is used to receive currency.\n",
    "- The private key is used to sign a transaction when sending money. The public key can be used by anyone to verify the transaction. \n",
    "\n",
    "**RSA in one sentence**: If $A$ (Alice) is sending money to $B$ (Bala) via transaction $T$, then Alice encodes the transaction with Bala's public key, and further encodes the result with her private key. Bala can then decode the transaction using Alice's public key, and further uncover transaction $T$ using his private key. \n",
    "\n",
    "So, Alice sends the following to Bala:\n",
    "\n",
    "$$\n",
    "a = PrivKey_A(PubKey_B(T))\n",
    "$$\n",
    "\n",
    "And Bala decodes the transaction through the application of two corresponding functions:\n",
    "\n",
    "$$\n",
    "T = PrivKey_B(PubKey_A(a))\n",
    "$$"
   ]
  },
  {
   "cell_type": "code",
   "execution_count": 2,
   "metadata": {},
   "outputs": [],
   "source": [
    "import Crypto\n",
    "import Crypto.Random\n",
    "from Crypto.Hash import SHA\n",
    "from Crypto.PublicKey import RSA\n",
    "from Crypto.Signature import PKCS1_v1_5\n",
    "\n",
    "import binascii"
   ]
  },
  {
   "cell_type": "code",
   "execution_count": 3,
   "metadata": {},
   "outputs": [
    {
     "name": "stdout",
     "output_type": "stream",
     "text": [
      "Sum of all the numbers: 49995000\n",
      "Time it took to run the function: 0.0027840137481689453\n",
      "\n"
     ]
    }
   ],
   "source": [
    "# We will be using a decorator later\n",
    "# An aside: Decorators extend functions, here is an example.\n",
    "# decorators: https://realpython.com/blog/python/primer-on-python-decorators/\n",
    "\n",
    "import time\n",
    "\n",
    "def timing_function(some_function):\n",
    "    def wrapper():\n",
    "        t1 = time.time()\n",
    "        some_function()\n",
    "        t2 = time.time()\n",
    "        return \"Time it took to run the function: \" + str((t2 - t1)) + \"\\n\"\n",
    "    return wrapper\n",
    "\n",
    "@timing_function\n",
    "def my_function():\n",
    "    num_list = []\n",
    "    for num in (range(0, 10000)):\n",
    "        num_list.append(num)\n",
    "    print(\"Sum of all the numbers: \" + str(sum(num_list)))\n",
    "\n",
    "print(my_function())  #Same as calling timing_function(my_function)"
   ]
  },
  {
   "cell_type": "markdown",
   "metadata": {},
   "source": [
    "## Create Wallet class\n",
    "\n",
    "In which we also initiate new programmers to classes and OOP, decorators, and assertions. "
   ]
  },
  {
   "cell_type": "code",
   "execution_count": 4,
   "metadata": {},
   "outputs": [],
   "source": [
    "class Wallet(object):\n",
    "    \n",
    "    def __init__(self):\n",
    "        x = Crypto.Random.new().read   #initialize wallet with random number for keys\n",
    "        self.PrivKey = RSA.generate(1024,x)  \n",
    "        self.PubKey = self.PrivKey.publickey()\n",
    "        self.signer = PKCS1_v1_5.new(self.PrivKey)  \n",
    "        #RSA digital signature protocol according to PKCS#1 v1.5\n",
    "        \n",
    "    # Define the wallet address as its public key to keep things simple\n",
    "    @property   \n",
    "    def address(self):\n",
    "        return binascii.hexlify(self.PubKey.exportKey(format='DER')).decode('ascii')\n",
    "        #DER: Distinguished Encoding Rules\n",
    "    \n",
    "    #Hash the message and then sign it with the private key\n",
    "    def sign(self, message):\n",
    "        m = SHA.new(message.encode('utf8'))\n",
    "        return binascii.hexlify(self.signer.sign(m)).decode('ascii')"
   ]
  },
  {
   "cell_type": "code",
   "execution_count": 5,
   "metadata": {},
   "outputs": [
    {
     "name": "stdout",
     "output_type": "stream",
     "text": [
      "b'30819f300d06092a864886f70d010101050003818d0030818902818100b8c254e86af3ae0e1e7d02cb07a881dfd0e74a49c4b1154522321da8f3138a2a690486a957a07eb431eb7c7ffbb6fe0be990517cfe91120808cd4a7be6c2ab4636addcb3ca84c9cdd65be67f3c2226353d920adecaeb1463765048e263db1b8e5e506d52e2f3b15707080a91d7e89fe0c5a38dd2f1055c1a156464bad45c64f90203010001'\n",
      "\n",
      "\n",
      "b'333038313966333030643036303932613836343838366637306430313031303130353030303338313864303033303831383930323831383130306238633235346538366166336165306531653764303263623037613838316466643065373461343963346231313534353232333231646138663331333861326136393034383661393537613037656234333165623763376666626236666530626539393035313763666539313132303830386364346137626536633261623436333661646463623363613834633963646436356265363766336332323236333533643932306164656361656231343633373635303438653236336462316238653565353036643532653266336231353730373038306139316437653839666530633561333864643266313035356331613135363436346261643435633634663930323033303130303031'\n"
     ]
    }
   ],
   "source": [
    "#Examples\n",
    "x = Crypto.Random.new().read \n",
    "priv = RSA.generate(1024,x)\n",
    "pub = priv.publickey()\n",
    "pub1 = binascii.hexlify(pub.exportKey(format='DER'))\n",
    "print(pub1)\n",
    "print('\\n')\n",
    "print(binascii.hexlify(pub1))   #Every ascii character gets the 2 character hex representation"
   ]
  },
  {
   "cell_type": "markdown",
   "metadata": {},
   "source": [
    "## Wallet signing "
   ]
  },
  {
   "cell_type": "code",
   "execution_count": 6,
   "metadata": {},
   "outputs": [],
   "source": [
    "def verify_signature(wallet_address, message, signature):\n",
    "    pubkey = RSA.importKey(binascii.unhexlify(wallet_address))\n",
    "    verifier = PKCS1_v1_5.new(pubkey)\n",
    "    m = SHA.new(message.encode('utf8'))\n",
    "    return verifier.verify(m, binascii.unhexlify(signature))"
   ]
  },
  {
   "cell_type": "markdown",
   "metadata": {},
   "source": [
    "Check that verification works. \n",
    "- Initialize the wallet. This creates within the wallet a private key, public key = address, signer based on private key. The wallet has functions for generating the address and for signing a message.\n",
    "- Sign a message from the wallet using the 'sign' function. \n",
    "- Call the 'verify_signature' function by the wallet address, pass the message, and the signature for verification. "
   ]
  },
  {
   "cell_type": "code",
   "execution_count": 7,
   "metadata": {},
   "outputs": [
    {
     "name": "stdout",
     "output_type": "stream",
     "text": [
      "150da4be702a9faa179ecec390d900c4266b061c5c46655c3a0c342b441e1600379ff86fd7a9b7c58031120e7c358f64ecfac92c4f2bbfc86b8742ddca83294966823d928c77cbbe7a370935e31ccb2cdd87f1c6c8b776fe52b65a4e2e5c9d0b30e429e36e7f4eb4531be569e4db43c73568065fe8c51ffd34678cd9cd2c95bb\n",
      "\n",
      "\n",
      "True\n",
      "False\n"
     ]
    }
   ],
   "source": [
    "w1 = Wallet()\n",
    "signature = w1.sign('valid message')\n",
    "print(signature)\n",
    "\n",
    "#assert throws an exception only if the asserted statement is false.\n",
    "assert verify_signature(w1.address, 'valid message', signature)\n",
    "assert not verify_signature(w1.address, 'false message', signature)\n",
    "\n",
    "print('\\n'); \n",
    "print(verify_signature(w1.address, 'valid message', signature))\n",
    "print(verify_signature(w1.address, 'false message', signature))"
   ]
  },
  {
   "cell_type": "markdown",
   "metadata": {},
   "source": [
    "## Hashing and Proof of Work (PoW)\n",
    "\n",
    "In which we explore SHA-256 hashing to see how it works, hexlify and unhexlify, as already seen above. "
   ]
  },
  {
   "cell_type": "code",
   "execution_count": 8,
   "metadata": {},
   "outputs": [],
   "source": [
    "import hashlib\n",
    "import random\n",
    "import string\n",
    "import json"
   ]
  },
  {
   "cell_type": "markdown",
   "metadata": {},
   "source": [
    "- Take an ascii message, encode it, hash it, and hex it. The hex gives a 64 character hexadecimal representation of the hashed message. \n",
    "\n",
    "- Mining requires taking the message, adding a nonce (number) and then hashing it to check if a given number of leading zeros is achieved. "
   ]
  },
  {
   "cell_type": "code",
   "execution_count": 9,
   "metadata": {},
   "outputs": [],
   "source": [
    "def sha256(message):\n",
    "    return hashlib.sha256(message.encode('ascii')).hexdigest()"
   ]
  },
  {
   "cell_type": "code",
   "execution_count": 10,
   "metadata": {},
   "outputs": [
    {
     "name": "stdout",
     "output_type": "stream",
     "text": [
      "207 000bd808dc79f4cf5dc658fcc3364346b35809414e07f51fbee14af486155654\n"
     ]
    }
   ],
   "source": [
    "m = \"My test message\"\n",
    "for nonce in range(10000):\n",
    "    h = sha256(m + str(nonce))\n",
    "    if h.startswith('00'):\n",
    "        print(nonce,h)\n",
    "        break"
   ]
  },
  {
   "cell_type": "markdown",
   "metadata": {},
   "source": [
    "For different levels of **difficulty** we can see how long it takes to solve the PoW."
   ]
  },
  {
   "cell_type": "code",
   "execution_count": 11,
   "metadata": {},
   "outputs": [
    {
     "name": "stdout",
     "output_type": "stream",
     "text": [
      "1 84 02b797d5eb4a6b296cbf7045569b51f19a771f163940fee815d993b541124679\n",
      "2 207 000bd808dc79f4cf5dc658fcc3364346b35809414e07f51fbee14af486155654\n",
      "3 207 000bd808dc79f4cf5dc658fcc3364346b35809414e07f51fbee14af486155654\n",
      "4 114361 0000968550219036cfaf362e180217e2c17e40f53ae3a767fba8636d519abe49\n",
      "5 690875 0000096817366c594b2e93163d45f7aa7043b22f6ad48d08c5e25c7b0f03a38a\n"
     ]
    }
   ],
   "source": [
    "for difficulty in range(1,6):\n",
    "    for nonce in range(1000000):\n",
    "        h = sha256(m + str(nonce))\n",
    "        d = '0' * difficulty\n",
    "        if h.startswith(d):\n",
    "            print(difficulty,nonce,h)\n",
    "            break"
   ]
  },
  {
   "cell_type": "markdown",
   "metadata": {},
   "source": [
    "## Transactions\n",
    "\n",
    "In which we see how a transaction will be performed in code. \n",
    "\n",
    "Each transaction will have an input, held by one person, which is then given to a receiver partially in terms of payment, the remainder less fees being paid back the sender. \n",
    "\n",
    "The Transaction Input points to the output of another transaction. It is the amount of coin from another previous transaction that came in. Transaction Outputs will be amounts send to (i) Receiver, (ii) remaining to Sender, (iii) fees. "
   ]
  },
  {
   "cell_type": "code",
   "execution_count": 12,
   "metadata": {},
   "outputs": [],
   "source": [
    "class TransactionInput(object):\n",
    "\n",
    "    def __init__(self, transaction, output_index):\n",
    "        self.transaction = transaction\n",
    "        self.output_index = output_index\n",
    "        assert 0 <= self.output_index < len(transaction.outputs)\n",
    "    \n",
    "    def to_dict(self):\n",
    "        d = {\n",
    "            'transaction': self.transaction.hash(),\n",
    "            'output_index': self.output_index\n",
    "            }\n",
    "        return d\n",
    "\n",
    "    @property\n",
    "    def parent_output(self):\n",
    "        return self.transaction.outputs[self.output_index]"
   ]
  },
  {
   "cell_type": "markdown",
   "metadata": {},
   "source": [
    "The Transaction Ouput relates to a Transaction Input. It states the Recepient and the Amount. "
   ]
  },
  {
   "cell_type": "code",
   "execution_count": 13,
   "metadata": {},
   "outputs": [],
   "source": [
    "class TransactionOutput(object):\n",
    "\n",
    "    def __init__(self, recipient_address, amount):\n",
    "        self.recipient = recipient_address\n",
    "        self.amount = amount\n",
    "\n",
    "    def to_dict(self):\n",
    "        d = {\n",
    "            'recipient_address': self.recipient,\n",
    "            'amount': self.amount\n",
    "        }\n",
    "        return d"
   ]
  },
  {
   "cell_type": "code",
   "execution_count": 14,
   "metadata": {},
   "outputs": [],
   "source": [
    "def compute_fee(inputs, outputs):\n",
    "    total_in = sum(i.transaction.outputs[i.output_index].amount for i in inputs)\n",
    "    total_out = sum(o.amount for o in outputs)\n",
    "    assert total_out <= total_in, \"Invalid transaction with out(%f) > i(%f)\" % (total_out, total_in)\n",
    "    return total_in - total_out"
   ]
  },
  {
   "cell_type": "code",
   "execution_count": 15,
   "metadata": {},
   "outputs": [],
   "source": [
    "class Transaction(object):\n",
    "    \n",
    "    def __init__(self, wallet, inputs, outputs):\n",
    "        self.inputs = inputs\n",
    "        self.outputs = outputs\n",
    "        self.fee = compute_fee(inputs, outputs)\n",
    "        self.signature = wallet.sign(json.dumps(self.to_dict(include_signature=False)))\n",
    "\n",
    "    def to_dict(self, include_signature=True):\n",
    "        d = {\n",
    "            \"inputs\": list(map(TransactionInput.to_dict, self.inputs)),\n",
    "            \"outputs\": list(map(TransactionOutput.to_dict, self.outputs)),\n",
    "            \"fee\": self.fee\n",
    "            }\n",
    "        if include_signature:\n",
    "            d[\"signature\"] = self.signature\n",
    "            return d\n",
    "        \n",
    "    def hash(self):\n",
    "        return sha256(json.dumps(self.to_dict()))"
   ]
  },
  {
   "cell_type": "markdown",
   "metadata": {},
   "source": [
    "*Genesis transaction*: This is the first transaction which is a special transaction with no input and 25 bitcoins output."
   ]
  },
  {
   "cell_type": "code",
   "execution_count": 16,
   "metadata": {},
   "outputs": [],
   "source": [
    "class GenesisTransaction(Transaction):\n",
    "\n",
    "    def __init__(self, recipient_address, amount=50.0):\n",
    "        self.inputs = []\n",
    "        self.outputs = [TransactionOutput(recipient_address, amount)]\n",
    "        self.fee = 0\n",
    "        self.signature = 'genesis'\n",
    "\n",
    "    def to_dict(self, include_signature=False):\n",
    "        assert not include_signature, \"Cannot include signature of genesis transaction\"\n",
    "        return super().to_dict(include_signature=False)"
   ]
  },
  {
   "cell_type": "markdown",
   "metadata": {},
   "source": [
    "And now, we can finally execute a transaction. Two wallets, initialize the first genesis transaction, where Alice gets 50 coin, and then Alice does transaction 2, giving 10 coin to Bala, with remaining 39 coin, after paying a fee of 1. The fee is the difference between the inputs and the outputs. "
   ]
  },
  {
   "cell_type": "code",
   "execution_count": 17,
   "metadata": {},
   "outputs": [],
   "source": [
    "alice = Wallet()\n",
    "bala = Wallet()\n",
    "t1 = GenesisTransaction(alice.address)\n",
    "t2 = Transaction(alice,[TransactionInput(t1, 0)],[TransactionOutput(bala.address, 10.0), \n",
    "                                                  TransactionOutput(alice.address, 39.0)])\n",
    "assert np.abs(t2.fee - 1.0) < 1e-5"
   ]
  },
  {
   "cell_type": "markdown",
   "metadata": {},
   "source": [
    "Let's take a few more transactions."
   ]
  },
  {
   "cell_type": "code",
   "execution_count": 18,
   "metadata": {},
   "outputs": [],
   "source": [
    "chandra = Wallet()\n",
    "t3 = Transaction(bala,[TransactionInput(t2,0)],[TransactionOutput(chandra.address, 7.0),\n",
    "                                                TransactionOutput(bala.address,3.0)])\n",
    "t4 = Transaction(chandra,[TransactionInput(t3,0)],[TransactionOutput(alice.address, 5.0),\n",
    "                                                TransactionOutput(chandra.address,1.0)])"
   ]
  },
  {
   "cell_type": "markdown",
   "metadata": {},
   "source": [
    "## Balances\n",
    "\n",
    "Where we show how to run through transactions in order to generate current balances of coin. "
   ]
  },
  {
   "cell_type": "code",
   "execution_count": 19,
   "metadata": {},
   "outputs": [],
   "source": [
    "transactions = [t1,t2,t3,t4]"
   ]
  },
  {
   "cell_type": "code",
   "execution_count": 20,
   "metadata": {},
   "outputs": [],
   "source": [
    "def compute_balance(wallet_address, transactions):\n",
    "    balance = 0.0\n",
    "    for t in transactions:\n",
    "        # Subtract all the money that the address sent out\n",
    "        for txin in t.inputs:\n",
    "            if txin.parent_output.recipient == wallet_address:\n",
    "                balance = balance - txin.parent_output.amount\n",
    "        # Add all the money received by the address\n",
    "        for txout in t.outputs:\n",
    "            if txout.recipient == wallet_address:\n",
    "                balance = balance + txout.amount\n",
    "    return balance"
   ]
  },
  {
   "cell_type": "code",
   "execution_count": 21,
   "metadata": {},
   "outputs": [
    {
     "data": {
      "text/plain": [
       "44.0"
      ]
     },
     "execution_count": 21,
     "metadata": {},
     "output_type": "execute_result"
    }
   ],
   "source": [
    "compute_balance(alice.address,transactions)"
   ]
  },
  {
   "cell_type": "code",
   "execution_count": 22,
   "metadata": {},
   "outputs": [
    {
     "data": {
      "text/plain": [
       "3.0"
      ]
     },
     "execution_count": 22,
     "metadata": {},
     "output_type": "execute_result"
    }
   ],
   "source": [
    "compute_balance(bala.address,transactions)"
   ]
  },
  {
   "cell_type": "code",
   "execution_count": 23,
   "metadata": {},
   "outputs": [
    {
     "data": {
      "text/plain": [
       "1.0"
      ]
     },
     "execution_count": 23,
     "metadata": {},
     "output_type": "execute_result"
    }
   ],
   "source": [
    "compute_balance(chandra.address,transactions)"
   ]
  },
  {
   "cell_type": "markdown",
   "metadata": {},
   "source": [
    "These balances are also known as UTXOs, or **Unspent Transaction Outputs**. \n",
    "\n",
    "Note that 2 coins were paid out in fees and are in some miner's wallet. \n",
    "\n",
    "We also note that before the transaction itself can come into existence, we need to make sure that it is verified through PoW. So all these transactions would only be executed by the functions after they were put into a single block, hashed, and then a nonce was found by some miner. "
   ]
  },
  {
   "cell_type": "code",
   "execution_count": null,
   "metadata": {},
   "outputs": [],
   "source": []
  }
 ],
 "metadata": {
  "kernelspec": {
   "display_name": "Python 3",
   "language": "python",
   "name": "python3"
  },
  "language_info": {
   "codemirror_mode": {
    "name": "ipython",
    "version": 3
   },
   "file_extension": ".py",
   "mimetype": "text/x-python",
   "name": "python",
   "nbconvert_exporter": "python",
   "pygments_lexer": "ipython3",
   "version": "3.6.2"
  }
 },
 "nbformat": 4,
 "nbformat_minor": 2
}
