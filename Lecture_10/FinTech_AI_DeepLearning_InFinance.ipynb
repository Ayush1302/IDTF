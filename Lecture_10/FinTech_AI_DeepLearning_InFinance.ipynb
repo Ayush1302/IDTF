{
 "cells": [
  {
   "cell_type": "markdown",
   "metadata": {
    "slideshow": {
     "slide_type": "skip"
    }
   },
   "source": [
    "Presentation details\n",
    "\n",
    "Title: \"The Future of Modeling and Machine Learning in FinTech\"\n",
    "\n",
    "Summary: Why is FinTech going to be a disruptive force in many areas of finance? I will present a framework for the future of FinTech, highlighting ten areas of substantive impact, and argue that the current confluence of business and technology drivers are going to result in huge changes. I will briefly survey the role of a few technologies, such as deep learning, network models, blockchains, and robots in the areas of trading, risk management, and wealth management. In the future banks will become technology companies, and the winners will be the ones who invest in R&D. \n",
    "\n",
    "<p style=\"page-break-after:always;\"></p>"
   ]
  },
  {
   "cell_type": "markdown",
   "metadata": {
    "nbpresent": {
     "id": "b24e29bc-b609-4dc0-b2e6-3266324b31e1"
    },
    "slideshow": {
     "slide_type": "slide"
    }
   },
   "source": [
    "# <font color='blue'>THE FUTURE OF FINTECH</font>\n",
    "<br>\n",
    "## Sanjiv R. Das\n",
    "<br>\n",
    "### Professor of Finance and Data Science\n",
    "### Santa Clara University\n",
    "<br>\n",
    "## <font color='green'>@JOIM, Boston, 25th September 2017</font>\n",
    "<br>\n",
    "*Related slides*: http://srdas.github.io/presentations.htm\n",
    "\n",
    "- [Keynote on FinTech, Stockholm, August 2017](http://srdas.github.io/Presentations/Das_FutureOfFintech_SHoF_Stockholm_Aug2017.pdf)\n",
    "- [AI talks at Google, TieCON2017, Adobe](http://srdas.github.io/Presentations/AI_DeepLearning_Adobe_May2017.pdf)\n",
    "- [Talk at Big Data in Finance, University of Michigan, October 2016](http://srdas.github.io/Presentations/Das_BigDataInFinance_Panel.pdf)\n",
    "- [The Future of FinTech (survey paper)](http://srdas.github.io/Papers/fintech.pdf)\n",
    "\n"
   ]
  },
  {
   "cell_type": "markdown",
   "metadata": {
    "slideshow": {
     "slide_type": "slide"
    }
   },
   "source": [
    "# What is FinTech?\n",
    "\n",
    "- FinTech refers to various financial technologies used to automate processes in the financial sector, from routine, manual tasks to non-routine, cognitive decision-making.\n",
    "\n",
    "- FinTech may be characterized by technological change in three broad areas of finance: (This framework was proposed by my colleague, Professor Seoyoung Kim.)\n",
    "   1. raising capital, \n",
    "   2. allocating and investing capital, \n",
    "   3. transferring capital. \n",
    "\n",
    "- My definition: **\"FinTech is any technology that eliminates or reduces the cost of the  middleman in finance.\"**\n",
    "\n",
    "There is now a growing interest and literature:\n",
    "\n",
    "- http://lfe.mit.edu/research/fintech/\n",
    "- Risk and Risk Management in the Credit Card Industry (Florentin Butaru, Qingqing Chen, Brian Clark, Sanmay Das, Andrew Lo, Akhtar Siddique), *Journal of Banking and Finance* 72(2016), 218–239."
   ]
  },
  {
   "cell_type": "markdown",
   "metadata": {
    "nbpresent": {
     "id": "dba0e112-905e-475c-92ec-10c3117eadb0"
    },
    "slideshow": {
     "slide_type": "slide"
    }
   },
   "source": [
    "![Lumascape](FinTechLumascape.png)\n",
    "\n",
    "https://pbs.twimg.com/media/CYOHdfgW8AERjdO.png"
   ]
  },
  {
   "cell_type": "markdown",
   "metadata": {
    "nbpresent": {
     "id": "ac11c105-c243-432d-a954-fc9629fe14d0"
    },
    "slideshow": {
     "slide_type": "slide"
    }
   },
   "source": [
    "# Cost of Financial Intermediation\n",
    "\n",
    "![](Philippon_unitcost.png)\n",
    "\n",
    "(Philippon 2016)"
   ]
  },
  {
   "cell_type": "markdown",
   "metadata": {
    "nbpresent": {
     "id": "217a3cae-0aed-4b36-bbfa-d065f1304d17"
    },
    "slideshow": {
     "slide_type": "slide"
    }
   },
   "source": [
    "# Employment in the Financial Sector\n",
    "\n",
    "![](Philippon_employment.png)\n",
    "\n",
    "(Philippon 2016)"
   ]
  },
  {
   "cell_type": "markdown",
   "metadata": {
    "nbpresent": {
     "id": "59940636-1d8b-43c1-8d64-31c6cf160bcc"
    },
    "slideshow": {
     "slide_type": "slide"
    }
   },
   "source": [
    "# FinTech Landscape\n",
    "\n",
    "- 2017, Q1: Over 100 FinTech startups with \\$3.2 billion in funding. \n",
    "https://assets.kpmg.com/content/dam/kpmg/xx/pdf/2017/04/pulse-of-fintech-q1.pdf\n",
    "\n",
    "- 1400 FinTech companies with \\$33 billion in funding. \n",
    "\n",
    "- Losses from credit card fraud are \\$31 billion a year. \n",
    "\n",
    "- FinTech adoption rates:\n",
    "\n",
    "![](AdoptionRate.png)\n",
    "\n",
    "“Using Big Data to Detect Financial Fraud Aided by FinTech Methods” - S. Srinivasan, Texas Southern U."
   ]
  },
  {
   "cell_type": "markdown",
   "metadata": {
    "slideshow": {
     "slide_type": "slide"
    }
   },
   "source": [
    "![](FinTech_Startup_byYear.png)\n",
    "\n",
    "\n",
    "https://www.newconstructs.com/big-banks-will-win-the-fintech-revolution/\n",
    "https://www.accenture.com/_acnmedia/PDF-57/Accenture-Fintech-Did-Someone-Cancel-The-Revolution.pdf"
   ]
  },
  {
   "cell_type": "markdown",
   "metadata": {
    "nbpresent": {
     "id": "e5a0f02e-0387-4aed-8b3e-e10512fdc171"
    },
    "slideshow": {
     "slide_type": "slide"
    }
   },
   "source": [
    "# Examples of FinTech Benefits for Banks\n",
    "\n",
    "![](BenefitsAnalyticsBanks.png)\n"
   ]
  },
  {
   "cell_type": "markdown",
   "metadata": {
    "nbpresent": {
     "id": "5996a427-67ea-4a5e-b3c7-df3ef7163fe5"
    },
    "slideshow": {
     "slide_type": "slide"
    }
   },
   "source": [
    "# TEN AREAS OF FINTECH\n",
    "\n",
    "1. Machine Learning, AI, and Deep Learning.\n",
    "\n",
    "2. Network Models.\n",
    "\n",
    "3. Personal and Consumer Finance.\n",
    "\n",
    "4. Nowcasting.\n",
    "\n",
    "5. Cybersecurity.\n",
    "\n",
    "6. Fraud Detection.\n",
    "\n",
    "7. Payment and Funding Systems.\n",
    "\n",
    "8. Automated and High-Frequency Trading.\n",
    "\n",
    "9. Blockchain and Cyptocurrencies.\n",
    "\n",
    "10. Text Analytics.\n",
    "\n",
    "**This is implicit**: **<font color='red'>Banks will soon be technology companies and will need to invest heavily in R&D Tech</font>**"
   ]
  },
  {
   "cell_type": "markdown",
   "metadata": {
    "slideshow": {
     "slide_type": "slide"
    }
   },
   "source": [
    "# The Big Game Changers\n",
    "\n",
    "- <font color='red'>Mathematical advances</font>\n",
    "\n",
    "- <font color='red'>Hardware</font>\n",
    "\n",
    "- <font color='red'>Big Data</font>\n",
    "\n",
    "![](Nasdaq_Evestment.png)\n",
    "\n",
    "https://www.bloomberg.com/news/articles/2017-09-05/nasdaq-s-latest-deal-shows-data-reins-supreme-in-exchange-realm"
   ]
  },
  {
   "cell_type": "markdown",
   "metadata": {
    "nbpresent": {
     "id": "12b9f38a-e80f-4f52-9b8c-25019f3155b6"
    },
    "slideshow": {
     "slide_type": "slide"
    }
   },
   "source": [
    "# AI and the Technological Singularity \n",
    "\n",
    "## <font color='red'>Transformation vs Change ??</font>\n",
    "\n",
    "https://hackernoon.com/why-ai-is-now-on-the-menu-at-dinner-even-with-my-non-tech-friends-44c666348de4\n",
    "\n",
    "![Interest in AI](FactivaAITrend.png)"
   ]
  },
  {
   "cell_type": "markdown",
   "metadata": {
    "nbpresent": {
     "id": "5ca0d75f-f96b-42e8-904b-531b3af2d4ec"
    },
    "slideshow": {
     "slide_type": "slide"
    }
   },
   "source": [
    "# Definition of AI\n",
    "\n",
    "- Intelligence exhibited by machines\n",
    "\n",
    "**Narrow or Weak AI**: \n",
    "- “Expert systems that match or exceed human intelligence in a narrowly defined area, but not in broader areas” ( Dvorsky G., 2013) e.g. Siri. \n",
    "\n",
    "**Artificial General Intelligence**: \n",
    "- An artificial neural network that wouldn’t need to be preprogrammed with fixed rules. \n",
    "- Rewire itself to reflect patterns in the data it absorbed, a mechanism adaptable to its environment,  in which (hopefully) advanced skills would emerge organically. \n",
    "- “Humans don’t learn to understand language by memorizing dictionaries and grammar books, so why should we possibly expect our computers to do so?” ( LEWIS-KRAUS G, 2016).\n",
    "\n",
    "And, **Super AI**? \n",
    "\n",
    "http://io9.gizmodo.com/how-much-longer-before-our-first-ai-catastrophe-464043243 ( Dvorsky G., 2013)\n",
    "\n",
    "https://mobile.nytimes.com/2016/12/14/magazine/the-great-ai-awakening.html?_r=0&referer= ( LEWIS-KRAUS G, 2016)"
   ]
  },
  {
   "cell_type": "markdown",
   "metadata": {
    "nbpresent": {
     "id": "23e7358e-e8ae-4b61-b8b0-74ccb827f1d3"
    },
    "slideshow": {
     "slide_type": "slide"
    }
   },
   "source": [
    "# Two Types of AI\n",
    "\n",
    "- Rule-Based AI\n",
    "\n",
    "- Data-driven AI\n",
    "\n",
    "Example: Checkers. Albert Samuel @IBM began writing code for a checkers game program in 1949. In 1956, the program was demonstrated to the public on live television. In 1962, the computer beat checkers master player Robert Nealey, and IBM’s stocks rose 15 percent overnight.\n",
    "\n",
    "### <font color='red'>Rule-based AI can never be more intelligent than its creators, but data-driven AI can!</font>\n"
   ]
  },
  {
   "cell_type": "markdown",
   "metadata": {
    "nbpresent": {
     "id": "3b765115-60f9-4afd-9a8c-47b633f910ff"
    },
    "slideshow": {
     "slide_type": "slide"
    }
   },
   "source": [
    "# An Early History of AI\n",
    "\n",
    "- Warren McCulloch and Walter Pitts (1943): proposed a model of artificial neurons in which each neuron is characterized as being \"on\" or \"off\" ; suggested that suitably defined networks could learn.\n",
    "\n",
    "- The Turing Test (Alan Turing, 1950):  designed to provide a satisfactory operational definition of intelligence. Intelligent behavior: the ability to achieve human-level performance in all cognitive tasks, sufficient to fool an interrogator.\n",
    "\n",
    "- John McCarthy proposed the term  ARTIFICIAL INTELLIGENCE (1956);  defined the high-level language Lisp.\n",
    "\n",
    "- Frank Rosenblatt (1962) - “perceptron convergence theorem”: his learning algorithm could adjust the connection strengths of a perceptron to match any input data.\n",
    "\n",
    "- Japanese\"Fifth Generation\" project (1981) , a 10-year plan to build intelligent computers code;  proposed to achieve full-scale natural language understanding.\n",
    "\n",
    "- Fueled interest in the field in United States, led to the formation of The Microelectronics and Computer Technology Corporation i (MCC) to counter the Japanese project.\n",
    "\n",
    "- Reinvention of the back-propagation learning algorithm (1969) in mid 1980s.\n",
    "\n",
    "- HITECH:  the first computer program to defeat a grandmaster in a game of chess (Berliner, 1989).\n",
    "\n",
    "- MARVEL: a real-time expert system that monitored massive data transmitted by a spacecraft, handling routine tasks and alerting the analysts to more serious problems (Schwuttke, 1992).\n",
    "\n",
    "- PEGASUS: A speech understanding program to manage travel transactions (Zue et al., 1994).\n",
    "\n",
    "Ref: Artificial intelligence : a modern approach/ Stuart Russell, Peter Norvig. 1995"
   ]
  },
  {
   "cell_type": "markdown",
   "metadata": {
    "slideshow": {
     "slide_type": "slide"
    }
   },
   "source": [
    "# Machine Learning\n",
    "\n",
    "- Machine learning is the subfield of computer science that gives computers the ability to learn without being explicitly programmed.\" (Arthur Samuel)\n",
    "\n",
    "- **Definition** (Tom Mitchell): \"A computer program is said to learn from experience $E$ with respect to some class of tasks $T$ and performance measure $P$ if its performance at tasks in $T$, as measured by $P$, improves with experience $E$.\" \n",
    "\n",
    "- Supervised vs Unsupervised. "
   ]
  },
  {
   "cell_type": "markdown",
   "metadata": {
    "nbpresent": {
     "id": "e25f577f-4bb4-4d0e-aba5-57dcfd9e740b"
    },
    "slideshow": {
     "slide_type": "skip"
    }
   },
   "source": [
    "# AI in Wearables\n",
    "\n",
    "![](Wearables.png)\n",
    "\n",
    "https://www.fastcompany.com/3066867/wearables-that-detect-emotion-could-tell-you-when-the-conversation-is-getting-awkward"
   ]
  },
  {
   "cell_type": "markdown",
   "metadata": {
    "nbpresent": {
     "id": "dd3b3b7a-b997-4a9a-a523-4571f1f07b69"
    },
    "slideshow": {
     "slide_type": "skip"
    }
   },
   "source": [
    "# FaceApp\n",
    "\n",
    "![](FaceApp.png)\n",
    "\n",
    "https://news.developer.nvidia.com/this-ai-selfie-transformation-app-can-even-make-mona-lisa-smile/?_lrsc=a06a736b-bf67-4a30-b40f-368d4225b35b&ncid=so-lin-lt-798"
   ]
  },
  {
   "cell_type": "markdown",
   "metadata": {
    "nbpresent": {
     "id": "a8e787fa-3d15-4f61-a84c-61ed496573db"
    },
    "slideshow": {
     "slide_type": "slide"
    }
   },
   "source": [
    "# Conversational AI\n",
    "\n",
    "![](Conversational_AI.png)"
   ]
  },
  {
   "cell_type": "markdown",
   "metadata": {
    "nbpresent": {
     "id": "d3533232-5fd9-4b4d-aa0c-f475f4f373a4"
    },
    "slideshow": {
     "slide_type": "slide"
    }
   },
   "source": [
    "# Chat Bots\n",
    "\n",
    "![](Chatbots.png)"
   ]
  },
  {
   "cell_type": "markdown",
   "metadata": {
    "nbpresent": {
     "id": "4e3a00cc-69ba-40bf-b57b-1c1264331bc7"
    },
    "slideshow": {
     "slide_type": "skip"
    }
   },
   "source": [
    "# AI in Automobiles\n",
    "\n",
    "![](AI_Automobiles.png)\n",
    "\n",
    "- https://www.linkedin.com/pulse/ford-invests-argo-ai-innovative-partnership-road-autonomy-mark-fields?trk=v-feed&lipi=urn%3Ali%3Apage%3Ad_flagship3_search_srp_content%3B19KP7cqeWJQfXOhLgQu5eA%3D%3D\n",
    "\n",
    "- https://techcrunch.com/2017/02/14/watch-drive-ais-self-driving-car-handle-california-city-streets-on-a-rainy-night/\n",
    "http://fortune.com/2016/02/10/google-self-driving-cars-artificial-intelligence/"
   ]
  },
  {
   "cell_type": "markdown",
   "metadata": {
    "nbpresent": {
     "id": "9668c690-5d18-4894-a4f3-ff8732bb9d80"
    },
    "slideshow": {
     "slide_type": "skip"
    }
   },
   "source": [
    "# Insurance\n",
    "\n",
    "![](Insurance_Lemonade.png)\n",
    "\n",
    "https://www.lemonade.com/"
   ]
  },
  {
   "cell_type": "markdown",
   "metadata": {
    "nbpresent": {
     "id": "f37a9aa0-583d-4e63-b8ff-da7fbce27d95"
    },
    "slideshow": {
     "slide_type": "skip"
    }
   },
   "source": [
    "# Healthcare\n",
    "\n",
    "![](Healthcare.png)\n",
    "\n",
    "https://www.remedymedical.com"
   ]
  },
  {
   "cell_type": "markdown",
   "metadata": {
    "nbpresent": {
     "id": "3617e607-8fed-4b35-aad3-c2f2edba50f3"
    },
    "slideshow": {
     "slide_type": "slide"
    }
   },
   "source": [
    "\n",
    "![](DeepPatient.png)\n",
    "\n",
    "https://www.nature.com/articles/srep26094"
   ]
  },
  {
   "cell_type": "markdown",
   "metadata": {
    "nbpresent": {
     "id": "cd61ee25-5eaf-48f2-bcfc-85bab42c2345"
    },
    "slideshow": {
     "slide_type": "slide"
    }
   },
   "source": [
    "# FinTech 1: Deep Learning\n",
    "\n",
    "- Bridgewater Associates: World’s largest hedge fund has a project to automate decision-making to save time and eliminate human emotion volatility.\n",
    "\n",
    "- Goldman Sachs: Two out of the 600 equity traders left. Found that four traders can be replaced by one computer engineer.\n",
    "\n",
    "- Transactions: By 2020 at least five percent of all economic transactions will be handled by autonomous software. AI will process payment functions and learn from customer behaviours, through Intelligent Payment Management (IPM).\n",
    "\n",
    "- Savings: AI will help consumers make daily financial decisions and monitor spending. New Personal Financial Management apps use contextual awareness, which measures spending habits and online footprints to create personalised advice. Combining pooled financial data with end-user control to offer tailor-made services is a classic AI solution.\n",
    "\n",
    "- Cross-selling: Categorization-as-a-Service (Caas), for understanding customer transactions for cross selling.\n",
    "\n",
    "- Fraud prevention: Mining user data to detect abnormal behavior, anomalies, and unusual transactions.\n",
    "\n",
    "- Mizuho Financial Group sent Pepper, its humanoid robot into its Tokyo branch to handle customer inquiries. Partnering with IBM to enable Pepper to understand human emotions, and build interaction into apps.\n",
    "\n",
    "- RBS is trialing Luvo AI, a customer service assistant to interact with staff and customers.\n",
    "\n",
    "- AXA (insurer) has an app-based bot called Xtra, it engages in bespoke conversations with customers about healthy living.\n",
    "\n",
    "- AI is used in peer2peer lending."
   ]
  },
  {
   "cell_type": "markdown",
   "metadata": {
    "nbpresent": {
     "id": "44a3876a-f31c-41ba-9236-053fa928bc72"
    },
    "slideshow": {
     "slide_type": "slide"
    }
   },
   "source": [
    "# Hedge Funds use Machine Learning\n",
    "\n",
    "![](HedgeFundsML.png)\n"
   ]
  },
  {
   "cell_type": "markdown",
   "metadata": {
    "nbpresent": {
     "id": "1b706cb8-5eaf-418c-a1cc-38e167063f01"
    },
    "slideshow": {
     "slide_type": "slide"
    }
   },
   "source": [
    "![](JPMorganLawyers.png)"
   ]
  },
  {
   "cell_type": "markdown",
   "metadata": {
    "nbpresent": {
     "id": "38fc7e44-631a-407d-905d-b0d2f095d160"
    },
    "slideshow": {
     "slide_type": "slide"
    }
   },
   "source": [
    "# AI in Hedge Funds\n",
    "\n",
    "**Examples**\n",
    "\n",
    "- Blackrock: replacing human stock pickers with machine algorithms.\n",
    "\n",
    "- Sentient Inc: Hedge fund run entirely using AI. Secret algo with adaptive learning. Uses thousands of machines.\n",
    "\n",
    "- Numerai: Hedge fund makes trades by aggregating trading algorithms submitted by anonymous contributors, prizes are awarded in cryptocurrency.\n",
    "\n",
    "- Emma: Evolved a hedge fund using a software that writes news articles.\n",
    "\n",
    "** Challenges** \n",
    "\n",
    "- Very little data about the track record of these hedge funds, as the business remains secretive.\n",
    "\n",
    "- Investor reluctance to turn over money completely to a machine."
   ]
  },
  {
   "cell_type": "markdown",
   "metadata": {
    "collapsed": true,
    "nbpresent": {
     "id": "0f4c3534-ea47-4587-9036-7fb55f9416c6"
    },
    "slideshow": {
     "slide_type": "slide"
    }
   },
   "source": [
    "# AI/Deep Learning in Finance starts with Pattern Recognition\n",
    "\n",
    "### Genesis of such problems: Fitting a Deep Learning Net to Predict Cancer\n",
    "\n",
    "- We use a data set of breast cancer cell measurements and assess whether we can predict whether a tumor is malignant or benign. \n",
    "- The data used comprises nine cell measurements such as cell thickness, dimension, etc., and from these measurements we wish to attain a high level of accuracy in classification of cells. \n",
    "- A system such as this can potentially be the first line of diagnosis and may be able to improve the doctor's diagnosis, in a Bayesian sense, as there are now two readings of the cell, by the deep learning net and the doctor. \n",
    "- The data set is the Wisconsin breast cancer data. "
   ]
  },
  {
   "cell_type": "markdown",
   "metadata": {
    "slideshow": {
     "slide_type": "slide"
    }
   },
   "source": [
    "# Deep Neural Networks\n",
    "\n",
    "![Deep Neural Networks](Backprop1.png)"
   ]
  },
  {
   "cell_type": "code",
   "execution_count": 2,
   "metadata": {
    "collapsed": false,
    "nbpresent": {
     "id": "3d545403-2513-4a1d-9caa-4013fb966098"
    },
    "slideshow": {
     "slide_type": "skip"
    }
   },
   "outputs": [
    {
     "name": "stdout",
     "output_type": "stream",
     "text": [
      "Populating the interactive namespace from numpy and matplotlib\n"
     ]
    }
   ],
   "source": [
    "%pylab inline\n",
    "import pandas as pd"
   ]
  },
  {
   "cell_type": "code",
   "execution_count": 3,
   "metadata": {
    "collapsed": false,
    "nbpresent": {
     "id": "691b0483-19e2-48e3-b823-fcf3786e68e6"
    },
    "slideshow": {
     "slide_type": "slide"
    }
   },
   "outputs": [
    {
     "data": {
      "text/html": [
       "<div>\n",
       "<table border=\"1\" class=\"dataframe\">\n",
       "  <thead>\n",
       "    <tr style=\"text-align: right;\">\n",
       "      <th></th>\n",
       "      <th>Id</th>\n",
       "      <th>Cl.thickness</th>\n",
       "      <th>Cell.size</th>\n",
       "      <th>Cell.shape</th>\n",
       "      <th>Marg.adhesion</th>\n",
       "      <th>Epith.c.size</th>\n",
       "      <th>Bare.nuclei</th>\n",
       "      <th>Bl.cromatin</th>\n",
       "      <th>Normal.nucleoli</th>\n",
       "      <th>Mitoses</th>\n",
       "      <th>Class</th>\n",
       "    </tr>\n",
       "  </thead>\n",
       "  <tbody>\n",
       "    <tr>\n",
       "      <th>0</th>\n",
       "      <td>1000025</td>\n",
       "      <td>5</td>\n",
       "      <td>1</td>\n",
       "      <td>1</td>\n",
       "      <td>1</td>\n",
       "      <td>2</td>\n",
       "      <td>1</td>\n",
       "      <td>3</td>\n",
       "      <td>1</td>\n",
       "      <td>1</td>\n",
       "      <td>benign</td>\n",
       "    </tr>\n",
       "    <tr>\n",
       "      <th>1</th>\n",
       "      <td>1002945</td>\n",
       "      <td>5</td>\n",
       "      <td>4</td>\n",
       "      <td>4</td>\n",
       "      <td>5</td>\n",
       "      <td>7</td>\n",
       "      <td>10</td>\n",
       "      <td>3</td>\n",
       "      <td>2</td>\n",
       "      <td>1</td>\n",
       "      <td>benign</td>\n",
       "    </tr>\n",
       "    <tr>\n",
       "      <th>2</th>\n",
       "      <td>1015425</td>\n",
       "      <td>3</td>\n",
       "      <td>1</td>\n",
       "      <td>1</td>\n",
       "      <td>1</td>\n",
       "      <td>2</td>\n",
       "      <td>2</td>\n",
       "      <td>3</td>\n",
       "      <td>1</td>\n",
       "      <td>1</td>\n",
       "      <td>benign</td>\n",
       "    </tr>\n",
       "    <tr>\n",
       "      <th>3</th>\n",
       "      <td>1016277</td>\n",
       "      <td>6</td>\n",
       "      <td>8</td>\n",
       "      <td>8</td>\n",
       "      <td>1</td>\n",
       "      <td>3</td>\n",
       "      <td>4</td>\n",
       "      <td>3</td>\n",
       "      <td>7</td>\n",
       "      <td>1</td>\n",
       "      <td>benign</td>\n",
       "    </tr>\n",
       "    <tr>\n",
       "      <th>4</th>\n",
       "      <td>1017023</td>\n",
       "      <td>4</td>\n",
       "      <td>1</td>\n",
       "      <td>1</td>\n",
       "      <td>3</td>\n",
       "      <td>2</td>\n",
       "      <td>1</td>\n",
       "      <td>3</td>\n",
       "      <td>1</td>\n",
       "      <td>1</td>\n",
       "      <td>benign</td>\n",
       "    </tr>\n",
       "  </tbody>\n",
       "</table>\n",
       "</div>"
      ],
      "text/plain": [
       "        Id  Cl.thickness  Cell.size  Cell.shape  Marg.adhesion  Epith.c.size  \\\n",
       "0  1000025             5          1           1              1             2   \n",
       "1  1002945             5          4           4              5             7   \n",
       "2  1015425             3          1           1              1             2   \n",
       "3  1016277             6          8           8              1             3   \n",
       "4  1017023             4          1           1              3             2   \n",
       "\n",
       "   Bare.nuclei  Bl.cromatin  Normal.nucleoli  Mitoses   Class  \n",
       "0            1            3                1        1  benign  \n",
       "1           10            3                2        1  benign  \n",
       "2            2            3                1        1  benign  \n",
       "3            4            3                7        1  benign  \n",
       "4            1            3                1        1  benign  "
      ]
     },
     "execution_count": 3,
     "metadata": {},
     "output_type": "execute_result"
    }
   ],
   "source": [
    "## Read in the data set\n",
    "data = pd.read_csv(\"BreastCancer.csv\")\n",
    "data.head()"
   ]
  },
  {
   "cell_type": "code",
   "execution_count": 4,
   "metadata": {
    "collapsed": false,
    "nbpresent": {
     "id": "444949b1-dc30-4ba0-9b4e-85fb39c32233"
    },
    "slideshow": {
     "slide_type": "skip"
    }
   },
   "outputs": [
    {
     "name": "stdout",
     "output_type": "stream",
     "text": [
      "   Cl.thickness  Cell.size  Cell.shape  Marg.adhesion  Epith.c.size  \\\n",
      "0             5          1           1              1             2   \n",
      "1             5          4           4              5             7   \n",
      "2             3          1           1              1             2   \n",
      "3             6          8           8              1             3   \n",
      "4             4          1           1              3             2   \n",
      "\n",
      "   Bare.nuclei  Bl.cromatin  Normal.nucleoli  Mitoses  \n",
      "0            1            3                1        1  \n",
      "1           10            3                2        1  \n",
      "2            2            3                1        1  \n",
      "3            4            3                7        1  \n",
      "4            1            3                1        1  \n",
      "0    benign\n",
      "1    benign\n",
      "2    benign\n",
      "3    benign\n",
      "4    benign\n",
      "Name: Class, dtype: object\n"
     ]
    }
   ],
   "source": [
    "x = data.loc[:,'Cl.thickness':'Mitoses']\n",
    "print(x.head())\n",
    "y = data.loc[:,'Class']\n",
    "print(y.head())"
   ]
  },
  {
   "cell_type": "code",
   "execution_count": 5,
   "metadata": {
    "collapsed": false,
    "nbpresent": {
     "id": "7219ec3b-040a-485e-9ca1-5caacb3cfac4"
    },
    "slideshow": {
     "slide_type": "slide"
    }
   },
   "outputs": [
    {
     "data": {
      "text/plain": [
       "array([[ 0.],\n",
       "       [ 0.],\n",
       "       [ 0.],\n",
       "       [ 0.],\n",
       "       [ 0.],\n",
       "       [ 1.],\n",
       "       [ 0.],\n",
       "       [ 0.],\n",
       "       [ 0.],\n",
       "       [ 0.]])"
      ]
     },
     "execution_count": 5,
     "metadata": {},
     "output_type": "execute_result"
    }
   ],
   "source": [
    "## Convert the class variable into binary numeric\n",
    "ynum = zeros((len(x),1))\n",
    "for j in arange(len(y)):\n",
    "    if y[j]==\"malignant\":\n",
    "        ynum[j]=1\n",
    "ynum[:10]"
   ]
  },
  {
   "cell_type": "code",
   "execution_count": 6,
   "metadata": {
    "collapsed": false,
    "nbpresent": {
     "id": "d3fb1fbd-9d05-4756-b1f7-ab31c0f4ede6"
    },
    "slideshow": {
     "slide_type": "slide"
    }
   },
   "outputs": [
    {
     "name": "stderr",
     "output_type": "stream",
     "text": [
      "Using TensorFlow backend.\n"
     ]
    },
    {
     "name": "stdout",
     "output_type": "stream",
     "text": [
      "[[ 1.  0.]\n",
      " [ 1.  0.]\n",
      " [ 1.  0.]\n",
      " [ 1.  0.]\n",
      " [ 1.  0.]\n",
      " [ 0.  1.]\n",
      " [ 1.  0.]\n",
      " [ 1.  0.]\n",
      " [ 1.  0.]\n",
      " [ 1.  0.]]\n",
      "(683, 9)\n",
      "(683, 2)\n",
      "(683, 1)\n"
     ]
    }
   ],
   "source": [
    "## Make label data have 1-shape, 1=malignant\n",
    "from keras import utils\n",
    "y.labels = utils.to_categorical(ynum, num_classes=2)\n",
    "x = x.as_matrix()\n",
    "print(y.labels[:10])\n",
    "print(shape(x))\n",
    "print(shape(y.labels))\n",
    "print(shape(ynum))"
   ]
  },
  {
   "cell_type": "code",
   "execution_count": 7,
   "metadata": {
    "collapsed": true,
    "nbpresent": {
     "id": "7b8eb8bf-0aba-4dc0-bcee-102a5773a417"
    },
    "slideshow": {
     "slide_type": "slide"
    }
   },
   "outputs": [],
   "source": [
    "## Define the neural net and compile it\n",
    "from keras.models import Sequential\n",
    "from keras.layers import Dense, Activation\n",
    "\n",
    "model = Sequential()\n",
    "model.add(Dense(32, activation='relu', input_dim=9))\n",
    "model.add(Dense(32, activation='relu'))\n",
    "model.add(Dense(32, activation='relu'))\n",
    "model.add(Dense(1, activation='sigmoid'))\n",
    "model.compile(optimizer='rmsprop',\n",
    "              loss='binary_crossentropy',\n",
    "              metrics=['accuracy'])"
   ]
  },
  {
   "cell_type": "code",
   "execution_count": 8,
   "metadata": {
    "collapsed": false,
    "nbpresent": {
     "id": "00bc8b2a-66d3-4eb5-8614-9f964f12a97a"
    },
    "slideshow": {
     "slide_type": "slide"
    }
   },
   "outputs": [
    {
     "name": "stdout",
     "output_type": "stream",
     "text": [
      "Epoch 1/25\n",
      "0s - loss: 0.5273 - acc: 0.8023\n",
      "Epoch 2/25\n",
      "0s - loss: 0.3935 - acc: 0.9078\n",
      "Epoch 3/25\n",
      "0s - loss: 0.3056 - acc: 0.9253\n",
      "Epoch 4/25\n",
      "0s - loss: 0.2589 - acc: 0.9327\n",
      "Epoch 5/25\n",
      "0s - loss: 0.2235 - acc: 0.9444\n",
      "Epoch 6/25\n",
      "0s - loss: 0.1950 - acc: 0.9458\n",
      "Epoch 7/25\n",
      "0s - loss: 0.1790 - acc: 0.9531\n",
      "Epoch 8/25\n",
      "0s - loss: 0.1632 - acc: 0.9605\n",
      "Epoch 9/25\n",
      "0s - loss: 0.1454 - acc: 0.9619\n",
      "Epoch 10/25\n",
      "0s - loss: 0.1350 - acc: 0.9678\n",
      "Epoch 11/25\n",
      "0s - loss: 0.1282 - acc: 0.9619\n",
      "Epoch 12/25\n",
      "0s - loss: 0.1215 - acc: 0.9649\n",
      "Epoch 13/25\n",
      "0s - loss: 0.1146 - acc: 0.9707\n",
      "Epoch 14/25\n",
      "0s - loss: 0.1062 - acc: 0.9707\n",
      "Epoch 15/25\n",
      "0s - loss: 0.1010 - acc: 0.9707\n",
      "Epoch 16/25\n",
      "0s - loss: 0.0994 - acc: 0.9722\n",
      "Epoch 17/25\n",
      "0s - loss: 0.0901 - acc: 0.9707\n",
      "Epoch 18/25\n",
      "0s - loss: 0.0906 - acc: 0.9707\n",
      "Epoch 19/25\n",
      "0s - loss: 0.0841 - acc: 0.9722\n",
      "Epoch 20/25\n",
      "0s - loss: 0.0826 - acc: 0.9707\n",
      "Epoch 21/25\n",
      "0s - loss: 0.0792 - acc: 0.9707\n",
      "Epoch 22/25\n",
      "0s - loss: 0.0742 - acc: 0.9751\n",
      "Epoch 23/25\n",
      "0s - loss: 0.0799 - acc: 0.9722\n",
      "Epoch 24/25\n",
      "0s - loss: 0.0734 - acc: 0.9795\n",
      "Epoch 25/25\n",
      "0s - loss: 0.0739 - acc: 0.9751\n"
     ]
    },
    {
     "data": {
      "text/plain": [
       "<keras.callbacks.History at 0x118bbcf28>"
      ]
     },
     "execution_count": 8,
     "metadata": {},
     "output_type": "execute_result"
    }
   ],
   "source": [
    "## Fit/train the model (x,y need to be matrices)\n",
    "model.fit(x, ynum, epochs=25, batch_size=32,verbose=2)"
   ]
  },
  {
   "cell_type": "code",
   "execution_count": 9,
   "metadata": {
    "collapsed": false,
    "nbpresent": {
     "id": "c13057d5-3596-4732-8f4a-ae8e4d46c19c"
    },
    "slideshow": {
     "slide_type": "slide"
    }
   },
   "outputs": [
    {
     "name": "stdout",
     "output_type": "stream",
     "text": [
      " 32/683 [>.............................] - ETA: 0sAccuracy =  0.98243045388\n"
     ]
    },
    {
     "data": {
      "text/plain": [
       "array([[434,   2],\n",
       "       [ 10, 237]])"
      ]
     },
     "execution_count": 9,
     "metadata": {},
     "output_type": "execute_result"
    }
   ],
   "source": [
    "## Accuracy\n",
    "yhat = model.predict_classes(x, batch_size=32)\n",
    "acc = sum(yhat==ynum)\n",
    "print(\"Accuracy = \",acc/len(ynum))\n",
    "\n",
    "## Confusion matrix\n",
    "from sklearn.metrics import confusion_matrix\n",
    "confusion_matrix(yhat,ynum)"
   ]
  },
  {
   "cell_type": "markdown",
   "metadata": {
    "nbpresent": {
     "id": "11e49b0a-8ce8-4bc8-a902-5e61595bfdd1"
    },
    "slideshow": {
     "slide_type": "slide"
    }
   },
   "source": [
    "# Another Canonical Example:  Digit Recognition (MNIST)\n",
    "\n",
    "- Extensible to many finance prediction problems. \n",
    "- Information set: 784 (28 x 28) pixels for category prediction. \n",
    "- Would you run a multinomial regression on these 784 columns. \n",
    "\n",
    "![](MNIST.png)\n",
    "\n",
    "https://www.cs.toronto.edu/~kriz/cifar.html"
   ]
  },
  {
   "cell_type": "code",
   "execution_count": 10,
   "metadata": {
    "collapsed": false,
    "nbpresent": {
     "id": "0f67a756-2734-428b-a1d4-42a993f5c3f4"
    },
    "slideshow": {
     "slide_type": "slide"
    }
   },
   "outputs": [
    {
     "name": "stdout",
     "output_type": "stream",
     "text": [
      "(60000, 785)\n",
      "(10000, 785)\n"
     ]
    }
   ],
   "source": [
    "## Read in the data set\n",
    "train = pd.read_csv(\"train.csv\", header=None)\n",
    "test = pd.read_csv(\"test.csv\", header=None)\n",
    "print(shape(train))\n",
    "print(shape(test))"
   ]
  },
  {
   "cell_type": "code",
   "execution_count": 11,
   "metadata": {
    "collapsed": false,
    "nbpresent": {
     "id": "bee0319f-0474-454d-b185-8d51d7fe0a42"
    },
    "slideshow": {
     "slide_type": "fragment"
    }
   },
   "outputs": [
    {
     "name": "stdout",
     "output_type": "stream",
     "text": [
      "(60000, 784)\n",
      "(60000, 1)\n",
      "(10000, 784)\n",
      "(10000, 1)\n",
      "(60000, 10)\n",
      "[[ 0.  0.  0.  1.  0.  0.  0.  0.  0.  0.]\n",
      " [ 1.  0.  0.  0.  0.  0.  0.  0.  0.  0.]\n",
      " [ 1.  0.  0.  0.  0.  0.  0.  0.  0.  0.]\n",
      " [ 0.  0.  1.  0.  0.  0.  0.  0.  0.  0.]]\n",
      "[[3]\n",
      " [0]\n",
      " [0]\n",
      " [2]]\n"
     ]
    }
   ],
   "source": [
    "## Reformat the data\n",
    "X_train = train.as_matrix()[:,0:784]\n",
    "Y_train = train.as_matrix()[:,784:785]\n",
    "print(shape(X_train))\n",
    "print(shape(Y_train))\n",
    "X_test = test.as_matrix()[:,0:784]\n",
    "Y_test = test.as_matrix()[:,784:785]\n",
    "print(shape(X_test))\n",
    "print(shape(Y_test))\n",
    "y.labels = utils.to_categorical(Y_train, num_classes=10)\n",
    "print(shape(y.labels))\n",
    "print(y.labels[1:5,:])\n",
    "print(Y_train[1:5])"
   ]
  },
  {
   "cell_type": "code",
   "execution_count": 12,
   "metadata": {
    "collapsed": false,
    "nbpresent": {
     "id": "2d646975-5370-4ef6-8386-de40c79de9fd"
    },
    "slideshow": {
     "slide_type": "fragment"
    }
   },
   "outputs": [
    {
     "data": {
      "image/png": "[encoded data removed]",
      "text/plain": [
       "<matplotlib.figure.Figure at 0x11a46ecf8>"
      ]
     },
     "metadata": {},
     "output_type": "display_data"
    }
   ],
   "source": [
    "hist(Y_train); grid()"
   ]
  },
  {
   "cell_type": "code",
   "execution_count": 13,
   "metadata": {
    "collapsed": true,
    "nbpresent": {
     "id": "49b0f892-55fa-4d40-9ddc-a7a7f02741cd"
    },
    "slideshow": {
     "slide_type": "slide"
    }
   },
   "outputs": [],
   "source": [
    "## Define the neural net and compile it\n",
    "from keras.models import Sequential\n",
    "from keras.layers import Dense, Activation, Dropout\n",
    "from keras.optimizers import SGD\n",
    "\n",
    "data_dim = shape(X_train)[1]\n",
    "\n",
    "model = Sequential()\n",
    "model.add(Dense(100, activation='sigmoid', input_dim=data_dim))\n",
    "model.add(Dropout(0.25))\n",
    "model.add(Dense(100, activation='sigmoid'))\n",
    "model.add(Dropout(0.25))\n",
    "model.add(Dense(100, activation='sigmoid'))\n",
    "model.add(Dropout(0.25))\n",
    "model.add(Dense(100, activation='sigmoid'))\n",
    "model.add(Dropout(0.25))\n",
    "model.add(Dense(10, activation='softmax'))\n",
    "model.compile(optimizer='rmsprop',\n",
    "              loss='categorical_crossentropy',\n",
    "              metrics=['accuracy'])"
   ]
  },
  {
   "cell_type": "code",
   "execution_count": 14,
   "metadata": {
    "collapsed": false,
    "nbpresent": {
     "id": "f03ba5f4-46d6-4cd8-a277-4521806cdc4b"
    },
    "scrolled": true,
    "slideshow": {
     "slide_type": "slide"
    }
   },
   "outputs": [
    {
     "name": "stdout",
     "output_type": "stream",
     "text": [
      "Epoch 1/5\n",
      "14s - loss: 1.0936 - acc: 0.6194\n",
      "Epoch 2/5\n",
      "12s - loss: 0.5678 - acc: 0.8366\n",
      "Epoch 3/5\n",
      "14s - loss: 0.4496 - acc: 0.8735\n",
      "Epoch 4/5\n",
      "15s - loss: 0.3944 - acc: 0.8907\n",
      "Epoch 5/5\n",
      "16s - loss: 0.3696 - acc: 0.8978\n"
     ]
    },
    {
     "data": {
      "text/plain": [
       "<keras.callbacks.History at 0x11b0d0780>"
      ]
     },
     "execution_count": 14,
     "metadata": {},
     "output_type": "execute_result"
    }
   ],
   "source": [
    "## Fit/train the model (x,y need to be matrices)\n",
    "model.fit(X_train, y.labels, epochs=5, batch_size=32,verbose=2)"
   ]
  },
  {
   "cell_type": "code",
   "execution_count": 15,
   "metadata": {
    "collapsed": false,
    "nbpresent": {
     "id": "1c83d25d-d6b3-4ce0-8df7-1b2c8a8b0b62"
    },
    "slideshow": {
     "slide_type": "slide"
    }
   },
   "outputs": [
    {
     "name": "stdout",
     "output_type": "stream",
     "text": [
      "59712/60000 [============================>.] - ETA: 0s  \b\b\b\b\b\b\b\b\b\b\b\b\b\b\b\b\b\b\b\b\b\b\b\b\b\b\b\b\b\b\b\b\b\b\b\b\b\b\b\b\b\b\b\b\b\b\b\b\b\b\b\b\b\b\b\b\b\b\b\b\b\b\b\b\b\b\b\b\b\b\b\b\b\b\b\b\b\b\b\b\b\b\b\b\b\b\b\b\b\b\b\b\b\b\b\b\b\b\b\b\b\b\b\b\b\b\b\b\b\b\b\b\b\b\b\b\b\b\b\b\b\b\b\b\b\b\b\b\b\b\b\b\b\b\b\b\b\b\b\b\b\b\b\b\b\b\b\b\b\b\b\b\b\b\b\b\b\b\b\b\b\b\b\b\b\b\b\b\b\b\b\b\b\b\b\b\b\b\b\b\b\b\b\b\b\b\b\b\b\b\b\b\b\b\b\b\b\b\b\b\b\b\b\b\b\b\b\b\b\b\b\b\b\b\b\b\b\b\b\b\b\b\b\b\b\b\b\b\b\b\b\b\b\b\b\b\b\b\b\b\b\b\b\b\b\b\b\b\b\b\b\b\b\b\b\b\b\b\b\b\b\b\b\b\b\b\b\b\b\b\b\b\b\b\b\b\b\b\b\b\b\b\b\b\b\b\b\b\b\b\b\b\b\b\b\b\b\b\b\b\b\b\b\b\b\b\b\b\b\b\b\b\b\b\b\b\b\b\b\b\b\b\b\b\b\b\b\b\b\b\b\b\b\b\b\b\b\b\b\b\b\b\b\b\b\b\b\b\b\b\b\b\b\b\b\b\b\b\b\b\b\b\b\b\b\b\b\b\b\b\b\b\b\b\b\b\b\b\b\b\b\b\b\b\b\b\b\b\b\b\b\b\b\b\b\b\b\b\b\b\b\b\b\b\b\b\b\b\b\b\b\b\b\b\b\b\b\b\b\b\b\b\b\b\b\b\b\b\b\b\b\b\b\b\b\b\b\b\b\b\b\b\b\b\b\b\b\b\b\b\b\b\b\b\b\b\b\b\b\b\b\b\b\b\b\b\b\b\b\b\b\b\b\b\b\b\b\b\b\b\b\b\b\b\b\b\b\b\b\b\b\b\b\b\b\b\b\b\b\b\b\b\b\b\b\b\b\b\b\b\b\b\b\b\b\b\b\b\b\b\b\b\b\b\b\b\b\b\b\b\b\b\b\b\b\b\b\b\b\b\b\b\b\b\b\b\b\b\b\b\b\b\b\b\b\b\b\b\b\b\b\b\b\b\b\b\b\b\b\b\b\b\b\b\b\b\b\b\b\b\b\b\b\b\b\b\b\b\b\b\b\b\b\b\b\b\b\b\b\b\b\b\b\b\b\b\b\b\b\b\b\b\b\b\b\b\b\b\b\b\b\b\b\b\b\b\b\b\b\b\b\b\b\b\b\b\b\b\b\b\b\b\b\b\b\b\b\b\b\b\b\b\b\b\b\b\b\b\b\b\b\b\b\b\b\b\b\b\b\b\b\b\b\b\b\b\b\b\b\b\b\b\b\b\b\b\b\b\b\b\b\b\b\b\b\b\b\b\b\b\b\b\b\b\b\b\b\b\b\b\b\b\b\b\b\b\b\b\b\b\b\b\b\b\b\b\b\b\b\b\b\b\b\b\b\b\b\b\b\b\b\b\b\b\b\b\b\b\b\b\b\b\b\b\b\b\b\b\b\b\b\b\b\b\b\b\b\b\b\b\b\b\b\b\b\b\b\b\b\b\b\b\b\b\b\b\b\b\b\b\b\b\b\b\b\b\b\b\b\b\b\b\b\b\b\b\b\b\b\b\b\b\b\b\b\b\b\b\b\b\b\b\b\b\b\b\b\b\b\b\b\b\b\b\b\b\b\b\b\b\b\b\b\b\b\b\b\b\b\b\b\b\b\b\b\b\b\b\b\b\b\b\b\b\b\b\b\b\b\b\b\b\b\b\b\b\b\b\b\b\b\b\b\b\b\b\b\b\b\b\b\b\b\b\b\b\b\b\b\b\b\b\b\b\b\b\b\b\b\b\b\b\b\b\b\b\b\b\b\b\b\b\b\b\b\b\b\b\b\b\b\b\b\b\b\b\b\b\b\b\b\b\b\b\b\b\b\b\b\b\b\b\b\b\b\b\b\b\b\b\b\b\b\b\b\b\b\b\b\b\b\b\b\b\b\b\b\b\b\b\b\b\b\b\b\b\b\b\b\b\b\b\b\b\b\b\b\b\b\b\b\b\b\b\b\b\b\b\b\b\b\b\b\b\b\b\b\b\b\b\b\b\b\b\b\b\b\b\b\b\b\b\b\b\b\b\b\b\b\b\b\b\b\b\b\b\b\b\b\b\b\b\b\b\b\b\b\b\b\b\b\b\b\b\b\b\b\b\b\b\b\b\b\b\b\b\b\b\b\b\b\b\b\b\b\b\b\b\b\b\b\b\b\b\b\b\b\b\b\b\b\b\b\b\b\b\b\b\b\b\b\b\b\b\b\b\b\b\b\b\b\b\b\b\b\b\b\b\b\b\b\b\b\b\b\b\b\b\b\b\b\b\b\b\b\b\b\b\b\b\b\b\b\b\b\b\b\b\b\b\b\b\b\b\b\b\b\b\b\b\b\b\b\b\b\b\b\b\b\b\b\b\b\b\b\b\b\b\b\b\b\b\b\b\b\b\b\b\b\b\b\b\b\b\b\b\b\b\b\b\b\b\b\b\b\b\b\b\b\b\b\b\b\b\b\b\b\b\b\b\b\b\b\b\b\b\b\b\b\b\b\b\b\b\b\b\b\b\b\b\b\b\b\b\b\b\b\b\b\b\b\b\b\b\b\b\b\b\b\b\b\b\b\b\b\b\b\b\b\b\b\b\b\b\b\b\b\b\b\b\b\b\b\b\b\b\b\b\b\b\b\b\b\b\b\b\b\b\b\b\b\b\b\b\b\b\b\b\b\b\b\b\b\b\b\b\b\b\b\b\b\b\b\b\b\b\b\b\b\b\b\b\b\b\b\b\b\b\b\b\b\b\b\b\b\b\b\b\b\b\b\b\b\b\b\b\b\b\b\b\b\b\b\b\b\b\b\b\b\b\b\b\b\b\b\b\b\b\b\b\b\b\b\b\b\b\b\b\b\b\b\b\b\b\b\b\b\b\b\b\b\b\b\b\b\b\b\b\b\b\b\b\b\b\b\b\b\b\b\b\b\b\b\b\b\b\b\b\b\b\b\b\b\b\b\b\b\b\b\b\b\b\b\b\b\b\b\b\b\b\b\b\b\b\b\b\b\b\b\b\b\b\b\b\b\b\b\b\b\b\b\b\b\b\b\b\b\b\b\b\b\b\b\b\b\b\b\b\b\b\b\b\b\b\b\b\b\b\b\b\b\b\b\b\b\b\b\b\b\b\b\b\b\b\b\b\b\b\b\b\b\b\b\b\b\b\b\b\b\b\b\b\b\b\b\b\b\b\b\b\b\b\b\b\b\b\b\b\b\b\b\b\b\b\b\b\b\b\b\b\b\b\b\b\b\b\b\b\b\b\b\b\b\b\b\b\b\b\b\b\b\b\b\b\b\b\b\b\b\b\b\b\b\b\b\b\b\b\b\b\b\b\b\b\b\b\b\b\b\b\b\b\b\b\b\b\b\b\b\b\b\b\b\b\b\b\b\b\b\b\b\b\b\b\b\b\b\b\b\b\b\b\b\b\b\b\b\b\b\b\b\b\b\b\b\b\b\b\b\b\b\b\b\b\b\b\b\b\b\b\b\b\b\b\b\b\b\b\b\b\b\b\b\b\b\b\b\b\b\b\b\b\b\b\b\b\b\b\b\b\b\b\b\b\b\b\b\b\b\b\b\b\b\b\b\b\b\b\b\b\b\b\b\b\b\b\b\b\b\b\b\b\b\b\b\b\b\b\b\b\b\b\b\b\b\b\b\b\b\b\b\b\b\b\b\b\b\b\b\b\b\b\b\b\b\b\b\b\b\b\b\b\b\b\b\b\b\b\b\b\b\b\b\b\b\b\b\b\b\b\b\b\b\b\b\b\b\b\b\b\b\b\b\b\b\b\b\b\b\b\b\b\b\b\b\b\b\b\b\b\b\b\b\b\b\b\b\b\b\b\b\b\b\b\b\b\b\b\b\b\b\b\b\b\b\b\b\b\b\b\b\b\b\b\b\b\b\b\b\b\b\b\b\b\b\b\b\b\b\b\b\b\b\b\b\b\b\b\b\b\b\b\b\b\b\b\b\b\b\b\b\b\b\b\b\b\b\b\b\b\b\b\b\b\b\b\b\b\b\b\b\b\b\b\b\b\b\b\b\b\b\b\b\b\b\b\b\b\b\b\b\b\b\b\b\b\b\b\b\b\b\b\b\b\b\b\b\b\b\b\b\b\b\b\b\b\b\b\b\b\b\b\b\b\b\b\b\b\b\b\b\b\b\b\b\b\b\b\b\b\b\b\b\b\b\b\b\b\b\b\b\b\b\b\b\b\b\b\b\b\b\b\b\b\b\b\b\b\b\b\b\b\b\b\b\b\b\b\b\b\b\b\b\b\b\b\b\b\b\b\b\b\b\b\b\b\b\b\b\b\b\b\b\b\b\b\b\b\b\b\b\b\b\b\b\b\b\b\b\b\b\b\b\b\b\b\b\b\b\b\b\b\b\b\b\b\b\b\b\b\b\b\b\b\b\b\b\b\b\b\b\b\b\b\b\b\b\b\b\b\b\b\b\b\b\b\b\b\b\b\b\b\b\b\b\b\b\b\b\b\b\b\b\b\b\b\b\b\b\b\b\b\b\b\b\b\b\b\b\b\b\b\b\b\b\b\b\b\b\b\b\b\b\b\b\b\b\b\b\b\b\b\b\b\b\b\b\b\b\b\b\b\b\b\b\b\b\b\b\b\b\b\b\b\b\b\b\b\b\b\b\b\b\b\b\b\b\b\b\b\b\b\b\b\b\b\b\b\b\b\b\b\b\b\b\b\b\b\b\b\b\b\b\b\b\b\b\b\b\b\b\b\b\b\b\b\b\b\b\b\b\b\b\b\b\b\b\b\b\b\b\b\b\b\b\b\b\b\b\b\b\b\b\b\b\b\b\b\b\b\b\b\b\b\b\b\b\b\b\b\b\b\b\b\b\b\b\b\b\b\b\b\b\b\b\b\b\b\b\b\b\b\b\b\b\b\b\b\b\b\b\b\b\b\b\b\b\b\b\b\b\b\b\b\b\b\b\b\b\b\b\b\b\b\b\b\b\b\b\b\b\b\b\b\b\b\b\b\b\b\b\b\b\b\b\b\b\b\b\b\b\b\b\b\b\b\b\b\b\b\b\b\b\b\b\b\b\b\b\b\b\b\b\b\b\b\b\b\b\b\b\b\b\b\b\b\b\b\b\b\b\b\b\b\b\b\b\b\b\b\b\b\b\b\b\b\b\b\b\b\b\b\b\b\b\b\b\b\b\b\b\b\b\b\b\b\b\b\b\b\b\b\b\b\b\b\b\b\b\b\b\b\b\b\b\b\b\b\b\b\b\b\b\b\b\b\b\b\b\b\b\b\b\b\b\b\b\b\b\b\b\b\b\b\b\b\b\b\b\b\b\b\b\b\b\b\b\b\b\b\b\b\b\b\b\b\b\b\b\b\b\b\b\b\b\b\b\b\b\b\b\b\b\b\b\b\b\b\b\b\b\b\b\b\b\b\b\b\b\b\b\b\b\b\b\b\b\b\b\b\b\b\b\b\b\b\b\b\b\b\b\b\b\b\b\b\b\b\b\b\b\b\b\b\b\b\b\b\b\b\b\b\b\b\b\b\b\b\b\b\b\b\b\b\b\b\b\b\b\b\b\b\b\b\b\b\b\b\b\b\b\b\b\b\b\b\b\b\b\b\b\b\b\b\b\b\b\b\b\b\b\b\b\b\b\b\b\b\b\b\b\b\b\b\b\b\b\b\b\b\b\b\b\b\b\b\b\b\b\b\b\b\b\b\b\b\b\b\b\b\b\b\b\b\b\b\b\b\b\b\b\b\b\b\b\b\b\b\b\b\b\b\b\b\b\b\b\b\b\b\b\b\b\b\b\b\b\b\b\b\b\b\b\b\b\b\b\b\b\b\b\b\b\b\b\b\b\b\b\b\b\b\b\b\b\b\b\b\b\b\b\b\b\b\b\b\b\b\b\b\b\b\b\b\b\b\b\b\b\b\b\b\b\b\b\b\b\b\b\b\b\b\b\b\b\b\b\b\b\b\b\b\b\b\b\b\b\b\b\b\b\b\b\b\b\b\b\b\b\b\b\b\b\b\b\b\b\b\b\b\b\b\b\b\b\b\b\b\b\b\b\b\b\b\b\b\b\b\b\b\b\b\b\b\b\b\b\b\b\b\b\b\b\b\b\b\b\b\b\b\b\b\b\b\b\b\b\b\b\b\b\b\b\b\b\b\b\b\b\b\b\b\b\b\b\b\b\b\b\b\b\b\b\b\b\b\b\b\b\b\b\b\b\b\b\b\b\b\b\b\b\b\b\b\b\b\b\b\b\b\b\b\b\b\b\b\b\b\b\b\b\b\b\b\b\b\b\b\b\b\b\b\b\b\b\b\b\b\b\b\b\b\b\b\b\b\b\b\b\b\b\b\b\b\b\b\b\b\b\b\b\b\b\b\b\b\b\b\b\b\b\b\b\b\b\b\b\b\b\b\b\b\b\b\b\b\b\b\b\b\b\b\b\b\b\b\b\b\b\b\b\b\b\b\b\b\b\b\b\b\b\b\b\b\b\b\b\b\b\b\b\b\b\b\b\b\b\b\b\b\b\b\b\b\b\b\b\b\b\b\b\b\b\b\b\b\b\b\b\b\b\b\b\b\b\b\b\b\b\b\b\b\b\b\b\b\b\b\b\b\b\b\b\b\b\b\b\b\b\b\b\b\b\b\b\b\b\b\b\b\b\b\b\b\b\b\b\b\b\b\b\b\b\b\b\b\b\b\b\b\b\b\b\b\b\b\b\b\b\b\b\b\b\b\b\b\b\b\b\b\b\b\b\b\b\b\b\b\b\b\b\b\b\b\b\b\b\b\b\b\b\b\b\b\b\b\b\b\b\b\b\b\b\b\b\b\b\b\b\b\b\b\b\b\b\b\b\b\b\b\b\b\b\b\b\b\b\b\b\b\b\b\b\b\b\b\b\b\b\b\b\b\b\b\b\b\b\b\b\b\b\b\b\b\b\b\b\b\b\b\b\b\b\b\b\b\b\b\b\b\b\b\b\b\b\b\b\b\b\b\b\b\b\b\b\b\b\b\b\b\b\b\b\b\b\b\b\b\b\b\b\b\b\b\b\b\b\b\b\b\b\b\b\b\b\b\b\b\b\b\b\b\b\b\b\b\b\b\b\b\b\b\b\b\b\b\b\b\b\b\b\b\b\b\b\b\b\b\b\b\b\b\b\b\b\b\b\b\b\b\b\b\b\b\b\b\b\b\b\b\b\b\b\b\b\b\b\b\b\b\b\b\b\b\b\b\b\b\b\b\b\b\b\b\b\b\b\b\b\b\b\b\b\b\b\b\b\b\b\b\b\b\b\b\b\b\b\b\b\b\b\b\b\b\b\b\b\b\b\b\b\b\b\b\b\b\b\b\b\b\b\b\b\b\b\b\b\b\b\b\b\b\b\b\b\b\b\b\b\b\b\b\b\b\b\b\b\b\b\b\b\b\b\b\b\b\b\b\b\b\b\b\b\b\b\b\b\b\b\b\b\b\b\b\b\b\b\b\b\b\b\b\b\b\b\b\b\b\b\b\b\b\b\b\b\b\b\b\b\b\b\b\b\b\b\b\b\b\b\b\b\b\b\b\b\b\b\b\b\b\b\b\b\b\b\b\b\b\b\b\b\b\b\b\b\b\b\b\b\b\b\b\b\b\b\b\b\b\b\b\b\b\b\b\b\b\b\b\b\b\b\b\b\b\b\b\b\b\b\b\b\b\b\b\b\b\b\b\b\b\b\b\b\b\b\b\b\b\b\b\b\b\b\b\b\b\b\b\b\b\b\b\b\b\b\b\b\b\b\b\b\b\b\b\b\b\b\b\b\b\b\b\b\b\b\b\b\b\b\b\b\b\b\b\b\b\b\b\b\b\b\b\b\b\b\b\b\b\b\b\b\b\b\b\b\b\b\b\b\b\b\b\b\b\b\b\b\b\b\b\b\b\b\b\b\b\b\b\b\b\b\b\b\b\b\b\b\b\b\b\b\b\b\b\b\b\b\b\b\b\b\b\b\b\b\b\b\b\b\b\b\b\b\b\b\b\b\b\b\b\b\b\b\b\b\b\b\b\b\b\b\b\b\b\b\b\b\b\b\b\b\b\b\b\b\b\b\b\b\b\b\b\b\b\b\b\b\b\b\b\b\b\b\b\b\b\b\b\b\b\b\b\b\b\b\b\b\b\b\b\b\b\b\b\b\b\b\b\b\b\b\b\b\b\b\b\b\b\b\b\b\b\b\b\b\b\b\b\b\b\b\b\b\b\b\b\b\b\b\b\b\b\b\b\b\b\b\b\b\b\b\b\b\b\b\b\b\b\b\b\b\b\b\b\b\b\b\b\b\b\b\b\b\b\b\b\b\b\b\b\b\b\b\b\b\b\b\b\b\b\b\b\b\b\b\b\b\b\b\b\b\b\b\b\b\b\b\b\b\b\b\b\b\b\b\b\b\b\b\b\b\b\b\b\b\b\b\b\b\b\b\b\b\b\b\b\b\b\b\b\b\b\b\b\b\b\b\b\b\b\b\b\b\b\b\b\b\b\b\b\b\b\b\b\b\b\b\b\b\b\b\b\b\b\b\b\b\b\b\b\b\b\b\b\b\b\b\b\b\b\b\b\b\b\b\b\b\b\b\b\b\b\b\b\b\b\b\b\b\b\b\b\b\b\b\b\b\b\b\b\b\b\b\b\b\b\b\b\b\b\b\b\b\b\b\b\b\b\b\b\b\b\b\b\b\b\b\b\b\b\b\b\b\b\b\b\b\b\b\b\b\b\b\b\b\b\b\b\b\b\b\b\b\b\b\b\b\b\b\b\b\b\b\b\b\b\b\b\b\b\b\b\b\b\b\b\b\b\b\b\b\b\b\b\b\b\b\b\b\b\b\b\b\b\b\b\b\b\b\b\b\b\b\b\b\b\b\b\b\b\b\b\b\b\b\b\b\b\b\b\b\b\b\b\b\b\b\b\b\b\b\b\b\b\b\b\b\b\b\b\b\b\b\b\b\b\b\b\b\b\b\b\b\b\b\b\b\b\b\b\b\b\b\b\b\b\b\b\b\b\b\b\b\b\b\b\b\b\b\b\b\b\b\b\b\b\b\b\b\b\b\b\b\b\b\b\b\b\b\b\b\b\b\b\b\b\b\b\b\b\b\b\b\b\b\b\b\b\b\b\b\b\b\b\b\b\b\b\b\b\b\b\b\b\b\b\b\b\b\b\b\b\b\b\b\b\b\b\b\b\b\b\b\b\b\b\b\b\b\b\b\b\b\b\b\b\b\b\b\b\b\b\b\b\b\b\b\b\b\b\b\b\b\b\b\b\b\b\b\b\b\b\b\b\b\b\b\b\b\b\b\b\b\b\b\b\b\b\b\b\b\b\b\b\b\b\b\b\b\b\b\b\b\b\b\b\b\b\b\b\b\b\b\b\b\b\b\b\b\b\b\b\b\b\b\b\b\b\b\b\b\b\b\b\b\b\b\b\b\b\b\b\b\b\b\b\b\b\b\b\b\b\b\b\b\b\b\b\b\b\b\b\b\b\b\b\b\b\b\b\b\b\b\b\b\b\b\b\b\b\b\b\b\b\b\b\b\b\b\b\b\b\b\b\b\b\b\b\b\b\b\b\b\b\b\b\b\b\b\b\b\b\b\b\b\b\b\b\b\b\b\b\b\b\b\b\b\b\b\b\b\b\b\b\b\b\b\b\b\b\b\b\b\b\b\b\b\b\b\b\b\b\b\b\b\b\b\b\b\b\b\b\b\b\b\b\b\b\b\b\b\b\b\b\b\b\b\b\b\b\b\b\b\b\b\b\b\b\b\b\b\b\b\b\b\b\b\b\b\b\b\b\b\b\b\b\b\b\b\b\b\b\b\b\b\b\b\b\b\b\b\b\b\b\b\b\b\b\b\b\b\b\b\b\b\b\b\b\b\b\b\b\b\b\b\b\b\b\b\b\b\b\b\b\b\b\b\b\b\b\b\b\b\b\b\b\b\b\b\b\b\b\b\b\b\b\b\b\b\b\b\b\b\b\b\b\b\b\b\b\b\b\b\b\b\b\b\b\b\b\b\b\b\b\b\b\b\b\b\b\b\b\b\b\b\b\b\b\b\b\b\b\b\b\b\b\b\b\b\b\b\b\b\b\b\b\b\b\b\b\b\b\b\b\b\b\b\b\b\b\b\b\b\b\b\b\b\b\b\b\b\b\b\b\b\b\b\b\b\b\b\b\b\b\b\b\b\b\b\b\b\b\b\b\b\b\b\b\b\b\b\b\b\b\b\b\b\b\b\b\b\b\b\b\b\b\b\b\b\b\b\b\b\b\b\b\b\b\b\b\b\b\b\b\b\b\b\b\b\b\b\b\b\b\b\b\b\b\b\b\b\b\b\b\b\b\b\b\b\b\b\b\b\b\b\b\b\b\b\b\b\b\b\b\b\b\b\b\b\b\b\b\b\b\b\b\b\b\b\b\b\b\b\b\b\b\b\b\b\b\b\b\b\b\b\b\b\b\b\b\b\b\b\b\b\b\b\b\b\b\b\b\b\b\b\b\b\b\b\b\b\b\b\b\b\b\b\b\b\b\b\b\b\b\b\b\b\b\b\b\b\b\b\b\b\b\b\b\b\b\b\b\b\b\b\b\b\b\b\b\b\b\b\b\b\b\b\b\b\b\b\b\b\b\b\b\b\b\b\b\b\b\b\b\b\b\b\b\b\b\b\b\b\b\b\b\b\b\b\b\b\b\b\b\b\b\b\b\b\b\b\b\b\b\b\b\b\b\b\b\b\b\b\b\b\b\b\b\b\b\b\b\b\b\b\b\b\b\b\b\b\b\b\b\b\b\b\b\b\b\b\b\b\b\b\b\b\b\b\b\b\b\b\b\b\b\b\b\b\b\b\b\b\b\b\b\b\b\b\b\b\b\b\b\b\b\b\b\b\b\b\b\b\b\b\b\b\b\b\b\b\b\b\b\b\b\b\b\b\b\b\b\b\b\b\b\b\b\b\b\b\b\b\b\b\b\b\b\b\b\b\b\b\b\b\b\b\b\b\b\b\b\b\b\b\b\b\b\b\b\b\b\b\b\b\b\b\b\b\b\b\b\b\b\b\b\b\b\b\b\b\b\b\b\b\b\b\b\b\b\b\b\b\b\b\b\b\b\b\b\b\b\b\b\b\b\b\b\b\b\b\b\b\b\b\b\b\b\b\b\b\b\b\b\b\b\b\b\b\b\b\b \n",
      "[[5692    0   41    8   11   62   42   15   20   36]\n",
      " [   0 6491   59   26   12    5   14   41  109    5]\n",
      " [  35   38 5300  108   22   30   20   46   41   17]\n",
      " [  13   52  186 5623    0  223    0   23  139   88]\n",
      " [  23    4   68    2 5438   35   53   65   33  285]\n",
      " [  25    3    5  150    4 4782   58    5  116   38]\n",
      " [  57    7   90   21   95   90 5680    3   58    3]\n",
      " [   7   23   71   70   10   15    0 5960   12  217]\n",
      " [  68  118  135   90   58  127   51   12 5258   80]\n",
      " [   3    6    3   33  192   52    0   95   65 5180]]\n",
      "Accuracy =  0.9234\n"
     ]
    }
   ],
   "source": [
    "## In Sample\n",
    "yhat = model.predict_classes(X_train, batch_size=32)\n",
    "\n",
    "## Confusion matrix\n",
    "from sklearn.metrics import confusion_matrix\n",
    "cm = confusion_matrix(yhat,Y_train)\n",
    "print(\" \")\n",
    "print(cm)\n",
    "\n",
    "##\n",
    "acc = sum(diag(cm))/len(Y_train)\n",
    "print(\"Accuracy = \",acc)\n"
   ]
  },
  {
   "cell_type": "code",
   "execution_count": 16,
   "metadata": {
    "collapsed": false,
    "nbpresent": {
     "id": "87486d66-c9f6-4950-a0b3-ca5c4307b556"
    },
    "slideshow": {
     "slide_type": "slide"
    }
   },
   "outputs": [
    {
     "name": "stdout",
     "output_type": "stream",
     "text": [
      " 9568/10000 [===========================>..] - ETA: 0s\b\b\b\b\b\b\b\b\b\b\b\b\b\b\b\b\b\b\b\b\b\b\b\b\b\b\b\b\b\b\b\b\b\b\b\b\b\b\b\b\b\b\b\b\b\b\b\b\b\b\b\b\b\b\b\b\b\b\b\b\b\b\b\b\b\b\b\b\b\b\b\b\b\b\b\b\b\b\b\b\b\b\b\b\b\b\b\b\b\b\b\b\b\b\b\b\b\b\b\b\b\b\b\b\b\b\b\b\b\b\b\b\b\b\b\b\b\b\b\b\b\b\b\b\b\b\b\b\b\b\b\b\b\b\b\b\b\b\b\b\b\b\b\b\b\b\b\b\b\b\b\b\b\b\b\b\b\b\b\b\b\b\b\b\b\b\b\b\b\b\b\b\b\b\b\b\b\b\b\b\b\b\b\b\b\b\b\b\b\b\b\b\b\b\b\b\b\b\b\b\b\b\b\b\b\b\b\b\b\b\b\b\b\b\b\b\b\b\b\b\b\b\b\b\b\b\b\b\b\b\b\b\b\b\b\b\b\b\b\b\b\b\b\b\b\b\b\b\b\b\b\b\b\b\b\b\b\b\b\b\b\b\b\b\b\b\b\b\b\b\b\b\b\b\b\b\b\b\b\b\b\b\b\b\b\b\b\b\b\b\b\b\b\b\b\b\b\b\b\b\b\b\b\b\b\b\b\b\b\b\b\b\b\b\b\b\b\b\b\b\b\b\b\b\b\b\b\b\b\b\b\b\b\b\b\b\b\b\b\b\b\b\b\b\b\b\b\b\b\b\b\b\b\b\b\b\b\b\b\b\b\b\b\b\b\b\b\b\b\b\b\b\b\b\b\b\b\b\b\b\b\b\b\b\b\b\b\b\b\b\b\b\b\b\b\b\b\b\b\b\b\b\b\b\b\b\b\b\b\b\b\b\b\b\b\b\b\b\b\b\b\b\b\b\b\b\b\b\b\b\b\b\b\b\b\b\b\b\b\b\b\b\b\b\b\b\b\b\b\b\b\b\b\b\b\b\b\b\b\b\b\b\b\b\b\b\b\b\b\b\b\b\b\b\b\b\b\b\b\b\b\b\b\b\b\b\b\b\b\b\b\b\b\b\b\b\b\b\b\b\b\b\b\b\b\b\b\b\b\b\b\b\b\b\b\b\b\b\b\b\b\b\b\b\b\b\b\b\b\b\b\b\b\b\b\b\b\b\b\b\b\b\b\b\b\b\b\b\b\b\b\b\b\b\b\b\b\b\b\b\b\b\b\b\b\b\b\b\b\b\b\b\b\b\b\b\b\b\b\b\b\b\b\b\b\b\b\b\b\b\b\b\b\b\b\b\b\b\b\b\b\b\b\b\b\b\b\b\b\b\b\b\b\b\b\b\b\b\b\b\b\b\b\b\b\b\b\b\b\b\b\b\b\b\b\b\b\b\b\b\b\b\b\b\b\b\b\b\b\b\b\b\b\b\b\b\b\b\b\b\b\b\b\b\b\b\b\b\b\b\b\b\b\b\b\b\b\b\b\b\b\b\b\b\b\b\b\b\b\b\b\b\b\b\b\b\b\b\b\b\b\b\b\b\b\b\b\b\b\b\b\b\b\b\b\b\b\b\b\b\b\b\b\b\b\b\b\b\b\b\b\b\b\b\b\b\b\b\b\b\b\b\b\b\b\b\b\b\b\b\b\b\b\b\b\b\b\b\b\b\b\b\b\b\b\b\b\b\b\b\b\b\b\b\b\b\b\b\b\b\b\b\b\b\b\b\b\b\b\b\b\b\b\b\b\b\b\b\b\b\b\b\b\b\b\b\b\b\b\b \n",
      "[[ 957    0   10    1    1   12   14    2    7    5]\n",
      " [   0 1105    9    1    0    0    3   14   13    3]\n",
      " [   1    2  917   17    3    1    5   18    6    0]\n",
      " [   1    8   37  939    0   46    1    7   16   13]\n",
      " [   1    0    8    0  925    8    8    7    9   61]\n",
      " [   6    1    2   19    0  778   11    0   22   11]\n",
      " [   8    3   10    3   15   15  913    1   15    1]\n",
      " [   3    2   13   15    1    1    0  958    6   22]\n",
      " [   3   14   24   11    5   24    3    1  870   14]\n",
      " [   0    0    2    4   32    7    0   20   10  879]]\n",
      "Accuracy =  0.9241\n"
     ]
    }
   ],
   "source": [
    "## Out of Sample\n",
    "yhat = model.predict_classes(X_test, batch_size=32)\n",
    "\n",
    "## Confusion matrix\n",
    "from sklearn.metrics import confusion_matrix\n",
    "cm = confusion_matrix(yhat,Y_test)\n",
    "print(\" \")\n",
    "print(cm)\n",
    "\n",
    "##\n",
    "acc = sum(diag(cm))/len(Y_test)\n",
    "print(\"Accuracy = \",acc)\n"
   ]
  },
  {
   "cell_type": "markdown",
   "metadata": {
    "slideshow": {
     "slide_type": "slide"
    }
   },
   "source": [
    "# Amazon Rekognition\n",
    "\n",
    "https://console.aws.amazon.com/rekognition/home?region=us-east-1#/label-detection\n",
    "\n",
    "![](AWS_ImageRekognition.png)"
   ]
  },
  {
   "cell_type": "markdown",
   "metadata": {
    "nbpresent": {
     "id": "d97e6ddc-d756-4f7d-a8ce-bb607f133103"
    },
    "slideshow": {
     "slide_type": "slide"
    }
   },
   "source": [
    "# Learning the Black-Scholes Equation\n",
    "\n",
    "![Hutchinson, Lo, Poggio (1994)](HutchinsonLoPoggio.png)"
   ]
  },
  {
   "cell_type": "code",
   "execution_count": null,
   "metadata": {
    "collapsed": true,
    "nbpresent": {
     "id": "fe760e81-c253-4eae-bfd8-fa7fb00aed1c"
    },
    "slideshow": {
     "slide_type": "fragment"
    }
   },
   "outputs": [],
   "source": [
    "from scipy.stats import norm\n",
    "def BSM(S,K,T,sig,rf,dv,cp):  #cp = {+1.0 (calls), -1.0 (puts)}\n",
    "    d1 = (math.log(S/K)+(rf-dv+0.5*sig**2)*T)/(sig*math.sqrt(T))\n",
    "    d2 = d1 - sig*math.sqrt(T)\n",
    "    return cp*S*math.exp(-dv*T)*norm.cdf(d1*cp) - cp*K*math.exp(-rf*T)*norm.cdf(d2*cp)\n",
    "\n",
    "df = pd.read_csv('/Users/srdas/GoogleDrive/Papers/DeepLearning/DLinFinance/BlackScholesNN/training.csv')"
   ]
  },
  {
   "cell_type": "markdown",
   "metadata": {
    "nbpresent": {
     "id": "0555c697-6deb-402e-8360-d5429b787beb"
    },
    "slideshow": {
     "slide_type": "slide"
    }
   },
   "source": [
    "# Normalizing spot and call prices\n",
    "$C$ is homogeneous degree one, so\n",
    "$$ aC(S,K) = C(aS,aK) $$\n",
    "This means we can normalize spot and call prices and remove  a variable by dividing by $K$.\n",
    "$$ \\frac{C(S,K)}{K} = C(S/K,1) $$"
   ]
  },
  {
   "cell_type": "code",
   "execution_count": null,
   "metadata": {
    "collapsed": true,
    "nbpresent": {
     "id": "c9c26df7-0f50-4e79-97db-a659fbbebfcb"
    },
    "slideshow": {
     "slide_type": "fragment"
    }
   },
   "outputs": [],
   "source": [
    "df['Stock Price'] = df['Stock Price']/df['Strike Price']\n",
    "df['Call Price']  = df['Call Price'] /df['Strike Price']"
   ]
  },
  {
   "cell_type": "markdown",
   "metadata": {
    "nbpresent": {
     "id": "f6202714-0488-489c-a6f6-cddf0dd8a1fd"
    },
    "slideshow": {
     "slide_type": "slide"
    }
   },
   "source": [
    "# Data, libraries, activation functions"
   ]
  },
  {
   "cell_type": "code",
   "execution_count": null,
   "metadata": {
    "collapsed": true,
    "nbpresent": {
     "id": "130e9562-8b5b-4636-b7b7-fdf46cef5e0d"
    },
    "slideshow": {
     "slide_type": "fragment"
    }
   },
   "outputs": [],
   "source": [
    "n = 300000\n",
    "n_train =  (int)(0.8 * n)\n",
    "train = df[0:n_train]\n",
    "X_train = train[['Stock Price', 'Maturity', 'Dividends', 'Volatility', 'Risk-free']].values\n",
    "y_train = train['Call Price'].values\n",
    "test = df[n_train+1:n]\n",
    "X_test = test[['Stock Price', 'Maturity', 'Dividends', 'Volatility', 'Risk-free']].values\n",
    "y_test = test['Call Price'].values"
   ]
  },
  {
   "cell_type": "code",
   "execution_count": null,
   "metadata": {
    "collapsed": true,
    "nbpresent": {
     "id": "19d35b09-05d3-432f-86c6-f90eb7493fa7"
    },
    "slideshow": {
     "slide_type": "fragment"
    }
   },
   "outputs": [],
   "source": [
    "#Import libraries\n",
    "from keras.models import Sequential\n",
    "from keras.layers import Dense, Dropout, Activation, LeakyReLU\n",
    "from keras import backend\n",
    "\n",
    "def custom_activation(x):\n",
    "    return backend.exp(x)"
   ]
  },
  {
   "cell_type": "markdown",
   "metadata": {
    "nbpresent": {
     "id": "68de54a9-7d5f-4e9d-9be8-7b32d8e0692e"
    },
    "slideshow": {
     "slide_type": "slide"
    }
   },
   "source": [
    "# Set up, compile and fit the model"
   ]
  },
  {
   "cell_type": "code",
   "execution_count": null,
   "metadata": {
    "collapsed": false,
    "nbpresent": {
     "id": "a26eceff-7b4c-449b-a7e5-46bed8aeaab2"
    },
    "slideshow": {
     "slide_type": "fragment"
    }
   },
   "outputs": [],
   "source": [
    "nodes = 120\n",
    "model = Sequential()\n",
    "\n",
    "model.add(Dense(nodes, input_dim=X_train.shape[1]))\n",
    "model.add(LeakyReLU())\n",
    "model.add(Dropout(0.25))\n",
    "\n",
    "model.add(Dense(nodes, activation='elu'))\n",
    "model.add(Dropout(0.25))\n",
    "\n",
    "model.add(Dense(nodes, activation='relu'))\n",
    "model.add(Dropout(0.25))\n",
    "\n",
    "model.add(Dense(nodes, activation='elu'))\n",
    "model.add(Dropout(0.25))\n",
    "\n",
    "model.add(Dense(1))\n",
    "model.add(Activation(custom_activation))\n",
    "          \n",
    "model.compile(loss='mse',optimizer='rmsprop')\n",
    "\n",
    "model.fit(X_train, y_train, batch_size=64, epochs=10, validation_split=0.1, verbose=2)"
   ]
  },
  {
   "cell_type": "code",
   "execution_count": null,
   "metadata": {
    "collapsed": true,
    "nbpresent": {
     "id": "af48fef1-1c71-4509-bc48-7c9ba8550fd8"
    },
    "slideshow": {
     "slide_type": "skip"
    }
   },
   "outputs": [],
   "source": [
    "def CheckAccuracy(y,y_hat):\n",
    "    stats = dict()\n",
    "    \n",
    "    stats['diff'] = y - y_hat\n",
    "    \n",
    "    stats['mse'] = mean(stats['diff']**2)\n",
    "    print(\"Mean Squared Error:      \", stats['mse'])\n",
    "    \n",
    "    stats['rmse'] = sqrt(stats['mse'])\n",
    "    print(\"Root Mean Squared Error: \", stats['rmse'])\n",
    "    \n",
    "    stats['mae'] = mean(abs(stats['diff']))\n",
    "    print(\"Mean Absolute Error:     \", stats['mae'])\n",
    "    \n",
    "    stats['mpe'] = sqrt(stats['mse'])/mean(y)\n",
    "    print(\"Mean Percent Error:      \", stats['mpe'])\n",
    "    \n",
    "    #plots\n",
    "    mpl.rcParams['agg.path.chunksize'] = 100000\n",
    "    figure(figsize=(14,10))\n",
    "    plt.scatter(y, y_hat,color='black',linewidth=0.3,alpha=0.4, s=0.5)\n",
    "    plt.xlabel('Actual Price',fontsize=20,fontname='Times New Roman')\n",
    "    plt.ylabel('Predicted Price',fontsize=20,fontname='Times New Roman') \n",
    "    plt.show()\n",
    "    \n",
    "    figure(figsize=(14,10))\n",
    "    plt.hist(stats['diff'], bins=50,edgecolor='black',color='white')\n",
    "    plt.xlabel('Diff')\n",
    "    plt.ylabel('Density')\n",
    "    plt.show()\n",
    "    \n",
    "    return stats"
   ]
  },
  {
   "cell_type": "markdown",
   "metadata": {
    "nbpresent": {
     "id": "7d87b034-b802-490a-b6dc-f32c284368d2"
    },
    "slideshow": {
     "slide_type": "slide"
    }
   },
   "source": [
    "# Predict and check accuracy (in-sample)"
   ]
  },
  {
   "cell_type": "code",
   "execution_count": null,
   "metadata": {
    "collapsed": false,
    "nbpresent": {
     "id": "e63cc2df-19bc-405e-8b52-fee388b25e6b"
    },
    "slideshow": {
     "slide_type": "fragment"
    }
   },
   "outputs": [],
   "source": [
    "y_train_hat = model.predict(X_train)\n",
    "#reduce dim (240000,1) -> (240000,) to match y_train's dim\n",
    "y_train_hat = squeeze(y_train_hat)\n",
    "CheckAccuracy(y_train, y_train_hat)"
   ]
  },
  {
   "cell_type": "markdown",
   "metadata": {
    "nbpresent": {
     "id": "8a387553-7f73-4829-b265-337e3704d1ed"
    },
    "slideshow": {
     "slide_type": "slide"
    }
   },
   "source": [
    "# Predict and check accuracy (validation-sample)"
   ]
  },
  {
   "cell_type": "code",
   "execution_count": null,
   "metadata": {
    "collapsed": false,
    "nbpresent": {
     "id": "94523722-6d93-41c3-8dcd-d96da76ebbf2"
    },
    "slideshow": {
     "slide_type": "fragment"
    }
   },
   "outputs": [],
   "source": [
    "y_test_hat = model.predict(X_test)\n",
    "y_test_hat = squeeze(y_test_hat)\n",
    "test_stats = CheckAccuracy(y_test, y_test_hat)"
   ]
  },
  {
   "cell_type": "markdown",
   "metadata": {
    "nbpresent": {
     "id": "194fb28d-7972-46b6-a7eb-b86b8424db10"
    },
    "slideshow": {
     "slide_type": "slide"
    }
   },
   "source": [
    "# Random Forest of decision trees\n",
    "\n",
    "A Random Forest uses several decision trees to make hypotheses about regions within subsamples of the data, then makes predictions based on the majority vote of these trees. This safeguards against overfitting/memorization of the training data.\n",
    "\n",
    "![Random Forest](forest-3.png)"
   ]
  },
  {
   "cell_type": "markdown",
   "metadata": {
    "nbpresent": {
     "id": "eff38c64-54a7-4b3e-81fc-559d80a346bf"
    },
    "slideshow": {
     "slide_type": "slide"
    }
   },
   "source": [
    "# Prepare Data"
   ]
  },
  {
   "cell_type": "code",
   "execution_count": null,
   "metadata": {
    "collapsed": true,
    "nbpresent": {
     "id": "a5a0825e-68ac-4bd2-bc46-2bb5c35e9d37"
    },
    "slideshow": {
     "slide_type": "fragment"
    }
   },
   "outputs": [],
   "source": [
    "n = 300000\n",
    "n_train =  (int)(0.8 * n)\n",
    "train = df[0:n_train]\n",
    "X_train = train[['Stock Price', 'Maturity', 'Dividends', 'Volatility', 'Risk-free']].values\n",
    "y_train = train['Call Price'].values\n",
    "test = df[n_train+1:n]\n",
    "X_test = test[['Stock Price', 'Maturity', 'Dividends', 'Volatility', 'Risk-free']].values\n",
    "y_test = test['Call Price'].values"
   ]
  },
  {
   "cell_type": "code",
   "execution_count": null,
   "metadata": {
    "collapsed": true,
    "nbpresent": {
     "id": "b78d9aa9-ee78-4ca2-b4b3-98eb469a22ab"
    },
    "slideshow": {
     "slide_type": "skip"
    }
   },
   "outputs": [],
   "source": [
    "def CheckAccuracy(y,y_hat):\n",
    "    stats = dict()\n",
    "    \n",
    "    stats['diff'] = y - y_hat\n",
    "    \n",
    "    stats['mse'] = mean(stats['diff']**2)\n",
    "    print(\"Mean Squared Error:      \", stats['mse'])\n",
    "    \n",
    "    stats['rmse'] = sqrt(stats['mse'])\n",
    "    print(\"Root Mean Squared Error: \", stats['rmse'])\n",
    "    \n",
    "    stats['mae'] = mean(abs(stats['diff']))\n",
    "    print(\"Mean Absolute Error:     \", stats['mae'])\n",
    "    \n",
    "    stats['mpe'] = sqrt(stats['mse'])/mean(y)\n",
    "    print(\"Mean Percent Error:      \", stats['mpe'])\n",
    "    \n",
    "    #plots\n",
    "    mpl.rcParams['agg.path.chunksize'] = 100000\n",
    "    #figure(figsize=(14,10))\n",
    "    plt.scatter(y, y_hat,color='black',linewidth=0.3,alpha=0.4, s=0.5)\n",
    "    plt.xlabel('Actual Price',fontsize=20,fontname='Times New Roman')\n",
    "    plt.ylabel('Predicted Price',fontsize=20,fontname='Times New Roman') \n",
    "    plt.show()\n",
    "    \n",
    "    #figure(figsize=(14,10))\n",
    "    plt.hist(stats['diff'], bins=50,edgecolor='black',color='white')\n",
    "    plt.xlabel('Diff')\n",
    "    plt.ylabel('Density')\n",
    "    plt.show()\n",
    "    \n",
    "    return stats"
   ]
  },
  {
   "cell_type": "markdown",
   "metadata": {
    "nbpresent": {
     "id": "7abc1002-d2e8-47d4-aadb-de1d3b310698"
    },
    "slideshow": {
     "slide_type": "slide"
    }
   },
   "source": [
    "# Fit Random Forest"
   ]
  },
  {
   "cell_type": "code",
   "execution_count": null,
   "metadata": {
    "collapsed": true,
    "nbpresent": {
     "id": "d156a74b-e6d2-4364-9e8e-846fdfd6fb1b"
    },
    "slideshow": {
     "slide_type": "fragment"
    }
   },
   "outputs": [],
   "source": [
    "from sklearn.ensemble import RandomForestRegressor\n",
    "\n",
    "forest = RandomForestRegressor()\n",
    "forest = forest.fit(X_train, y_train)\n",
    "y_test_hat = forest.predict(X_test)"
   ]
  },
  {
   "cell_type": "code",
   "execution_count": null,
   "metadata": {
    "collapsed": false,
    "nbpresent": {
     "id": "6559885f-b87c-4f70-9786-48f514fc0f4c"
    },
    "slideshow": {
     "slide_type": "fragment"
    }
   },
   "outputs": [],
   "source": [
    "stats = CheckAccuracy(y_test, y_test_hat)"
   ]
  },
  {
   "cell_type": "markdown",
   "metadata": {
    "nbpresent": {
     "id": "4f72f0f0-0f46-4d58-b81d-f1a20bb7a78e"
    },
    "slideshow": {
     "slide_type": "slide"
    }
   },
   "source": [
    "# Stock Market Efficiency\n",
    "\n",
    "![](Numerai.png)"
   ]
  },
  {
   "cell_type": "markdown",
   "metadata": {
    "nbpresent": {
     "id": "f545d7a6-af68-421f-8ec1-cd00c887e3d9"
    },
    "slideshow": {
     "slide_type": "slide"
    }
   },
   "source": [
    "# Predicting the Direction of the S&P500 Index\n",
    "\n",
    "Using daily data from 1963"
   ]
  },
  {
   "cell_type": "code",
   "execution_count": null,
   "metadata": {
    "collapsed": false,
    "nbpresent": {
     "id": "467c0514-18fa-47a6-8d20-4222c141e282"
    },
    "slideshow": {
     "slide_type": "fragment"
    }
   },
   "outputs": [],
   "source": [
    "## Read in the data into a dataframe\n",
    "df = pd.read_csv(\"/Users/srdas/GoogleDrive/Papers/DeepLearning/DLinFinance/SP_Data_shared/mer_df_percentile.csv\")\n",
    "df = df.drop(df.columns[[0]],axis=1)\n",
    "print(shape(df))\n",
    "#print(df.columns)\n",
    "#df.head()\n",
    "\n",
    "## Add a column for the sign of the SPX return: 1 is positive, 0 is negative\n",
    "df[\"Sign\"] = maximum(0,sign(df[\"SPX\"]))\n",
    "#df.head(20)"
   ]
  },
  {
   "cell_type": "markdown",
   "metadata": {
    "slideshow": {
     "slide_type": "slide"
    }
   },
   "source": [
    "# S&P 500 Returns\n",
    "\n",
    "![](SP_returns_hist.png)"
   ]
  },
  {
   "cell_type": "markdown",
   "metadata": {
    "slideshow": {
     "slide_type": "slide"
    }
   },
   "source": [
    "![](SP_returns.png)"
   ]
  },
  {
   "cell_type": "markdown",
   "metadata": {
    "nbpresent": {
     "id": "b4b6483a-f6bd-4b47-9a16-336213c7969c"
    },
    "slideshow": {
     "slide_type": "slide"
    }
   },
   "source": [
    "# Data, lookback, lookforward"
   ]
  },
  {
   "cell_type": "code",
   "execution_count": null,
   "metadata": {
    "collapsed": false,
    "nbpresent": {
     "id": "fc961233-d2cf-4f6d-8ebd-e14b7bffcd4d"
    },
    "slideshow": {
     "slide_type": "fragment"
    }
   },
   "outputs": [],
   "source": [
    "n = 30               #Lookback period\n",
    "nfwd = 30            #Look ahead forecast period for validation\n",
    "train_size = 10000   #Training size\n",
    "\n",
    "m = shape(df)[0]  \n",
    "print(m) #Number of rows\n",
    "\n",
    "df2 = df[n:m][df.columns[[0,1,21]]]\n",
    "print(shape(df2))\n",
    "df2.head()"
   ]
  },
  {
   "cell_type": "code",
   "execution_count": null,
   "metadata": {
    "collapsed": false,
    "nbpresent": {
     "id": "b4a083a8-039e-4844-accb-97881eba1782"
    },
    "slideshow": {
     "slide_type": "subslide"
    }
   },
   "outputs": [],
   "source": [
    "#Special processing\n",
    "## Reset the index so than pandas does not merge on index and just cbinds\n",
    "df2 = df2.reset_index(drop=True)\n",
    "#df2.head()\n",
    "\n",
    "## Add n lagged columns of data, ncols = 3 + 19*n\n",
    "for j in (arange(n)+1):\n",
    "    tempdf = df[(n-j):(m-j)][df.columns[arange(2,21)]]\n",
    "    tempdf = tempdf.reset_index(drop=True)\n",
    "    df2 = pd.concat([df2,tempdf],axis=1)\n",
    "print(shape(df2))\n",
    "#df2.head()\n",
    "\n",
    "df2.describe()"
   ]
  },
  {
   "cell_type": "markdown",
   "metadata": {
    "nbpresent": {
     "id": "8be25271-2a7a-469c-b76c-d9366d671e5b"
    },
    "slideshow": {
     "slide_type": "slide"
    }
   },
   "source": [
    "# Select a subsample period at random and prepare data\n",
    "\n",
    "We select a date, and then train the model on the date for a consecutive period of days given by *train_size*. Testing is done on the period of days immediately following the end of the training period for *nfwd* days."
   ]
  },
  {
   "cell_type": "code",
   "execution_count": null,
   "metadata": {
    "collapsed": false,
    "nbpresent": {
     "id": "b400d8b9-ad3d-4ead-9f63-88c12d71d3fe"
    },
    "slideshow": {
     "slide_type": "fragment"
    }
   },
   "outputs": [],
   "source": [
    "import random\n",
    "x = random.choice(range(n,m-train_size-nfwd))\n",
    "print(x)   #Print the start observation"
   ]
  },
  {
   "cell_type": "markdown",
   "metadata": {
    "nbpresent": {
     "id": "12fe8df0-04c3-4897-a069-1fb508830359"
    },
    "slideshow": {
     "slide_type": "slide"
    }
   },
   "source": [
    "# Organize Data and Fit Model"
   ]
  },
  {
   "cell_type": "code",
   "execution_count": null,
   "metadata": {
    "collapsed": false,
    "nbpresent": {
     "id": "40f5f604-7011-49b8-8138-5779222c7f3d"
    },
    "slideshow": {
     "slide_type": "fragment"
    }
   },
   "outputs": [],
   "source": [
    "## Fit the model to the first 10,000 rows of data\n",
    "X_train = df2[x:x+train_size].as_matrix()\n",
    "X_train = X_train[:,3:len(df2.columns)]\n",
    "print(shape(X_train))\n",
    "Y_train = df2[x:x+train_size].as_matrix()\n",
    "Y_train = Y_train[:,2:3].astype(int32)\n",
    "print(shape(Y_train))\n",
    "\n",
    "data_dim = shape(X_train)[1]\n",
    "print(data_dim)\n",
    "\n",
    "X_test = df2[x+train_size:(x+train_size+nfwd)].as_matrix()\n",
    "X_test = X_test[:,3:len(df2.columns)]\n",
    "print(shape(X_test))\n",
    "Y_test = df2[x+train_size:(x+train_size+nfwd)].as_matrix()\n",
    "Y_test = Y_test[:,2:3].astype(int32)\n",
    "print(shape(Y_test))"
   ]
  },
  {
   "cell_type": "code",
   "execution_count": null,
   "metadata": {
    "collapsed": true,
    "nbpresent": {
     "id": "b5ff7168-41b9-461c-9ae0-7e8fce9a7cb2"
    },
    "slideshow": {
     "slide_type": "fragment"
    }
   },
   "outputs": [],
   "source": [
    "from keras.models import Sequential\n",
    "from keras.layers import Dense, Activation, Dropout\n",
    "from keras.layers.advanced_activations import LeakyReLU\n",
    "from keras.utils import to_categorical\n",
    "\n",
    "Y_train2 = to_categorical(Y_train,2)"
   ]
  },
  {
   "cell_type": "code",
   "execution_count": null,
   "metadata": {
    "collapsed": false,
    "nbpresent": {
     "id": "4a2b667f-8638-488e-9ebd-05ce815f5b9a"
    },
    "slideshow": {
     "slide_type": "slide"
    }
   },
   "outputs": [],
   "source": [
    "model = Sequential()\n",
    "n_units = 64 #200\n",
    "\n",
    "model.add(Dense(n_units, input_dim=data_dim))\n",
    "model.add(LeakyReLU())\n",
    "model.add(Dropout(0.25))\n",
    "\n",
    "model.add(Dense(n_units))\n",
    "model.add(LeakyReLU())\n",
    "model.add(Dropout(0.25))\n",
    "\n",
    "model.add(Dense(n_units))\n",
    "model.add(LeakyReLU())\n",
    "model.add(Dropout(0.25))\n",
    "\n",
    "model.add(Dense(2))\n",
    "model.add(Activation('sigmoid'))\n",
    "\n",
    "model.compile(optimizer='rmsprop',\n",
    "              loss='binary_crossentropy',\n",
    "              metrics=['accuracy'])\n",
    "bsize = 32\n",
    "model.fit(X_train, Y_train2, batch_size=bsize, epochs=25, validation_split=0.1, verbose=2)"
   ]
  },
  {
   "cell_type": "markdown",
   "metadata": {
    "nbpresent": {
     "id": "f3043a8d-25f3-4934-b0c9-ff6b877469af"
    },
    "slideshow": {
     "slide_type": "slide"
    }
   },
   "source": [
    "# Model Accuracy\n",
    "\n",
    "$parameters = 570 \\times 65+64 \\times 65+64 \\times 65+65 = 45435$"
   ]
  },
  {
   "cell_type": "code",
   "execution_count": null,
   "metadata": {
    "collapsed": false,
    "nbpresent": {
     "id": "c88f3bd2-e59e-4b85-b0fa-0c1330bf054c"
    },
    "slideshow": {
     "slide_type": "fragment"
    }
   },
   "outputs": [],
   "source": [
    "model.evaluate(X_train, Y_train2, verbose=0)"
   ]
  },
  {
   "cell_type": "markdown",
   "metadata": {
    "nbpresent": {
     "id": "79c0cf15-8428-4c24-acac-162420638643"
    },
    "slideshow": {
     "slide_type": "slide"
    }
   },
   "source": [
    "# Repeated Experiments"
   ]
  },
  {
   "cell_type": "code",
   "execution_count": null,
   "metadata": {
    "collapsed": false,
    "nbpresent": {
     "id": "fa835023-6db7-458a-b803-04489255cb35"
    },
    "slideshow": {
     "slide_type": "skip"
    }
   },
   "outputs": [],
   "source": [
    "all_res = pd.read_csv(\"/Users/sdas/GoogleDrive/Papers/DeepLearning/DLinFinance/SP_Data_shared/DLIndex_Random_results_30_10000_30.csv\")\n",
    "all_res.head()\n",
    "\n",
    "## Summarize \n",
    "all_res.describe()"
   ]
  },
  {
   "cell_type": "code",
   "execution_count": null,
   "metadata": {
    "collapsed": false,
    "nbpresent": {
     "id": "fc54a2f5-b156-4a60-9cf7-5869cd0a33c9"
    },
    "slideshow": {
     "slide_type": "skip"
    }
   },
   "outputs": [],
   "source": [
    "figure(figsize=(12,8))\n",
    "hist(all_res.InAcc,50,label='In-sample'); \n",
    "hist(all_res.OutAcc,50,label='Out-of-sample'); \n",
    "legend(bbox_to_anchor=(1.05, 1), loc=2, borderaxespad=0.)\n",
    "title('Prediction Accuracy')\n",
    "xlabel('Accuracy')\n",
    "ylabel('Frequency')\n",
    "grid()"
   ]
  },
  {
   "cell_type": "markdown",
   "metadata": {
    "nbpresent": {
     "id": "8eb25983-4f06-4523-9641-4e1301dec81e"
    },
    "slideshow": {
     "slide_type": "slide"
    }
   },
   "source": [
    "# Index Prediction with TensorFlow (random sampling with no resetting the model)\n",
    "\n",
    "![](IndexPrediction.png)"
   ]
  },
  {
   "cell_type": "markdown",
   "metadata": {
    "slideshow": {
     "slide_type": "slide"
    }
   },
   "source": [
    "# Fitting with h2o.deeplearning\n",
    "\n",
    "![](Acc_L30_F30.png)"
   ]
  },
  {
   "cell_type": "markdown",
   "metadata": {
    "slideshow": {
     "slide_type": "slide"
    }
   },
   "source": [
    "# Are Markets Efficient?\n",
    "\n",
    "- The in-sample tests are accurate 73% of the time. \n",
    "\n",
    "- The random sample tests are also accurate 69%. \n",
    "\n",
    "- But the out of sample tests are accurate 50-54% of the time. If this does not cover transaction costs, then the market is stil efficient, even after conditioning on a much larger data set. \n",
    "\n",
    "**Markets may be efficient even after conditioning on a much larger information set**"
   ]
  },
  {
   "cell_type": "markdown",
   "metadata": {
    "slideshow": {
     "slide_type": "slide"
    }
   },
   "source": [
    "# Everyone's trying to deep learn market prediction\n",
    "\n",
    "https://www.youtube.com/watch?v=ftMq5ps503w\n",
    "\n",
    "![Siraj Raval](SirajRavalStockPredict.png)"
   ]
  },
  {
   "cell_type": "markdown",
   "metadata": {
    "slideshow": {
     "slide_type": "slide"
    }
   },
   "source": [
    "![](ML_vs_SP.png)"
   ]
  },
  {
   "cell_type": "markdown",
   "metadata": {
    "nbpresent": {
     "id": "5d3d16de-c491-44c3-a9ea-d92165b986ca"
    },
    "slideshow": {
     "slide_type": "slide"
    }
   },
   "source": [
    "# Homomorphic Encryption\n",
    "\n",
    "- Machine learning on encrypted data \n",
    "\n",
    "- [Homomorphic encryption](https://en.wikipedia.org/wiki/Homomorphic_encryption) is a form of encryption that allows computations to be carried out on ciphertext, thus generating an encrypted result which, when decrypted, matches the result of operations performed on the plaintext.\n",
    "\n",
    "- Homomorphism applies under different mathematical functions. Different schemes support various mathematical operations. \n",
    "\n"
   ]
  },
  {
   "cell_type": "markdown",
   "metadata": {
    "slideshow": {
     "slide_type": "slide"
    }
   },
   "source": [
    "![](Numerai_mnist.png)"
   ]
  },
  {
   "cell_type": "markdown",
   "metadata": {
    "slideshow": {
     "slide_type": "slide"
    }
   },
   "source": [
    "# Recap: AI as a Service\n",
    "\n",
    "- Commoditized Platforms: Amazon's AWS Machine Learning VMs. \n",
    "\n",
    "- Commoditized Services: e.g., Image Rekognition. Document analysis. \n",
    "\n",
    "- Commoditized Models: Model zoos. NLP offerings. \n",
    "\n",
    "- Encrypted Crowdsourcing of AI. e.g., Numerai. Managing data and privacy. \n",
    "\n",
    "- Federated Machine Learning. Distributed Learning and data privacy. "
   ]
  },
  {
   "cell_type": "markdown",
   "metadata": {
    "slideshow": {
     "slide_type": "slide"
    }
   },
   "source": [
    "# Federated Machine Learning\n",
    "\n",
    "![](FederatedML.png)"
   ]
  },
  {
   "cell_type": "markdown",
   "metadata": {
    "nbpresent": {
     "id": "0592ea63-851c-4a1d-aa87-81bc9358a1cf"
    },
    "slideshow": {
     "slide_type": "skip"
    }
   },
   "source": [
    "# Mathematics of Deep Learning\n",
    "\n",
    "![](feedforward.png)"
   ]
  },
  {
   "cell_type": "markdown",
   "metadata": {
    "nbpresent": {
     "id": "d22c9a7b-0838-4c5c-b9d8-b67337b4bae2"
    },
    "slideshow": {
     "slide_type": "slide"
    }
   },
   "source": [
    "# The Magic of Backpropagation\n",
    "\n",
    "[Dating from the 1960s](https://en.wikipedia.org/wiki/Backpropagation) \n",
    "\n",
    "![](Backpropagation_slide.png)"
   ]
  },
  {
   "cell_type": "markdown",
   "metadata": {
    "slideshow": {
     "slide_type": "skip"
    }
   },
   "source": [
    "# Backpropagation in detail\n",
    "\n",
    "![](Backprop2.png)"
   ]
  },
  {
   "cell_type": "markdown",
   "metadata": {
    "slideshow": {
     "slide_type": "skip"
    }
   },
   "source": [
    "![](Backprop3.png)"
   ]
  },
  {
   "cell_type": "markdown",
   "metadata": {
    "slideshow": {
     "slide_type": "skip"
    }
   },
   "source": [
    "![](Backprop4.png)"
   ]
  },
  {
   "cell_type": "markdown",
   "metadata": {
    "slideshow": {
     "slide_type": "skip"
    }
   },
   "source": [
    "![](Backprop5.png)"
   ]
  },
  {
   "cell_type": "markdown",
   "metadata": {
    "slideshow": {
     "slide_type": "skip"
    }
   },
   "source": [
    "![](Backprop6.png)"
   ]
  },
  {
   "cell_type": "markdown",
   "metadata": {
    "slideshow": {
     "slide_type": "skip"
    }
   },
   "source": [
    "![](Backprop7.png)"
   ]
  },
  {
   "cell_type": "markdown",
   "metadata": {
    "slideshow": {
     "slide_type": "skip"
    }
   },
   "source": [
    "![](Backprop8.png)"
   ]
  },
  {
   "cell_type": "markdown",
   "metadata": {
    "slideshow": {
     "slide_type": "skip"
    }
   },
   "source": [
    "![](Backprop9.png)"
   ]
  },
  {
   "cell_type": "markdown",
   "metadata": {
    "slideshow": {
     "slide_type": "skip"
    }
   },
   "source": [
    "![](Backprop10.png)"
   ]
  },
  {
   "cell_type": "markdown",
   "metadata": {
    "slideshow": {
     "slide_type": "skip"
    }
   },
   "source": [
    "# Iterative Process\n",
    "\n",
    "![](Backprop11.png)"
   ]
  },
  {
   "cell_type": "markdown",
   "metadata": {
    "nbpresent": {
     "id": "fa7ce942-eb05-4b0a-b245-d69248c8977f"
    },
    "slideshow": {
     "slide_type": "slide"
    }
   },
   "source": [
    "# TensorFlow\n",
    "\n",
    "![](TensorFlow.png)"
   ]
  },
  {
   "cell_type": "markdown",
   "metadata": {
    "nbpresent": {
     "id": "fb57ba3a-b374-4a44-8f0d-abd074a6a6c4"
    },
    "slideshow": {
     "slide_type": "slide"
    }
   },
   "source": [
    "# Special Purpose Chips\n",
    "\n",
    "![](TPUs.png)"
   ]
  },
  {
   "cell_type": "markdown",
   "metadata": {
    "nbpresent": {
     "id": "6b34fcaa-f3b9-4086-bac5-db038950cfac"
    },
    "slideshow": {
     "slide_type": "slide"
    }
   },
   "source": [
    "# Other applications of deep learning in Finance\n",
    "\n",
    "- Forecasting the VIX curve.\n",
    "\n",
    "- Predicting Credit Card Default, see Khandani, Lee, Lo (2016).\n",
    "\n",
    "- Portfolio optimization.\n",
    "\n",
    "- Text analytics.\n",
    "\n",
    "- Text generation (e.g., Narrative Science).\n"
   ]
  },
  {
   "cell_type": "markdown",
   "metadata": {
    "nbpresent": {
     "id": "3ce75af7-81dd-4ca7-a767-ba52cda20d50"
    },
    "slideshow": {
     "slide_type": "slide"
    }
   },
   "source": [
    "# What happens to Financial Sector Employment?\n",
    "\n",
    "![](Musk_Tweet.png)\n"
   ]
  },
  {
   "cell_type": "markdown",
   "metadata": {
    "slideshow": {
     "slide_type": "slide"
    }
   },
   "source": [
    "![](AtomicLevelOfWork.png)"
   ]
  },
  {
   "cell_type": "markdown",
   "metadata": {
    "slideshow": {
     "slide_type": "slide"
    }
   },
   "source": [
    "## Automatable Occupations\n",
    "\n",
    "![](AutomatableJobs.png)"
   ]
  },
  {
   "cell_type": "markdown",
   "metadata": {
    "nbpresent": {
     "id": "778b9a42-76a4-43fc-adfb-b18710b96741"
    },
    "slideshow": {
     "slide_type": "slide"
    }
   },
   "source": [
    "# FinTech 2: Systemic Risk\n",
    "\n",
    "http://srdas.github.io/Presentations/DynamicRiskNetworks_slides_OptiRiskLondon_2017_06.pdf\n",
    "\n",
    "- Confluence of Graph Theory and Credit Models. \n",
    "- A growing literature in this area. Espinosa-Vega (2010); Espinosa-Vega and Sola (2010); Billio, Getmansky, Lo, and Pelizzon (2012); Merton, Billio, Getmansky, Gray, Lo, and Pelizzon (2013); and Das (2016).\n",
    "\n",
    "![](Midas_2005.png)"
   ]
  },
  {
   "cell_type": "markdown",
   "metadata": {
    "slideshow": {
     "slide_type": "slide"
    }
   },
   "source": [
    "![](Midas_2006_2009.png)"
   ]
  },
  {
   "cell_type": "markdown",
   "metadata": {
    "nbpresent": {
     "id": "5711c9c2-8b17-4af7-abe5-4ebe2fbf6a33"
    },
    "slideshow": {
     "slide_type": "slide"
    },
    "variables": {
     "\\bf 1}^T{\\bf a}{\\sqrt{{\\bf c}^T{\\bf E}{\\bf c": {},
     "\\bf 1}^\\top{\\bf a": {},
     "\\bf a} \\odot[({\\bf E} + {\\bf E}^T){\\bf c]": {},
     "\\bf c}^\\top{\\bf E}{\\bf c": {}
    }
   },
   "source": [
    "# A Risk Metric for the Entire Financial System\n",
    "\n",
    "- Systemic Risk Score: \n",
    "$$\n",
    "R=\\frac{\\sqrt{{\\bf c}^\\top{\\bf E}{\\bf c}}}{{\\bf 1}^\\top{\\bf a}}, \\quad {\\bf c}={\\bf a}\\odot \\boldsymbol{\\lambda}\n",
    "$$\n",
    "\n",
    "- $R$ is linear homogeneous in ${\\bf \\lambda}$: Let $\\alpha$ be any scalar constant.  If we replace ${\\bf \\lambda}$ with $\\alpha {\\bf \\lambda}$, it immediately follows that ${\\bf c}$ is replaced by $\\alpha {\\bf c}$, and, by our equation for $R$, we see that $R$ is replaced by $\\alpha R$.\n",
    "\n",
    "- Sensitivity of $R$ to changes in ${\\bf \\lambda}$: Differentiating our equation for $R$ with respect to ${\\bf \\lambda}$\n",
    "$$\n",
    "\\frac{\\partial R}{\\partial {\\bf \\lambda}} = \\frac{1}{2}\\frac{{\\bf a} \\odot[({\\bf E} + {\\bf E}^T){\\bf c]}}{{\\bf 1}^T{\\bf a}{\\sqrt{{\\bf c}^T{\\bf E}{\\bf c}}}}\n",
    "$$\n",
    "\n",
    "- **Risk Decomposition**, equal to $\\left(\\frac{\\partial R}{\\partial {\\boldsymbol \\lambda}} \\cdot {\\boldsymbol \\lambda} \\right)$, a vector containing each bank's contribution to $R$. "
   ]
  },
  {
   "cell_type": "markdown",
   "metadata": {
    "nbpresent": {
     "id": "d9f15e41-c950-4a20-9cd3-849e904a1f86"
    },
    "slideshow": {
     "slide_type": "slide"
    }
   },
   "source": [
    "# Top SIFIs Over Time, 2006-2015\n",
    "\n",
    "![](Periodic_table2.png)"
   ]
  },
  {
   "cell_type": "markdown",
   "metadata": {
    "nbpresent": {
     "id": "5b7166f5-360f-42c0-aa09-2528179d74a1"
    },
    "slideshow": {
     "slide_type": "slide"
    }
   },
   "source": [
    "# Top Risk Links, 2006-2015\n",
    "\n",
    "![](LinkDecomp_table2.png)"
   ]
  },
  {
   "cell_type": "markdown",
   "metadata": {
    "collapsed": true,
    "nbpresent": {
     "id": "8a0e1402-7e1d-4d31-b4ca-4e1d4a631073"
    },
    "slideshow": {
     "slide_type": "slide"
    }
   },
   "source": [
    "# FinTech 3. Consumer Finance\n",
    "\n",
    "In general, there are five issues that Fintech is resolving in consumer finance: \n",
    "\n",
    "1. Low returns, makes retirement targets hard to achieve. \n",
    "2. Longevity risk.\n",
    "3. High volatility.\n",
    "4. High cost providers.\n",
    "5. High inequality (Piketty 2014).\n"
   ]
  },
  {
   "cell_type": "markdown",
   "metadata": {
    "nbpresent": {
     "id": "44e5e55e-5bc9-4366-b3c3-dcc25b136439"
    },
    "slideshow": {
     "slide_type": "slide"
    }
   },
   "source": [
    "# Applications in Consumer Finance\n",
    "\n",
    "- Wei, Yildirim, den Bulte, and Dellarocas (2015), application using social media interactions. \n",
    "- Lin, Prabhala, and Viswanathan (2013) exploit friendship networks in peer-lending. \n",
    "- Big data helps eliminate bias from small data, see Choudhry, Das, and Hartman-Glaser (2016), ills are outlined in detail in O'Neill (2016).\n",
    "- Robo-Advising is emerging as a huge force for disintermediation. (Wealthfront, Betterment.)\n",
    "- Disintermediating the payday lending market, e.g., PayActiv.\n",
    "- Cheap trading access (Robinhood). "
   ]
  },
  {
   "cell_type": "markdown",
   "metadata": {
    "collapsed": true,
    "nbpresent": {
     "id": "84ce534d-39e2-46da-bcb6-363e06869535"
    },
    "slideshow": {
     "slide_type": "slide"
    }
   },
   "source": [
    "![Robo Advisors](Robo_scorecard.png)"
   ]
  },
  {
   "cell_type": "markdown",
   "metadata": {
    "nbpresent": {
     "id": "d0a6923d-c733-4cb3-820c-9997fd58acac"
    },
    "slideshow": {
     "slide_type": "slide"
    }
   },
   "source": [
    "# FinTech 4: Nowcasting\n",
    "\n",
    "- Recent literature:  Evans (2005); Giannone, Reichlin, and Small(2008); and Babura, Giannone, Modugno, and Reichlin (2013).\n",
    "\n",
    "- GDPNow, a model from the Atlanta Fed.\n",
    "\n",
    "![](GDPNow_RMSE.png)\n"
   ]
  },
  {
   "cell_type": "markdown",
   "metadata": {
    "nbpresent": {
     "id": "e0e23de9-ca9c-4255-ae4e-3b0952d5afff"
    },
    "slideshow": {
     "slide_type": "slide"
    }
   },
   "source": [
    "# Real-Time Indexes\n",
    "\n",
    "- BILLIQ: An Index-Based Measure of Illiquidity.\n",
    "\n",
    "- Uses option pricing theory to derive a measure for the cost of immediacy. \n",
    "\n",
    "![](Billiq.png)"
   ]
  },
  {
   "cell_type": "markdown",
   "metadata": {
    "nbpresent": {
     "id": "e949bfc4-5400-4e49-aebf-5f639cfaa6b2"
    },
    "slideshow": {
     "slide_type": "slide"
    }
   },
   "source": [
    "# Fintech 5: Cybersecurity\n",
    "\n",
    "(i) Cybersecurity is a massive application area. https://www.sans.org/media/critical-security-controls/critical-controls-poster-2016.pdf.\n",
    "\n",
    "(ii) Three sources of risk:\n",
    "- State actors.\n",
    "- Organized crime.\n",
    "- Internal agents.\n",
    "\n",
    "(iii) The Dark Web (vs the Deep Web). Tumblers.\n",
    "\n",
    "(iv) Interesting books\n",
    "- Kingpin\n",
    "- Fatal System Error"
   ]
  },
  {
   "cell_type": "markdown",
   "metadata": {
    "nbpresent": {
     "id": "85c3b037-4fae-4fff-b195-dd5e666d1d14"
    },
    "slideshow": {
     "slide_type": "slide"
    }
   },
   "source": [
    "![SANS Institute: Critical Security Controls (CSCs)](SANS_CSC1.png)"
   ]
  },
  {
   "cell_type": "markdown",
   "metadata": {
    "nbpresent": {
     "id": "2e901ed7-8092-4c29-b427-83c6c81b8288"
    },
    "slideshow": {
     "slide_type": "slide"
    }
   },
   "source": [
    "![SANS Institute: Tools to implement CSCs](SANS_CSC2.png)"
   ]
  },
  {
   "cell_type": "markdown",
   "metadata": {
    "nbpresent": {
     "id": "d99c8dca-5cc7-488c-af6e-88833e055daf"
    },
    "slideshow": {
     "slide_type": "slide"
    }
   },
   "source": [
    "# FinTech 6: Detecting Financial Fraud\n",
    "\n",
    "- Financial fraud allows perpetrator to be removed from the scene of the crime.\n",
    "\n",
    "- Therefore, logging all financial activity to enable traceback is critical.\n",
    "\n",
    "- Limited defense at the authentication stage if there is a data breach.\n",
    "\n",
    "- Widespread use of machine learning.\n",
    "\n",
    "- Social media based; highly consumer-centric. Device usage, Email use, customer location at time of transaction.\n",
    "\n",
    "- Adaptive behavioral analytics, e.g., Bionym, EyeVerify, BioCatch.\n",
    "\n",
    "- Anomaly detection is a hard problem, with unbalanced data. See  \n",
    "\n",
    "\n",
    "Ayasdi: https://www.ayasdi.com/ uses Topological Data Analysis\n",
    "\n",
    "Simility: https://simility.com/ uses device tracking techniques."
   ]
  },
  {
   "cell_type": "markdown",
   "metadata": {
    "slideshow": {
     "slide_type": "slide"
    }
   },
   "source": [
    "# Credit Card Fraud Detection\n",
    "\n",
    "Culkin and Das (2017)\n",
    "\n",
    "For other work on credit cards, see Butaru et al (2016):\n",
    "http://www.sciencedirect.com/science/article/pii/S0378426616301340"
   ]
  },
  {
   "cell_type": "code",
   "execution_count": null,
   "metadata": {
    "collapsed": true,
    "slideshow": {
     "slide_type": "fragment"
    }
   },
   "outputs": [],
   "source": [
    "from sklearn.model_selection import train_test_split\n",
    "from imblearn.combine import SMOTEENN \n",
    "from sklearn.ensemble import RandomForestClassifier\n",
    "from sklearn.metrics import accuracy_score\n",
    "from sklearn.metrics import classification_report\n",
    "from sklearn.metrics import roc_curve,auc\n",
    "from sklearn.metrics import confusion_matrix"
   ]
  },
  {
   "cell_type": "code",
   "execution_count": null,
   "metadata": {
    "collapsed": false,
    "slideshow": {
     "slide_type": "fragment"
    }
   },
   "outputs": [],
   "source": [
    "%%time\n",
    "data = pd.read_csv('/Users/srdas/GoogleDrive/Papers/DeepLearning/DLinFinance/CreditCardFraud/creditcard.csv')\n",
    "print(data.shape)"
   ]
  },
  {
   "cell_type": "code",
   "execution_count": null,
   "metadata": {
    "collapsed": false,
    "slideshow": {
     "slide_type": "fragment"
    }
   },
   "outputs": [],
   "source": [
    "data[[\"Class\",\"V1\"]].groupby([\"Class\"]).count()"
   ]
  },
  {
   "cell_type": "code",
   "execution_count": null,
   "metadata": {
    "collapsed": false,
    "slideshow": {
     "slide_type": "fragment"
    }
   },
   "outputs": [],
   "source": [
    "data[[\"Class\",\"Amount\"]].groupby([\"Class\"]).mean()"
   ]
  },
  {
   "cell_type": "markdown",
   "metadata": {
    "slideshow": {
     "slide_type": "slide"
    }
   },
   "source": [
    "# Feature Engineer the data"
   ]
  },
  {
   "cell_type": "code",
   "execution_count": null,
   "metadata": {
    "collapsed": false,
    "slideshow": {
     "slide_type": "fragment"
    }
   },
   "outputs": [],
   "source": [
    "X_train, X_test, y_train, y_test = train_test_split(data.drop('Class',axis=1), data['Class'], test_size=0.33)\n",
    "print(X_train.shape)\n",
    "print(y_train.shape)\n",
    "print(X_test.shape)\n",
    "print(y_test.shape)"
   ]
  },
  {
   "cell_type": "code",
   "execution_count": null,
   "metadata": {
    "collapsed": false,
    "slideshow": {
     "slide_type": "fragment"
    }
   },
   "outputs": [],
   "source": [
    "sme = SMOTEENN()\n",
    "X_train, y_train = sme.fit_sample(X_train, y_train)\n",
    "print(X_train.shape)\n",
    "print(y_train.shape)\n",
    "unique(y_train, return_counts=True)"
   ]
  },
  {
   "cell_type": "markdown",
   "metadata": {
    "slideshow": {
     "slide_type": "slide"
    }
   },
   "source": [
    "# Train and Predict"
   ]
  },
  {
   "cell_type": "code",
   "execution_count": null,
   "metadata": {
    "collapsed": true,
    "slideshow": {
     "slide_type": "fragment"
    }
   },
   "outputs": [],
   "source": [
    "clf = RandomForestClassifier(n_estimators=10)\n",
    "clf = clf.fit(X_train,y_train)\n",
    "y_test_hat = clf.predict(X_test)"
   ]
  },
  {
   "cell_type": "code",
   "execution_count": null,
   "metadata": {
    "collapsed": true,
    "slideshow": {
     "slide_type": "skip"
    }
   },
   "outputs": [],
   "source": [
    "def plot_confusion_matrix(cm, title='Confusion matrix', cmap=plt.cm.Blues):\n",
    "    plt.imshow(cm, interpolation='nearest', cmap=cmap) \n",
    "    plt.title(title)\n",
    "    class_labels = ['Valid','Fraudulent']\n",
    "    plt.colorbar()\n",
    "    \n",
    "    tick_marks = np.arange(len(class_labels)) \n",
    "    plt.xticks(tick_marks, class_labels, rotation=90) \n",
    "    plt.yticks(tick_marks, class_labels) \n",
    "    plt.tight_layout()\n",
    "    plt.ylabel('True label')\n",
    "    plt.xlabel('Predicted label')"
   ]
  },
  {
   "cell_type": "code",
   "execution_count": null,
   "metadata": {
    "collapsed": false,
    "slideshow": {
     "slide_type": "fragment"
    }
   },
   "outputs": [],
   "source": [
    "#Out of sample\n",
    "print(\"Accuracy = \",accuracy_score(y_test,y_test_hat))\n",
    "cm = confusion_matrix(y_test, y_test_hat)\n",
    "print(\"Confusion Matrix\")\n",
    "print(cm)\n",
    "print(\"False positive rate = \",cm[1][0]/sum(cm[1]))"
   ]
  },
  {
   "cell_type": "markdown",
   "metadata": {
    "slideshow": {
     "slide_type": "slide"
    }
   },
   "source": [
    "# ROC Curve and AUC "
   ]
  },
  {
   "cell_type": "code",
   "execution_count": null,
   "metadata": {
    "collapsed": false,
    "slideshow": {
     "slide_type": "fragment"
    }
   },
   "outputs": [],
   "source": [
    "y_score = clf.predict_proba(X_test)[:,1]\n",
    "fpr, tpr, _ = roc_curve(y_test, y_score)\n",
    "\n",
    "title('Random Forest ROC curve: CC Fraud')\n",
    "xlabel('FPR (Precision)')\n",
    "ylabel('TPR (Recall)')\n",
    "\n",
    "plot(fpr,tpr); grid()\n",
    "plot((0,1), ls='dashed',color='black')\n",
    "plt.show()\n",
    "#print 'Area under curve (AUC): ', auc(fpr,tpr)\n",
    "print('Area under curve (AUC): ', auc(fpr,tpr))"
   ]
  },
  {
   "cell_type": "markdown",
   "metadata": {
    "nbpresent": {
     "id": "3de978b9-95c8-4769-808b-d4926d4f4a41"
    },
    "slideshow": {
     "slide_type": "slide"
    }
   },
   "source": [
    "# FinTech 7: Payment and Funding Systems\n",
    "\n",
    "- Bypassing the banks, e.g., Venmo https://venmo.com/, Apple Pay https://www.apple.com/apple-pay/, Samsung Pay http://www.samsung.com/us/samsung-pay/, Google Pay https://www.android.com/pay/, Dwolla https://www.dwolla.com/, etc.\n",
    "\n",
    "- Demonetization in India leads to the rise of Paytm https://paytm.com/.\n",
    "\n",
    "- Disintermediation of the payday lending business, e.g., PayActiv https://www.payactiv.com/.\n",
    "\n",
    "- P2P lending, reverse auctions. e.g., Prosper https://www.prosper.com/.\n",
    "\n",
    "- Crowdfunding. Top sites: GoFundMe https://www.gofundme.com, KickStarter https://www.kickstarter.com/, indiegogo https://grow.indiegogo.com, Kiva http://www.kiva.org/, etc. Over \\$35 billion per year. Fees 5-10%, processing fees."
   ]
  },
  {
   "cell_type": "markdown",
   "metadata": {
    "nbpresent": {
     "id": "c52c9f8c-1522-4f13-bca2-ef0dd1efc292"
    },
    "slideshow": {
     "slide_type": "slide"
    }
   },
   "source": [
    "# FinTech 8: Automated and High-Frequency Trading\n",
    "\n",
    "- TradeWorx (http://www.tradeworx.com/) and Automated Trading Desk (ATD, bought by Citibank for \\$680M in 2007) were pioneers in the field. Algorithmic trading, 50% of executed trades in the equity markets, down from around $2/3$ of stock trades in late 2000s, profits from algorithmic trading are under competitive pressure, and regulatory oversight.\n",
    "\n",
    "- Since 2013, $2/3$ of the top 30 cited papers on HFTs show positive market effects.\n",
    "\n",
    "- Automated firms reduced trading costs, and contrary to popular opinion, improved market depth and stability.\n",
    "\n",
    "- Much of the research is possible because this sort of FinTech data has become available.\n",
    "\n",
    "- Work by Hendershott and Riordan (HFTs stabilize markets); Hasbrouk and Saar (HFTs improve market quality, reduce bid-ask spreads); Menkveld (HFTs reduce trading costs); Buti, Rindi, Werner (theoretical analysis of Dark Pools). \n",
    "\n",
    "- Flash crash of 6 May 2010, lasted a half-hour. huge swings in P/L."
   ]
  },
  {
   "cell_type": "markdown",
   "metadata": {
    "slideshow": {
     "slide_type": "slide"
    }
   },
   "source": [
    "# Big changes anticipated in HFT\n",
    "\n",
    "1. Increase in regulation \n",
    "2. Reduction in profits from competition\n",
    "3. Lower relevance of sheer speed of execution\n",
    "4. Greater role for the use of myriad sources of information\n",
    "5. Entry of deep learning and AI\n",
    "6. Reduced human role in favor of greater automation\n",
    "7. An emphasis on hardware over software."
   ]
  },
  {
   "cell_type": "markdown",
   "metadata": {
    "nbpresent": {
     "id": "106e5f7a-f32b-436b-8451-039e6dd4d890"
    },
    "slideshow": {
     "slide_type": "slide"
    }
   },
   "source": [
    "# Crowdsourcing Trading Models\n",
    "\n",
    "![Quantopian](Quantopian.png)\n",
    "\n",
    "http://www.quantopian.com"
   ]
  },
  {
   "cell_type": "markdown",
   "metadata": {
    "nbpresent": {
     "id": "095a6354-6814-43c3-b56a-384e7473cd12"
    },
    "slideshow": {
     "slide_type": "slide"
    }
   },
   "source": [
    "# FinTech 9: Blockchains and Cryptocurrencies\n",
    "\n",
    "- A decentralized record, with copies of the blockchain being maintained by several entities, with (hopefully) comprehensive security and consensus updates.\n",
    "\n",
    "- Acronym DIST (a file system that is Distributed, Immutable, Secure, and Trusted).\n",
    "\n",
    "- Banks are experimenting with blockchains for automated settlement, and have formed consortiums such as R3 (https://r3cev.com/).\n",
    "\n",
    "- USC (Utility Settlement Coin) from UBS and three other major banks, as well as SETL coin from Goldman Sachs.\n",
    "\n",
    "- Open source: Hyperledger, https://www.hyperledger.org/"
   ]
  },
  {
   "cell_type": "markdown",
   "metadata": {
    "nbpresent": {
     "id": "bf2d57c4-3d43-4edb-aa27-f6d067989c13"
    },
    "slideshow": {
     "slide_type": "slide"
    }
   },
   "source": [
    "# Ethereum\n",
    "\n",
    "- Founder Vitalik Buterin, who wanted to have a programmable blockchain platform. https://www.youtube.com/watch?v=TDGq4aeevgY\n",
    "\n",
    "- Ethereum: a software platform for blockchains to deploy decentralized applications. \n",
    "\n",
    "- It is a blockchain network, more general than Bitcoin.\n",
    "\n",
    "- Miners earn **Ether**, which can be used for transacting on Ethereum, or paying transaction fees. \n",
    "\n",
    "- Current price of Ether: https://www.coindesk.com/ethereum-price/\n",
    "\n",
    "- Supports **smart contracts** so that they can be settled anonymously. \n",
    "\n",
    "- May be used to create trading exchanges where smart settlement occurs, but systemic risk may still be managed. \n",
    "\n",
    "- Real estate applications: title verification, settlement, shared equity in properties, and liquid trading of real estate assets. \n",
    "\n",
    "- The technical platform software is known as the Ethereum Virtual Machine (EVM), and it enables any centralized service to be implemented in a decentralized manner. For example, see programming language Solidity. https://blockgeeks.com/guides/how-to-learn-solidity/\n",
    "\n",
    "- Cybersecurity is paramount. the Parity currency was hacked on Ethereum for \\$31 million (July 2017). Another \\$150 million was vulnerable, but white hat hackers stepped in and hacked those amounts out to save them. See: https://medium.freecodecamp.org/a-hacker-stole-31m-of-ether-how-it-happened-and-what-it-means-for-ethereum-9e5dc29e33ce. (This blog contains an excellent explanation of the Ethereum platform.)\n",
    "\n",
    "- The Future: (a) Private blockchains; (b) Consortia blockchains like https://www.r3.com/.\n",
    "\n",
    "Reference: https://blockgeeks.com/guides/what-is-ethereum/"
   ]
  },
  {
   "cell_type": "markdown",
   "metadata": {
    "nbpresent": {
     "id": "b3354db9-86e7-4bd7-98cc-3e1acfcc7cd9"
    },
    "slideshow": {
     "slide_type": "slide"
    }
   },
   "source": [
    "# DAO (Decentralized Autonomous Organization)\n",
    "\n",
    "- Established on the Ethereum blockchain by https://slock.it/. \n",
    "\n",
    "- \\$150,000,000 venture fund invested in by thousands. Crowd-sourced VC funding. \n",
    "\n",
    "- July 2017: SEC rules that tokens issued by DAO are securities and are regulated by federal securities law. \n",
    "\n",
    "- SEC: Securities, for regulatory purposes, include any \"investment of money in a common enterprise with a reasonable expectation of profits to be derived from the entrepreneurial or managerial efforts of others.\"\n",
    "\n",
    "- \"Money\" includes cash and ether. \n",
    "\n",
    "- Cynical viewpoint: The cryptocurrency players are learning the old rules of money in a new setting. \n"
   ]
  },
  {
   "cell_type": "markdown",
   "metadata": {
    "nbpresent": {
     "id": "c3aa95c5-cef1-4553-835a-be27550b972a"
    },
    "slideshow": {
     "slide_type": "slide"
    }
   },
   "source": [
    "## Drawbacks of DAOs\n",
    "\n",
    "- Machine failure: bugs, downtime. \n",
    "\n",
    "- Human failure: poorly designed contracts, when all externalities are not thought through, leading to immutable poor incentives and gaming, or outright theft. Lack of clarity in contracting eventually leads to contract failure. \n",
    "\n",
    "- Problems require consensus resolution, which are hard to implement in a decentralized setting. \n",
    "\n",
    "**The DAO hack of 2016**: \n",
    "- Hack exploited a flaw in DAOs code, not any flaw in Ethereum. \n",
    "\n",
    "- Hard fork to cancel stolen tokens, and make whole the investors who lost their tokens. \n",
    "\n",
    "- Proponents of a soft fork that retained the immutability of the blockchain fell out with the original Ethereum team, and created a new currency called \"Ethereum Classic\". "
   ]
  },
  {
   "cell_type": "markdown",
   "metadata": {
    "nbpresent": {
     "id": "3a155778-d9f0-4a98-bc11-76dc9afa2386"
    },
    "slideshow": {
     "slide_type": "slide"
    }
   },
   "source": [
    "# Initial Coin Offerings (ICO)\n",
    "\n",
    "- Tokens that are claims on a physical product, business, service, or another ICO (meta coin). \n",
    "\n",
    "- Analogous to a pre-product sale.\n",
    "\n",
    "- A store of *future* value. \n",
    "\n",
    "- Is it a security to be regulated by the SEC?\n",
    "\n",
    "- 46 ICOs issued in July 2017, $665 million, without registration. \n",
    "\n",
    "- Exchanges on which ICOs are traded will likely attract SEC regulation. \n",
    "\n",
    "- Risk of recission: an illegal securities offering, people are legally required to be repaid. "
   ]
  },
  {
   "cell_type": "markdown",
   "metadata": {
    "nbpresent": {
     "id": "21f143c0-fd1e-434d-8188-87ebe9efe329"
    },
    "slideshow": {
     "slide_type": "slide"
    }
   },
   "source": [
    "# The Future of Cryptocurrency?\n",
    "\n",
    "Latest price: https://www.google.com/finance?q=CURRENCY%3ABTC\n",
    "\n",
    "- On August 13, 2017, the price of Bitcoin (BTC) surged past \\$4,000. This was a 20% increase over the previous week, after a plan to speed up trade execution was agreed up. As of date, it was up 300% from the beginning of the year. \n",
    "\n",
    "- The new solution denoted **SegWit2x** has been a bone of contention in the BTC community. Groups opposed to the new solution have spun off with a new coin called Bitcoin Cash. https://www.bloomberg.com/news/articles/2017-08-14/bitcoin-surges-past-4-000-as-speed-breakthrough-to-fuel-spread\n",
    "\n",
    "- BTC *daily* volatility ~5%, which is very high. The volatility of gold averages around 1.2%, while other major currencies average between 0.5% and 1.0%. Tech stocks are around 1-2%. "
   ]
  },
  {
   "cell_type": "markdown",
   "metadata": {
    "nbpresent": {
     "id": "6e167f58-65a9-4282-8b97-e47eedf711ae"
    },
    "slideshow": {
     "slide_type": "slide"
    }
   },
   "source": [
    "# FinTech 10: Text Analytics\n",
    "\n",
    "- Text analytics: [Das (2014)](http://srdas.github.io/Papers/Das_TextAnalyticsInFinance.pdf); Jegadeesh and Wu (2013); Loughran and McDonald (2014).\n",
    "\n",
    "- Number of risk words predicts earnings next quarter to be lower.\n",
    "\n",
    "- Lower *readability* predicts lower next quarter performance.\n",
    "\n",
    "- Larger annual report MD&A predicts lower next quarter performance.\n",
    "\n",
    "- Size of filing to SEC server predicts worse performance.\n",
    "\n",
    "- Using Word Embeddings. (**word2vec** from Google)\n",
    "\n",
    "- Topic analysis, Blei, Ng, and Jordan (2003). Opens up new areas of risk."
   ]
  },
  {
   "cell_type": "markdown",
   "metadata": {
    "nbpresent": {
     "id": "2df6acbe-3a5d-417a-aa61-b8f0d99fed73"
    },
    "slideshow": {
     "slide_type": "slide"
    }
   },
   "source": [
    "# Example: Text Analytics for RegTech\n",
    "\n",
    "### Zero-Revelation Linguistic Regulation: Detecting Risk Through Corporate Emails and News\n",
    "\n",
    "- Financials are often delayed indicators of corporate quality.\n",
    "\n",
    "- Internal discussion may be used as an early warning system for upcoming corporate malaise.\n",
    "\n",
    "- Emails have the potential to predict such events.\n",
    "\n",
    "- Software can analyze vast quantities of textual data not amenable to human processing.\n",
    "\n",
    "- Corporate senior management may also use these analyses to better predict and manage impending crisis for their firms.\n",
    "\n",
    "- The approach requires zero revelation of emails."
   ]
  },
  {
   "cell_type": "markdown",
   "metadata": {
    "nbpresent": {
     "id": "3bfff186-75b2-4039-bdda-22ef2de51a5b"
    },
    "slideshow": {
     "slide_type": "slide"
    }
   },
   "source": [
    "# Enron: Email Length\n",
    "\n",
    "![Email Length](Enron_email_length.png)"
   ]
  },
  {
   "cell_type": "markdown",
   "metadata": {
    "nbpresent": {
     "id": "d654e8a7-602b-4ca6-978c-c59e6a1ed5b0"
    },
    "slideshow": {
     "slide_type": "slide"
    }
   },
   "source": [
    "# Enron: Sentiment and Returns\n",
    "\n",
    "![](Enron_sentiment_returns.png)"
   ]
  },
  {
   "cell_type": "markdown",
   "metadata": {
    "nbpresent": {
     "id": "2c084ce0-af9b-47c6-8d83-f99fccba4e3a"
    },
    "slideshow": {
     "slide_type": "slide"
    }
   },
   "source": [
    "# Enron: Returns and Characteristics\n",
    "\n",
    "![](Enron_returns_characteristics.png)"
   ]
  },
  {
   "cell_type": "markdown",
   "metadata": {
    "nbpresent": {
     "id": "2e4f0515-8c7e-4901-bb09-c5e5ee04a99c"
    },
    "slideshow": {
     "slide_type": "slide"
    }
   },
   "source": [
    "# Enron: WordPlay\n",
    "\n",
    "![](Enron_wordplay.png)"
   ]
  },
  {
   "cell_type": "markdown",
   "metadata": {
    "nbpresent": {
     "id": "ce9392c5-2f5b-417f-90ee-837a4dbc44b6"
    },
    "slideshow": {
     "slide_type": "slide"
    }
   },
   "source": [
    "# Enron: Topic Analysis\n",
    "\n",
    "![](Enron_factiva_topics.png)"
   ]
  },
  {
   "cell_type": "markdown",
   "metadata": {
    "nbpresent": {
     "id": "f2d68bee-c014-4fb0-9781-af95a95d30db"
    },
    "slideshow": {
     "slide_type": "slide"
    }
   },
   "source": [
    "# Enron Dynamic Movie (by James Callahan)\n",
    "\n",
    "http://srdas.github.io/Presentations/JimCallahan_enron-sm.mov\n",
    "\n",
    "![](Enron_movie.png)\n"
   ]
  },
  {
   "cell_type": "markdown",
   "metadata": {
    "nbpresent": {
     "id": "e8b668e6-d09d-4c85-b8e2-49a25eeb979c"
    },
    "slideshow": {
     "slide_type": "slide"
    }
   },
   "source": [
    "# India: Topic Analysis\n",
    "\n",
    "![](India_topics1.png)"
   ]
  },
  {
   "cell_type": "markdown",
   "metadata": {
    "nbpresent": {
     "id": "95fd600d-f07e-41b0-a4bb-333822654c26"
    },
    "slideshow": {
     "slide_type": "slide"
    }
   },
   "source": [
    "# India: Topic Analysis\n",
    "\n",
    "![](India_topics2.png)"
   ]
  },
  {
   "cell_type": "markdown",
   "metadata": {
    "nbpresent": {
     "id": "bcc6050c-f086-4e8c-8e0a-f5f912bde1c9"
    },
    "slideshow": {
     "slide_type": "slide"
    }
   },
   "source": [
    "# Value Drivers in FinTech\n",
    "\n",
    "1. Using **Theory** to develop models to apply to **Big Data**. \n",
    "\n",
    "2. Question/problems are **primary**, data is secondary, in the success of FinTech ventures. \n",
    "\n",
    "3. **Simplicity, transparency** of models fosters implementability. \n",
    "\n",
    "4. Analytics per se is **multidisciplinary**. \n",
    "\n",
    "5. **Disparate** data is the norm. \n",
    "\n",
    "6. Significant investment in **hardware** and **talent**.\n"
   ]
  },
  {
   "cell_type": "markdown",
   "metadata": {
    "nbpresent": {
     "id": "fec46b42-cc53-4b7a-bcaa-a5e2f6d57b4c"
    },
    "slideshow": {
     "slide_type": "slide"
    }
   },
   "source": [
    "# Pitfalls to Avoid in FinTech\n",
    "\n",
    "- **GIGO**: Garbage in, garbage out. See [Alexander et al (2017)](http://srdas.github.io/Papers/big.2016.0074_FINAL.pdf).\n",
    "\n",
    "- **IO** (Information Overload): Collecting too much data and not using it correctly. Use theoretical models. \n",
    "\n",
    "- **BiNB** (Bigger is Not Better): Big data leads to bigger errors if misused. Taleb critique. TDA (topological data analysis, [Ayasdi](https://www.ayasdi.com/), [Simility](https://simility.com/).\n",
    "\n",
    "- **CCC**: Confusing correlation with causality. Tighter review cycles for predictive models.\n",
    "\n",
    "- **$$$**: May involve expensive infrastructure. Go all in. \n",
    "\n",
    "- **TiP** (Trust is Paramount): Privacy issues. Implement trust through technology.\n",
    "\n",
    "- **CS** (Customer Satisfaction): Excessive misdirected automation leading to poor client service. Robo-advising, chatbots. Use Design Thinking for consumer centric technology."
   ]
  },
  {
   "cell_type": "markdown",
   "metadata": {
    "collapsed": true,
    "nbpresent": {
     "id": "ddd85a04-019b-429c-b632-f1b8c8e0a2ee"
    },
    "slideshow": {
     "slide_type": "slide"
    }
   },
   "source": [
    "# Thank You !!"
   ]
  }
 ],
 "metadata": {
  "anaconda-cloud": {},
  "celltoolbar": "Slideshow",
  "kernelspec": {
   "display_name": "Python 3",
   "language": "python",
   "name": "python3"
  },
  "language_info": {
   "codemirror_mode": {
    "name": "ipython",
    "version": 3
   },
   "file_extension": ".py",
   "mimetype": "text/x-python",
   "name": "python",
   "nbconvert_exporter": "python",
   "pygments_lexer": "ipython3",
   "version": "3.6.0"
  },
  "nbpresent": {
   "slides": {
    "0193f0d0-915a-4760-b23c-fa67bb06d51b": {
     "id": "0193f0d0-915a-4760-b23c-fa67bb06d51b",
     "prev": "18c967f1-c02c-471b-b5eb-bc1276a8cb04",
     "regions": {
      "38c2d260-6b96-4af6-babd-59fceecb7160": {
       "attrs": {
        "height": 0.8,
        "width": 0.8,
        "x": 0.1,
        "y": 0.1
       },
       "content": {
        "cell": "095a6354-6814-43c3-b56a-384e7473cd12",
        "part": "whole"
       },
       "id": "38c2d260-6b96-4af6-babd-59fceecb7160"
      }
     }
    },
    "020d95ca-60ae-428f-969e-e5e4c606ce1b": {
     "id": "020d95ca-60ae-428f-969e-e5e4c606ce1b",
     "prev": "a93bbeac-4846-469a-ad40-5e4c9adc17d6",
     "regions": {
      "7c386f4e-5fe5-4c88-a95d-09927daa73df": {
       "attrs": {
        "height": 0.8,
        "width": 0.8,
        "x": 0.1,
        "y": 0.1
       },
       "content": {
        "cell": "b3354db9-86e7-4bd7-98cc-3e1acfcc7cd9",
        "part": "whole"
       },
       "id": "7c386f4e-5fe5-4c88-a95d-09927daa73df"
      }
     }
    },
    "03233fab-43e8-4967-9b1c-8415bc3ff773": {
     "id": "03233fab-43e8-4967-9b1c-8415bc3ff773",
     "prev": "31c65507-4cea-4bd9-8eff-bf3dbe317e62",
     "regions": {
      "cc23c076-ea1c-4ec5-b2c2-ec93c6d5bb56": {
       "attrs": {
        "height": 0.8,
        "width": 0.8,
        "x": 0.1,
        "y": 0.1
       },
       "content": {
        "cell": "5b7166f5-360f-42c0-aa09-2528179d74a1",
        "part": "whole"
       },
       "id": "cc23c076-ea1c-4ec5-b2c2-ec93c6d5bb56"
      }
     }
    },
    "05c8c01a-3500-4d5f-9930-09e275a67ce0": {
     "id": "05c8c01a-3500-4d5f-9930-09e275a67ce0",
     "prev": "af5289f1-4361-4ffc-bbc0-a330365f9c41",
     "regions": {
      "5e84cc7e-fbaf-480b-8abf-b17d87da2215": {
       "attrs": {
        "height": 0.8,
        "width": 0.8,
        "x": 0.1,
        "y": 0.1
       },
       "content": {
        "cell": "fc54a2f5-b156-4a60-9cf7-5869cd0a33c9",
        "part": "whole"
       },
       "id": "5e84cc7e-fbaf-480b-8abf-b17d87da2215"
      }
     }
    },
    "071dbaff-332c-4a17-ad84-f227ce2fec4d": {
     "id": "071dbaff-332c-4a17-ad84-f227ce2fec4d",
     "prev": "f698db0d-aa25-41c2-8875-ca3fc3b61020",
     "regions": {
      "efeefa60-6786-463a-bc88-525462567a93": {
       "attrs": {
        "height": 0.8,
        "width": 0.8,
        "x": 0.1,
        "y": 0.1
       },
       "content": {
        "cell": "9668c690-5d18-4894-a4f3-ff8732bb9d80",
        "part": "whole"
       },
       "id": "efeefa60-6786-463a-bc88-525462567a93"
      }
     }
    },
    "0b3d3598-b255-4e46-a682-926b7a0609d6": {
     "id": "0b3d3598-b255-4e46-a682-926b7a0609d6",
     "prev": "2ed5c4df-7ab6-476f-9eee-bb41b132ec37",
     "regions": {
      "27c11d6e-4768-415d-a8ee-be7ac97d650e": {
       "attrs": {
        "height": 0.8,
        "width": 0.8,
        "x": 0.1,
        "y": 0.1
       },
       "content": {
        "cell": "0f4c3534-ea47-4587-9036-7fb55f9416c6",
        "part": "whole"
       },
       "id": "27c11d6e-4768-415d-a8ee-be7ac97d650e"
      }
     }
    },
    "0cbeec69-bbf6-4097-a6f8-fa21740a3d87": {
     "id": "0cbeec69-bbf6-4097-a6f8-fa21740a3d87",
     "prev": "5ac8d67d-0f12-405d-8520-9a35b7d83676",
     "regions": {
      "dd6676c0-91e4-45e9-a113-4b8f315b61ad": {
       "attrs": {
        "height": 0.8,
        "width": 0.8,
        "x": 0.1,
        "y": 0.1
       },
       "content": {
        "cell": "1b706cb8-5eaf-418c-a1cc-38e167063f01",
        "part": "whole"
       },
       "id": "dd6676c0-91e4-45e9-a113-4b8f315b61ad"
      }
     }
    },
    "0f58ee64-601a-42d7-98ae-6dc0bde3f0a6": {
     "id": "0f58ee64-601a-42d7-98ae-6dc0bde3f0a6",
     "prev": "29599acb-6163-4544-a6df-cd4d072fb459",
     "regions": {
      "ba425b80-10b2-4200-96c8-e9098b4ab47a": {
       "attrs": {
        "height": 0.8,
        "width": 0.8,
        "x": 0.1,
        "y": 0.1
       },
       "content": {
        "cell": "b78d9aa9-ee78-4ca2-b4b3-98eb469a22ab",
        "part": "whole"
       },
       "id": "ba425b80-10b2-4200-96c8-e9098b4ab47a"
      }
     }
    },
    "106cf87a-a6f4-4f4d-9bef-204c04e3e85e": {
     "id": "106cf87a-a6f4-4f4d-9bef-204c04e3e85e",
     "prev": "e0b32694-68b5-4fd8-8c2f-c10b0fe2db72",
     "regions": {
      "07ce8c7b-c88e-4adb-88c9-6650a66940dd": {
       "attrs": {
        "height": 0.8,
        "width": 0.8,
        "x": 0.1,
        "y": 0.1
       },
       "content": {
        "cell": "f6202714-0488-489c-a6f6-cddf0dd8a1fd",
        "part": "whole"
       },
       "id": "07ce8c7b-c88e-4adb-88c9-6650a66940dd"
      }
     }
    },
    "148b7ed2-c0df-40c2-8bdd-53d1379ddf5c": {
     "id": "148b7ed2-c0df-40c2-8bdd-53d1379ddf5c",
     "prev": "1e03496f-1be2-40bf-806e-b0f7d31f38f4",
     "regions": {
      "eca18fde-8eb1-4483-875c-6b39993bcebd": {
       "attrs": {
        "height": 0.8,
        "width": 0.8,
        "x": 0.1,
        "y": 0.1
       },
       "content": {
        "cell": "ac11c105-c243-432d-a954-fc9629fe14d0",
        "part": "whole"
       },
       "id": "eca18fde-8eb1-4483-875c-6b39993bcebd"
      }
     }
    },
    "153629c4-f3cf-4e2a-b676-f1198a7fb79c": {
     "id": "153629c4-f3cf-4e2a-b676-f1198a7fb79c",
     "prev": "2d9edc3c-3998-4bad-a40d-8efb3729bb4b",
     "regions": {
      "e208174d-013f-4d4c-8e20-6c0ae9d47659": {
       "attrs": {
        "height": 0.8,
        "width": 0.8,
        "x": 0.1,
        "y": 0.1
       },
       "content": {
        "cell": "691b0483-19e2-48e3-b823-fcf3786e68e6",
        "part": "whole"
       },
       "id": "e208174d-013f-4d4c-8e20-6c0ae9d47659"
      }
     }
    },
    "18c967f1-c02c-471b-b5eb-bc1276a8cb04": {
     "id": "18c967f1-c02c-471b-b5eb-bc1276a8cb04",
     "prev": "8a89e5cf-44b8-4baa-9fa9-42ba04279002",
     "regions": {
      "a011379c-cc23-4c18-a645-837ed049d8ba": {
       "attrs": {
        "height": 0.8,
        "width": 0.8,
        "x": 0.1,
        "y": 0.1
       },
       "content": {
        "cell": "106e5f7a-f32b-436b-8451-039e6dd4d890",
        "part": "whole"
       },
       "id": "a011379c-cc23-4c18-a645-837ed049d8ba"
      }
     }
    },
    "19654d5e-5cc4-4ec5-9ded-3f7f29a6f76d": {
     "id": "19654d5e-5cc4-4ec5-9ded-3f7f29a6f76d",
     "prev": "34e3f097-9f83-4421-9498-b41866a61d64",
     "regions": {
      "426bd7bd-a1da-4861-90e8-253697b8850a": {
       "attrs": {
        "height": 0.8,
        "width": 0.8,
        "x": 0.1,
        "y": 0.1
       },
       "content": {
        "cell": "fec46b42-cc53-4b7a-bcaa-a5e2f6d57b4c",
        "part": "whole"
       },
       "id": "426bd7bd-a1da-4861-90e8-253697b8850a"
      }
     }
    },
    "197f123e-2b16-418c-98c2-94c83ef1ac38": {
     "id": "197f123e-2b16-418c-98c2-94c83ef1ac38",
     "prev": "106cf87a-a6f4-4f4d-9bef-204c04e3e85e",
     "regions": {
      "8a617b15-9aa2-4939-b4d6-a04b8a864db8": {
       "attrs": {
        "height": 0.8,
        "width": 0.8,
        "x": 0.1,
        "y": 0.1
       },
       "content": {
        "cell": "130e9562-8b5b-4636-b7b7-fdf46cef5e0d",
        "part": "whole"
       },
       "id": "8a617b15-9aa2-4939-b4d6-a04b8a864db8"
      }
     }
    },
    "19a37ae8-e2dd-43c6-8a9d-5b3f9ab1c780": {
     "id": "19a37ae8-e2dd-43c6-8a9d-5b3f9ab1c780",
     "prev": "eb9ba530-7154-49eb-89ee-53932e42105a",
     "regions": {
      "b502c95b-0693-4fa8-9301-b6340b6c617c": {
       "attrs": {
        "height": 0.8,
        "width": 0.8,
        "x": 0.1,
        "y": 0.1
       },
       "content": {
        "cell": "3ce75af7-81dd-4ca7-a767-ba52cda20d50",
        "part": "whole"
       },
       "id": "b502c95b-0693-4fa8-9301-b6340b6c617c"
      }
     }
    },
    "1d0f508b-e689-4179-94d9-03a6be73c670": {
     "id": "1d0f508b-e689-4179-94d9-03a6be73c670",
     "prev": "96fc6b49-ace4-4aca-85b1-3a2d0b975440",
     "regions": {
      "7e8bf855-1d78-411c-b155-475080f2e5ba": {
       "attrs": {
        "height": 0.8,
        "width": 0.8,
        "x": 0.1,
        "y": 0.1
       },
       "content": {
        "cell": "44e5e55e-5bc9-4366-b3c3-dcc25b136439",
        "part": "whole"
       },
       "id": "7e8bf855-1d78-411c-b155-475080f2e5ba"
      }
     }
    },
    "1e03496f-1be2-40bf-806e-b0f7d31f38f4": {
     "id": "1e03496f-1be2-40bf-806e-b0f7d31f38f4",
     "prev": "bdbdde67-27f0-4445-97d2-f6e2cd8a73a2",
     "regions": {
      "70c6bf7f-3e2e-4488-800e-7b4d89899a41": {
       "attrs": {
        "height": 0.8,
        "width": 0.8,
        "x": 0.1,
        "y": 0.1
       },
       "content": {
        "cell": "dba0e112-905e-475c-92ec-10c3117eadb0",
        "part": "whole"
       },
       "id": "70c6bf7f-3e2e-4488-800e-7b4d89899a41"
      }
     }
    },
    "217ffda7-24c0-4515-89fb-401afc4bfb53": {
     "id": "217ffda7-24c0-4515-89fb-401afc4bfb53",
     "prev": "9dd1c981-90c7-4823-9a06-c9f470c3d9be",
     "regions": {
      "d143295a-aeab-4870-ad43-6a87ee664880": {
       "attrs": {
        "height": 0.8,
        "width": 0.8,
        "x": 0.1,
        "y": 0.1
       },
       "content": {
        "cell": "79c0cf15-8428-4c24-acac-162420638643",
        "part": "whole"
       },
       "id": "d143295a-aeab-4870-ad43-6a87ee664880"
      }
     }
    },
    "22b5675a-d74b-4a42-9ec4-749b2f498bab": {
     "id": "22b5675a-d74b-4a42-9ec4-749b2f498bab",
     "prev": "4eae7dc7-996f-4c0a-bf2e-0e2e61b7c289",
     "regions": {
      "252f5818-667e-4146-8b20-0b3c6bfd9afe": {
       "attrs": {
        "height": 0.8,
        "width": 0.8,
        "x": 0.1,
        "y": 0.1
       },
       "content": {
        "cell": "40f5f604-7011-49b8-8138-5779222c7f3d",
        "part": "whole"
       },
       "id": "252f5818-667e-4146-8b20-0b3c6bfd9afe"
      }
     }
    },
    "23a5d110-97dd-4a8e-97b8-1be30e9fc73d": {
     "id": "23a5d110-97dd-4a8e-97b8-1be30e9fc73d",
     "prev": "8fc40931-4aba-40ee-8f8f-bc36e40053b6",
     "regions": {
      "dac6601a-4c42-41cb-9642-040880460189": {
       "attrs": {
        "height": 0.8,
        "width": 0.8,
        "x": 0.1,
        "y": 0.1
       },
       "content": {
        "cell": "4f72f0f0-0f46-4d58-b81d-f1a20bb7a78e",
        "part": "whole"
       },
       "id": "dac6601a-4c42-41cb-9642-040880460189"
      }
     }
    },
    "25f2ed7b-588a-4181-92fd-484af9464db9": {
     "id": "25f2ed7b-588a-4181-92fd-484af9464db9",
     "prev": "23a5d110-97dd-4a8e-97b8-1be30e9fc73d",
     "regions": {
      "4868256f-ec17-4d79-aa66-412b57bdaadd": {
       "attrs": {
        "height": 0.8,
        "width": 0.8,
        "x": 0.1,
        "y": 0.1
       },
       "content": {
        "cell": "5d3d16de-c491-44c3-a9ea-d92165b986ca",
        "part": "whole"
       },
       "id": "4868256f-ec17-4d79-aa66-412b57bdaadd"
      }
     }
    },
    "29599acb-6163-4544-a6df-cd4d072fb459": {
     "id": "29599acb-6163-4544-a6df-cd4d072fb459",
     "prev": "db6f5631-519c-4d38-89eb-54ef36af4337",
     "regions": {
      "c636dfe3-11a2-4cda-b925-385159a12229": {
       "attrs": {
        "height": 0.8,
        "width": 0.8,
        "x": 0.1,
        "y": 0.1
       },
       "content": {
        "cell": "a5a0825e-68ac-4bd2-bc46-2bb5c35e9d37",
        "part": "whole"
       },
       "id": "c636dfe3-11a2-4cda-b925-385159a12229"
      }
     }
    },
    "29c438ce-ba3a-4645-aa2e-9a9afe4bff84": {
     "id": "29c438ce-ba3a-4645-aa2e-9a9afe4bff84",
     "prev": "a90c066c-9d74-4db6-a70a-83308b8a20e1",
     "regions": {
      "8a7dd6e2-e418-4636-8c8e-cf14ee86dd59": {
       "attrs": {
        "height": 0.8,
        "width": 0.8,
        "x": 0.1,
        "y": 0.1
       },
       "content": {
        "cell": "bee0319f-0474-454d-b185-8d51d7fe0a42",
        "part": "whole"
       },
       "id": "8a7dd6e2-e418-4636-8c8e-cf14ee86dd59"
      }
     }
    },
    "2d9edc3c-3998-4bad-a40d-8efb3729bb4b": {
     "id": "2d9edc3c-3998-4bad-a40d-8efb3729bb4b",
     "prev": "0b3d3598-b255-4e46-a682-926b7a0609d6",
     "regions": {
      "6a0ad46b-22bd-4067-812a-d440053c26d8": {
       "attrs": {
        "height": 0.8,
        "width": 0.8,
        "x": 0.1,
        "y": 0.1
       },
       "content": {
        "cell": "3d545403-2513-4a1d-9caa-4013fb966098",
        "part": "whole"
       },
       "id": "6a0ad46b-22bd-4067-812a-d440053c26d8"
      }
     }
    },
    "2ddf1977-7b6e-41c8-8845-f88dbe7a1336": {
     "id": "2ddf1977-7b6e-41c8-8845-f88dbe7a1336",
     "prev": "7de78894-5301-4ada-a26c-95df7efa9c2e",
     "regions": {
      "88dc3abf-2fb4-46eb-b019-4398e004e4b2": {
       "attrs": {
        "height": 0.8,
        "width": 0.8,
        "x": 0.1,
        "y": 0.1
       },
       "content": {
        "cell": "dd3b3b7a-b997-4a9a-a523-4571f1f07b69",
        "part": "whole"
       },
       "id": "88dc3abf-2fb4-46eb-b019-4398e004e4b2"
      }
     }
    },
    "2ed5c4df-7ab6-476f-9eee-bb41b132ec37": {
     "id": "2ed5c4df-7ab6-476f-9eee-bb41b132ec37",
     "prev": "0cbeec69-bbf6-4097-a6f8-fa21740a3d87",
     "regions": {
      "330fea4e-e92f-464a-a256-79940c88178a": {
       "attrs": {
        "height": 0.8,
        "width": 0.8,
        "x": 0.1,
        "y": 0.1
       },
       "content": {
        "cell": "38fc7e44-631a-407d-905d-b0d2f095d160",
        "part": "whole"
       },
       "id": "330fea4e-e92f-464a-a256-79940c88178a"
      }
     }
    },
    "3052abc5-314c-4201-a0b3-f0a34404adbb": {
     "id": "3052abc5-314c-4201-a0b3-f0a34404adbb",
     "prev": "3ddd607f-0b88-45cc-b155-529b8fcc160d",
     "regions": {
      "75b877f1-38c3-41d1-91ce-5d22848a2656": {
       "attrs": {
        "height": 0.8,
        "width": 0.8,
        "x": 0.1,
        "y": 0.1
       },
       "content": {
        "cell": "8be25271-2a7a-469c-b76c-d9366d671e5b",
        "part": "whole"
       },
       "id": "75b877f1-38c3-41d1-91ce-5d22848a2656"
      }
     }
    },
    "31c65507-4cea-4bd9-8eff-bf3dbe317e62": {
     "id": "31c65507-4cea-4bd9-8eff-bf3dbe317e62",
     "prev": "8f42ca9b-13c9-4b62-82db-784d6f9147ef",
     "regions": {
      "f6e23341-714b-4c60-9fed-08a91df573a0": {
       "attrs": {
        "height": 0.8,
        "width": 0.8,
        "x": 0.1,
        "y": 0.1
       },
       "content": {
        "cell": "d9f15e41-c950-4a20-9cd3-849e904a1f86",
        "part": "whole"
       },
       "id": "f6e23341-714b-4c60-9fed-08a91df573a0"
      }
     }
    },
    "329e2035-ee49-43ec-a7c6-6054d1c1add8": {
     "id": "329e2035-ee49-43ec-a7c6-6054d1c1add8",
     "prev": "36a820d6-a271-4dab-88aa-49ba7f958a54",
     "regions": {
      "2b0082c4-9126-4fd3-9fad-320e1fbcc79f": {
       "attrs": {
        "height": 0.8,
        "width": 0.8,
        "x": 0.1,
        "y": 0.1
       },
       "content": {
        "cell": "f3043a8d-25f3-4934-b0c9-ff6b877469af",
        "part": "whole"
       },
       "id": "2b0082c4-9126-4fd3-9fad-320e1fbcc79f"
      }
     }
    },
    "34e3f097-9f83-4421-9498-b41866a61d64": {
     "id": "34e3f097-9f83-4421-9498-b41866a61d64",
     "prev": "3e4050b2-3226-4695-b9af-704e6f82e23d",
     "regions": {
      "a715d226-575c-44e3-9c35-62ac005e3beb": {
       "attrs": {
        "height": 0.8,
        "width": 0.8,
        "x": 0.1,
        "y": 0.1
       },
       "content": {
        "cell": "bcc6050c-f086-4e8c-8e0a-f5f912bde1c9",
        "part": "whole"
       },
       "id": "a715d226-575c-44e3-9c35-62ac005e3beb"
      }
     }
    },
    "36a820d6-a271-4dab-88aa-49ba7f958a54": {
     "id": "36a820d6-a271-4dab-88aa-49ba7f958a54",
     "prev": "ab80bdac-4509-4cc2-9de2-4f87d7daf473",
     "regions": {
      "c25c5057-0953-4cd8-8e2f-621564e2e7d4": {
       "attrs": {
        "height": 0.8,
        "width": 0.8,
        "x": 0.1,
        "y": 0.1
       },
       "content": {
        "cell": "4a2b667f-8638-488e-9ebd-05ce815f5b9a",
        "part": "whole"
       },
       "id": "c25c5057-0953-4cd8-8e2f-621564e2e7d4"
      }
     }
    },
    "3b40e88d-9336-4734-b957-30cc7316f8c0": {
     "id": "3b40e88d-9336-4734-b957-30cc7316f8c0",
     "prev": "05c8c01a-3500-4d5f-9930-09e275a67ce0",
     "regions": {
      "6575b58d-ef90-4baa-9886-437d6018e7aa": {
       "attrs": {
        "height": 0.8,
        "width": 0.8,
        "x": 0.1,
        "y": 0.1
       },
       "content": {
        "cell": "8eb25983-4f06-4523-9641-4e1301dec81e",
        "part": "whole"
       },
       "id": "6575b58d-ef90-4baa-9886-437d6018e7aa"
      }
     }
    },
    "3ddd607f-0b88-45cc-b155-529b8fcc160d": {
     "id": "3ddd607f-0b88-45cc-b155-529b8fcc160d",
     "prev": "4c5b76c7-ca5d-4d0d-862f-5ef600b3c636",
     "regions": {
      "e27bca5d-7304-4e16-8596-6c9cc8ec5cb2": {
       "attrs": {
        "height": 0.8,
        "width": 0.8,
        "x": 0.1,
        "y": 0.1
       },
       "content": {
        "cell": "b4a083a8-039e-4844-accb-97881eba1782",
        "part": "whole"
       },
       "id": "e27bca5d-7304-4e16-8596-6c9cc8ec5cb2"
      }
     }
    },
    "3e4050b2-3226-4695-b9af-704e6f82e23d": {
     "id": "3e4050b2-3226-4695-b9af-704e6f82e23d",
     "prev": "c4b9f2f8-88e0-4158-a05b-9f369a4a3381",
     "regions": {
      "3a3616a0-d0f4-448d-b85a-b355aa8e109e": {
       "attrs": {
        "height": 0.8,
        "width": 0.8,
        "x": 0.1,
        "y": 0.1
       },
       "content": {
        "cell": "95fd600d-f07e-41b0-a4bb-333822654c26",
        "part": "whole"
       },
       "id": "3a3616a0-d0f4-448d-b85a-b355aa8e109e"
      }
     }
    },
    "3f34f4f7-8197-4c93-89bd-6d5b50e9d66d": {
     "id": "3f34f4f7-8197-4c93-89bd-6d5b50e9d66d",
     "prev": "cabdb9e8-7aef-416c-910c-087ba727a511",
     "regions": {
      "0aaa48be-91ea-4a89-923f-035a98bb6b85": {
       "attrs": {
        "height": 0.8,
        "width": 0.8,
        "x": 0.1,
        "y": 0.1
       },
       "content": {
        "cell": "f03ba5f4-46d6-4cd8-a277-4521806cdc4b",
        "part": "whole"
       },
       "id": "0aaa48be-91ea-4a89-923f-035a98bb6b85"
      }
     }
    },
    "40b54cc7-8499-4077-8efe-3f307628fc38": {
     "id": "40b54cc7-8499-4077-8efe-3f307628fc38",
     "prev": "91c8d97d-60bc-4bf9-a186-2d152258fb35",
     "regions": {
      "53f161ad-fb5d-4f09-a8f5-b35f6488d320": {
       "attrs": {
        "height": 0.8,
        "width": 0.8,
        "x": 0.1,
        "y": 0.1
       },
       "content": {
        "cell": "d3fb1fbd-9d05-4756-b1f7-ab31c0f4ede6",
        "part": "whole"
       },
       "id": "53f161ad-fb5d-4f09-a8f5-b35f6488d320"
      }
     }
    },
    "40cd7272-dbde-4f92-9c13-a077533e44aa": {
     "id": "40cd7272-dbde-4f92-9c13-a077533e44aa",
     "prev": "9889807b-7793-4333-a22f-a3d79b52ff97",
     "regions": {
      "66be7035-944a-4bdf-896b-055e734109e4": {
       "attrs": {
        "height": 0.8,
        "width": 0.8,
        "x": 0.1,
        "y": 0.1
       },
       "content": {
        "cell": "5996a427-67ea-4a5e-b3c7-df3ef7163fe5",
        "part": "whole"
       },
       "id": "66be7035-944a-4bdf-896b-055e734109e4"
      }
     }
    },
    "4284d6bf-e87b-4eba-b393-39d57cabe8e9": {
     "id": "4284d6bf-e87b-4eba-b393-39d57cabe8e9",
     "prev": "81c88124-3631-4255-9332-913e67741527",
     "regions": {
      "fc88c18c-2b76-42dc-93d5-c56fa00285de": {
       "attrs": {
        "height": 0.8,
        "width": 0.8,
        "x": 0.1,
        "y": 0.1
       },
       "content": {
        "cell": "94523722-6d93-41c3-8dcd-d96da76ebbf2",
        "part": "whole"
       },
       "id": "fc88c18c-2b76-42dc-93d5-c56fa00285de"
      }
     }
    },
    "457fb5e8-71e2-42a3-a129-f7648ce4826a": {
     "id": "457fb5e8-71e2-42a3-a129-f7648ce4826a",
     "prev": "19654d5e-5cc4-4ec5-9ded-3f7f29a6f76d",
     "regions": {
      "242538f7-a795-47d4-9055-fd5c08a6f7db": {
       "attrs": {
        "height": 0.8,
        "width": 0.8,
        "x": 0.1,
        "y": 0.1
       },
       "content": {
        "cell": "ddd85a04-019b-429c-b632-f1b8c8e0a2ee",
        "part": "whole"
       },
       "id": "242538f7-a795-47d4-9055-fd5c08a6f7db"
      }
     }
    },
    "4655f887-7303-41d9-950f-10e2318c780a": {
     "id": "4655f887-7303-41d9-950f-10e2318c780a",
     "prev": "69e2f423-afae-4513-ae83-c70469ae97c1",
     "regions": {
      "542945a1-e548-4c3e-9ea7-f1bbe284b6bc": {
       "attrs": {
        "height": 0.8,
        "width": 0.8,
        "x": 0.1,
        "y": 0.1
       },
       "content": {
        "cell": "00bc8b2a-66d3-4eb5-8614-9f964f12a97a",
        "part": "whole"
       },
       "id": "542945a1-e548-4c3e-9ea7-f1bbe284b6bc"
      }
     }
    },
    "47055855-b9f4-4cd8-86b3-c46b81bfafc9": {
     "id": "47055855-b9f4-4cd8-86b3-c46b81bfafc9",
     "prev": "958013bb-4edf-48a5-a752-407972ee026e",
     "regions": {
      "cc863bcb-c002-4176-8bdc-1d1b526f9092": {
       "attrs": {
        "height": 0.8,
        "width": 0.8,
        "x": 0.1,
        "y": 0.1
       },
       "content": {
        "cell": "f2d68bee-c014-4fb0-9781-af95a95d30db",
        "part": "whole"
       },
       "id": "cc863bcb-c002-4176-8bdc-1d1b526f9092"
      }
     }
    },
    "4b07c5a1-4de7-410f-8927-85bd556122aa": {
     "id": "4b07c5a1-4de7-410f-8927-85bd556122aa",
     "prev": "60af5148-9052-442e-a630-542384a6aab3",
     "regions": {
      "bf8fab22-27c9-4d94-a719-c243af2ad737": {
       "attrs": {
        "height": 0.8,
        "width": 0.8,
        "x": 0.1,
        "y": 0.1
       },
       "content": {
        "cell": "5ca0d75f-f96b-42e8-904b-531b3af2d4ec",
        "part": "whole"
       },
       "id": "bf8fab22-27c9-4d94-a719-c243af2ad737"
      }
     }
    },
    "4c5b76c7-ca5d-4d0d-862f-5ef600b3c636": {
     "id": "4c5b76c7-ca5d-4d0d-862f-5ef600b3c636",
     "prev": "c9064b07-c01a-4fc7-9816-77df28c5a3a5",
     "regions": {
      "6109dc39-580e-4c80-a6b1-efb65b4a6b1c": {
       "attrs": {
        "height": 0.8,
        "width": 0.8,
        "x": 0.1,
        "y": 0.1
       },
       "content": {
        "cell": "fc961233-d2cf-4f6d-8ebd-e14b7bffcd4d",
        "part": "whole"
       },
       "id": "6109dc39-580e-4c80-a6b1-efb65b4a6b1c"
      }
     }
    },
    "4d17a786-d9fb-4001-962a-bdb14b96409e": {
     "id": "4d17a786-d9fb-4001-962a-bdb14b96409e",
     "prev": "3b40e88d-9336-4734-b957-30cc7316f8c0",
     "regions": {
      "ffab2996-ce96-43e1-ba82-b049b6c2a99e": {
       "attrs": {
        "height": 0.8,
        "width": 0.8,
        "x": 0.1,
        "y": 0.1
       },
       "content": {
        "cell": "0592ea63-851c-4a1d-aa87-81bc9358a1cf",
        "part": "whole"
       },
       "id": "ffab2996-ce96-43e1-ba82-b049b6c2a99e"
      }
     }
    },
    "4d258ffc-2345-4fba-8ac0-69d1e332661c": {
     "id": "4d258ffc-2345-4fba-8ac0-69d1e332661c",
     "prev": "8920161a-b66e-44a3-97e5-d34316066246",
     "regions": {
      "da8311f3-5cc3-4179-836b-c6b1b1ada7dd": {
       "attrs": {
        "height": 0.8,
        "width": 0.8,
        "x": 0.1,
        "y": 0.1
       },
       "content": {
        "cell": "467c0514-18fa-47a6-8d20-4222c141e282",
        "part": "whole"
       },
       "id": "da8311f3-5cc3-4179-836b-c6b1b1ada7dd"
      }
     }
    },
    "4eae7dc7-996f-4c0a-bf2e-0e2e61b7c289": {
     "id": "4eae7dc7-996f-4c0a-bf2e-0e2e61b7c289",
     "prev": "cfdaefb1-1122-4173-9f1c-0326b3375637",
     "regions": {
      "792f156a-09aa-4a8d-aa8a-aac9e8c54651": {
       "attrs": {
        "height": 0.8,
        "width": 0.8,
        "x": 0.1,
        "y": 0.1
       },
       "content": {
        "cell": "12fe8df0-04c3-4897-a069-1fb508830359",
        "part": "whole"
       },
       "id": "792f156a-09aa-4a8d-aa8a-aac9e8c54651"
      }
     }
    },
    "53501bbd-f81c-4ac0-88a1-bf30f265c81d": {
     "id": "53501bbd-f81c-4ac0-88a1-bf30f265c81d",
     "prev": "4655f887-7303-41d9-950f-10e2318c780a",
     "regions": {
      "effbc43a-caff-4efd-aa32-2db245acf576": {
       "attrs": {
        "height": 0.8,
        "width": 0.8,
        "x": 0.1,
        "y": 0.1
       },
       "content": {
        "cell": "c13057d5-3596-4732-8f4a-ae8e4d46c19c",
        "part": "whole"
       },
       "id": "effbc43a-caff-4efd-aa32-2db245acf576"
      }
     }
    },
    "59dc7148-4247-44fd-a2f9-d46f4d107cbc": {
     "id": "59dc7148-4247-44fd-a2f9-d46f4d107cbc",
     "prev": "ccf8cf21-352c-421e-9134-5e5b62a11fb3",
     "regions": {
      "ddf69088-f4f9-4d71-9d42-149afd2e8d66": {
       "attrs": {
        "height": 0.8,
        "width": 0.8,
        "x": 0.1,
        "y": 0.1
       },
       "content": {
        "cell": "0555c697-6deb-402e-8360-d5429b787beb",
        "part": "whole"
       },
       "id": "ddf69088-f4f9-4d71-9d42-149afd2e8d66"
      }
     }
    },
    "5ac8d67d-0f12-405d-8520-9a35b7d83676": {
     "id": "5ac8d67d-0f12-405d-8520-9a35b7d83676",
     "prev": "40cd7272-dbde-4f92-9c13-a077533e44aa",
     "regions": {
      "b91edba6-2c49-4958-b929-a7a1d973307e": {
       "attrs": {
        "height": 0.8,
        "width": 0.8,
        "x": 0.1,
        "y": 0.1
       },
       "content": {
        "cell": "cd61ee25-5eaf-48f2-bcfc-85bab42c2345",
        "part": "whole"
       },
       "id": "b91edba6-2c49-4958-b929-a7a1d973307e"
      }
     }
    },
    "60af5148-9052-442e-a630-542384a6aab3": {
     "id": "60af5148-9052-442e-a630-542384a6aab3",
     "prev": "65d42014-2e39-4b55-bd1b-a7d74b02b361",
     "regions": {
      "2394ce8b-dc4f-4edf-8b36-c4fa3807ad99": {
       "attrs": {
        "height": 0.8,
        "width": 0.8,
        "x": 0.1,
        "y": 0.1
       },
       "content": {
        "cell": "12b9f38a-e80f-4f52-9b8c-25019f3155b6",
        "part": "whole"
       },
       "id": "2394ce8b-dc4f-4edf-8b36-c4fa3807ad99"
      }
     }
    },
    "62a67b56-20b9-433e-b5c3-d36440fb2534": {
     "id": "62a67b56-20b9-433e-b5c3-d36440fb2534",
     "prev": "3f34f4f7-8197-4c93-89bd-6d5b50e9d66d",
     "regions": {
      "552775a3-24eb-4bdf-a8c3-6527bcbe216a": {
       "attrs": {
        "height": 0.8,
        "width": 0.8,
        "x": 0.1,
        "y": 0.1
       },
       "content": {
        "cell": "1c83d25d-d6b3-4ce0-8df7-1b2c8a8b0b62",
        "part": "whole"
       },
       "id": "552775a3-24eb-4bdf-a8c3-6527bcbe216a"
      }
     }
    },
    "630dd741-2c3e-46ea-a4bc-336863c97172": {
     "id": "630dd741-2c3e-46ea-a4bc-336863c97172",
     "prev": "fefc5c92-ed9f-45f6-83a5-b4ea28afd73d",
     "regions": {
      "247936d5-af1e-449b-bc28-f4ca1965127f": {
       "attrs": {
        "height": 0.8,
        "width": 0.8,
        "x": 0.1,
        "y": 0.1
       },
       "content": {
        "cell": "7d87b034-b802-490a-b6dc-f32c284368d2",
        "part": "whole"
       },
       "id": "247936d5-af1e-449b-bc28-f4ca1965127f"
      }
     }
    },
    "63bd11d4-28c6-44d7-a763-07c864237fe0": {
     "id": "63bd11d4-28c6-44d7-a763-07c864237fe0",
     "prev": "8c415acf-d505-4050-9216-cd35b9dff2c9",
     "regions": {
      "19cb55c5-b089-4754-8bb8-31c31fec6578": {
       "attrs": {
        "height": 0.8,
        "width": 0.8,
        "x": 0.1,
        "y": 0.1
       },
       "content": {
        "cell": "e949bfc4-5400-4e49-aebf-5f639cfaa6b2",
        "part": "whole"
       },
       "id": "19cb55c5-b089-4754-8bb8-31c31fec6578"
      }
     }
    },
    "65d42014-2e39-4b55-bd1b-a7d74b02b361": {
     "id": "65d42014-2e39-4b55-bd1b-a7d74b02b361",
     "prev": null,
     "regions": {
      "ba32dda6-fb70-4b37-91cd-502ce4c87590": {
       "attrs": {
        "height": 0.8,
        "width": 0.8,
        "x": 0.1,
        "y": 0.1
       },
       "content": {
        "cell": "b24e29bc-b609-4dc0-b2e6-3266324b31e1",
        "part": "whole"
       },
       "id": "ba32dda6-fb70-4b37-91cd-502ce4c87590"
      }
     }
    },
    "68b2b5d0-7cc9-4606-a1d6-ea8c7dc4dfd4": {
     "id": "68b2b5d0-7cc9-4606-a1d6-ea8c7dc4dfd4",
     "prev": "071dbaff-332c-4a17-ad84-f227ce2fec4d",
     "regions": {
      "85a32164-5fcb-44da-b00a-9f0e45ee1ca3": {
       "attrs": {
        "height": 0.8,
        "width": 0.8,
        "x": 0.1,
        "y": 0.1
       },
       "content": {
        "cell": "f37a9aa0-583d-4e63-b8ff-da7fbce27d95",
        "part": "whole"
       },
       "id": "85a32164-5fcb-44da-b00a-9f0e45ee1ca3"
      }
     }
    },
    "693ffb85-b64f-4a46-914d-bbffc8f24502": {
     "id": "693ffb85-b64f-4a46-914d-bbffc8f24502",
     "prev": "92001010-ebc0-4cf7-8ff4-79cbca0070ad",
     "regions": {
      "43f0e845-523d-439d-a244-562710f2506a": {
       "attrs": {
        "height": 0.8,
        "width": 0.8,
        "x": 0.1,
        "y": 0.1
       },
       "content": {
        "cell": "6e167f58-65a9-4282-8b97-e47eedf711ae",
        "part": "whole"
       },
       "id": "43f0e845-523d-439d-a244-562710f2506a"
      }
     }
    },
    "69e2f423-afae-4513-ae83-c70469ae97c1": {
     "id": "69e2f423-afae-4513-ae83-c70469ae97c1",
     "prev": "40b54cc7-8499-4077-8efe-3f307628fc38",
     "regions": {
      "d905d2d7-4406-4934-8492-856ad85617d1": {
       "attrs": {
        "height": 0.8,
        "width": 0.8,
        "x": 0.1,
        "y": 0.1
       },
       "content": {
        "cell": "7b8eb8bf-0aba-4dc0-bcee-102a5773a417",
        "part": "whole"
       },
       "id": "d905d2d7-4406-4934-8492-856ad85617d1"
      }
     }
    },
    "727f5e31-3857-4ae3-99b0-cbf4236dfd42": {
     "id": "727f5e31-3857-4ae3-99b0-cbf4236dfd42",
     "prev": "29c438ce-ba3a-4645-aa2e-9a9afe4bff84",
     "regions": {
      "408fa4be-86fb-4a7d-ba42-96ba2f06edb0": {
       "attrs": {
        "height": 0.8,
        "width": 0.8,
        "x": 0.1,
        "y": 0.1
       },
       "content": {
        "cell": "2d646975-5370-4ef6-8386-de40c79de9fd",
        "part": "whole"
       },
       "id": "408fa4be-86fb-4a7d-ba42-96ba2f06edb0"
      }
     }
    },
    "7793b775-c6cc-47f8-b56f-fc6c760c2f11": {
     "id": "7793b775-c6cc-47f8-b56f-fc6c760c2f11",
     "prev": "197f123e-2b16-418c-98c2-94c83ef1ac38",
     "regions": {
      "bed5b872-c935-48ba-8c0d-3118d5927e02": {
       "attrs": {
        "height": 0.8,
        "width": 0.8,
        "x": 0.1,
        "y": 0.1
       },
       "content": {
        "cell": "19d35b09-05d3-432f-86c6-f90eb7493fa7",
        "part": "whole"
       },
       "id": "bed5b872-c935-48ba-8c0d-3118d5927e02"
      }
     }
    },
    "78e3c821-b6d3-420f-b74d-49d6bd0558ef": {
     "id": "78e3c821-b6d3-420f-b74d-49d6bd0558ef",
     "prev": "4284d6bf-e87b-4eba-b393-39d57cabe8e9",
     "regions": {
      "9c112583-1943-4a06-808d-0a350827a437": {
       "attrs": {
        "height": 0.8,
        "width": 0.8,
        "x": 0.1,
        "y": 0.1
       },
       "content": {
        "cell": "194fb28d-7972-46b6-a7eb-b86b8424db10",
        "part": "whole"
       },
       "id": "9c112583-1943-4a06-808d-0a350827a437"
      }
     }
    },
    "7aee63de-23f9-4b40-b375-10bd4103d351": {
     "id": "7aee63de-23f9-4b40-b375-10bd4103d351",
     "prev": "7cc1d7a5-207d-47a0-b2e0-1aa7ceea30d8",
     "regions": {
      "fadf7cf6-e8e8-44be-891d-f2c14231688a": {
       "attrs": {
        "height": 0.8,
        "width": 0.8,
        "x": 0.1,
        "y": 0.1
       },
       "content": {
        "cell": "d0a6923d-c733-4cb3-820c-9997fd58acac",
        "part": "whole"
       },
       "id": "fadf7cf6-e8e8-44be-891d-f2c14231688a"
      }
     }
    },
    "7cc1d7a5-207d-47a0-b2e0-1aa7ceea30d8": {
     "id": "7cc1d7a5-207d-47a0-b2e0-1aa7ceea30d8",
     "prev": "1d0f508b-e689-4179-94d9-03a6be73c670",
     "regions": {
      "8cfc5b04-a874-4333-8ee5-1506571d3b58": {
       "attrs": {
        "height": 0.8,
        "width": 0.8,
        "x": 0.1,
        "y": 0.1
       },
       "content": {
        "cell": "84ce534d-39e2-46da-bcb6-363e06869535",
        "part": "whole"
       },
       "id": "8cfc5b04-a874-4333-8ee5-1506571d3b58"
      }
     }
    },
    "7de78894-5301-4ada-a26c-95df7efa9c2e": {
     "id": "7de78894-5301-4ada-a26c-95df7efa9c2e",
     "prev": "829c702d-5fdb-4c77-b786-ae8654b574d2",
     "regions": {
      "deaacd8a-dfb8-4985-a878-0f9b03c24462": {
       "attrs": {
        "height": 0.8,
        "width": 0.8,
        "x": 0.1,
        "y": 0.1
       },
       "content": {
        "cell": "e25f577f-4bb4-4d0e-aba5-57dcfd9e740b",
        "part": "whole"
       },
       "id": "deaacd8a-dfb8-4985-a878-0f9b03c24462"
      }
     }
    },
    "81c88124-3631-4255-9332-913e67741527": {
     "id": "81c88124-3631-4255-9332-913e67741527",
     "prev": "830f7265-42b4-4ec6-a163-8c0d8f885a50",
     "regions": {
      "7cf4be0a-e504-4479-9171-b1dea98d3b5b": {
       "attrs": {
        "height": 0.8,
        "width": 0.8,
        "x": 0.1,
        "y": 0.1
       },
       "content": {
        "cell": "8a387553-7f73-4829-b265-337e3704d1ed",
        "part": "whole"
       },
       "id": "7cf4be0a-e504-4479-9171-b1dea98d3b5b"
      }
     }
    },
    "829c702d-5fdb-4c77-b786-ae8654b574d2": {
     "id": "829c702d-5fdb-4c77-b786-ae8654b574d2",
     "prev": "c2adbde5-ab22-4db0-bd89-8b6510bd4de6",
     "regions": {
      "f4a4eac1-8d19-4292-825c-ff7ebd8ffaf7": {
       "attrs": {
        "height": 0.8,
        "width": 0.8,
        "x": 0.1,
        "y": 0.1
       },
       "content": {
        "cell": "3b765115-60f9-4afd-9a8c-47b633f910ff",
        "part": "whole"
       },
       "id": "f4a4eac1-8d19-4292-825c-ff7ebd8ffaf7"
      }
     }
    },
    "830f7265-42b4-4ec6-a163-8c0d8f885a50": {
     "id": "830f7265-42b4-4ec6-a163-8c0d8f885a50",
     "prev": "630dd741-2c3e-46ea-a4bc-336863c97172",
     "regions": {
      "47856e31-e142-45c9-9bf3-70964958037c": {
       "attrs": {
        "height": 0.8,
        "width": 0.8,
        "x": 0.1,
        "y": 0.1
       },
       "content": {
        "cell": "e63cc2df-19bc-405e-8b52-fee388b25e6b",
        "part": "whole"
       },
       "id": "47856e31-e142-45c9-9bf3-70964958037c"
      }
     }
    },
    "8423c5ec-290f-4056-9324-924b03db8ca3": {
     "id": "8423c5ec-290f-4056-9324-924b03db8ca3",
     "prev": "ac0afb97-1df2-446d-be2b-ec6df6b1e7fa",
     "regions": {
      "ad889150-66d1-4a4e-b9e7-b26aaa895482": {
       "attrs": {
        "height": 0.8,
        "width": 0.8,
        "x": 0.1,
        "y": 0.1
       },
       "content": {
        "cell": "fb57ba3a-b374-4a44-8f0d-abd074a6a6c4",
        "part": "whole"
       },
       "id": "ad889150-66d1-4a4e-b9e7-b26aaa895482"
      }
     }
    },
    "8494bb57-125f-4f68-964a-39710d102221": {
     "id": "8494bb57-125f-4f68-964a-39710d102221",
     "prev": "53501bbd-f81c-4ac0-88a1-bf30f265c81d",
     "regions": {
      "689d1f63-b5a0-4bfd-8e79-3bd1373cb740": {
       "attrs": {
        "height": 0.8,
        "width": 0.8,
        "x": 0.1,
        "y": 0.1
       },
       "content": {
        "cell": "11e49b0a-8ce8-4bc8-a902-5e61595bfdd1",
        "part": "whole"
       },
       "id": "689d1f63-b5a0-4bfd-8e79-3bd1373cb740"
      }
     }
    },
    "864b595d-dc50-4ce0-9670-80b7891931c7": {
     "id": "864b595d-dc50-4ce0-9670-80b7891931c7",
     "prev": "19a37ae8-e2dd-43c6-8a9d-5b3f9ab1c780",
     "regions": {
      "18e0feda-8293-4c32-8397-bb38e75d7017": {
       "attrs": {
        "height": 0.8,
        "width": 0.8,
        "x": 0.1,
        "y": 0.1
       },
       "content": {
        "cell": "778b9a42-76a4-43fc-adfb-b18710b96741",
        "part": "whole"
       },
       "id": "18e0feda-8293-4c32-8397-bb38e75d7017"
      }
     }
    },
    "86c32e93-ce42-4d4e-8af6-af829e7930ad": {
     "id": "86c32e93-ce42-4d4e-8af6-af829e7930ad",
     "prev": "62a67b56-20b9-433e-b5c3-d36440fb2534",
     "regions": {
      "2aebf65b-b7dd-4477-8fd2-b9a5d75e6d03": {
       "attrs": {
        "height": 0.8,
        "width": 0.8,
        "x": 0.1,
        "y": 0.1
       },
       "content": {
        "cell": "87486d66-c9f6-4950-a0b3-ca5c4307b556",
        "part": "whole"
       },
       "id": "2aebf65b-b7dd-4477-8fd2-b9a5d75e6d03"
      }
     }
    },
    "8920161a-b66e-44a3-97e5-d34316066246": {
     "id": "8920161a-b66e-44a3-97e5-d34316066246",
     "prev": "25f2ed7b-588a-4181-92fd-484af9464db9",
     "regions": {
      "d6964f8a-1bcc-47b9-803c-2510407bfff4": {
       "attrs": {
        "height": 0.8,
        "width": 0.8,
        "x": 0.1,
        "y": 0.1
       },
       "content": {
        "cell": "f545d7a6-af68-421f-8ec1-cd00c887e3d9",
        "part": "whole"
       },
       "id": "d6964f8a-1bcc-47b9-803c-2510407bfff4"
      }
     }
    },
    "89af7b2f-3e52-462e-a560-de9bd4cbb6c5": {
     "id": "89af7b2f-3e52-462e-a560-de9bd4cbb6c5",
     "prev": "68b2b5d0-7cc9-4606-a1d6-ea8c7dc4dfd4",
     "regions": {
      "cdcf34c1-d187-4fcd-90ae-9553581d5ca3": {
       "attrs": {
        "height": 0.8,
        "width": 0.8,
        "x": 0.1,
        "y": 0.1
       },
       "content": {
        "cell": "3617e607-8fed-4b35-aad3-c2f2edba50f3",
        "part": "whole"
       },
       "id": "cdcf34c1-d187-4fcd-90ae-9553581d5ca3"
      }
     }
    },
    "8a89e5cf-44b8-4baa-9fa9-42ba04279002": {
     "id": "8a89e5cf-44b8-4baa-9fa9-42ba04279002",
     "prev": "9b864a30-8f91-4cca-b308-057f90dedc63",
     "regions": {
      "3bb687ad-e652-4a99-a78f-823da12d836d": {
       "attrs": {
        "height": 0.8,
        "width": 0.8,
        "x": 0.1,
        "y": 0.1
       },
       "content": {
        "cell": "c52c9f8c-1522-4f13-bca2-ef0dd1efc292",
        "part": "whole"
       },
       "id": "3bb687ad-e652-4a99-a78f-823da12d836d"
      }
     }
    },
    "8c415acf-d505-4050-9216-cd35b9dff2c9": {
     "id": "8c415acf-d505-4050-9216-cd35b9dff2c9",
     "prev": "7aee63de-23f9-4b40-b375-10bd4103d351",
     "regions": {
      "8fc61848-ad6b-4c33-a8bb-30864d448cf1": {
       "attrs": {
        "height": 0.8,
        "width": 0.8,
        "x": 0.1,
        "y": 0.1
       },
       "content": {
        "cell": "e0e23de9-ca9c-4255-ae4e-3b0952d5afff",
        "part": "whole"
       },
       "id": "8fc61848-ad6b-4c33-a8bb-30864d448cf1"
      }
     }
    },
    "8ca94435-fa08-4c58-b7d3-81cb676a7041": {
     "id": "8ca94435-fa08-4c58-b7d3-81cb676a7041",
     "prev": "db5e2b32-4309-4a8f-88dc-664820253cd2",
     "regions": {
      "b899695e-c812-4121-93a9-e56bbf86e642": {
       "attrs": {
        "height": 0.8,
        "width": 0.8,
        "x": 0.1,
        "y": 0.1
       },
       "content": {
        "cell": "e5a0f02e-0387-4aed-8b3e-e10512fdc171",
        "part": "whole"
       },
       "id": "b899695e-c812-4121-93a9-e56bbf86e642"
      }
     }
    },
    "8f42ca9b-13c9-4b62-82db-784d6f9147ef": {
     "id": "8f42ca9b-13c9-4b62-82db-784d6f9147ef",
     "prev": "864b595d-dc50-4ce0-9670-80b7891931c7",
     "regions": {
      "fd3661ad-7b46-4be4-8913-d20b5a52c9bb": {
       "attrs": {
        "height": 0.8,
        "width": 0.8,
        "x": 0.1,
        "y": 0.1
       },
       "content": {
        "cell": "5711c9c2-8b17-4af7-abe5-4ebe2fbf6a33",
        "part": "whole"
       },
       "id": "fd3661ad-7b46-4be4-8913-d20b5a52c9bb"
      }
     }
    },
    "8fc40931-4aba-40ee-8f8f-bc36e40053b6": {
     "id": "8fc40931-4aba-40ee-8f8f-bc36e40053b6",
     "prev": "dbfbc7a2-9e55-4342-8530-346da73041d0",
     "regions": {
      "348355f5-6c08-43bc-8548-68e41b796887": {
       "attrs": {
        "height": 0.8,
        "width": 0.8,
        "x": 0.1,
        "y": 0.1
       },
       "content": {
        "cell": "6559885f-b87c-4f70-9786-48f514fc0f4c",
        "part": "whole"
       },
       "id": "348355f5-6c08-43bc-8548-68e41b796887"
      }
     }
    },
    "91c8d97d-60bc-4bf9-a186-2d152258fb35": {
     "id": "91c8d97d-60bc-4bf9-a186-2d152258fb35",
     "prev": "abe2c7a9-8991-4711-9681-543376b7b85f",
     "regions": {
      "3ad87d5b-3a1b-4533-88cc-c051cc9030d1": {
       "attrs": {
        "height": 0.8,
        "width": 0.8,
        "x": 0.1,
        "y": 0.1
       },
       "content": {
        "cell": "7219ec3b-040a-485e-9ca1-5caacb3cfac4",
        "part": "whole"
       },
       "id": "3ad87d5b-3a1b-4533-88cc-c051cc9030d1"
      }
     }
    },
    "92001010-ebc0-4cf7-8ff4-79cbca0070ad": {
     "id": "92001010-ebc0-4cf7-8ff4-79cbca0070ad",
     "prev": "f72ea90b-438a-45e3-aa78-2c1834b8229b",
     "regions": {
      "e7144fc8-cf57-491b-8d81-962ab581450d": {
       "attrs": {
        "height": 0.8,
        "width": 0.8,
        "x": 0.1,
        "y": 0.1
       },
       "content": {
        "cell": "21f143c0-fd1e-434d-8188-87ebe9efe329",
        "part": "whole"
       },
       "id": "e7144fc8-cf57-491b-8d81-962ab581450d"
      }
     }
    },
    "94bcca5d-6325-41da-b9d9-109260f756ed": {
     "id": "94bcca5d-6325-41da-b9d9-109260f756ed",
     "prev": "dc63ee9a-c567-497a-a649-643295e171ab",
     "regions": {
      "e7697424-4581-45da-b9c5-05aaa2776dee": {
       "attrs": {
        "height": 0.8,
        "width": 0.8,
        "x": 0.1,
        "y": 0.1
       },
       "content": {
        "cell": "d3533232-5fd9-4b4d-aa0c-f475f4f373a4",
        "part": "whole"
       },
       "id": "e7697424-4581-45da-b9c5-05aaa2776dee"
      }
     }
    },
    "958013bb-4edf-48a5-a752-407972ee026e": {
     "id": "958013bb-4edf-48a5-a752-407972ee026e",
     "prev": "a1186cac-3c18-45fe-864b-1778f1bf3105",
     "regions": {
      "5fdc414b-52ed-4a49-a6d4-ea725d805e3b": {
       "attrs": {
        "height": 0.8,
        "width": 0.8,
        "x": 0.1,
        "y": 0.1
       },
       "content": {
        "cell": "ce9392c5-2f5b-417f-90ee-837a4dbc44b6",
        "part": "whole"
       },
       "id": "5fdc414b-52ed-4a49-a6d4-ea725d805e3b"
      }
     }
    },
    "96fc6b49-ace4-4aca-85b1-3a2d0b975440": {
     "id": "96fc6b49-ace4-4aca-85b1-3a2d0b975440",
     "prev": "03233fab-43e8-4967-9b1c-8415bc3ff773",
     "regions": {
      "9527c9f6-badd-453e-b1b0-47d6b462c6e7": {
       "attrs": {
        "height": 0.8,
        "width": 0.8,
        "x": 0.1,
        "y": 0.1
       },
       "content": {
        "cell": "8a0e1402-7e1d-4d31-b4ca-4e1d4a631073",
        "part": "whole"
       },
       "id": "9527c9f6-badd-453e-b1b0-47d6b462c6e7"
      }
     }
    },
    "9889807b-7793-4333-a22f-a3d79b52ff97": {
     "id": "9889807b-7793-4333-a22f-a3d79b52ff97",
     "prev": "8ca94435-fa08-4c58-b7d3-81cb676a7041",
     "regions": {
      "b762939c-6970-4e5b-b787-f9bc58d85bac": {
       "attrs": {
        "height": 0.8,
        "width": 0.8,
        "x": 0.1,
        "y": 0.1
       },
       "content": {
        "cell": "44a3876a-f31c-41ba-9236-053fa928bc72",
        "part": "whole"
       },
       "id": "b762939c-6970-4e5b-b787-f9bc58d85bac"
      }
     }
    },
    "9b864a30-8f91-4cca-b308-057f90dedc63": {
     "id": "9b864a30-8f91-4cca-b308-057f90dedc63",
     "prev": "ce121b7f-5b05-44f6-87d0-097a96f792cb",
     "regions": {
      "781889a1-6cd3-4e9b-9ff4-f351b93e7db9": {
       "attrs": {
        "height": 0.8,
        "width": 0.8,
        "x": 0.1,
        "y": 0.1
       },
       "content": {
        "cell": "3de978b9-95c8-4769-808b-d4926d4f4a41",
        "part": "whole"
       },
       "id": "781889a1-6cd3-4e9b-9ff4-f351b93e7db9"
      }
     }
    },
    "9dd1c981-90c7-4823-9a06-c9f470c3d9be": {
     "id": "9dd1c981-90c7-4823-9a06-c9f470c3d9be",
     "prev": "329e2035-ee49-43ec-a7c6-6054d1c1add8",
     "regions": {
      "f0da165e-cf6f-4c05-9124-953bb39b72dc": {
       "attrs": {
        "height": 0.8,
        "width": 0.8,
        "x": 0.1,
        "y": 0.1
       },
       "content": {
        "cell": "c88f3bd2-e59e-4b85-b0fa-0c1330bf054c",
        "part": "whole"
       },
       "id": "f0da165e-cf6f-4c05-9124-953bb39b72dc"
      }
     }
    },
    "a0591dcd-a20e-4b99-b4d1-2fe3f2e9c956": {
     "id": "a0591dcd-a20e-4b99-b4d1-2fe3f2e9c956",
     "prev": "86c32e93-ce42-4d4e-8af6-af829e7930ad",
     "regions": {
      "c66a8d45-5fcf-4b5a-b921-68cd446cd5ed": {
       "attrs": {
        "height": 0.8,
        "width": 0.8,
        "x": 0.1,
        "y": 0.1
       },
       "content": {
        "cell": "d97e6ddc-d756-4f7d-a8ce-bb607f133103",
        "part": "whole"
       },
       "id": "c66a8d45-5fcf-4b5a-b921-68cd446cd5ed"
      }
     }
    },
    "a1186cac-3c18-45fe-864b-1778f1bf3105": {
     "id": "a1186cac-3c18-45fe-864b-1778f1bf3105",
     "prev": "dba93903-9b9f-4863-9fc3-c62a475c6dff",
     "regions": {
      "0d424557-d9e6-4bbf-ba93-13705ba7696f": {
       "attrs": {
        "height": 0.8,
        "width": 0.8,
        "x": 0.1,
        "y": 0.1
       },
       "content": {
        "cell": "2e4f0515-8c7e-4901-bb09-c5e5ee04a99c",
        "part": "whole"
       },
       "id": "0d424557-d9e6-4bbf-ba93-13705ba7696f"
      }
     }
    },
    "a90c066c-9d74-4db6-a70a-83308b8a20e1": {
     "id": "a90c066c-9d74-4db6-a70a-83308b8a20e1",
     "prev": "8494bb57-125f-4f68-964a-39710d102221",
     "regions": {
      "a12dd45d-cd07-450b-90c9-369c22b52e9e": {
       "attrs": {
        "height": 0.8,
        "width": 0.8,
        "x": 0.1,
        "y": 0.1
       },
       "content": {
        "cell": "0f67a756-2734-428b-a1d4-42a993f5c3f4",
        "part": "whole"
       },
       "id": "a12dd45d-cd07-450b-90c9-369c22b52e9e"
      }
     }
    },
    "a93bbeac-4846-469a-ad40-5e4c9adc17d6": {
     "id": "a93bbeac-4846-469a-ad40-5e4c9adc17d6",
     "prev": "0193f0d0-915a-4760-b23c-fa67bb06d51b",
     "regions": {
      "7d846b33-5f25-4b68-9d24-8258eec6f6c6": {
       "attrs": {
        "height": 0.8,
        "width": 0.8,
        "x": 0.1,
        "y": 0.1
       },
       "content": {
        "cell": "bf2d57c4-3d43-4edb-aa27-f6d067989c13",
        "part": "whole"
       },
       "id": "7d846b33-5f25-4b68-9d24-8258eec6f6c6"
      }
     }
    },
    "ab80bdac-4509-4cc2-9de2-4f87d7daf473": {
     "id": "ab80bdac-4509-4cc2-9de2-4f87d7daf473",
     "prev": "22b5675a-d74b-4a42-9ec4-749b2f498bab",
     "regions": {
      "b54871c7-b97e-4758-9c3f-9f83503e954c": {
       "attrs": {
        "height": 0.8,
        "width": 0.8,
        "x": 0.1,
        "y": 0.1
       },
       "content": {
        "cell": "b5ff7168-41b9-461c-9ae0-7e8fce9a7cb2",
        "part": "whole"
       },
       "id": "b54871c7-b97e-4758-9c3f-9f83503e954c"
      }
     }
    },
    "abe2c7a9-8991-4711-9681-543376b7b85f": {
     "id": "abe2c7a9-8991-4711-9681-543376b7b85f",
     "prev": "153629c4-f3cf-4e2a-b676-f1198a7fb79c",
     "regions": {
      "cb6aa675-351e-4540-a8b7-fdcb0b89068f": {
       "attrs": {
        "height": 0.8,
        "width": 0.8,
        "x": 0.1,
        "y": 0.1
       },
       "content": {
        "cell": "444949b1-dc30-4ba0-9b4e-85fb39c32233",
        "part": "whole"
       },
       "id": "cb6aa675-351e-4540-a8b7-fdcb0b89068f"
      }
     }
    },
    "ac0afb97-1df2-446d-be2b-ec6df6b1e7fa": {
     "id": "ac0afb97-1df2-446d-be2b-ec6df6b1e7fa",
     "prev": "cac61716-a7c5-4d23-8235-b32128d37079",
     "regions": {
      "0c1da8d7-0bbd-420c-bd73-d9b98c038c37": {
       "attrs": {
        "height": 0.8,
        "width": 0.8,
        "x": 0.1,
        "y": 0.1
       },
       "content": {
        "cell": "fa7ce942-eb05-4b0a-b245-d69248c8977f",
        "part": "whole"
       },
       "id": "0c1da8d7-0bbd-420c-bd73-d9b98c038c37"
      }
     }
    },
    "ae050854-bc19-48f2-932a-b7eabed40cdf": {
     "id": "ae050854-bc19-48f2-932a-b7eabed40cdf",
     "prev": "c6ff8736-292a-421c-a4a3-68914fdcb019",
     "regions": {
      "38efc410-3d95-4b5b-a38e-c8a2e1bbc89b": {
       "attrs": {
        "height": 0.8,
        "width": 0.8,
        "x": 0.1,
        "y": 0.1
       },
       "content": {
        "cell": "d654e8a7-602b-4ca6-978c-c59e6a1ed5b0",
        "part": "whole"
       },
       "id": "38efc410-3d95-4b5b-a38e-c8a2e1bbc89b"
      }
     }
    },
    "af5289f1-4361-4ffc-bbc0-a330365f9c41": {
     "id": "af5289f1-4361-4ffc-bbc0-a330365f9c41",
     "prev": "217ffda7-24c0-4515-89fb-401afc4bfb53",
     "regions": {
      "387ee140-db1b-4e6b-82a1-d48ed944eb0d": {
       "attrs": {
        "height": 0.8,
        "width": 0.8,
        "x": 0.1,
        "y": 0.1
       },
       "content": {
        "cell": "fa835023-6db7-458a-b803-04489255cb35",
        "part": "whole"
       },
       "id": "387ee140-db1b-4e6b-82a1-d48ed944eb0d"
      }
     }
    },
    "b9dca958-e5b0-46a1-9fee-d8e2d20bf0ff": {
     "id": "b9dca958-e5b0-46a1-9fee-d8e2d20bf0ff",
     "prev": "63bd11d4-28c6-44d7-a763-07c864237fe0",
     "regions": {
      "0bedaeea-217b-40ec-a08a-80b0eb04a84b": {
       "attrs": {
        "height": 0.8,
        "width": 0.8,
        "x": 0.1,
        "y": 0.1
       },
       "content": {
        "cell": "85c3b037-4fae-4fff-b195-dd5e666d1d14",
        "part": "whole"
       },
       "id": "0bedaeea-217b-40ec-a08a-80b0eb04a84b"
      }
     }
    },
    "bdbdde67-27f0-4445-97d2-f6e2cd8a73a2": {
     "id": "bdbdde67-27f0-4445-97d2-f6e2cd8a73a2",
     "prev": "89af7b2f-3e52-462e-a560-de9bd4cbb6c5",
     "regions": {
      "8fa4cd18-01d3-490c-9091-af0924b6da90": {
       "attrs": {
        "height": 0.8,
        "width": 0.8,
        "x": 0.1,
        "y": 0.1
       },
       "content": {
        "cell": "c77be36f-00bf-4eb4-bb00-51eea9fe48e1",
        "part": "whole"
       },
       "id": "8fa4cd18-01d3-490c-9091-af0924b6da90"
      }
     }
    },
    "c2adbde5-ab22-4db0-bd89-8b6510bd4de6": {
     "id": "c2adbde5-ab22-4db0-bd89-8b6510bd4de6",
     "prev": "4b07c5a1-4de7-410f-8927-85bd556122aa",
     "regions": {
      "2bcf342c-2c04-4fab-b11d-86017418bccb": {
       "attrs": {
        "height": 0.8,
        "width": 0.8,
        "x": 0.1,
        "y": 0.1
       },
       "content": {
        "cell": "23e7358e-e8ae-4b61-b8b0-74ccb827f1d3",
        "part": "whole"
       },
       "id": "2bcf342c-2c04-4fab-b11d-86017418bccb"
      }
     }
    },
    "c4b9f2f8-88e0-4158-a05b-9f369a4a3381": {
     "id": "c4b9f2f8-88e0-4158-a05b-9f369a4a3381",
     "prev": "47055855-b9f4-4cd8-86b3-c46b81bfafc9",
     "regions": {
      "d7e897ec-c628-4305-a5a2-6689958f5568": {
       "attrs": {
        "height": 0.8,
        "width": 0.8,
        "x": 0.1,
        "y": 0.1
       },
       "content": {
        "cell": "e8b668e6-d09d-4c85-b8e2-49a25eeb979c",
        "part": "whole"
       },
       "id": "d7e897ec-c628-4305-a5a2-6689958f5568"
      }
     }
    },
    "c4c6d0b1-ceca-4307-9082-784666adb883": {
     "id": "c4c6d0b1-ceca-4307-9082-784666adb883",
     "prev": "7793b775-c6cc-47f8-b56f-fc6c760c2f11",
     "regions": {
      "b6d2090d-39a4-4412-8c67-a0868bf7105e": {
       "attrs": {
        "height": 0.8,
        "width": 0.8,
        "x": 0.1,
        "y": 0.1
       },
       "content": {
        "cell": "68de54a9-7d5f-4e9d-9be8-7b32d8e0692e",
        "part": "whole"
       },
       "id": "b6d2090d-39a4-4412-8c67-a0868bf7105e"
      }
     }
    },
    "c6ff8736-292a-421c-a4a3-68914fdcb019": {
     "id": "c6ff8736-292a-421c-a4a3-68914fdcb019",
     "prev": "d04d1e9d-6c97-4112-9d99-75dd7b30d9fb",
     "regions": {
      "226f8f2a-e488-4f1a-8f33-a30e76abcc6b": {
       "attrs": {
        "height": 0.8,
        "width": 0.8,
        "x": 0.1,
        "y": 0.1
       },
       "content": {
        "cell": "3bfff186-75b2-4039-bdda-22ef2de51a5b",
        "part": "whole"
       },
       "id": "226f8f2a-e488-4f1a-8f33-a30e76abcc6b"
      }
     }
    },
    "c9064b07-c01a-4fc7-9816-77df28c5a3a5": {
     "id": "c9064b07-c01a-4fc7-9816-77df28c5a3a5",
     "prev": "4d258ffc-2345-4fba-8ac0-69d1e332661c",
     "regions": {
      "f90962a1-fab2-4cf6-8e85-ba963ca3935b": {
       "attrs": {
        "height": 0.8,
        "width": 0.8,
        "x": 0.1,
        "y": 0.1
       },
       "content": {
        "cell": "b4b6483a-f6bd-4b47-9a16-336213c7969c",
        "part": "whole"
       },
       "id": "f90962a1-fab2-4cf6-8e85-ba963ca3935b"
      }
     }
    },
    "c96479cb-1e67-4e6c-9a76-c03816ec1add": {
     "id": "c96479cb-1e67-4e6c-9a76-c03816ec1add",
     "prev": "c4c6d0b1-ceca-4307-9082-784666adb883",
     "regions": {
      "8925079f-1c18-42f7-be80-19ed25ba7b5a": {
       "attrs": {
        "height": 0.8,
        "width": 0.8,
        "x": 0.1,
        "y": 0.1
       },
       "content": {
        "cell": "a26eceff-7b4c-449b-a7e5-46bed8aeaab2",
        "part": "whole"
       },
       "id": "8925079f-1c18-42f7-be80-19ed25ba7b5a"
      }
     }
    },
    "cabdb9e8-7aef-416c-910c-087ba727a511": {
     "id": "cabdb9e8-7aef-416c-910c-087ba727a511",
     "prev": "727f5e31-3857-4ae3-99b0-cbf4236dfd42",
     "regions": {
      "d318061d-7e2a-4ea1-8c8c-7cfccd448914": {
       "attrs": {
        "height": 0.8,
        "width": 0.8,
        "x": 0.1,
        "y": 0.1
       },
       "content": {
        "cell": "49b0f892-55fa-4d40-9ddc-a7a7f02741cd",
        "part": "whole"
       },
       "id": "d318061d-7e2a-4ea1-8c8c-7cfccd448914"
      }
     }
    },
    "cac61716-a7c5-4d23-8235-b32128d37079": {
     "id": "cac61716-a7c5-4d23-8235-b32128d37079",
     "prev": "4d17a786-d9fb-4001-962a-bdb14b96409e",
     "regions": {
      "c3551c93-4940-412c-9845-6347d6681610": {
       "attrs": {
        "height": 0.8,
        "width": 0.8,
        "x": 0.1,
        "y": 0.1
       },
       "content": {
        "cell": "d22c9a7b-0838-4c5c-b9d8-b67337b4bae2",
        "part": "whole"
       },
       "id": "c3551c93-4940-412c-9845-6347d6681610"
      }
     }
    },
    "ccf8cf21-352c-421e-9134-5e5b62a11fb3": {
     "id": "ccf8cf21-352c-421e-9134-5e5b62a11fb3",
     "prev": "a0591dcd-a20e-4b99-b4d1-2fe3f2e9c956",
     "regions": {
      "b2f6041b-ff6b-4753-a442-d19d4a974102": {
       "attrs": {
        "height": 0.8,
        "width": 0.8,
        "x": 0.1,
        "y": 0.1
       },
       "content": {
        "cell": "fe760e81-c253-4eae-bfd8-fa7fb00aed1c",
        "part": "whole"
       },
       "id": "b2f6041b-ff6b-4753-a442-d19d4a974102"
      }
     }
    },
    "ce121b7f-5b05-44f6-87d0-097a96f792cb": {
     "id": "ce121b7f-5b05-44f6-87d0-097a96f792cb",
     "prev": "dfc253f9-8538-44c6-8be0-c0743ebac8b8",
     "regions": {
      "ab845472-6d7d-4444-af11-caee47b986bf": {
       "attrs": {
        "height": 0.8,
        "width": 0.8,
        "x": 0.1,
        "y": 0.1
       },
       "content": {
        "cell": "d99c8dca-5cc7-488c-af6e-88833e055daf",
        "part": "whole"
       },
       "id": "ab845472-6d7d-4444-af11-caee47b986bf"
      }
     }
    },
    "cfdaefb1-1122-4173-9f1c-0326b3375637": {
     "id": "cfdaefb1-1122-4173-9f1c-0326b3375637",
     "prev": "3052abc5-314c-4201-a0b3-f0a34404adbb",
     "regions": {
      "dc6cc6c7-2ac5-4e4e-bab3-a52c46a85f1a": {
       "attrs": {
        "height": 0.8,
        "width": 0.8,
        "x": 0.1,
        "y": 0.1
       },
       "content": {
        "cell": "b400d8b9-ad3d-4ead-9f63-88c12d71d3fe",
        "part": "whole"
       },
       "id": "dc6cc6c7-2ac5-4e4e-bab3-a52c46a85f1a"
      }
     }
    },
    "d04d1e9d-6c97-4112-9d99-75dd7b30d9fb": {
     "id": "d04d1e9d-6c97-4112-9d99-75dd7b30d9fb",
     "prev": "693ffb85-b64f-4a46-914d-bbffc8f24502",
     "regions": {
      "a84d3cd4-077b-46fc-be67-8cd965de6b74": {
       "attrs": {
        "height": 0.8,
        "width": 0.8,
        "x": 0.1,
        "y": 0.1
       },
       "content": {
        "cell": "2df6acbe-3a5d-417a-aa61-b8f0d99fed73",
        "part": "whole"
       },
       "id": "a84d3cd4-077b-46fc-be67-8cd965de6b74"
      }
     }
    },
    "db5e2b32-4309-4a8f-88dc-664820253cd2": {
     "id": "db5e2b32-4309-4a8f-88dc-664820253cd2",
     "prev": "e700c6e3-76a6-4659-8ea0-fb0cb5a7961d",
     "regions": {
      "3d3ca54c-a361-47de-8f77-14ffa66fa443": {
       "attrs": {
        "height": 0.8,
        "width": 0.8,
        "x": 0.1,
        "y": 0.1
       },
       "content": {
        "cell": "59940636-1d8b-43c1-8d64-31c6cf160bcc",
        "part": "whole"
       },
       "id": "3d3ca54c-a361-47de-8f77-14ffa66fa443"
      }
     }
    },
    "db6f5631-519c-4d38-89eb-54ef36af4337": {
     "id": "db6f5631-519c-4d38-89eb-54ef36af4337",
     "prev": "78e3c821-b6d3-420f-b74d-49d6bd0558ef",
     "regions": {
      "eca0c3b3-8aae-44e7-b0da-076ba55022c6": {
       "attrs": {
        "height": 0.8,
        "width": 0.8,
        "x": 0.1,
        "y": 0.1
       },
       "content": {
        "cell": "eff38c64-54a7-4b3e-81fc-559d80a346bf",
        "part": "whole"
       },
       "id": "eca0c3b3-8aae-44e7-b0da-076ba55022c6"
      }
     }
    },
    "dba93903-9b9f-4863-9fc3-c62a475c6dff": {
     "id": "dba93903-9b9f-4863-9fc3-c62a475c6dff",
     "prev": "ae050854-bc19-48f2-932a-b7eabed40cdf",
     "regions": {
      "ea7203f9-d6a0-4c69-96e1-ff2756b6dd45": {
       "attrs": {
        "height": 0.8,
        "width": 0.8,
        "x": 0.1,
        "y": 0.1
       },
       "content": {
        "cell": "2c084ce0-af9b-47c6-8d83-f99fccba4e3a",
        "part": "whole"
       },
       "id": "ea7203f9-d6a0-4c69-96e1-ff2756b6dd45"
      }
     }
    },
    "dbfbc7a2-9e55-4342-8530-346da73041d0": {
     "id": "dbfbc7a2-9e55-4342-8530-346da73041d0",
     "prev": "ff1854e7-9ef4-45d9-a9af-bc9dcce2e4f6",
     "regions": {
      "f5ddc501-05b7-4551-844e-622b495d7371": {
       "attrs": {
        "height": 0.8,
        "width": 0.8,
        "x": 0.1,
        "y": 0.1
       },
       "content": {
        "cell": "d156a74b-e6d2-4364-9e8e-846fdfd6fb1b",
        "part": "whole"
       },
       "id": "f5ddc501-05b7-4551-844e-622b495d7371"
      }
     }
    },
    "dc63ee9a-c567-497a-a649-643295e171ab": {
     "id": "dc63ee9a-c567-497a-a649-643295e171ab",
     "prev": "2ddf1977-7b6e-41c8-8845-f88dbe7a1336",
     "regions": {
      "2c8c616e-01a0-4668-9917-36280e72400e": {
       "attrs": {
        "height": 0.8,
        "width": 0.8,
        "x": 0.1,
        "y": 0.1
       },
       "content": {
        "cell": "a8e787fa-3d15-4f61-a84c-61ed496573db",
        "part": "whole"
       },
       "id": "2c8c616e-01a0-4668-9917-36280e72400e"
      }
     }
    },
    "dfc253f9-8538-44c6-8be0-c0743ebac8b8": {
     "id": "dfc253f9-8538-44c6-8be0-c0743ebac8b8",
     "prev": "b9dca958-e5b0-46a1-9fee-d8e2d20bf0ff",
     "regions": {
      "493da01e-a724-4217-ba08-31cb22aebe49": {
       "attrs": {
        "height": 0.8,
        "width": 0.8,
        "x": 0.1,
        "y": 0.1
       },
       "content": {
        "cell": "2e901ed7-8092-4c29-b427-83c6c81b8288",
        "part": "whole"
       },
       "id": "493da01e-a724-4217-ba08-31cb22aebe49"
      }
     }
    },
    "e0b32694-68b5-4fd8-8c2f-c10b0fe2db72": {
     "id": "e0b32694-68b5-4fd8-8c2f-c10b0fe2db72",
     "prev": "59dc7148-4247-44fd-a2f9-d46f4d107cbc",
     "regions": {
      "ea3babb3-1784-4166-a73a-c57742040003": {
       "attrs": {
        "height": 0.8,
        "width": 0.8,
        "x": 0.1,
        "y": 0.1
       },
       "content": {
        "cell": "c9c26df7-0f50-4e79-97db-a659fbbebfcb",
        "part": "whole"
       },
       "id": "ea3babb3-1784-4166-a73a-c57742040003"
      }
     }
    },
    "e700c6e3-76a6-4659-8ea0-fb0cb5a7961d": {
     "id": "e700c6e3-76a6-4659-8ea0-fb0cb5a7961d",
     "prev": "148b7ed2-c0df-40c2-8bdd-53d1379ddf5c",
     "regions": {
      "cd686ff7-0027-40b4-a1a4-5f7fcc9e978f": {
       "attrs": {
        "height": 0.8,
        "width": 0.8,
        "x": 0.1,
        "y": 0.1
       },
       "content": {
        "cell": "217a3cae-0aed-4b36-bbfa-d065f1304d17",
        "part": "whole"
       },
       "id": "cd686ff7-0027-40b4-a1a4-5f7fcc9e978f"
      }
     }
    },
    "eb9ba530-7154-49eb-89ee-53932e42105a": {
     "id": "eb9ba530-7154-49eb-89ee-53932e42105a",
     "prev": "8423c5ec-290f-4056-9324-924b03db8ca3",
     "regions": {
      "411bcc4b-15ff-4ebb-96ee-06ffbb80d105": {
       "attrs": {
        "height": 0.8,
        "width": 0.8,
        "x": 0.1,
        "y": 0.1
       },
       "content": {
        "cell": "6b34fcaa-f3b9-4086-bac5-db038950cfac",
        "part": "whole"
       },
       "id": "411bcc4b-15ff-4ebb-96ee-06ffbb80d105"
      }
     }
    },
    "f47fc1e0-a514-4924-a10c-f402d7ea909a": {
     "id": "f47fc1e0-a514-4924-a10c-f402d7ea909a",
     "prev": "020d95ca-60ae-428f-969e-e5e4c606ce1b",
     "regions": {
      "6a384de1-598d-43af-a7dd-63e5f90e9962": {
       "attrs": {
        "height": 0.8,
        "width": 0.8,
        "x": 0.1,
        "y": 0.1
       },
       "content": {
        "cell": "c3aa95c5-cef1-4553-835a-be27550b972a",
        "part": "whole"
       },
       "id": "6a384de1-598d-43af-a7dd-63e5f90e9962"
      }
     }
    },
    "f698db0d-aa25-41c2-8875-ca3fc3b61020": {
     "id": "f698db0d-aa25-41c2-8875-ca3fc3b61020",
     "prev": "94bcca5d-6325-41da-b9d9-109260f756ed",
     "regions": {
      "2a22d3b3-e518-4cbf-a39e-c1d4c4a5c64a": {
       "attrs": {
        "height": 0.8,
        "width": 0.8,
        "x": 0.1,
        "y": 0.1
       },
       "content": {
        "cell": "4e3a00cc-69ba-40bf-b57b-1c1264331bc7",
        "part": "whole"
       },
       "id": "2a22d3b3-e518-4cbf-a39e-c1d4c4a5c64a"
      }
     }
    },
    "f72ea90b-438a-45e3-aa78-2c1834b8229b": {
     "id": "f72ea90b-438a-45e3-aa78-2c1834b8229b",
     "prev": "f47fc1e0-a514-4924-a10c-f402d7ea909a",
     "regions": {
      "547d3f4c-80aa-4b71-a3e3-ed0682cd5adf": {
       "attrs": {
        "height": 0.8,
        "width": 0.8,
        "x": 0.1,
        "y": 0.1
       },
       "content": {
        "cell": "3a155778-d9f0-4a98-bc11-76dc9afa2386",
        "part": "whole"
       },
       "id": "547d3f4c-80aa-4b71-a3e3-ed0682cd5adf"
      }
     }
    },
    "fefc5c92-ed9f-45f6-83a5-b4ea28afd73d": {
     "id": "fefc5c92-ed9f-45f6-83a5-b4ea28afd73d",
     "prev": "c96479cb-1e67-4e6c-9a76-c03816ec1add",
     "regions": {
      "abb7500b-9b87-456a-b146-2ca90ba6064b": {
       "attrs": {
        "height": 0.8,
        "width": 0.8,
        "x": 0.1,
        "y": 0.1
       },
       "content": {
        "cell": "af48fef1-1c71-4509-bc48-7c9ba8550fd8",
        "part": "whole"
       },
       "id": "abb7500b-9b87-456a-b146-2ca90ba6064b"
      }
     }
    },
    "ff1854e7-9ef4-45d9-a9af-bc9dcce2e4f6": {
     "id": "ff1854e7-9ef4-45d9-a9af-bc9dcce2e4f6",
     "prev": "0f58ee64-601a-42d7-98ae-6dc0bde3f0a6",
     "regions": {
      "1c05e00b-efa4-4c8c-b92d-5d7216719c2e": {
       "attrs": {
        "height": 0.8,
        "width": 0.8,
        "x": 0.1,
        "y": 0.1
       },
       "content": {
        "cell": "7abc1002-d2e8-47d4-aadb-de1d3b310698",
        "part": "whole"
       },
       "id": "1c05e00b-efa4-4c8c-b92d-5d7216719c2e"
      }
     }
    }
   },
   "themes": {
    "default": "f5142446-53b7-4458-9490-b65a5c3235a8",
    "theme": {
     "f5142446-53b7-4458-9490-b65a5c3235a8": {
      "id": "f5142446-53b7-4458-9490-b65a5c3235a8",
      "palette": {
       "19cc588f-0593-49c9-9f4b-e4d7cc113b1c": {
        "id": "19cc588f-0593-49c9-9f4b-e4d7cc113b1c",
        "rgb": [
         252,
         252,
         252
        ]
       },
       "31af15d2-7e15-44c5-ab5e-e04b16a89eff": {
        "id": "31af15d2-7e15-44c5-ab5e-e04b16a89eff",
        "rgb": [
         68,
         68,
         68
        ]
       },
       "50f92c45-a630-455b-aec3-788680ec7410": {
        "id": "50f92c45-a630-455b-aec3-788680ec7410",
        "rgb": [
         155,
         177,
         192
        ]
       },
       "c5cc3653-2ee1-402a-aba2-7caae1da4f6c": {
        "id": "c5cc3653-2ee1-402a-aba2-7caae1da4f6c",
        "rgb": [
         43,
         126,
         184
        ]
       },
       "efa7f048-9acb-414c-8b04-a26811511a21": {
        "id": "efa7f048-9acb-414c-8b04-a26811511a21",
        "rgb": [
         25.118061674008803,
         73.60176211453744,
         107.4819383259912
        ]
       }
      },
      "rules": {
       "blockquote": {
        "color": "50f92c45-a630-455b-aec3-788680ec7410"
       },
       "code": {
        "font-family": "Anonymous Pro"
       },
       "h1": {
        "color": "c5cc3653-2ee1-402a-aba2-7caae1da4f6c",
        "font-family": "Lato",
        "font-size": 8
       },
       "h2": {
        "color": "c5cc3653-2ee1-402a-aba2-7caae1da4f6c",
        "font-family": "Lato",
        "font-size": 6
       },
       "h3": {
        "color": "50f92c45-a630-455b-aec3-788680ec7410",
        "font-family": "Lato",
        "font-size": 5.5
       },
       "h4": {
        "color": "c5cc3653-2ee1-402a-aba2-7caae1da4f6c",
        "font-family": "Lato",
        "font-size": 5
       },
       "h5": {
        "font-family": "Lato"
       },
       "h6": {
        "font-family": "Lato"
       },
       "h7": {
        "font-family": "Lato"
       },
       "pre": {
        "font-family": "Anonymous Pro",
        "font-size": 4
       }
      },
      "text-base": {
       "font-family": "Merriweather",
       "font-size": 4
      }
     }
    }
   }
  }
 },
 "nbformat": 4,
 "nbformat_minor": 1
}
